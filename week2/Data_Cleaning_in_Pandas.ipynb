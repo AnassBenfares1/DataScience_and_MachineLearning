{
  "nbformat": 4,
  "nbformat_minor": 0,
  "metadata": {
    "colab": {
      "name": "Data_Cleaning_in_Pandas.ipynb",
      "provenance": []
    },
    "kernelspec": {
      "display_name": "Python 3",
      "language": "python",
      "name": "python3"
    },
    "language_info": {
      "codemirror_mode": {
        "name": "ipython",
        "version": 3
      },
      "file_extension": ".py",
      "mimetype": "text/x-python",
      "name": "python",
      "nbconvert_exporter": "python",
      "pygments_lexer": "ipython3",
      "version": "3.7.3"
    }
  },
  "cells": [
    {
      "cell_type": "markdown",
      "metadata": {
        "id": "bEclPhDe6sto"
      },
      "source": [
        "<a href=\"https://colab.research.google.com/github/michalis0/DataMining_and_MachineLearning/blob/master/week2/Data_Cleaning_in_Pandas.ipynb\" target=\"_parent\"><img src=\"https://colab.research.google.com/assets/colab-badge.svg\" alt=\"Open In Colab\"/></a>"
      ]
    },
    {
      "cell_type": "markdown",
      "metadata": {
        "id": "ZaJpX6maF1hW"
      },
      "source": [
        "# Data cleaning with pandas\n",
        "\n",
        "### How Does Data Get Dirty?\n",
        "- Missing data.\n",
        "- Inconsistent data.\n",
        "- Duplicate data.\n",
        "\n",
        "To name a few things that can go wrong. There is an endless list of ways that data can end up very messy.\n",
        "Sometimes there are insufficient validation checks when the data is entered in the first place.\n",
        "If you have form fields with users entering data in any format they want with no guidelines or form validation checks in place to enforce conforming to a certain format, then users will input however they see fit.\n",
        "\n",
        "There could be an input field for the state (U.S.) and you have some data that is the two-character abbreviation, NY and then others have New York, then there are potential misspellings and typos, etc.\n",
        "\n",
        "Data can also become corrupted during transmission or in storage."
      ]
    },
    {
      "cell_type": "markdown",
      "metadata": {
        "id": "cunJdWS4F1hY"
      },
      "source": [
        "We’ll use pandas to examine and clean the building violations dataset from the NYC Department of Buildings (DOB) that is available on NYC Open Data.\n",
        "\n",
        "The datset can be found [here](https://data.cityofnewyork.us/Housing-Development/DOB-Violations/3h2n-5cm9).\n",
        "\n",
        "For this exercise, we will work with a subset of the data with 10000 records.\n",
        "\n",
        "[source of this exercise](https://medium.com/better-programming/data-cleaning-with-python-pandas-an-introduction-1cfd5cde6884)\n"
      ]
    },
    {
      "cell_type": "code",
      "metadata": {
        "id": "1SoxqEHtF1hg"
      },
      "source": [
        "import pandas as pd \n",
        "import numpy as np "
      ],
      "execution_count": 1,
      "outputs": []
    },
    {
      "cell_type": "markdown",
      "metadata": {
        "id": "PD8ihbeHF1ho"
      },
      "source": [
        "### load the data"
      ]
    },
    {
      "cell_type": "code",
      "metadata": {
        "id": "0fgt4gEcF1hp"
      },
      "source": [
        "df = pd.read_csv(\"https://raw.githubusercontent.com/michalis0/DataMining_and_MachineLearning/master/week2/data/violation_DOB.csv\")"
      ],
      "execution_count": 2,
      "outputs": []
    },
    {
      "cell_type": "markdown",
      "metadata": {
        "id": "RFrej8kTF1ht"
      },
      "source": [
        "### shape of the data\n",
        "Let's first check how many rows and columns (features) are in this dataset"
      ]
    },
    {
      "cell_type": "code",
      "metadata": {
        "colab": {
          "base_uri": "https://localhost:8080/"
        },
        "id": "YeC_ODO-F1hu",
        "outputId": "78d97d57-b8e5-44ed-aa82-09460c2c7ea2"
      },
      "source": [
        "df.shape"
      ],
      "execution_count": 3,
      "outputs": [
        {
          "output_type": "execute_result",
          "data": {
            "text/plain": [
              "(10000, 18)"
            ]
          },
          "metadata": {},
          "execution_count": 3
        }
      ]
    },
    {
      "cell_type": "markdown",
      "metadata": {
        "id": "XPBg0rcdF1h0"
      },
      "source": [
        "### Check out the first few rows\n",
        "You can look at the first few rows by calling `head()` on the dataframe."
      ]
    },
    {
      "cell_type": "code",
      "metadata": {
        "colab": {
          "base_uri": "https://localhost:8080/",
          "height": 389
        },
        "id": "l_oGmG_SF1h1",
        "outputId": "052ae677-cde8-4cbf-e83b-8f7fb7be68ba"
      },
      "source": [
        "df.head(3)"
      ],
      "execution_count": 4,
      "outputs": [
        {
          "output_type": "execute_result",
          "data": {
            "text/html": [
              "<div>\n",
              "<style scoped>\n",
              "    .dataframe tbody tr th:only-of-type {\n",
              "        vertical-align: middle;\n",
              "    }\n",
              "\n",
              "    .dataframe tbody tr th {\n",
              "        vertical-align: top;\n",
              "    }\n",
              "\n",
              "    .dataframe thead th {\n",
              "        text-align: right;\n",
              "    }\n",
              "</style>\n",
              "<table border=\"1\" class=\"dataframe\">\n",
              "  <thead>\n",
              "    <tr style=\"text-align: right;\">\n",
              "      <th></th>\n",
              "      <th>isn_dob_bis_viol</th>\n",
              "      <th>boro</th>\n",
              "      <th>bin</th>\n",
              "      <th>block</th>\n",
              "      <th>lot</th>\n",
              "      <th>issue_date</th>\n",
              "      <th>violation_type_code</th>\n",
              "      <th>violation_number</th>\n",
              "      <th>house_number</th>\n",
              "      <th>street</th>\n",
              "      <th>device_number</th>\n",
              "      <th>description</th>\n",
              "      <th>number</th>\n",
              "      <th>violation_category</th>\n",
              "      <th>violation_type</th>\n",
              "      <th>disposition_date</th>\n",
              "      <th>disposition_comments</th>\n",
              "      <th>ecb_number</th>\n",
              "    </tr>\n",
              "  </thead>\n",
              "  <tbody>\n",
              "    <tr>\n",
              "      <th>0</th>\n",
              "      <td>2351406</td>\n",
              "      <td>3</td>\n",
              "      <td>3059563</td>\n",
              "      <td>2136.0</td>\n",
              "      <td>2136.0</td>\n",
              "      <td>20190520</td>\n",
              "      <td>JVCAT5</td>\n",
              "      <td>00339</td>\n",
              "      <td>441</td>\n",
              "      <td>WYTHE AVENUE</td>\n",
              "      <td>3P10799</td>\n",
              "      <td>FAILURE TO PERFORM CATEGORY 5 INSPECTION</td>\n",
              "      <td>V052019JVCAT500339</td>\n",
              "      <td>V-DOB VIOLATION - ACTIVE</td>\n",
              "      <td>JVCAT5-RESIDENTIAL ELEVATOR PERIODIC INSPECTIO...</td>\n",
              "      <td>NaN</td>\n",
              "      <td>NaN</td>\n",
              "      <td>NaN</td>\n",
              "    </tr>\n",
              "    <tr>\n",
              "      <th>1</th>\n",
              "      <td>2383173</td>\n",
              "      <td>3</td>\n",
              "      <td>3137310</td>\n",
              "      <td>5631.0</td>\n",
              "      <td>14.0</td>\n",
              "      <td>20190903</td>\n",
              "      <td>LL2604S</td>\n",
              "      <td>NRF01042</td>\n",
              "      <td>920</td>\n",
              "      <td>48 STREET</td>\n",
              "      <td>NaN</td>\n",
              "      <td>FAILED TO FILE FINAL SPRINKLER REPORT BY JULY ...</td>\n",
              "      <td>V090319LL2604SNRF01042</td>\n",
              "      <td>V-DOB VIOLATION - ACTIVE</td>\n",
              "      <td>LL2604S-SPRINKLER</td>\n",
              "      <td>NaN</td>\n",
              "      <td>NaN</td>\n",
              "      <td>NaN</td>\n",
              "    </tr>\n",
              "    <tr>\n",
              "      <th>2</th>\n",
              "      <td>2427322</td>\n",
              "      <td>2</td>\n",
              "      <td>2003035</td>\n",
              "      <td>2504.0</td>\n",
              "      <td>36.0</td>\n",
              "      <td>20190904</td>\n",
              "      <td>AEUHAZ1</td>\n",
              "      <td>00162</td>\n",
              "      <td>941</td>\n",
              "      <td>JEROME AVENUE</td>\n",
              "      <td>NaN</td>\n",
              "      <td>FAILURE TO CERTIFY CORRECTION ON IMMEDIATELY H...</td>\n",
              "      <td>V*090419AEUHAZ100162</td>\n",
              "      <td>V*-DOB VIOLATION - DISMISSED</td>\n",
              "      <td>AEUHAZ1-FAIL TO CERTIFY CLASS 1</td>\n",
              "      <td>20191202.0</td>\n",
              "      <td>GNC    PAID INVOICE 62132098</td>\n",
              "      <td>35409075X</td>\n",
              "    </tr>\n",
              "  </tbody>\n",
              "</table>\n",
              "</div>"
            ],
            "text/plain": [
              "   isn_dob_bis_viol boro  ...          disposition_comments  ecb_number\n",
              "0           2351406    3  ...                           NaN         NaN\n",
              "1           2383173    3  ...                           NaN         NaN\n",
              "2           2427322    2  ...  GNC    PAID INVOICE 62132098   35409075X\n",
              "\n",
              "[3 rows x 18 columns]"
            ]
          },
          "metadata": {},
          "execution_count": 4
        }
      ]
    },
    {
      "cell_type": "markdown",
      "metadata": {
        "id": "-iIy4l0XF1h5"
      },
      "source": [
        "### column/feature names"
      ]
    },
    {
      "cell_type": "code",
      "metadata": {
        "colab": {
          "base_uri": "https://localhost:8080/"
        },
        "id": "z9o2EIEpF1h7",
        "outputId": "1959cbac-aad8-4f16-d4f8-a8893e9cfbcb"
      },
      "source": [
        "df.columns"
      ],
      "execution_count": 5,
      "outputs": [
        {
          "output_type": "execute_result",
          "data": {
            "text/plain": [
              "Index(['isn_dob_bis_viol', 'boro', 'bin', 'block', 'lot', 'issue_date',\n",
              "       'violation_type_code', 'violation_number', 'house_number', 'street',\n",
              "       'device_number', 'description', 'number', 'violation_category',\n",
              "       'violation_type', 'disposition_date', 'disposition_comments',\n",
              "       'ecb_number'],\n",
              "      dtype='object')"
            ]
          },
          "metadata": {},
          "execution_count": 5
        }
      ]
    },
    {
      "cell_type": "markdown",
      "metadata": {
        "id": "VuhfCbOi0F3_"
      },
      "source": [
        "### Duplicates\n",
        "You can check if there are duplicates in the dataset."
      ]
    },
    {
      "cell_type": "code",
      "metadata": {
        "id": "nKusv1dw0Nsi",
        "outputId": "25ef078f-5d81-43f6-e357-44369ede9489",
        "colab": {
          "base_uri": "https://localhost:8080/"
        }
      },
      "source": [
        "df.duplicated()  # this gives a Boolean data type"
      ],
      "execution_count": 6,
      "outputs": [
        {
          "output_type": "execute_result",
          "data": {
            "text/plain": [
              "0       False\n",
              "1       False\n",
              "2       False\n",
              "3       False\n",
              "4       False\n",
              "        ...  \n",
              "9995    False\n",
              "9996    False\n",
              "9997    False\n",
              "9998    False\n",
              "9999    False\n",
              "Length: 10000, dtype: bool"
            ]
          },
          "metadata": {},
          "execution_count": 6
        }
      ]
    },
    {
      "cell_type": "markdown",
      "metadata": {
        "id": "73gToAp51DIe"
      },
      "source": [
        "This shows which are the duplicated rows if any. None are duplicated here."
      ]
    },
    {
      "cell_type": "code",
      "metadata": {
        "id": "f7X9jYbl0tSP",
        "outputId": "56f60b5d-f372-41a4-9a8a-286450d3c1bc",
        "colab": {
          "base_uri": "https://localhost:8080/",
          "height": 69
        }
      },
      "source": [
        "df.loc[df.duplicated()=='True', :]"
      ],
      "execution_count": 7,
      "outputs": [
        {
          "output_type": "execute_result",
          "data": {
            "text/html": [
              "<div>\n",
              "<style scoped>\n",
              "    .dataframe tbody tr th:only-of-type {\n",
              "        vertical-align: middle;\n",
              "    }\n",
              "\n",
              "    .dataframe tbody tr th {\n",
              "        vertical-align: top;\n",
              "    }\n",
              "\n",
              "    .dataframe thead th {\n",
              "        text-align: right;\n",
              "    }\n",
              "</style>\n",
              "<table border=\"1\" class=\"dataframe\">\n",
              "  <thead>\n",
              "    <tr style=\"text-align: right;\">\n",
              "      <th></th>\n",
              "      <th>isn_dob_bis_viol</th>\n",
              "      <th>boro</th>\n",
              "      <th>bin</th>\n",
              "      <th>block</th>\n",
              "      <th>lot</th>\n",
              "      <th>issue_date</th>\n",
              "      <th>violation_type_code</th>\n",
              "      <th>violation_number</th>\n",
              "      <th>house_number</th>\n",
              "      <th>street</th>\n",
              "      <th>device_number</th>\n",
              "      <th>description</th>\n",
              "      <th>number</th>\n",
              "      <th>violation_category</th>\n",
              "      <th>violation_type</th>\n",
              "      <th>disposition_date</th>\n",
              "      <th>disposition_comments</th>\n",
              "      <th>ecb_number</th>\n",
              "    </tr>\n",
              "  </thead>\n",
              "  <tbody>\n",
              "  </tbody>\n",
              "</table>\n",
              "</div>"
            ],
            "text/plain": [
              "Empty DataFrame\n",
              "Columns: [isn_dob_bis_viol, boro, bin, block, lot, issue_date, violation_type_code, violation_number, house_number, street, device_number, description, number, violation_category, violation_type, disposition_date, disposition_comments, ecb_number]\n",
              "Index: []"
            ]
          },
          "metadata": {},
          "execution_count": 7
        }
      ]
    },
    {
      "cell_type": "markdown",
      "metadata": {
        "id": "0P1K2DBC1gPU"
      },
      "source": [
        "For example you can check that if you only look at house numbers, then the same house appears more than once in the dataset. Looking at house numbers only the dataset does contain duplicates."
      ]
    },
    {
      "cell_type": "code",
      "metadata": {
        "id": "zDjZikyk1K9f",
        "outputId": "08c86bdc-e505-45f0-b939-d690c0a79028",
        "colab": {
          "base_uri": "https://localhost:8080/"
        }
      },
      "source": [
        "df.house_number.duplicated().sum()"
      ],
      "execution_count": 8,
      "outputs": [
        {
          "output_type": "execute_result",
          "data": {
            "text/plain": [
              "6269"
            ]
          },
          "metadata": {},
          "execution_count": 8
        }
      ]
    },
    {
      "cell_type": "markdown",
      "metadata": {
        "id": "Z0ttulb9F1h_"
      },
      "source": [
        "### Missing/Null values\n",
        "You can call `isnull()` and `sum()` to get a count of how many null values are there in each column."
      ]
    },
    {
      "cell_type": "code",
      "metadata": {
        "colab": {
          "base_uri": "https://localhost:8080/"
        },
        "id": "lu2-o0DQF1iA",
        "outputId": "a132e879-69c6-4c2c-a301-2495f3a42674"
      },
      "source": [
        "df.isnull().sum()"
      ],
      "execution_count": 9,
      "outputs": [
        {
          "output_type": "execute_result",
          "data": {
            "text/plain": [
              "isn_dob_bis_viol           0\n",
              "boro                       0\n",
              "bin                        0\n",
              "block                      1\n",
              "lot                        1\n",
              "issue_date                 0\n",
              "violation_type_code        0\n",
              "violation_number           0\n",
              "house_number               0\n",
              "street                     0\n",
              "device_number           4775\n",
              "description              528\n",
              "number                     0\n",
              "violation_category         0\n",
              "violation_type             0\n",
              "disposition_date        6297\n",
              "disposition_comments    6285\n",
              "ecb_number              7532\n",
              "dtype: int64"
            ]
          },
          "metadata": {},
          "execution_count": 9
        }
      ]
    },
    {
      "cell_type": "markdown",
      "metadata": {
        "id": "gG9IfZqeF1iP"
      },
      "source": [
        "### Descriptive Statistics"
      ]
    },
    {
      "cell_type": "code",
      "metadata": {
        "colab": {
          "base_uri": "https://localhost:8080/",
          "height": 300
        },
        "id": "o80sWUCCF1iP",
        "outputId": "d7950e64-1d9e-4f5a-e538-7ebe444be397"
      },
      "source": [
        "df.describe()"
      ],
      "execution_count": 10,
      "outputs": [
        {
          "output_type": "execute_result",
          "data": {
            "text/html": [
              "<div>\n",
              "<style scoped>\n",
              "    .dataframe tbody tr th:only-of-type {\n",
              "        vertical-align: middle;\n",
              "    }\n",
              "\n",
              "    .dataframe tbody tr th {\n",
              "        vertical-align: top;\n",
              "    }\n",
              "\n",
              "    .dataframe thead th {\n",
              "        text-align: right;\n",
              "    }\n",
              "</style>\n",
              "<table border=\"1\" class=\"dataframe\">\n",
              "  <thead>\n",
              "    <tr style=\"text-align: right;\">\n",
              "      <th></th>\n",
              "      <th>isn_dob_bis_viol</th>\n",
              "      <th>bin</th>\n",
              "      <th>block</th>\n",
              "      <th>lot</th>\n",
              "      <th>issue_date</th>\n",
              "      <th>disposition_date</th>\n",
              "    </tr>\n",
              "  </thead>\n",
              "  <tbody>\n",
              "    <tr>\n",
              "      <th>count</th>\n",
              "      <td>1.000000e+04</td>\n",
              "      <td>1.000000e+04</td>\n",
              "      <td>9999.000000</td>\n",
              "      <td>9999.000000</td>\n",
              "      <td>1.000000e+04</td>\n",
              "      <td>3.703000e+03</td>\n",
              "    </tr>\n",
              "    <tr>\n",
              "      <th>mean</th>\n",
              "      <td>2.379381e+06</td>\n",
              "      <td>2.560801e+06</td>\n",
              "      <td>3008.091309</td>\n",
              "      <td>673.889389</td>\n",
              "      <td>2.019075e+07</td>\n",
              "      <td>2.019404e+07</td>\n",
              "    </tr>\n",
              "    <tr>\n",
              "      <th>std</th>\n",
              "      <td>3.426815e+04</td>\n",
              "      <td>1.273783e+06</td>\n",
              "      <td>2867.011526</td>\n",
              "      <td>1999.279225</td>\n",
              "      <td>3.264335e+02</td>\n",
              "      <td>4.501137e+03</td>\n",
              "    </tr>\n",
              "    <tr>\n",
              "      <th>min</th>\n",
              "      <td>2.315834e+06</td>\n",
              "      <td>1.000003e+06</td>\n",
              "      <td>1.000000</td>\n",
              "      <td>0.000000</td>\n",
              "      <td>2.019010e+07</td>\n",
              "      <td>2.019011e+07</td>\n",
              "    </tr>\n",
              "    <tr>\n",
              "      <th>25%</th>\n",
              "      <td>2.351366e+06</td>\n",
              "      <td>1.064225e+06</td>\n",
              "      <td>1010.000000</td>\n",
              "      <td>13.000000</td>\n",
              "      <td>2.019050e+07</td>\n",
              "      <td>2.019073e+07</td>\n",
              "    </tr>\n",
              "    <tr>\n",
              "      <th>50%</th>\n",
              "      <td>2.382417e+06</td>\n",
              "      <td>3.029678e+06</td>\n",
              "      <td>2027.000000</td>\n",
              "      <td>35.000000</td>\n",
              "      <td>2.019082e+07</td>\n",
              "      <td>2.019111e+07</td>\n",
              "    </tr>\n",
              "    <tr>\n",
              "      <th>75%</th>\n",
              "      <td>2.411176e+06</td>\n",
              "      <td>3.348085e+06</td>\n",
              "      <td>4244.000000</td>\n",
              "      <td>68.000000</td>\n",
              "      <td>2.019111e+07</td>\n",
              "      <td>2.020013e+07</td>\n",
              "    </tr>\n",
              "    <tr>\n",
              "      <th>max</th>\n",
              "      <td>2.474865e+06</td>\n",
              "      <td>5.835353e+06</td>\n",
              "      <td>16323.000000</td>\n",
              "      <td>16041.000000</td>\n",
              "      <td>2.019123e+07</td>\n",
              "      <td>2.020082e+07</td>\n",
              "    </tr>\n",
              "  </tbody>\n",
              "</table>\n",
              "</div>"
            ],
            "text/plain": [
              "       isn_dob_bis_viol           bin  ...    issue_date  disposition_date\n",
              "count      1.000000e+04  1.000000e+04  ...  1.000000e+04      3.703000e+03\n",
              "mean       2.379381e+06  2.560801e+06  ...  2.019075e+07      2.019404e+07\n",
              "std        3.426815e+04  1.273783e+06  ...  3.264335e+02      4.501137e+03\n",
              "min        2.315834e+06  1.000003e+06  ...  2.019010e+07      2.019011e+07\n",
              "25%        2.351366e+06  1.064225e+06  ...  2.019050e+07      2.019073e+07\n",
              "50%        2.382417e+06  3.029678e+06  ...  2.019082e+07      2.019111e+07\n",
              "75%        2.411176e+06  3.348085e+06  ...  2.019111e+07      2.020013e+07\n",
              "max        2.474865e+06  5.835353e+06  ...  2.019123e+07      2.020082e+07\n",
              "\n",
              "[8 rows x 6 columns]"
            ]
          },
          "metadata": {},
          "execution_count": 10
        }
      ]
    },
    {
      "cell_type": "markdown",
      "metadata": {
        "id": "7-VRzH3FF1iY"
      },
      "source": [
        "### Datatypes\n",
        "It is important that the data values in each column have the correct data type. For example, you can expect a column containing numbers to be in numeric format, but sometimes you will find string values in it. In such a case, when you do numeric calculations on that column you might get unexpected results.\n",
        "\n",
        "The attribute `dtypes` will show you the data types for each column in the dataframe."
      ]
    },
    {
      "cell_type": "code",
      "metadata": {
        "colab": {
          "base_uri": "https://localhost:8080/"
        },
        "id": "4-DTI_csF1iZ",
        "outputId": "c24e95d2-cd6b-4da8-a7be-e20a70fbec5e"
      },
      "source": [
        "df.dtypes"
      ],
      "execution_count": 11,
      "outputs": [
        {
          "output_type": "execute_result",
          "data": {
            "text/plain": [
              "isn_dob_bis_viol          int64\n",
              "boro                     object\n",
              "bin                       int64\n",
              "block                   float64\n",
              "lot                     float64\n",
              "issue_date                int64\n",
              "violation_type_code      object\n",
              "violation_number         object\n",
              "house_number             object\n",
              "street                   object\n",
              "device_number            object\n",
              "description              object\n",
              "number                   object\n",
              "violation_category       object\n",
              "violation_type           object\n",
              "disposition_date        float64\n",
              "disposition_comments     object\n",
              "ecb_number               object\n",
              "dtype: object"
            ]
          },
          "metadata": {},
          "execution_count": 11
        }
      ]
    },
    {
      "cell_type": "markdown",
      "metadata": {
        "id": "UE94_vaCF1if"
      },
      "source": [
        "You can notice that the column `issue_date` is in integer format (`int64`), whereas it should be in datetime format. In pandas you can convert a column to datetime format using `to_datetime` method."
      ]
    },
    {
      "cell_type": "code",
      "metadata": {
        "colab": {
          "base_uri": "https://localhost:8080/"
        },
        "id": "pnZyewjwF1if",
        "outputId": "437fdbe5-8703-4eb6-ed4b-726fed76d375"
      },
      "source": [
        "df['issue_date'].head()"
      ],
      "execution_count": 12,
      "outputs": [
        {
          "output_type": "execute_result",
          "data": {
            "text/plain": [
              "0    20190520\n",
              "1    20190903\n",
              "2    20190904\n",
              "3    20190906\n",
              "4    20190107\n",
              "Name: issue_date, dtype: int64"
            ]
          },
          "metadata": {},
          "execution_count": 12
        }
      ]
    },
    {
      "cell_type": "code",
      "metadata": {
        "colab": {
          "base_uri": "https://localhost:8080/"
        },
        "id": "VleHHxyeF1ii",
        "outputId": "3dc7c477-57c2-476f-ccff-120d9121bd94"
      },
      "source": [
        "df['issue_date'] = pd.to_datetime(df['issue_date'], format=\"%Y%m%d\")\n",
        "df['issue_date'].head()"
      ],
      "execution_count": 13,
      "outputs": [
        {
          "output_type": "execute_result",
          "data": {
            "text/plain": [
              "0   2019-05-20\n",
              "1   2019-09-03\n",
              "2   2019-09-04\n",
              "3   2019-09-06\n",
              "4   2019-01-07\n",
              "Name: issue_date, dtype: datetime64[ns]"
            ]
          },
          "metadata": {},
          "execution_count": 13
        }
      ]
    },
    {
      "cell_type": "markdown",
      "metadata": {
        "id": "3R_0ZH5EF1il"
      },
      "source": [
        "As another example you can also convert the `house_number` column to numeric datatype (note that in a real application you should not do that since you are not going to numeric calculations on `house_number`. Moreover `house_number` could be a string or a mix of string and digits as well).\n",
        "\n",
        "To do so you can use the `to_numeric` method."
      ]
    },
    {
      "cell_type": "code",
      "metadata": {
        "colab": {
          "base_uri": "https://localhost:8080/",
          "height": 509
        },
        "id": "uFA20ShBF1il",
        "outputId": "98091795-00c2-4f5e-98bf-fa84ddb1f070"
      },
      "source": [
        "# notice that by running this line you will get an error. There reason is that there are non-numeric values in this\n",
        "# column which cannot be converted to numeric data type. \n",
        "df[\"house_number\"] = pd.to_numeric(df['house_number'])"
      ],
      "execution_count": 14,
      "outputs": [
        {
          "output_type": "error",
          "ename": "ValueError",
          "evalue": "ignored",
          "traceback": [
            "\u001b[0;31m---------------------------------------------------------------------------\u001b[0m",
            "\u001b[0;31mValueError\u001b[0m                                Traceback (most recent call last)",
            "\u001b[0;32mpandas/_libs/lib.pyx\u001b[0m in \u001b[0;36mpandas._libs.lib.maybe_convert_numeric\u001b[0;34m()\u001b[0m\n",
            "\u001b[0;31mValueError\u001b[0m: Unable to parse string \"32-14\"",
            "\nDuring handling of the above exception, another exception occurred:\n",
            "\u001b[0;31mValueError\u001b[0m                                Traceback (most recent call last)",
            "\u001b[0;32m<ipython-input-14-05ac9d4a935b>\u001b[0m in \u001b[0;36m<module>\u001b[0;34m()\u001b[0m\n\u001b[1;32m      1\u001b[0m \u001b[0;31m# notice that by running this line you will get an error. There reason is that there are non-numeric values in this\u001b[0m\u001b[0;34m\u001b[0m\u001b[0;34m\u001b[0m\u001b[0;34m\u001b[0m\u001b[0m\n\u001b[1;32m      2\u001b[0m \u001b[0;31m# column which cannot be converted to numeric data type.\u001b[0m\u001b[0;34m\u001b[0m\u001b[0;34m\u001b[0m\u001b[0;34m\u001b[0m\u001b[0m\n\u001b[0;32m----> 3\u001b[0;31m \u001b[0mdf\u001b[0m\u001b[0;34m[\u001b[0m\u001b[0;34m\"house_number\"\u001b[0m\u001b[0;34m]\u001b[0m \u001b[0;34m=\u001b[0m \u001b[0mpd\u001b[0m\u001b[0;34m.\u001b[0m\u001b[0mto_numeric\u001b[0m\u001b[0;34m(\u001b[0m\u001b[0mdf\u001b[0m\u001b[0;34m[\u001b[0m\u001b[0;34m'house_number'\u001b[0m\u001b[0;34m]\u001b[0m\u001b[0;34m)\u001b[0m\u001b[0;34m\u001b[0m\u001b[0;34m\u001b[0m\u001b[0m\n\u001b[0m",
            "\u001b[0;32m/usr/local/lib/python3.7/dist-packages/pandas/core/tools/numeric.py\u001b[0m in \u001b[0;36mto_numeric\u001b[0;34m(arg, errors, downcast)\u001b[0m\n\u001b[1;32m    151\u001b[0m         \u001b[0;32mtry\u001b[0m\u001b[0;34m:\u001b[0m\u001b[0;34m\u001b[0m\u001b[0;34m\u001b[0m\u001b[0m\n\u001b[1;32m    152\u001b[0m             values = lib.maybe_convert_numeric(\n\u001b[0;32m--> 153\u001b[0;31m                 \u001b[0mvalues\u001b[0m\u001b[0;34m,\u001b[0m \u001b[0mset\u001b[0m\u001b[0;34m(\u001b[0m\u001b[0;34m)\u001b[0m\u001b[0;34m,\u001b[0m \u001b[0mcoerce_numeric\u001b[0m\u001b[0;34m=\u001b[0m\u001b[0mcoerce_numeric\u001b[0m\u001b[0;34m\u001b[0m\u001b[0;34m\u001b[0m\u001b[0m\n\u001b[0m\u001b[1;32m    154\u001b[0m             )\n\u001b[1;32m    155\u001b[0m         \u001b[0;32mexcept\u001b[0m \u001b[0;34m(\u001b[0m\u001b[0mValueError\u001b[0m\u001b[0;34m,\u001b[0m \u001b[0mTypeError\u001b[0m\u001b[0;34m)\u001b[0m\u001b[0;34m:\u001b[0m\u001b[0;34m\u001b[0m\u001b[0;34m\u001b[0m\u001b[0m\n",
            "\u001b[0;32mpandas/_libs/lib.pyx\u001b[0m in \u001b[0;36mpandas._libs.lib.maybe_convert_numeric\u001b[0;34m()\u001b[0m\n",
            "\u001b[0;31mValueError\u001b[0m: Unable to parse string \"32-14\" at position 4"
          ]
        }
      ]
    },
    {
      "cell_type": "code",
      "metadata": {
        "id": "p4-E7ZSjF1io"
      },
      "source": [
        "# However, you can deal with such errors by ignoring them and replacing them with NaN. To do so\n",
        "# you should set errors='coerce'\n",
        "df[\"house_number\"] = pd.to_numeric(df['house_number'], errors='coerce')"
      ],
      "execution_count": 15,
      "outputs": []
    },
    {
      "cell_type": "code",
      "metadata": {
        "colab": {
          "base_uri": "https://localhost:8080/"
        },
        "id": "sOiR8cawF1iq",
        "outputId": "20fdf3f3-ea91-4ddb-c26b-d75a85099d3a"
      },
      "source": [
        "df.dtypes"
      ],
      "execution_count": 16,
      "outputs": [
        {
          "output_type": "execute_result",
          "data": {
            "text/plain": [
              "isn_dob_bis_viol                 int64\n",
              "boro                            object\n",
              "bin                              int64\n",
              "block                          float64\n",
              "lot                            float64\n",
              "issue_date              datetime64[ns]\n",
              "violation_type_code             object\n",
              "violation_number                object\n",
              "house_number                   float64\n",
              "street                          object\n",
              "device_number                   object\n",
              "description                     object\n",
              "number                          object\n",
              "violation_category              object\n",
              "violation_type                  object\n",
              "disposition_date               float64\n",
              "disposition_comments            object\n",
              "ecb_number                      object\n",
              "dtype: object"
            ]
          },
          "metadata": {},
          "execution_count": 16
        }
      ]
    },
    {
      "cell_type": "markdown",
      "metadata": {
        "id": "LWKrSP3H3dsR"
      },
      "source": [
        "But we still have some missing values for this house_number column"
      ]
    },
    {
      "cell_type": "code",
      "metadata": {
        "id": "d8_nqBIL3kXs",
        "outputId": "03b46648-e32e-4484-a24c-42bb6454be23",
        "colab": {
          "base_uri": "https://localhost:8080/"
        }
      },
      "source": [
        "df.isnull().sum()"
      ],
      "execution_count": 17,
      "outputs": [
        {
          "output_type": "execute_result",
          "data": {
            "text/plain": [
              "isn_dob_bis_viol           0\n",
              "boro                       0\n",
              "bin                        0\n",
              "block                      1\n",
              "lot                        1\n",
              "issue_date                 0\n",
              "violation_type_code        0\n",
              "violation_number           0\n",
              "house_number            1740\n",
              "street                     0\n",
              "device_number           4775\n",
              "description              528\n",
              "number                     0\n",
              "violation_category         0\n",
              "violation_type             0\n",
              "disposition_date        6297\n",
              "disposition_comments    6285\n",
              "ecb_number              7532\n",
              "dtype: int64"
            ]
          },
          "metadata": {},
          "execution_count": 17
        }
      ]
    },
    {
      "cell_type": "markdown",
      "metadata": {
        "id": "YXGsKb2uF1iE"
      },
      "source": [
        "### Dropping the columns you are not interested in\n",
        "Let's say we are only interested in house number, the types of violations each building received and whether they have been closed or not. So we are going to drop the rest of the columns.\n",
        "\n",
        "Note that many operations in pandas could be done in place. To do so you just need to set `inplace=True`. Also note that in pandas, axis 0 represents the rows while axis 1 represents the columns."
      ]
    },
    {
      "cell_type": "code",
      "metadata": {
        "id": "nWYB-ehBF1iG"
      },
      "source": [
        "columns_to_delete = ['block', 'boro','lot','street','violation_number',\n",
        "                     'disposition_comments', 'isn_dob_bis_viol', 'disposition_date','ecb_number','description'] \n",
        "df.drop(columns_to_delete, inplace=True, axis=1)"
      ],
      "execution_count": 18,
      "outputs": []
    },
    {
      "cell_type": "code",
      "metadata": {
        "colab": {
          "base_uri": "https://localhost:8080/"
        },
        "id": "_6RMqxQUF1iM",
        "outputId": "97974499-c711-48c8-ff88-af4113aa3eda"
      },
      "source": [
        "df.columns"
      ],
      "execution_count": 19,
      "outputs": [
        {
          "output_type": "execute_result",
          "data": {
            "text/plain": [
              "Index(['bin', 'issue_date', 'violation_type_code', 'house_number',\n",
              "       'device_number', 'number', 'violation_category', 'violation_type'],\n",
              "      dtype='object')"
            ]
          },
          "metadata": {},
          "execution_count": 19
        }
      ]
    },
    {
      "cell_type": "markdown",
      "metadata": {
        "id": "cWtViCcmF1it"
      },
      "source": [
        "### Dealing with null values\n",
        "There are different ways to deal with null values in a dataset. Here we are going to show you two different cases.\n",
        "\n",
        "1- filling null values with the mean or median value of the column (for numerical features).\n",
        "\n",
        "2- Removing the rows (data samples) with null features.\n"
      ]
    },
    {
      "cell_type": "code",
      "metadata": {
        "id": "bb4vK0fVF1it"
      },
      "source": [
        "# replacing null values in the house_number column with the mean value\n",
        "# note that you can also replace the null values with any other scalar as well\n",
        "df[\"house_number\"].fillna(df[\"house_number\"].mean(), inplace=True)"
      ],
      "execution_count": 20,
      "outputs": []
    },
    {
      "cell_type": "code",
      "metadata": {
        "id": "A_vHXkNrF1iv"
      },
      "source": [
        "# Removing the rows (data samples) with null features\n",
        "df.dropna(axis=0, inplace=True)"
      ],
      "execution_count": 21,
      "outputs": []
    },
    {
      "cell_type": "code",
      "metadata": {
        "colab": {
          "base_uri": "https://localhost:8080/"
        },
        "id": "bgx3wA-qF1ix",
        "outputId": "fa65cfd8-8a27-4763-b88c-d5e031de28fa"
      },
      "source": [
        "# now we have less rows in our dataframe\n",
        "df.shape"
      ],
      "execution_count": 22,
      "outputs": [
        {
          "output_type": "execute_result",
          "data": {
            "text/plain": [
              "(5225, 8)"
            ]
          },
          "metadata": {},
          "execution_count": 22
        }
      ]
    },
    {
      "cell_type": "markdown",
      "metadata": {
        "id": "cpxytVcEF1iz"
      },
      "source": [
        "### Categorical features\n",
        "In pandas there is also a specific data type for categorical features. Categorical features are the ones that only take values from a given set. For instance in this dataset `violation_type_code` is a catgorical feature.\n",
        "\n",
        "You can convert a column to categorical using the method `astype('category')`."
      ]
    },
    {
      "cell_type": "code",
      "metadata": {
        "colab": {
          "base_uri": "https://localhost:8080/"
        },
        "id": "iHS7kq32F1i_",
        "outputId": "a5d40f43-b38b-4e66-860a-6b3b2e7d8f55"
      },
      "source": [
        "df.dtypes"
      ],
      "execution_count": 23,
      "outputs": [
        {
          "output_type": "execute_result",
          "data": {
            "text/plain": [
              "bin                             int64\n",
              "issue_date             datetime64[ns]\n",
              "violation_type_code            object\n",
              "house_number                  float64\n",
              "device_number                  object\n",
              "number                         object\n",
              "violation_category             object\n",
              "violation_type                 object\n",
              "dtype: object"
            ]
          },
          "metadata": {},
          "execution_count": 23
        }
      ]
    },
    {
      "cell_type": "code",
      "metadata": {
        "colab": {
          "base_uri": "https://localhost:8080/",
          "height": 206
        },
        "id": "L8IGoVEmF1i8",
        "outputId": "debbd2ee-4b36-4adf-a526-9565a82d90ae"
      },
      "source": [
        "df.head()"
      ],
      "execution_count": 24,
      "outputs": [
        {
          "output_type": "execute_result",
          "data": {
            "text/html": [
              "<div>\n",
              "<style scoped>\n",
              "    .dataframe tbody tr th:only-of-type {\n",
              "        vertical-align: middle;\n",
              "    }\n",
              "\n",
              "    .dataframe tbody tr th {\n",
              "        vertical-align: top;\n",
              "    }\n",
              "\n",
              "    .dataframe thead th {\n",
              "        text-align: right;\n",
              "    }\n",
              "</style>\n",
              "<table border=\"1\" class=\"dataframe\">\n",
              "  <thead>\n",
              "    <tr style=\"text-align: right;\">\n",
              "      <th></th>\n",
              "      <th>bin</th>\n",
              "      <th>issue_date</th>\n",
              "      <th>violation_type_code</th>\n",
              "      <th>house_number</th>\n",
              "      <th>device_number</th>\n",
              "      <th>number</th>\n",
              "      <th>violation_category</th>\n",
              "      <th>violation_type</th>\n",
              "    </tr>\n",
              "  </thead>\n",
              "  <tbody>\n",
              "    <tr>\n",
              "      <th>0</th>\n",
              "      <td>3059563</td>\n",
              "      <td>2019-05-20</td>\n",
              "      <td>JVCAT5</td>\n",
              "      <td>441.000000</td>\n",
              "      <td>3P10799</td>\n",
              "      <td>V052019JVCAT500339</td>\n",
              "      <td>V-DOB VIOLATION - ACTIVE</td>\n",
              "      <td>JVCAT5-RESIDENTIAL ELEVATOR PERIODIC INSPECTIO...</td>\n",
              "    </tr>\n",
              "    <tr>\n",
              "      <th>3</th>\n",
              "      <td>1001389</td>\n",
              "      <td>2019-09-06</td>\n",
              "      <td>ACC1</td>\n",
              "      <td>375.000000</td>\n",
              "      <td>1F5381</td>\n",
              "      <td>V090619ACC100284</td>\n",
              "      <td>V-DOB VIOLATION - ACTIVE</td>\n",
              "      <td>ACC1-(OTHER BLDGS TYPES) - ELEVATOR AFFIRMATIO...</td>\n",
              "    </tr>\n",
              "    <tr>\n",
              "      <th>4</th>\n",
              "      <td>4003105</td>\n",
              "      <td>2019-01-07</td>\n",
              "      <td>E</td>\n",
              "      <td>909.948063</td>\n",
              "      <td>4P1563</td>\n",
              "      <td>V*010719E9028/643438</td>\n",
              "      <td>V*-DOB VIOLATION - Resolved</td>\n",
              "      <td>E-ELEVATOR</td>\n",
              "    </tr>\n",
              "    <tr>\n",
              "      <th>7</th>\n",
              "      <td>2087228</td>\n",
              "      <td>2019-11-08</td>\n",
              "      <td>LBLVIO</td>\n",
              "      <td>2301.000000</td>\n",
              "      <td>00100798</td>\n",
              "      <td>V110819LBLVIO04949</td>\n",
              "      <td>V-DOB VIOLATION - ACTIVE</td>\n",
              "      <td>LBLVIO-LOW PRESSURE BOILER</td>\n",
              "    </tr>\n",
              "    <tr>\n",
              "      <th>8</th>\n",
              "      <td>5106523</td>\n",
              "      <td>2019-05-20</td>\n",
              "      <td>EVCAT5</td>\n",
              "      <td>355.000000</td>\n",
              "      <td>5P470</td>\n",
              "      <td>V052019EVCAT500505</td>\n",
              "      <td>V-DOB VIOLATION - ACTIVE</td>\n",
              "      <td>EVCAT5-NON-RESIDENTIAL ELEVATOR PERIODIC INSPE...</td>\n",
              "    </tr>\n",
              "  </tbody>\n",
              "</table>\n",
              "</div>"
            ],
            "text/plain": [
              "       bin  ...                                     violation_type\n",
              "0  3059563  ...  JVCAT5-RESIDENTIAL ELEVATOR PERIODIC INSPECTIO...\n",
              "3  1001389  ...  ACC1-(OTHER BLDGS TYPES) - ELEVATOR AFFIRMATIO...\n",
              "4  4003105  ...                                         E-ELEVATOR\n",
              "7  2087228  ...                         LBLVIO-LOW PRESSURE BOILER\n",
              "8  5106523  ...  EVCAT5-NON-RESIDENTIAL ELEVATOR PERIODIC INSPE...\n",
              "\n",
              "[5 rows x 8 columns]"
            ]
          },
          "metadata": {},
          "execution_count": 24
        }
      ]
    },
    {
      "cell_type": "code",
      "metadata": {
        "colab": {
          "base_uri": "https://localhost:8080/"
        },
        "id": "SnSOVINvb2u7",
        "outputId": "3b8a5de2-aa96-494f-d3c8-e9c3fde951fa"
      },
      "source": [
        "df[\"violation_type_code\"]"
      ],
      "execution_count": 25,
      "outputs": [
        {
          "output_type": "execute_result",
          "data": {
            "text/plain": [
              "0       JVCAT5\n",
              "3         ACC1\n",
              "4            E\n",
              "7       LBLVIO\n",
              "8       EVCAT5\n",
              "         ...  \n",
              "9994    LBLVIO\n",
              "9996    LBLVIO\n",
              "9997    LBLVIO\n",
              "9998    EVCAT1\n",
              "9999    LBLVIO\n",
              "Name: violation_type_code, Length: 5225, dtype: object"
            ]
          },
          "metadata": {},
          "execution_count": 25
        }
      ]
    },
    {
      "cell_type": "code",
      "metadata": {
        "id": "0mrRLaT1F1iz"
      },
      "source": [
        "df[\"violation_type_code\"] = df[\"violation_type_code\"].astype(\"category\")"
      ],
      "execution_count": 26,
      "outputs": []
    },
    {
      "cell_type": "markdown",
      "metadata": {
        "id": "wwgyL74CF1i1"
      },
      "source": [
        "You can see that now the data type of this column has changed. Also observe that we have 13 categories in the column."
      ]
    },
    {
      "cell_type": "code",
      "metadata": {
        "colab": {
          "base_uri": "https://localhost:8080/"
        },
        "id": "cmTsaDhFF1i2",
        "outputId": "6a2e0275-4658-406e-e4c4-5e2c223092a6"
      },
      "source": [
        "df[\"violation_type_code\"]"
      ],
      "execution_count": 27,
      "outputs": [
        {
          "output_type": "execute_result",
          "data": {
            "text/plain": [
              "0       JVCAT5\n",
              "3         ACC1\n",
              "4            E\n",
              "7       LBLVIO\n",
              "8       EVCAT5\n",
              "         ...  \n",
              "9994    LBLVIO\n",
              "9996    LBLVIO\n",
              "9997    LBLVIO\n",
              "9998    EVCAT1\n",
              "9999    LBLVIO\n",
              "Name: violation_type_code, Length: 5225, dtype: category\n",
              "Categories (13, object): ['ACC1', 'ACH1', 'ACJ1', 'E', ..., 'HVIOS', 'JVCAT5', 'JVIOS', 'LBLVIO']"
            ]
          },
          "metadata": {},
          "execution_count": 27
        }
      ]
    },
    {
      "cell_type": "code",
      "metadata": {
        "id": "a0IJZV265oe_",
        "outputId": "9b49c8cb-6a9b-4631-c590-99bdd54d0e10",
        "colab": {
          "base_uri": "https://localhost:8080/"
        }
      },
      "source": [
        "df.violation_type_code.cat.categories"
      ],
      "execution_count": 34,
      "outputs": [
        {
          "output_type": "execute_result",
          "data": {
            "text/plain": [
              "Index(['ACC1', 'ACH1', 'ACJ1', 'E', 'EVCAT1', 'EVCAT5', 'FISP', 'FISPNRF',\n",
              "       'HVCAT5', 'HVIOS', 'JVCAT5', 'JVIOS', 'LBLVIO'],\n",
              "      dtype='object')"
            ]
          },
          "metadata": {},
          "execution_count": 34
        }
      ]
    },
    {
      "cell_type": "markdown",
      "metadata": {
        "id": "lQhH5-jvF1i4"
      },
      "source": [
        "### Change a column name\n",
        "\n",
        "You can change columns names easily in pandas. To do so, use the `rename` method and pass the names to change as a dictionary."
      ]
    },
    {
      "cell_type": "code",
      "metadata": {
        "id": "3pA1sXVoF1i4"
      },
      "source": [
        "df.rename(columns = {\"issue_date\": \"date\"}, inplace=True)"
      ],
      "execution_count": 28,
      "outputs": []
    },
    {
      "cell_type": "code",
      "metadata": {
        "id": "XsHVkSl25gFy",
        "outputId": "0da1b032-e4b1-4d0f-cc30-f0b00c9a23cc",
        "colab": {
          "base_uri": "https://localhost:8080/",
          "height": 112
        }
      },
      "source": [
        "df.head(2)"
      ],
      "execution_count": 29,
      "outputs": [
        {
          "output_type": "execute_result",
          "data": {
            "text/html": [
              "<div>\n",
              "<style scoped>\n",
              "    .dataframe tbody tr th:only-of-type {\n",
              "        vertical-align: middle;\n",
              "    }\n",
              "\n",
              "    .dataframe tbody tr th {\n",
              "        vertical-align: top;\n",
              "    }\n",
              "\n",
              "    .dataframe thead th {\n",
              "        text-align: right;\n",
              "    }\n",
              "</style>\n",
              "<table border=\"1\" class=\"dataframe\">\n",
              "  <thead>\n",
              "    <tr style=\"text-align: right;\">\n",
              "      <th></th>\n",
              "      <th>bin</th>\n",
              "      <th>date</th>\n",
              "      <th>violation_type_code</th>\n",
              "      <th>house_number</th>\n",
              "      <th>device_number</th>\n",
              "      <th>number</th>\n",
              "      <th>violation_category</th>\n",
              "      <th>violation_type</th>\n",
              "    </tr>\n",
              "  </thead>\n",
              "  <tbody>\n",
              "    <tr>\n",
              "      <th>0</th>\n",
              "      <td>3059563</td>\n",
              "      <td>2019-05-20</td>\n",
              "      <td>JVCAT5</td>\n",
              "      <td>441.0</td>\n",
              "      <td>3P10799</td>\n",
              "      <td>V052019JVCAT500339</td>\n",
              "      <td>V-DOB VIOLATION - ACTIVE</td>\n",
              "      <td>JVCAT5-RESIDENTIAL ELEVATOR PERIODIC INSPECTIO...</td>\n",
              "    </tr>\n",
              "    <tr>\n",
              "      <th>3</th>\n",
              "      <td>1001389</td>\n",
              "      <td>2019-09-06</td>\n",
              "      <td>ACC1</td>\n",
              "      <td>375.0</td>\n",
              "      <td>1F5381</td>\n",
              "      <td>V090619ACC100284</td>\n",
              "      <td>V-DOB VIOLATION - ACTIVE</td>\n",
              "      <td>ACC1-(OTHER BLDGS TYPES) - ELEVATOR AFFIRMATIO...</td>\n",
              "    </tr>\n",
              "  </tbody>\n",
              "</table>\n",
              "</div>"
            ],
            "text/plain": [
              "       bin  ...                                     violation_type\n",
              "0  3059563  ...  JVCAT5-RESIDENTIAL ELEVATOR PERIODIC INSPECTIO...\n",
              "3  1001389  ...  ACC1-(OTHER BLDGS TYPES) - ELEVATOR AFFIRMATIO...\n",
              "\n",
              "[2 rows x 8 columns]"
            ]
          },
          "metadata": {},
          "execution_count": 29
        }
      ]
    }
  ]
}