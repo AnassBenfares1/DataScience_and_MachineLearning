{
  "nbformat": 4,
  "nbformat_minor": 0,
  "metadata": {
    "kernelspec": {
      "display_name": "Python 3",
      "language": "python",
      "name": "python3"
    },
    "language_info": {
      "codemirror_mode": {
        "name": "ipython",
        "version": 3
      },
      "file_extension": ".py",
      "mimetype": "text/x-python",
      "name": "python",
      "nbconvert_exporter": "python",
      "pygments_lexer": "ipython3",
      "version": "3.7.3"
    },
    "colab": {
      "name": "Data_Cleaning_in_Pandas.ipynb",
      "provenance": [],
      "include_colab_link": true
    }
  },
  "cells": [
    {
      "cell_type": "markdown",
      "metadata": {
        "id": "view-in-github",
        "colab_type": "text"
      },
      "source": [
        "<a href=\"https://colab.research.google.com/github/michalis0/DataMining_and_MachineLearning/blob/master/week2/Data_Cleaning_in_Pandas.ipynb\" target=\"_parent\"><img src=\"https://colab.research.google.com/assets/colab-badge.svg\" alt=\"Open In Colab\"/></a>"
      ]
    },
    {
      "cell_type": "markdown",
      "metadata": {
        "id": "ZaJpX6maF1hW"
      },
      "source": [
        "# Data cleaning with pandas\n",
        "\n",
        "### How Does Data Get Dirty?\n",
        "- Missing data.\n",
        "- Inconsistent data.\n",
        "- Duplicate data.\n",
        "\n",
        "To name a few things that can go wrong. There is an endless list of ways that data can end up very messy.\n",
        "Sometimes there are insufficient validation checks when the data is entered in the first place.\n",
        "If you have form fields with users entering data in any format they want with no guidelines or form validation checks in place to enforce conforming to a certain format, then users will input however they see fit.\n",
        "\n",
        "There could be an input field for the state (U.S.) and you have some data that is the two-character abbreviation, NY and then others have New York, then there are potential misspellings and typos, etc.\n",
        "\n",
        "Data can also become corrupted during transmission or in storage."
      ]
    },
    {
      "cell_type": "markdown",
      "metadata": {
        "id": "cunJdWS4F1hY"
      },
      "source": [
        "We’ll use pandas to examine and clean the building violations dataset from the NYC Department of Buildings (DOB) that is available on NYC Open Data.\n",
        "\n",
        "The datset can be found [here](https://data.cityofnewyork.us/Housing-Development/DOB-Violations/3h2n-5cm9).\n",
        "\n",
        "For this exercise, we will work with a subset of the data with 10000 records.\n",
        "\n",
        "[source of this exercise](https://medium.com/better-programming/data-cleaning-with-python-pandas-an-introduction-1cfd5cde6884)\n"
      ]
    },
    {
      "cell_type": "code",
      "metadata": {
        "id": "1SoxqEHtF1hg"
      },
      "source": [
        "import pandas as pd \n",
        "import numpy as np "
      ],
      "execution_count": 1,
      "outputs": []
    },
    {
      "cell_type": "markdown",
      "metadata": {
        "id": "PD8ihbeHF1ho"
      },
      "source": [
        "### load the data"
      ]
    },
    {
      "cell_type": "code",
      "metadata": {
        "id": "0fgt4gEcF1hp"
      },
      "source": [
        "df = pd.read_csv(\"https://raw.githubusercontent.com/michalis0/DataMining_and_MachineLearning/master/week2/data/violation_DOB.csv\")"
      ],
      "execution_count": 2,
      "outputs": []
    },
    {
      "cell_type": "markdown",
      "metadata": {
        "id": "RFrej8kTF1ht"
      },
      "source": [
        "### shape of the data\n",
        "Let's first check how many rows and columns (features) are in this dataset"
      ]
    },
    {
      "cell_type": "code",
      "metadata": {
        "id": "YeC_ODO-F1hu",
        "outputId": "56bffe8d-126b-49b7-b75f-40f188facf61",
        "colab": {
          "base_uri": "https://localhost:8080/",
          "height": 34
        }
      },
      "source": [
        "df.shape"
      ],
      "execution_count": 3,
      "outputs": [
        {
          "output_type": "execute_result",
          "data": {
            "text/plain": [
              "(10000, 18)"
            ]
          },
          "metadata": {
            "tags": []
          },
          "execution_count": 3
        }
      ]
    },
    {
      "cell_type": "markdown",
      "metadata": {
        "id": "XPBg0rcdF1h0"
      },
      "source": [
        "### Check out the first few rows\n",
        "You can look at the first few rows by calling `head()` on the dataframe."
      ]
    },
    {
      "cell_type": "code",
      "metadata": {
        "id": "l_oGmG_SF1h1",
        "outputId": "87430f55-9bb4-49f0-f606-ba50a38980e7",
        "colab": {
          "base_uri": "https://localhost:8080/",
          "height": 551
        }
      },
      "source": [
        "df.head()"
      ],
      "execution_count": 4,
      "outputs": [
        {
          "output_type": "execute_result",
          "data": {
            "text/html": [
              "<div>\n",
              "<style scoped>\n",
              "    .dataframe tbody tr th:only-of-type {\n",
              "        vertical-align: middle;\n",
              "    }\n",
              "\n",
              "    .dataframe tbody tr th {\n",
              "        vertical-align: top;\n",
              "    }\n",
              "\n",
              "    .dataframe thead th {\n",
              "        text-align: right;\n",
              "    }\n",
              "</style>\n",
              "<table border=\"1\" class=\"dataframe\">\n",
              "  <thead>\n",
              "    <tr style=\"text-align: right;\">\n",
              "      <th></th>\n",
              "      <th>isn_dob_bis_viol</th>\n",
              "      <th>boro</th>\n",
              "      <th>bin</th>\n",
              "      <th>block</th>\n",
              "      <th>lot</th>\n",
              "      <th>issue_date</th>\n",
              "      <th>violation_type_code</th>\n",
              "      <th>violation_number</th>\n",
              "      <th>house_number</th>\n",
              "      <th>street</th>\n",
              "      <th>device_number</th>\n",
              "      <th>description</th>\n",
              "      <th>number</th>\n",
              "      <th>violation_category</th>\n",
              "      <th>violation_type</th>\n",
              "      <th>disposition_date</th>\n",
              "      <th>disposition_comments</th>\n",
              "      <th>ecb_number</th>\n",
              "    </tr>\n",
              "  </thead>\n",
              "  <tbody>\n",
              "    <tr>\n",
              "      <th>0</th>\n",
              "      <td>2351406</td>\n",
              "      <td>3</td>\n",
              "      <td>3059563</td>\n",
              "      <td>2136.0</td>\n",
              "      <td>2136.0</td>\n",
              "      <td>20190520</td>\n",
              "      <td>JVCAT5</td>\n",
              "      <td>00339</td>\n",
              "      <td>441</td>\n",
              "      <td>WYTHE AVENUE</td>\n",
              "      <td>3P10799</td>\n",
              "      <td>FAILURE TO PERFORM CATEGORY 5 INSPECTION</td>\n",
              "      <td>V052019JVCAT500339</td>\n",
              "      <td>V-DOB VIOLATION - ACTIVE</td>\n",
              "      <td>JVCAT5-RESIDENTIAL ELEVATOR PERIODIC INSPECTIO...</td>\n",
              "      <td>NaN</td>\n",
              "      <td>NaN</td>\n",
              "      <td>NaN</td>\n",
              "    </tr>\n",
              "    <tr>\n",
              "      <th>1</th>\n",
              "      <td>2383173</td>\n",
              "      <td>3</td>\n",
              "      <td>3137310</td>\n",
              "      <td>5631.0</td>\n",
              "      <td>14.0</td>\n",
              "      <td>20190903</td>\n",
              "      <td>LL2604S</td>\n",
              "      <td>NRF01042</td>\n",
              "      <td>920</td>\n",
              "      <td>48 STREET</td>\n",
              "      <td>NaN</td>\n",
              "      <td>FAILED TO FILE FINAL SPRINKLER REPORT BY JULY ...</td>\n",
              "      <td>V090319LL2604SNRF01042</td>\n",
              "      <td>V-DOB VIOLATION - ACTIVE</td>\n",
              "      <td>LL2604S-SPRINKLER</td>\n",
              "      <td>NaN</td>\n",
              "      <td>NaN</td>\n",
              "      <td>NaN</td>\n",
              "    </tr>\n",
              "    <tr>\n",
              "      <th>2</th>\n",
              "      <td>2427322</td>\n",
              "      <td>2</td>\n",
              "      <td>2003035</td>\n",
              "      <td>2504.0</td>\n",
              "      <td>36.0</td>\n",
              "      <td>20190904</td>\n",
              "      <td>AEUHAZ1</td>\n",
              "      <td>00162</td>\n",
              "      <td>941</td>\n",
              "      <td>JEROME AVENUE</td>\n",
              "      <td>NaN</td>\n",
              "      <td>FAILURE TO CERTIFY CORRECTION ON IMMEDIATELY H...</td>\n",
              "      <td>V*090419AEUHAZ100162</td>\n",
              "      <td>V*-DOB VIOLATION - DISMISSED</td>\n",
              "      <td>AEUHAZ1-FAIL TO CERTIFY CLASS 1</td>\n",
              "      <td>20191202.0</td>\n",
              "      <td>GNC    PAID INVOICE 62132098</td>\n",
              "      <td>35409075X</td>\n",
              "    </tr>\n",
              "    <tr>\n",
              "      <th>3</th>\n",
              "      <td>2384655</td>\n",
              "      <td>1</td>\n",
              "      <td>1001389</td>\n",
              "      <td>113.0</td>\n",
              "      <td>7501.0</td>\n",
              "      <td>20190906</td>\n",
              "      <td>ACC1</td>\n",
              "      <td>00284</td>\n",
              "      <td>375</td>\n",
              "      <td>PEARL ST</td>\n",
              "      <td>1F5381</td>\n",
              "      <td>VIO ISSUED TO ELEVATOR - FAIL TO CORRECT DEFEC...</td>\n",
              "      <td>V090619ACC100284</td>\n",
              "      <td>V-DOB VIOLATION - ACTIVE</td>\n",
              "      <td>ACC1-(OTHER BLDGS TYPES) - ELEVATOR AFFIRMATIO...</td>\n",
              "      <td>NaN</td>\n",
              "      <td>NaN</td>\n",
              "      <td>NaN</td>\n",
              "    </tr>\n",
              "    <tr>\n",
              "      <th>4</th>\n",
              "      <td>2316273</td>\n",
              "      <td>4</td>\n",
              "      <td>4003105</td>\n",
              "      <td>214.0</td>\n",
              "      <td>7501.0</td>\n",
              "      <td>20190107</td>\n",
              "      <td>E</td>\n",
              "      <td>9028/643438</td>\n",
              "      <td>32-14</td>\n",
              "      <td>NORTHERN BOULEVARD</td>\n",
              "      <td>4P1563</td>\n",
              "      <td>NaN</td>\n",
              "      <td>V*010719E9028/643438</td>\n",
              "      <td>V*-DOB VIOLATION - Resolved</td>\n",
              "      <td>E-ELEVATOR</td>\n",
              "      <td>20190805.0</td>\n",
              "      <td>PPN203  AOC SUB ON 07/12/19 BY:TRANSEL ELEV.  ...</td>\n",
              "      <td>NaN</td>\n",
              "    </tr>\n",
              "  </tbody>\n",
              "</table>\n",
              "</div>"
            ],
            "text/plain": [
              "   isn_dob_bis_viol  ... ecb_number\n",
              "0           2351406  ...        NaN\n",
              "1           2383173  ...        NaN\n",
              "2           2427322  ...  35409075X\n",
              "3           2384655  ...        NaN\n",
              "4           2316273  ...        NaN\n",
              "\n",
              "[5 rows x 18 columns]"
            ]
          },
          "metadata": {
            "tags": []
          },
          "execution_count": 4
        }
      ]
    },
    {
      "cell_type": "markdown",
      "metadata": {
        "id": "-iIy4l0XF1h5"
      },
      "source": [
        "### column/feature names"
      ]
    },
    {
      "cell_type": "code",
      "metadata": {
        "id": "z9o2EIEpF1h7",
        "outputId": "b94264cf-b0ee-46d1-e882-7a07bc4cdaec",
        "colab": {
          "base_uri": "https://localhost:8080/",
          "height": 118
        }
      },
      "source": [
        "df.columns"
      ],
      "execution_count": 5,
      "outputs": [
        {
          "output_type": "execute_result",
          "data": {
            "text/plain": [
              "Index(['isn_dob_bis_viol', 'boro', 'bin', 'block', 'lot', 'issue_date',\n",
              "       'violation_type_code', 'violation_number', 'house_number', 'street',\n",
              "       'device_number', 'description', 'number', 'violation_category',\n",
              "       'violation_type', 'disposition_date', 'disposition_comments',\n",
              "       'ecb_number'],\n",
              "      dtype='object')"
            ]
          },
          "metadata": {
            "tags": []
          },
          "execution_count": 5
        }
      ]
    },
    {
      "cell_type": "markdown",
      "metadata": {
        "id": "Z0ttulb9F1h_"
      },
      "source": [
        "### Missing/Null values\n",
        "You can call `isnull()` and `sum()` to get a count of how many null values are there in each column."
      ]
    },
    {
      "cell_type": "code",
      "metadata": {
        "id": "lu2-o0DQF1iA",
        "outputId": "25b86083-def2-42b8-e991-42b6da9b2950",
        "colab": {
          "base_uri": "https://localhost:8080/",
          "height": 336
        }
      },
      "source": [
        "df.isnull().sum()"
      ],
      "execution_count": 6,
      "outputs": [
        {
          "output_type": "execute_result",
          "data": {
            "text/plain": [
              "isn_dob_bis_viol           0\n",
              "boro                       0\n",
              "bin                        0\n",
              "block                      1\n",
              "lot                        1\n",
              "issue_date                 0\n",
              "violation_type_code        0\n",
              "violation_number           0\n",
              "house_number               0\n",
              "street                     0\n",
              "device_number           4775\n",
              "description              528\n",
              "number                     0\n",
              "violation_category         0\n",
              "violation_type             0\n",
              "disposition_date        6297\n",
              "disposition_comments    6285\n",
              "ecb_number              7532\n",
              "dtype: int64"
            ]
          },
          "metadata": {
            "tags": []
          },
          "execution_count": 6
        }
      ]
    },
    {
      "cell_type": "markdown",
      "metadata": {
        "id": "YXGsKb2uF1iE"
      },
      "source": [
        "### Droppin the columns you are not interested in\n",
        "Let's say we are only interested in house number, the types of violations each building received and whether they have been closed or not. So we are going to drop the rest of the columns.\n",
        "\n",
        "Note that many operations in pandas could be done in place. To do so you just need to set `inplace=True`. Also note that in pandas, axis 0 represents the rows while axis 1 represents the columns."
      ]
    },
    {
      "cell_type": "code",
      "metadata": {
        "id": "nWYB-ehBF1iG"
      },
      "source": [
        "columns_to_delete = ['block', 'boro','lot','street','violation_number',\n",
        "                     'disposition_comments', 'isn_dob_bis_viol', 'disposition_date','ecb_number','description'] \n",
        "df.drop(columns_to_delete, inplace=True, axis=1)"
      ],
      "execution_count": 7,
      "outputs": []
    },
    {
      "cell_type": "code",
      "metadata": {
        "id": "_6RMqxQUF1iM",
        "outputId": "1841a77e-61c8-4a4e-91cd-f72fbc8b5a47",
        "colab": {
          "base_uri": "https://localhost:8080/",
          "height": 67
        }
      },
      "source": [
        "df.columns"
      ],
      "execution_count": 8,
      "outputs": [
        {
          "output_type": "execute_result",
          "data": {
            "text/plain": [
              "Index(['bin', 'issue_date', 'violation_type_code', 'house_number',\n",
              "       'device_number', 'number', 'violation_category', 'violation_type'],\n",
              "      dtype='object')"
            ]
          },
          "metadata": {
            "tags": []
          },
          "execution_count": 8
        }
      ]
    },
    {
      "cell_type": "markdown",
      "metadata": {
        "id": "gG9IfZqeF1iP"
      },
      "source": [
        "### Descriptive Statistics"
      ]
    },
    {
      "cell_type": "code",
      "metadata": {
        "id": "o80sWUCCF1iP",
        "outputId": "f72f6e16-afbf-46e3-b323-2809db3be56e",
        "colab": {
          "base_uri": "https://localhost:8080/",
          "height": 284
        }
      },
      "source": [
        "df.describe()"
      ],
      "execution_count": 9,
      "outputs": [
        {
          "output_type": "execute_result",
          "data": {
            "text/html": [
              "<div>\n",
              "<style scoped>\n",
              "    .dataframe tbody tr th:only-of-type {\n",
              "        vertical-align: middle;\n",
              "    }\n",
              "\n",
              "    .dataframe tbody tr th {\n",
              "        vertical-align: top;\n",
              "    }\n",
              "\n",
              "    .dataframe thead th {\n",
              "        text-align: right;\n",
              "    }\n",
              "</style>\n",
              "<table border=\"1\" class=\"dataframe\">\n",
              "  <thead>\n",
              "    <tr style=\"text-align: right;\">\n",
              "      <th></th>\n",
              "      <th>bin</th>\n",
              "      <th>issue_date</th>\n",
              "    </tr>\n",
              "  </thead>\n",
              "  <tbody>\n",
              "    <tr>\n",
              "      <th>count</th>\n",
              "      <td>1.000000e+04</td>\n",
              "      <td>1.000000e+04</td>\n",
              "    </tr>\n",
              "    <tr>\n",
              "      <th>mean</th>\n",
              "      <td>2.560801e+06</td>\n",
              "      <td>2.019075e+07</td>\n",
              "    </tr>\n",
              "    <tr>\n",
              "      <th>std</th>\n",
              "      <td>1.273783e+06</td>\n",
              "      <td>3.264335e+02</td>\n",
              "    </tr>\n",
              "    <tr>\n",
              "      <th>min</th>\n",
              "      <td>1.000003e+06</td>\n",
              "      <td>2.019010e+07</td>\n",
              "    </tr>\n",
              "    <tr>\n",
              "      <th>25%</th>\n",
              "      <td>1.064225e+06</td>\n",
              "      <td>2.019050e+07</td>\n",
              "    </tr>\n",
              "    <tr>\n",
              "      <th>50%</th>\n",
              "      <td>3.029678e+06</td>\n",
              "      <td>2.019082e+07</td>\n",
              "    </tr>\n",
              "    <tr>\n",
              "      <th>75%</th>\n",
              "      <td>3.348085e+06</td>\n",
              "      <td>2.019111e+07</td>\n",
              "    </tr>\n",
              "    <tr>\n",
              "      <th>max</th>\n",
              "      <td>5.835353e+06</td>\n",
              "      <td>2.019123e+07</td>\n",
              "    </tr>\n",
              "  </tbody>\n",
              "</table>\n",
              "</div>"
            ],
            "text/plain": [
              "                bin    issue_date\n",
              "count  1.000000e+04  1.000000e+04\n",
              "mean   2.560801e+06  2.019075e+07\n",
              "std    1.273783e+06  3.264335e+02\n",
              "min    1.000003e+06  2.019010e+07\n",
              "25%    1.064225e+06  2.019050e+07\n",
              "50%    3.029678e+06  2.019082e+07\n",
              "75%    3.348085e+06  2.019111e+07\n",
              "max    5.835353e+06  2.019123e+07"
            ]
          },
          "metadata": {
            "tags": []
          },
          "execution_count": 9
        }
      ]
    },
    {
      "cell_type": "markdown",
      "metadata": {
        "id": "7-VRzH3FF1iY"
      },
      "source": [
        "### Datatypes\n",
        "It is important that the data values in each column have the correct data type as you expect. For example when a column should be in numeric fomrat but you find string values in that column. In such a case when you do numeric calculations on that column you might get unexpected results.\n",
        "\n",
        "The attribute `dtypes` will show you the data types for each column in the dataframe."
      ]
    },
    {
      "cell_type": "code",
      "metadata": {
        "id": "4-DTI_csF1iZ",
        "outputId": "2f885052-3633-4e59-aa95-823feff2f3f4",
        "colab": {
          "base_uri": "https://localhost:8080/",
          "height": 168
        }
      },
      "source": [
        "df.dtypes"
      ],
      "execution_count": 10,
      "outputs": [
        {
          "output_type": "execute_result",
          "data": {
            "text/plain": [
              "bin                     int64\n",
              "issue_date              int64\n",
              "violation_type_code    object\n",
              "house_number           object\n",
              "device_number          object\n",
              "number                 object\n",
              "violation_category     object\n",
              "violation_type         object\n",
              "dtype: object"
            ]
          },
          "metadata": {
            "tags": []
          },
          "execution_count": 10
        }
      ]
    },
    {
      "cell_type": "markdown",
      "metadata": {
        "id": "UE94_vaCF1if"
      },
      "source": [
        "You can notice that the column `issue_date` is in string format, whereas it should be in datetime format. In pandas you can convert a column to datetime format using `to_datetime` method."
      ]
    },
    {
      "cell_type": "code",
      "metadata": {
        "id": "pnZyewjwF1if",
        "outputId": "64a9d459-4301-4c43-bddc-f8b5d88828af",
        "colab": {
          "base_uri": "https://localhost:8080/",
          "height": 118
        }
      },
      "source": [
        "df['issue_date'].head()"
      ],
      "execution_count": 11,
      "outputs": [
        {
          "output_type": "execute_result",
          "data": {
            "text/plain": [
              "0    20190520\n",
              "1    20190903\n",
              "2    20190904\n",
              "3    20190906\n",
              "4    20190107\n",
              "Name: issue_date, dtype: int64"
            ]
          },
          "metadata": {
            "tags": []
          },
          "execution_count": 11
        }
      ]
    },
    {
      "cell_type": "code",
      "metadata": {
        "id": "VleHHxyeF1ii",
        "outputId": "916d4725-1f08-4e05-bd66-9291fbea12b9",
        "colab": {
          "base_uri": "https://localhost:8080/",
          "height": 118
        }
      },
      "source": [
        "df['issue_date'] = pd.to_datetime(df['issue_date'])  \n",
        "df['issue_date'].head()"
      ],
      "execution_count": 12,
      "outputs": [
        {
          "output_type": "execute_result",
          "data": {
            "text/plain": [
              "0   1970-01-01 00:00:00.020190520\n",
              "1   1970-01-01 00:00:00.020190903\n",
              "2   1970-01-01 00:00:00.020190904\n",
              "3   1970-01-01 00:00:00.020190906\n",
              "4   1970-01-01 00:00:00.020190107\n",
              "Name: issue_date, dtype: datetime64[ns]"
            ]
          },
          "metadata": {
            "tags": []
          },
          "execution_count": 12
        }
      ]
    },
    {
      "cell_type": "markdown",
      "metadata": {
        "id": "3R_0ZH5EF1il"
      },
      "source": [
        "As another example you can also convert the `house_number` column to numeric datatype (note that in a real application you should not do that since you are not going to numeric calculations on `house_number`. Moreover `house_number` could be a string or a mix of string and digits as well).\n",
        "\n",
        "To do so you can use the `to_numeric` method."
      ]
    },
    {
      "cell_type": "code",
      "metadata": {
        "id": "uFA20ShBF1il",
        "outputId": "b5ed982c-2a36-46b6-d4e8-2d3fc4c55d7f",
        "colab": {
          "base_uri": "https://localhost:8080/",
          "height": 465
        }
      },
      "source": [
        "# notice that by running this line you will get an error. There reason is that there are non-numeric values in this\n",
        "# column which cannot be converted to numeric data type. \n",
        "df[\"house_number\"] = pd.to_numeric(df['house_number'])"
      ],
      "execution_count": 13,
      "outputs": [
        {
          "output_type": "error",
          "ename": "ValueError",
          "evalue": "ignored",
          "traceback": [
            "\u001b[0;31m---------------------------------------------------------------------------\u001b[0m",
            "\u001b[0;31mValueError\u001b[0m                                Traceback (most recent call last)",
            "\u001b[0;32mpandas/_libs/lib.pyx\u001b[0m in \u001b[0;36mpandas._libs.lib.maybe_convert_numeric\u001b[0;34m()\u001b[0m\n",
            "\u001b[0;31mValueError\u001b[0m: Unable to parse string \"32-14\"",
            "\nDuring handling of the above exception, another exception occurred:\n",
            "\u001b[0;31mValueError\u001b[0m                                Traceback (most recent call last)",
            "\u001b[0;32m<ipython-input-13-05ac9d4a935b>\u001b[0m in \u001b[0;36m<module>\u001b[0;34m()\u001b[0m\n\u001b[1;32m      1\u001b[0m \u001b[0;31m# notice that by running this line you will get an error. There reason is that there are non-numeric values in this\u001b[0m\u001b[0;34m\u001b[0m\u001b[0;34m\u001b[0m\u001b[0;34m\u001b[0m\u001b[0m\n\u001b[1;32m      2\u001b[0m \u001b[0;31m# column which cannot be converted to numeric data type.\u001b[0m\u001b[0;34m\u001b[0m\u001b[0;34m\u001b[0m\u001b[0;34m\u001b[0m\u001b[0m\n\u001b[0;32m----> 3\u001b[0;31m \u001b[0mdf\u001b[0m\u001b[0;34m[\u001b[0m\u001b[0;34m\"house_number\"\u001b[0m\u001b[0;34m]\u001b[0m \u001b[0;34m=\u001b[0m \u001b[0mpd\u001b[0m\u001b[0;34m.\u001b[0m\u001b[0mto_numeric\u001b[0m\u001b[0;34m(\u001b[0m\u001b[0mdf\u001b[0m\u001b[0;34m[\u001b[0m\u001b[0;34m'house_number'\u001b[0m\u001b[0;34m]\u001b[0m\u001b[0;34m)\u001b[0m\u001b[0;34m\u001b[0m\u001b[0;34m\u001b[0m\u001b[0m\n\u001b[0m",
            "\u001b[0;32m/usr/local/lib/python3.6/dist-packages/pandas/core/tools/numeric.py\u001b[0m in \u001b[0;36mto_numeric\u001b[0;34m(arg, errors, downcast)\u001b[0m\n\u001b[1;32m    148\u001b[0m         \u001b[0;32mtry\u001b[0m\u001b[0;34m:\u001b[0m\u001b[0;34m\u001b[0m\u001b[0;34m\u001b[0m\u001b[0m\n\u001b[1;32m    149\u001b[0m             values = lib.maybe_convert_numeric(\n\u001b[0;32m--> 150\u001b[0;31m                 \u001b[0mvalues\u001b[0m\u001b[0;34m,\u001b[0m \u001b[0mset\u001b[0m\u001b[0;34m(\u001b[0m\u001b[0;34m)\u001b[0m\u001b[0;34m,\u001b[0m \u001b[0mcoerce_numeric\u001b[0m\u001b[0;34m=\u001b[0m\u001b[0mcoerce_numeric\u001b[0m\u001b[0;34m\u001b[0m\u001b[0;34m\u001b[0m\u001b[0m\n\u001b[0m\u001b[1;32m    151\u001b[0m             )\n\u001b[1;32m    152\u001b[0m         \u001b[0;32mexcept\u001b[0m \u001b[0;34m(\u001b[0m\u001b[0mValueError\u001b[0m\u001b[0;34m,\u001b[0m \u001b[0mTypeError\u001b[0m\u001b[0;34m)\u001b[0m\u001b[0;34m:\u001b[0m\u001b[0;34m\u001b[0m\u001b[0;34m\u001b[0m\u001b[0m\n",
            "\u001b[0;32mpandas/_libs/lib.pyx\u001b[0m in \u001b[0;36mpandas._libs.lib.maybe_convert_numeric\u001b[0;34m()\u001b[0m\n",
            "\u001b[0;31mValueError\u001b[0m: Unable to parse string \"32-14\" at position 4"
          ]
        }
      ]
    },
    {
      "cell_type": "code",
      "metadata": {
        "id": "p4-E7ZSjF1io"
      },
      "source": [
        "# However, you can deal with such errors by ignoring them and replacing them with NaN. To do so\n",
        "# you should set errors='coerce'\n",
        "df[\"house_number\"] = pd.to_numeric(df['house_number'], errors='coerce')"
      ],
      "execution_count": 14,
      "outputs": []
    },
    {
      "cell_type": "code",
      "metadata": {
        "id": "sOiR8cawF1iq",
        "outputId": "7580cf6b-3fb4-4e8f-b838-209b81d026e8",
        "colab": {
          "base_uri": "https://localhost:8080/",
          "height": 168
        }
      },
      "source": [
        "df.isnull().sum()"
      ],
      "execution_count": 15,
      "outputs": [
        {
          "output_type": "execute_result",
          "data": {
            "text/plain": [
              "bin                       0\n",
              "issue_date                0\n",
              "violation_type_code       0\n",
              "house_number           1740\n",
              "device_number          4775\n",
              "number                    0\n",
              "violation_category        0\n",
              "violation_type            0\n",
              "dtype: int64"
            ]
          },
          "metadata": {
            "tags": []
          },
          "execution_count": 15
        }
      ]
    },
    {
      "cell_type": "markdown",
      "metadata": {
        "id": "cWtViCcmF1it"
      },
      "source": [
        "### Dealing with null values\n",
        "There are different ways to deal with null values in a dataset. Here we are going to show you two different cases.\n",
        "\n",
        "1- filling null values with the mean or median value of the column (for numerical features).\n",
        "\n",
        "2- Removing the rows (data samples) with null features.\n"
      ]
    },
    {
      "cell_type": "code",
      "metadata": {
        "id": "bb4vK0fVF1it"
      },
      "source": [
        "# replacing null values in the house_number column with the mean value\n",
        "# note that you can also replace the null values with any other scalar as well\n",
        "df[\"house_number\"].fillna(df[\"house_number\"].mean(), inplace=True)"
      ],
      "execution_count": 16,
      "outputs": []
    },
    {
      "cell_type": "code",
      "metadata": {
        "id": "A_vHXkNrF1iv"
      },
      "source": [
        "# Removing the rows (data samples) with null features\n",
        "df.dropna(axis=0, inplace=True)"
      ],
      "execution_count": 17,
      "outputs": []
    },
    {
      "cell_type": "code",
      "metadata": {
        "id": "bgx3wA-qF1ix",
        "outputId": "a456ada3-015c-4455-bca0-ca0db2cda0e5",
        "colab": {
          "base_uri": "https://localhost:8080/",
          "height": 34
        }
      },
      "source": [
        "# now we have less rows in our dataframe\n",
        "df.shape"
      ],
      "execution_count": 18,
      "outputs": [
        {
          "output_type": "execute_result",
          "data": {
            "text/plain": [
              "(5225, 8)"
            ]
          },
          "metadata": {
            "tags": []
          },
          "execution_count": 18
        }
      ]
    },
    {
      "cell_type": "markdown",
      "metadata": {
        "id": "cpxytVcEF1iz"
      },
      "source": [
        "### Categorical features\n",
        "In pandas there is also a specific data type for categorical features. Categorical features are the ones that only take values from a given set. For instance in this dataset `violation_type_code` is a catgorical feature.\n",
        "\n",
        "You can convert a column to categorical using the method `astype('category')`."
      ]
    },
    {
      "cell_type": "code",
      "metadata": {
        "id": "0mrRLaT1F1iz"
      },
      "source": [
        "df[\"violation_type_code\"] = df[\"violation_type_code\"].astype(\"category\")"
      ],
      "execution_count": 19,
      "outputs": []
    },
    {
      "cell_type": "markdown",
      "metadata": {
        "id": "wwgyL74CF1i1"
      },
      "source": [
        "You can see that now the data type of this column has changed. Also observe that we have 13 categories in the column."
      ]
    },
    {
      "cell_type": "code",
      "metadata": {
        "id": "cmTsaDhFF1i2",
        "outputId": "15ab7111-006d-4d10-8205-83ef1fbe7689",
        "colab": {
          "base_uri": "https://localhost:8080/",
          "height": 235
        }
      },
      "source": [
        "df[\"violation_type_code\"]"
      ],
      "execution_count": 20,
      "outputs": [
        {
          "output_type": "execute_result",
          "data": {
            "text/plain": [
              "0       JVCAT5\n",
              "3         ACC1\n",
              "4            E\n",
              "7       LBLVIO\n",
              "8       EVCAT5\n",
              "         ...  \n",
              "9994    LBLVIO\n",
              "9996    LBLVIO\n",
              "9997    LBLVIO\n",
              "9998    EVCAT1\n",
              "9999    LBLVIO\n",
              "Name: violation_type_code, Length: 5225, dtype: category\n",
              "Categories (13, object): [ACC1, ACH1, ACJ1, E, ..., HVIOS, JVCAT5, JVIOS, LBLVIO]"
            ]
          },
          "metadata": {
            "tags": []
          },
          "execution_count": 20
        }
      ]
    },
    {
      "cell_type": "markdown",
      "metadata": {
        "id": "lQhH5-jvF1i4"
      },
      "source": [
        "### Change a column name\n",
        "\n",
        "You can change columns names easily in pandas. To do so, use the `rename` method and pass the changed names as a dictionary."
      ]
    },
    {
      "cell_type": "code",
      "metadata": {
        "id": "3pA1sXVoF1i4"
      },
      "source": [
        "df.rename(columns = {\"issue_date\": \"date\"}, inplace=True)"
      ],
      "execution_count": 21,
      "outputs": []
    },
    {
      "cell_type": "code",
      "metadata": {
        "id": "L8IGoVEmF1i8",
        "outputId": "97f1fa29-9bb6-4270-8c7b-ad6ae3d995b1",
        "colab": {
          "base_uri": "https://localhost:8080/",
          "height": 195
        }
      },
      "source": [
        "df.head()"
      ],
      "execution_count": 22,
      "outputs": [
        {
          "output_type": "execute_result",
          "data": {
            "text/html": [
              "<div>\n",
              "<style scoped>\n",
              "    .dataframe tbody tr th:only-of-type {\n",
              "        vertical-align: middle;\n",
              "    }\n",
              "\n",
              "    .dataframe tbody tr th {\n",
              "        vertical-align: top;\n",
              "    }\n",
              "\n",
              "    .dataframe thead th {\n",
              "        text-align: right;\n",
              "    }\n",
              "</style>\n",
              "<table border=\"1\" class=\"dataframe\">\n",
              "  <thead>\n",
              "    <tr style=\"text-align: right;\">\n",
              "      <th></th>\n",
              "      <th>bin</th>\n",
              "      <th>date</th>\n",
              "      <th>violation_type_code</th>\n",
              "      <th>house_number</th>\n",
              "      <th>device_number</th>\n",
              "      <th>number</th>\n",
              "      <th>violation_category</th>\n",
              "      <th>violation_type</th>\n",
              "    </tr>\n",
              "  </thead>\n",
              "  <tbody>\n",
              "    <tr>\n",
              "      <th>0</th>\n",
              "      <td>3059563</td>\n",
              "      <td>1970-01-01 00:00:00.020190520</td>\n",
              "      <td>JVCAT5</td>\n",
              "      <td>441.000000</td>\n",
              "      <td>3P10799</td>\n",
              "      <td>V052019JVCAT500339</td>\n",
              "      <td>V-DOB VIOLATION - ACTIVE</td>\n",
              "      <td>JVCAT5-RESIDENTIAL ELEVATOR PERIODIC INSPECTIO...</td>\n",
              "    </tr>\n",
              "    <tr>\n",
              "      <th>3</th>\n",
              "      <td>1001389</td>\n",
              "      <td>1970-01-01 00:00:00.020190906</td>\n",
              "      <td>ACC1</td>\n",
              "      <td>375.000000</td>\n",
              "      <td>1F5381</td>\n",
              "      <td>V090619ACC100284</td>\n",
              "      <td>V-DOB VIOLATION - ACTIVE</td>\n",
              "      <td>ACC1-(OTHER BLDGS TYPES) - ELEVATOR AFFIRMATIO...</td>\n",
              "    </tr>\n",
              "    <tr>\n",
              "      <th>4</th>\n",
              "      <td>4003105</td>\n",
              "      <td>1970-01-01 00:00:00.020190107</td>\n",
              "      <td>E</td>\n",
              "      <td>909.948063</td>\n",
              "      <td>4P1563</td>\n",
              "      <td>V*010719E9028/643438</td>\n",
              "      <td>V*-DOB VIOLATION - Resolved</td>\n",
              "      <td>E-ELEVATOR</td>\n",
              "    </tr>\n",
              "    <tr>\n",
              "      <th>7</th>\n",
              "      <td>2087228</td>\n",
              "      <td>1970-01-01 00:00:00.020191108</td>\n",
              "      <td>LBLVIO</td>\n",
              "      <td>2301.000000</td>\n",
              "      <td>00100798</td>\n",
              "      <td>V110819LBLVIO04949</td>\n",
              "      <td>V-DOB VIOLATION - ACTIVE</td>\n",
              "      <td>LBLVIO-LOW PRESSURE BOILER</td>\n",
              "    </tr>\n",
              "    <tr>\n",
              "      <th>8</th>\n",
              "      <td>5106523</td>\n",
              "      <td>1970-01-01 00:00:00.020190520</td>\n",
              "      <td>EVCAT5</td>\n",
              "      <td>355.000000</td>\n",
              "      <td>5P470</td>\n",
              "      <td>V052019EVCAT500505</td>\n",
              "      <td>V-DOB VIOLATION - ACTIVE</td>\n",
              "      <td>EVCAT5-NON-RESIDENTIAL ELEVATOR PERIODIC INSPE...</td>\n",
              "    </tr>\n",
              "  </tbody>\n",
              "</table>\n",
              "</div>"
            ],
            "text/plain": [
              "       bin  ...                                     violation_type\n",
              "0  3059563  ...  JVCAT5-RESIDENTIAL ELEVATOR PERIODIC INSPECTIO...\n",
              "3  1001389  ...  ACC1-(OTHER BLDGS TYPES) - ELEVATOR AFFIRMATIO...\n",
              "4  4003105  ...                                         E-ELEVATOR\n",
              "7  2087228  ...                         LBLVIO-LOW PRESSURE BOILER\n",
              "8  5106523  ...  EVCAT5-NON-RESIDENTIAL ELEVATOR PERIODIC INSPE...\n",
              "\n",
              "[5 rows x 8 columns]"
            ]
          },
          "metadata": {
            "tags": []
          },
          "execution_count": 22
        }
      ]
    },
    {
      "cell_type": "code",
      "metadata": {
        "id": "iHS7kq32F1i_",
        "outputId": "2d63e3f8-69b8-4caa-d790-a9e14f5b9011",
        "colab": {
          "base_uri": "https://localhost:8080/",
          "height": 168
        }
      },
      "source": [
        "df.dtypes"
      ],
      "execution_count": 23,
      "outputs": [
        {
          "output_type": "execute_result",
          "data": {
            "text/plain": [
              "bin                             int64\n",
              "date                   datetime64[ns]\n",
              "violation_type_code          category\n",
              "house_number                  float64\n",
              "device_number                  object\n",
              "number                         object\n",
              "violation_category             object\n",
              "violation_type                 object\n",
              "dtype: object"
            ]
          },
          "metadata": {
            "tags": []
          },
          "execution_count": 23
        }
      ]
    },
    {
      "cell_type": "code",
      "metadata": {
        "id": "eqLRUv6UF1jC"
      },
      "source": [
        ""
      ],
      "execution_count": null,
      "outputs": []
    }
  ]
}