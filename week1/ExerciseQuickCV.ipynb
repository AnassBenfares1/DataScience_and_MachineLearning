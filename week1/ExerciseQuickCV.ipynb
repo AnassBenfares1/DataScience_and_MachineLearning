{
  "nbformat": 4,
  "nbformat_minor": 0,
  "metadata": {
    "colab": {
      "name": "ExperciseQuickCV.ipynb",
      "provenance": [],
      "collapsed_sections": []
    },
    "kernelspec": {
      "name": "python3",
      "display_name": "Python 3"
    },
    "language_info": {
      "name": "python"
    }
  },
  "cells": [
    {
      "cell_type": "markdown",
      "metadata": {
        "id": "cP9kRA4MCXb1"
      },
      "source": [
        "<a href=\"https://colab.research.google.com/github/michalis0/DataMining_and_MachineLearning/blob/master/week1/ExerciseQuickCV.ipynb\" target=\"_parent\"><img src=\"https://colab.research.google.com/assets/colab-badge.svg\" alt=\"Open In Colab\"/></a>"
      ]
    },
    {
      "cell_type": "markdown",
      "metadata": {
        "id": "A1yrOIxqQC1Y"
      },
      "source": [
        "# Exercise: Build a quick CV in markdown"
      ]
    },
    {
      "cell_type": "markdown",
      "metadata": {
        "id": "cLTtKQgdQNGi"
      },
      "source": [
        "# Diana Korka\n",
        "\n",
        "![images](https://upload.wikimedia.org/wikipedia/commons/thumb/6/6b/Lightblue_-_replace_this_image_female.svg/64px-Lightblue_-_replace_this_image_female.svg.png)\n",
        "\n",
        "<a href=\"mailto:diana.korka@unil.ch\" target=\"_blank\"><p id=\"email\">diana.korka@unil.ch</p></a>\n",
        "\n",
        "\n",
        "## Experience\n",
        "\n",
        "* Teaching assistant Data Mining and Machine Learning class, UNIL HEC\n",
        "---\n",
        "\n",
        "## Education\n",
        "\n",
        "* [MSc Information Systems, UNIL HEC, Lausanne](https://www.unil.ch/formations/en/home/menuinst/masters/systemes-dinformation.html)\n",
        "\n",
        "* [Applied Data Science: Machine Learning, EPFL Extension School](https://www.extensionschool.ch/applied-data-science-machine-learning)\n",
        "\n",
        "* [Certificate of Adavanced Studies in Developing E-learning Projects, UNIGE, Genève](https://www.unige.ch/formcont/cours/e-learning)\n",
        "\n",
        "---\n",
        "## Favourite recent projects\n",
        "\n",
        "| |\n",
        "|---|\n",
        " | Implementing a Mediation Chatbot to Reduce Multiparty Privacy Conflicts|\n",
        " | Disaser Tweets: Using Natural Language Processing to Predict if a Tweet is about a Real Natural Disaster|\n",
        " | First User Experience Study of the UNIL Campus App|\n",
        " | A Digital Innovation Project at Opéra Orchestre National de Montpellier: Hybrid Opera Festival|\n",
        " | Adapting the UNIL Tandem Project for Enterprises: a C2C Solution|\n",
        "\n",
        "---\n",
        "\n",
        "## Skills\n",
        "\n",
        "* Computer\n",
        "    * Programming: R, Python\n",
        "* Languages\n",
        "    * English, French, Spanish, Romanian and German \n",
        "---\n",
        "## Hobbies\n",
        "\n",
        "1. Hiking\n",
        "2. Dancing Lindy Hop\n",
        "3. Improvisation\n",
        "4. Singing\n",
        "5. The color run\n",
        "6. And many more....\n",
        "\n",
        "---\n",
        "## A funny video to share\n",
        "\n"
      ]
    },
    {
      "cell_type": "code",
      "metadata": {
        "colab": {
          "base_uri": "https://localhost:8080/",
          "height": 321
        },
        "id": "9jH6VNObP1BX",
        "outputId": "22b4c28a-62ba-4033-f347-fd31bc232d4a"
      },
      "source": [
        "from IPython.lib.display import YouTubeVideo\n",
        "YouTubeVideo('Sl7r1K3jj28')"
      ],
      "execution_count": 1,
      "outputs": [
        {
          "output_type": "execute_result",
          "data": {
            "text/html": [
              "\n",
              "        <iframe\n",
              "            width=\"400\"\n",
              "            height=\"300\"\n",
              "            src=\"https://www.youtube.com/embed/Sl7r1K3jj28\"\n",
              "            frameborder=\"0\"\n",
              "            allowfullscreen\n",
              "        ></iframe>\n",
              "        "
            ],
            "text/plain": [
              "<IPython.lib.display.YouTubeVideo at 0x7f53d7301810>"
            ],
            "image/jpeg": "[encoded data removed]"
          },
          "metadata": {},
          "execution_count": 1
        }
      ]
    },
    {
      "cell_type": "markdown",
      "metadata": {
        "id": "PqeYKkVqFh9J"
      },
      "source": [
        "> Note: You can also publish it with GitHub Pages by following the step by step instructions available at this link: https://workwithcarolyn.com/blog/digital-cv-guide."
      ]
    }
  ]
}