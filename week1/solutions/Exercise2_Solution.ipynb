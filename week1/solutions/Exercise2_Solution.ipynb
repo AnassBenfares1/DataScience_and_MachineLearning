{
  "nbformat": 4,
  "nbformat_minor": 0,
  "metadata": {
    "colab": {
      "name": "Exercise 2",
      "provenance": [],
      "collapsed_sections": []
    },
    "kernelspec": {
      "name": "python3",
      "display_name": "Python 3"
    }
  },
  "cells": [
    {
      "cell_type": "markdown",
      "metadata": {
        "id": "NjyHHJdSk2sV",
        "colab_type": "text"
      },
      "source": [
        "![Tesla Logo](https://upload.wikimedia.org/wikipedia/commons/b/bd/Tesla_Motors.svg)\n",
        "\n",
        "# Tesla, Inc. (TSLA)\n",
        "\n",
        "## About\n",
        "\n",
        "Tesla, Inc. (formerly Tesla Motors, Inc.), is an American electric vehicle and clean energy company based in Palo Alto, California. The company specializes in electric vehicle manufacturing, battery energy storage from home to grid scale and, through its acquisition of [SolarCity](https://en.wikipedia.org/wiki/SolarCity), solar panel and solar roof tile manufacturing.\n",
        "\n",
        "Tesla has released the following models:\n",
        "\n",
        "- MODEL S\n",
        "- MODEL 3\n",
        "- MODEL X\n",
        "- MODEL Y\n"
      ]
    },
    {
      "cell_type": "markdown",
      "metadata": {
        "id": "gXcbHoU5ljcH",
        "colab_type": "text"
      },
      "source": [
        "## News\n",
        "\n",
        "- Lessons from Tesla's approach to innovation (read [article](https://hbr.org/2020/02/lessons-from-teslas-approach-to-innovation))\n",
        "\n",
        "- Tesla recently released the specs of its [Cybertrack](https://www.tesla.com/en_gb/cybertruck)\n"
      ]
    },
    {
      "cell_type": "markdown",
      "metadata": {
        "id": "KVSgWAFJlGGA",
        "colab_type": "text"
      },
      "source": [
        "## Key Executives\n",
        "\n",
        "\n",
        "Name |\tTitle\t| Pay\t| Exercised\t| Year | Born |\n",
        "---- | ----- | ---- | ----- | ---- | ---- | \n",
        "Mr. Elon R. Musk\t| Founder, CEO & Director | \t56.38k| \tN/A\t| 1972| \n",
        "Mr. Jeffrey B. Straubel\t|  Sr. Advisor\t|  250.56k\t| 9.41M\t| 1976 | \n",
        "Mr. Jerome Guillen\t|  Pres of Automotive Division\t| 301.15k\t| 1.63M\t| 1973 | \n",
        "Mr. Zachary Kirkhorn |  \tChief Financial Officer\t| N/A\t| N/A\t| 1985 | \n",
        "Mr. Vaibhav Taneja\t| Corp. Controller & Chief Accounting Officer\t| N/A\t| N/A\t| 1978 | \n"
      ]
    },
    {
      "cell_type": "markdown",
      "metadata": {
        "id": "clskrdA9q1jJ",
        "colab_type": "text"
      },
      "source": [
        "## Videos\n",
        "\n",
        "Before you can find a video from a *recent event*."
      ]
    },
    {
      "cell_type": "code",
      "metadata": {
        "id": "dNk1fug5q6Pn",
        "colab_type": "code",
        "colab": {
          "base_uri": "https://localhost:8080/",
          "height": 366
        },
        "outputId": "fd551297-da90-48b3-b54a-9940d9891db2"
      },
      "source": [
        "%%HTML\n",
        "<iframe width=\"560\" height=\"340\" src=\"https://www.youtube.com/embed/m7atGkba-Z8\"></iframe>"
      ],
      "execution_count": 1,
      "outputs": [
        {
          "output_type": "display_data",
          "data": {
            "text/html": [
              "<iframe width=\"560\" height=\"340\" src=\"https://www.youtube.com/embed/m7atGkba-Z8\"></iframe>"
            ],
            "text/plain": [
              "<IPython.core.display.HTML object>"
            ]
          },
          "metadata": {
            "tags": []
          }
        }
      ]
    },
    {
      "cell_type": "code",
      "metadata": {
        "id": "QUTxID1EsPOg",
        "colab_type": "code",
        "colab": {}
      },
      "source": [
        ""
      ],
      "execution_count": 0,
      "outputs": []
    }
  ]
}