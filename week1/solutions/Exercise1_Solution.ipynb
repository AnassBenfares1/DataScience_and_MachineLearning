{
  "nbformat": 4,
  "nbformat_minor": 0,
  "metadata": {
    "kernelspec": {
      "display_name": "Python 3",
      "language": "python",
      "name": "python3"
    },
    "language_info": {
      "codemirror_mode": {
        "name": "ipython",
        "version": 3
      },
      "file_extension": ".py",
      "mimetype": "text/x-python",
      "name": "python",
      "nbconvert_exporter": "python",
      "pygments_lexer": "ipython3",
      "version": "3.7.3"
    },
    "colab": {
      "name": "Exercise1 Solution.ipynb",
      "provenance": []
    }
  },
  "cells": [
    {
      "cell_type": "markdown",
      "metadata": {
        "id": "7UyfwxcEaydh",
        "colab_type": "text"
      },
      "source": [
        "# Exercise: Some simple Statistics tasks\n",
        "\n",
        "**Table of Contents**\n",
        "\n",
        "1. Arithmetic Mean\n",
        "2. Mean Squared Error\n",
        "\n",
        "    A. Bias of an estimator <br>\n",
        "    B. Variance of an estimator"
      ]
    },
    {
      "cell_type": "markdown",
      "metadata": {
        "id": "WmCOX_YHaydj",
        "colab_type": "text"
      },
      "source": [
        "## 1. The Arithmetic Mean"
      ]
    },
    {
      "cell_type": "markdown",
      "metadata": {
        "id": "kVBpkruxaydl",
        "colab_type": "text"
      },
      "source": [
        "$$ Mean(x) = \\sum_{i=1}^{n} x_i$$"
      ]
    },
    {
      "cell_type": "markdown",
      "metadata": {
        "id": "VzQNTfZIaydn",
        "colab_type": "text"
      },
      "source": [
        "Embedded a formatted code block:\n",
        "    \n",
        "```python\n",
        "x=[1,3,9,4]\n",
        "x_bar=1/4*sum(x)\n",
        "```"
      ]
    },
    {
      "cell_type": "code",
      "metadata": {
        "id": "xp0ACeJzaydp",
        "colab_type": "code",
        "outputId": "1a21eec1-27be-46bb-c714-205f22a310e5",
        "colab": {
          "base_uri": "https://localhost:8080/",
          "height": 32
        }
      },
      "source": [
        "# actual python calculation\n",
        "x=[1,3,9,4]\n",
        "x_bar=1/len(x)*sum(x)\n",
        "x_bar"
      ],
      "execution_count": 0,
      "outputs": [
        {
          "output_type": "execute_result",
          "data": {
            "text/plain": [
              "4.25"
            ]
          },
          "metadata": {
            "tags": []
          },
          "execution_count": 2
        }
      ]
    },
    {
      "cell_type": "markdown",
      "metadata": {
        "id": "w0sY4AKIaydu",
        "colab_type": "text"
      },
      "source": [
        "## 2. Mean Squared Error\n",
        "\n",
        "$$ MSE(x) = bias^2(x) + var^2(x) $$\n",
        "\n",
        "For further information see [http://www.statisticshowto.com/mean-squared-error](http://www.statisticshowto.com/mean-squared-error)"
      ]
    }
  ]
}