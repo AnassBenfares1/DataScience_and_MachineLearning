{
  "cells": [
    {
      "cell_type": "markdown",
      "metadata": {},
      "source": [
        "<a href=\"https://colab.research.google.com/github/michalis0/DataScience_and_MachineLearning/blob/master/Assignements/Part%202/Assignment_part_two.ipynb\" target=\"_parent\"><img src=\"https://colab.research.google.com/assets/colab-badge.svg\" alt=\"Open In Colab\"/></a>"
      ]
    },
    {
      "cell_type": "markdown",
      "metadata": {
        "id": "kZu-7QbP9muh"
      },
      "source": [
        "DSML investigation:\n",
        "\n",
        "You are part of the Suisse Impossible Mission Force, or SIMF for short. You need to uncover a rogue agent that is trying to steal sensitive information.\n",
        "\n",
        "Your mission, should you choose to accept it, is to find that agent before stealing any classified information. Good luck!"
      ]
    },
    {
      "cell_type": "markdown",
      "metadata": {
        "id": "DyL7WNdV9sWV"
      },
      "source": [
        "# Assignement part two\n",
        "\n",
        "We received new intelligence about the rogue agent which lets us discover his age.\n",
        "Use the table \"social_media_SIMF_archive.csv\" to create a model that predicts the age of a person. Use this model to predict the ages of the table of suspects \"suspect_social_media_statistics.csv\".\n",
        "\n",
        "Retain only the list of suspects whose age is between 25-35.\n",
        "\n",
        "\n",
        "##Getting to know our data\n",
        "\n",
        "- userId: Unique number given to each user.\n",
        "\n",
        "- tier: Tier of the city in which the user is residing.\n",
        "\n",
        "- gender: Categorical feature representing the gender of the user. 1 represents male and 2 represents female.\n",
        "\n",
        "- following_rate: Number of accounts followed by the user(feature is normalized)\n",
        "\n",
        "- followers_avg_age: Average of age groups of all the followers of the user.\n",
        "\n",
        "- following_avg_age: Average of age groups of all the accounts followed by the user.\n",
        "\n",
        "- max_repetitive_punc: Maximum repititive punctuations found in the bio and comments of the user.\n",
        "\n",
        "- num_of_hashtags_per_action: Average nubmer of hashtags used by the user per comment.\n",
        "\n",
        "- emoji_count_per_action: Average number of emojis used by the user per comment\n",
        "\n",
        "- punctuations_per_action: Average number of punctuations used by the user per comment.\n",
        "\n",
        "- number_of_words_per_action: Average number of words used by the user per comment.\n",
        "\n",
        "- avgCompletion: Average watch time completion rate of the videos.\n",
        "\n",
        "- avgTimeSpent: Average time spent by the user on a video in seconds.\n",
        "\n",
        "- avgDuration: Average duration of the videos that the user has watched till date.\n",
        "\n",
        "- avgComments: Average number of comments per video watched.\n",
        "\n",
        "- creations: Total number of videos uploaded by the user.\n",
        "\n",
        "- content_views: Total number of videos watched.\n",
        "\n",
        "- num_of_comments: Total number of comments made by the user (normalized)\n",
        "\n",
        "- weekends_trails_watched_per_day: Number of videos watched on weekends per day.\n",
        "\n",
        "- weekdays_trails_watched_per_day: Number of videos watched on weekdays per day.\n",
        "\n",
        "- slot1_trails_watched_per_day: The day is divided into 4 slots. This feature represents the average number of videos watched in this particular time slot.\n",
        "\n",
        "- slot2_trails_watched_per_day: The day is divided into 4 slots. This feature represents the average number of videos watched in this particular time slot.\n",
        "\n",
        "- slot3_trails_watched_per_day: The day is divided into 4 slots. This feature represents the average number of videos watched in this particular time slot.\n",
        "\n",
        "- slot4_trails_watched_per_day: data\n",
        "\n",
        "- avgt2: Average number of followers of all the accounts followed by the user.\n",
        "\n",
        "- age : The age of the user\n"
      ]
    },
    {
      "cell_type": "code",
      "execution_count": 3,
      "metadata": {
        "id": "XHhI95r5-tyD"
      },
      "outputs": [],
      "source": [
        "import pandas as pd\n",
        "import numpy as np\n",
        "import matplotlib.pyplot as plt\n",
        "train_dataset = pd.read_csv(\"https://raw.githubusercontent.com/michalis0/DataScience_and_MachineLearning/master/Assignements/Part%202/social_media_SIMF_archive.csv\")\n",
        "suspects = pd.read_csv(\"https://raw.githubusercontent.com/michalis0/DataScience_and_MachineLearning/master/Assignements/Part%202/suspects_social_media.csv\")"
      ]
    },
    {
      "cell_type": "markdown",
      "metadata": {
        "id": "igq5I7pOm0SW"
      },
      "source": [
        "### Training a model\n",
        "Select the features which by convention are called X. We will also choose the target variable which we typically call y.\n",
        "\n",
        "You can use the features 'tier', 'gender', 'following_rate', 'followers_avg_age', 'following_avg_age', 'max_repetitive_punc', 'num_of_hashtags_per_action', 'emoji_count_per_action', 'punctuations_per_action', 'number_of_words_per_action', 'avgCompletion', 'avgTimeSpent', 'avgDuration', 'avgComments', 'creations', 'content_views', 'num_of_comments', 'weekends_trails_watched_per_day', 'weekdays_trails_watched_per_day', 'slot1_trails_watched_per_day', 'slot2_trails_watched_per_day', 'slot3_trails_watched_per_day', 'slot4_trails_watched_per_day', 'avgt2'"
      ]
    },
    {
      "cell_type": "code",
      "execution_count": null,
      "metadata": {
        "id": "LV87NptOASo6"
      },
      "outputs": [],
      "source": [
        "feature_names = ['tier', 'gender', 'following_rate', 'followers_avg_age', 'following_avg_age', 'max_repetitive_punc', 'num_of_hashtags_per_action', 'emoji_count_per_action', 'punctuations_per_action', 'number_of_words_per_action', 'avgCompletion', 'avgTimeSpent', 'avgDuration', 'avgComments', 'creations', 'content_views', 'num_of_comments', 'weekends_trails_watched_per_day', 'weekdays_trails_watched_per_day', 'slot1_trails_watched_per_day', 'slot2_trails_watched_per_day', 'slot3_trails_watched_per_day', 'slot4_trails_watched_per_day', 'avgt2']\n",
        "#Your code here\n",
        "\n"
      ]
    },
    {
      "cell_type": "markdown",
      "metadata": {
        "id": "ga14a0xrnrw3"
      },
      "source": [
        "Now, do the test-trainsplit, using as train 80% of the data and random state 42"
      ]
    },
    {
      "cell_type": "code",
      "execution_count": null,
      "metadata": {
        "id": "NTmLyknynsHL"
      },
      "outputs": [],
      "source": [
        "#Your code here\n",
        "\n"
      ]
    },
    {
      "cell_type": "markdown",
      "metadata": {
        "id": "VkU6RDHx2w8P"
      },
      "source": [
        "#Here we could add one hot encoding, what do you think ?"
      ]
    },
    {
      "cell_type": "markdown",
      "metadata": {
        "id": "d4iM8tnqoEG1"
      },
      "source": [
        "##Linear regression\n",
        "Now, create the linear model. Train it with the train set and use the model to make predictions on the test set. Which accuracy do you achieve on the test set?"
      ]
    },
    {
      "cell_type": "code",
      "execution_count": 8,
      "metadata": {
        "colab": {
          "base_uri": "https://localhost:8080/",
          "height": 74
        },
        "id": "LH22xpzvoGIL",
        "outputId": "4c43b37f-a1aa-4a5b-881b-19715b890165"
      },
      "outputs": [],
      "source": [
        "# do the right imports\n",
        "from sklearn.linear_model import LinearRegression\n",
        "\n",
        "# create the model\n",
        "\n",
        "\n",
        "# Fit the model\n"
      ]
    },
    {
      "cell_type": "markdown",
      "metadata": {
        "id": "4aqtJfHZoWN7"
      },
      "source": [
        "and we do the predictions on the test set:"
      ]
    },
    {
      "cell_type": "code",
      "execution_count": null,
      "metadata": {
        "id": "6dDFgWMWoVd3"
      },
      "outputs": [],
      "source": [
        "#Your code here\n",
        "\n"
      ]
    },
    {
      "cell_type": "markdown",
      "metadata": {
        "id": "EwY8bTivocZy"
      },
      "source": [
        "What are the model's $MAE$ and $R^2$ ?"
      ]
    },
    {
      "cell_type": "code",
      "execution_count": 4,
      "metadata": {
        "colab": {
          "base_uri": "https://localhost:8080/"
        },
        "id": "pXqBOWBFodLz",
        "outputId": "72d7769c-a4dd-4238-df76-665601f7d3bf"
      },
      "outputs": [],
      "source": [
        "#Your code here\n",
        "\n"
      ]
    },
    {
      "cell_type": "markdown",
      "metadata": {
        "id": "5V2TxysooxZ1"
      },
      "source": [
        "## Retraining on the full dataset\n",
        "\n",
        "Before predicting the age of the suspects, retrain the model on the full training dataset to ensure the greater results.\n",
        "\n",
        "You can reuse the same features as before, but make sure those are also available on the suspects dataset."
      ]
    },
    {
      "cell_type": "code",
      "execution_count": null,
      "metadata": {
        "colab": {
          "base_uri": "https://localhost:8080/"
        },
        "id": "Xk56_79h4aEW",
        "outputId": "188d161c-945f-4bea-9bd0-54a47c9c9c05"
      },
      "outputs": [],
      "source": [
        "#Your code here\n",
        "\n"
      ]
    },
    {
      "cell_type": "code",
      "execution_count": 5,
      "metadata": {
        "colab": {
          "base_uri": "https://localhost:8080/",
          "height": 74
        },
        "id": "pmhdhMldqEFU",
        "outputId": "b682c12d-8c4c-433c-b0d1-80c7deefaf6c"
      },
      "outputs": [],
      "source": [
        "# create the new model\n",
        "\n",
        "\n",
        "# Fit the new model\n"
      ]
    },
    {
      "cell_type": "code",
      "execution_count": null,
      "metadata": {
        "id": "WH1c8fHLqnt1"
      },
      "outputs": [],
      "source": [
        "# Make the predictions"
      ]
    },
    {
      "cell_type": "markdown",
      "metadata": {
        "id": "1hdejQOyvpnh"
      },
      "source": [
        "## Which suspects remain after identifying users between 25 and 35 years old ?"
      ]
    },
    {
      "cell_type": "code",
      "execution_count": 6,
      "metadata": {
        "colab": {
          "base_uri": "https://localhost:8080/"
        },
        "id": "tWOtRrIrv37W",
        "outputId": "75398e67-6a51-45d1-b90a-72d064afbb25"
      },
      "outputs": [],
      "source": [
        "#Your code here\n",
        "\n"
      ]
    }
  ],
  "metadata": {
    "colab": {
      "provenance": []
    },
    "kernelspec": {
      "display_name": "Python 3",
      "name": "python3"
    },
    "language_info": {
      "codemirror_mode": {
        "name": "ipython",
        "version": 3
      },
      "file_extension": ".py",
      "mimetype": "text/x-python",
      "name": "python",
      "nbconvert_exporter": "python",
      "pygments_lexer": "ipython3",
      "version": "3.9.6"
    }
  },
  "nbformat": 4,
  "nbformat_minor": 0
}
