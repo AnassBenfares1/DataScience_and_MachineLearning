{
  "nbformat": 4,
  "nbformat_minor": 0,
  "metadata": {
    "colab": {
      "provenance": [],
      "include_colab_link": true
    },
    "kernelspec": {
      "name": "python3",
      "display_name": "Python 3"
    },
    "language_info": {
      "name": "python"
    }
  },
  "cells": [
    {
      "cell_type": "markdown",
      "metadata": {
        "id": "view-in-github",
        "colab_type": "text"
      },
      "source": [
        "<a href=\"https://colab.research.google.com/github/Stergios-Konstantinidis/dsml/blob/main/Copy_of_Assignment_part_one.ipynb\" target=\"_parent\"><img src=\"https://colab.research.google.com/assets/colab-badge.svg\" alt=\"Open In Colab\"/></a>"
      ]
    },
    {
      "cell_type": "markdown",
      "source": [
        "#DSML investigation:\n",
        "### You are part of the Suisse Impossible Mission Force, or SIMF for short. You need to uncover a rogue agent that is trying to steal sensitive information.\n",
        "\n",
        "### Your mission, should you choose to accept it, is to find that agent before stealing any classified information. Good luck!\n"
      ],
      "metadata": {
        "id": "yrXLb3bx4cfD"
      }
    },
    {
      "cell_type": "markdown",
      "source": [
        "# Assignment part one\n",
        "\n",
        "We have retrieved from the laptop of a spy agent some documents. Our intelligence shows that the person that we are looking for has visited countries X and Y, was in USA between Sept 2019 to Oct 2020. He is currently working undercover.\n",
        "\n",
        "\n",
        "##Getting to know our data\n",
        "\n",
        "We have retrieved from the laptop the following file:\n",
        "- A list of suspects\n",
        "- The flight records of these potential suspects\n",
        "\n"
      ],
      "metadata": {
        "id": "4bVDcyJHHFjh"
      }
    },
    {
      "cell_type": "code",
      "source": [
        "import pandas as pd\n",
        "import numpy as np\n",
        "import matplotlib.pyplot as plt\n",
        "userRecords = pd.read_csv(\"userRecords.csv\")\n",
        "travelRecords = pd.read_csv(\"flightRecords.csv\")\n"
      ],
      "metadata": {
        "id": "abwjDTZRHvzn"
      },
      "execution_count": null,
      "outputs": []
    },
    {
      "cell_type": "markdown",
      "source": [
        "#### Shape of the data\n",
        "\n",
        "Let's first check how many rows and columns (features) are in the user records"
      ],
      "metadata": {
        "id": "Fl_HmWwtIBDJ"
      }
    },
    {
      "cell_type": "code",
      "source": [
        "#Your code here\n",
        "\n"
      ],
      "metadata": {
        "id": "uICj1b0GIEKG"
      },
      "execution_count": null,
      "outputs": []
    },
    {
      "cell_type": "markdown",
      "source": [
        "\n",
        "#### Check out the first few rows\n",
        "To protect innocent people, the name of the suspects have been censored, those will be revealed once number of potential suspects decreases.\n"
      ],
      "metadata": {
        "id": "JT6l8O-2ISqh"
      }
    },
    {
      "cell_type": "code",
      "source": [
        "#Your code here\n",
        "\n"
      ],
      "metadata": {
        "id": "xce5aB8SIOeu"
      },
      "execution_count": null,
      "outputs": []
    },
    {
      "cell_type": "markdown",
      "source": [
        "#### List the column/feature names"
      ],
      "metadata": {
        "id": "3TgOsG-pI8Yo"
      }
    },
    {
      "cell_type": "code",
      "source": [
        "#Your code here\n",
        "\n"
      ],
      "metadata": {
        "id": "KPRr2ogtI-3B"
      },
      "execution_count": null,
      "outputs": []
    },
    {
      "cell_type": "markdown",
      "source": [
        "#### Duplicates\n",
        "You can check if there are duplicates in the dataset."
      ],
      "metadata": {
        "id": "e1XYn9tvJHbL"
      }
    },
    {
      "cell_type": "code",
      "source": [
        "#Your code here\n",
        "\n"
      ],
      "metadata": {
        "id": "Ve6cJ5hbJIrQ"
      },
      "execution_count": null,
      "outputs": []
    },
    {
      "cell_type": "markdown",
      "source": [
        "Show the duplicated rows if any:"
      ],
      "metadata": {
        "id": "tebuO3lxJP-_"
      }
    },
    {
      "cell_type": "code",
      "source": [
        "#Your code here\n",
        "\n"
      ],
      "metadata": {
        "id": "5UPbuQn5JQnQ"
      },
      "execution_count": null,
      "outputs": []
    },
    {
      "cell_type": "markdown",
      "source": [
        "Drop the duplicate entries if any"
      ],
      "metadata": {
        "id": "AdTka1hDgpUB"
      }
    },
    {
      "cell_type": "code",
      "source": [
        "#Your code here\n",
        "\n"
      ],
      "metadata": {
        "id": "Jp9ndUSZgtSj"
      },
      "execution_count": null,
      "outputs": []
    },
    {
      "cell_type": "markdown",
      "source": [
        "## Spies often use false identities with fabricated data.\n",
        "\n",
        "####This means that if some fields are appearing a statistically unusual amount of times, they may be fabricated\n",
        "\n",
        "In this part we are going to verify if there are birthdates that have been reused an unusual amount of times"
      ],
      "metadata": {
        "id": "pLJGJqwPT8B9"
      }
    },
    {
      "cell_type": "markdown",
      "source": [
        "Lets first ensure that the birthday column has the correct format:\n"
      ],
      "metadata": {
        "id": "Qm2RR5j8Ky-t"
      }
    },
    {
      "cell_type": "code",
      "source": [
        "#Check the data type of each feature\n",
        "#Your code here\n",
        "\n"
      ],
      "metadata": {
        "id": "KJ1-Bk2XULlt"
      },
      "execution_count": null,
      "outputs": []
    },
    {
      "cell_type": "markdown",
      "source": [
        "Convert the culumn \"birthday\" to datetime if necessary"
      ],
      "metadata": {
        "id": "m1Bf_f-9qYTa"
      }
    },
    {
      "cell_type": "code",
      "source": [
        "#Your code here\n",
        "\n",
        "\n"
      ],
      "metadata": {
        "id": "3hmp9zVZK8fY"
      },
      "execution_count": null,
      "outputs": []
    },
    {
      "cell_type": "markdown",
      "source": [
        "Find the list of birthdays that are duplicated/reused in the dataset"
      ],
      "metadata": {
        "id": "ZtNDR-qOzFfQ"
      }
    },
    {
      "cell_type": "code",
      "source": [
        "#Your code here\n",
        "\n"
      ],
      "metadata": {
        "id": "R7xDb_JPyD0x"
      },
      "execution_count": null,
      "outputs": []
    },
    {
      "cell_type": "markdown",
      "source": [
        "Let's count how many people have their birthday on the same day among the duplicated birthdays."
      ],
      "metadata": {
        "id": "FdIP5xyv2Qfs"
      }
    },
    {
      "cell_type": "code",
      "source": [
        "#Your code here\n",
        "\n"
      ],
      "metadata": {
        "id": "JDXzbAGPzVXy"
      },
      "execution_count": null,
      "outputs": []
    },
    {
      "cell_type": "markdown",
      "source": [
        "We can consider that there is no suspicious descrepancy through birthdays.\n"
      ],
      "metadata": {
        "id": "8hVJ7zM4RZk4"
      }
    },
    {
      "cell_type": "markdown",
      "source": [
        "##We have reason to believe that the spy from whom we took the laptop suspected some people more than others and collected additionnal data about them.\n",
        "\n",
        "By consequence we can exclude from the list of suspects the users with incomplete informations."
      ],
      "metadata": {
        "id": "-Akjuv9hBsPg"
      }
    },
    {
      "cell_type": "markdown",
      "source": [
        "You can call `isnull()` and `sum()` to get a count of how many null values are there in each column."
      ],
      "metadata": {
        "id": "OH0Rp5xb3OH9"
      }
    },
    {
      "cell_type": "code",
      "source": [
        "#Your code here\n",
        "\n"
      ],
      "metadata": {
        "id": "27y9FBJG3MuR"
      },
      "execution_count": null,
      "outputs": []
    },
    {
      "cell_type": "markdown",
      "source": [
        "## Linking the user records to the flight records\n",
        "\n",
        "We will now proceed to identify the users who were in the USA between Sept 2019 to Oct 2020.\n",
        "\n",
        "We will combine the flight record with the user record in order to ensure that users who have been unsuspected in the previous step are not considered"
      ],
      "metadata": {
        "id": "KkWJBx21Cq41"
      }
    },
    {
      "cell_type": "code",
      "source": [
        "#check the dataset with user data\n",
        "\n"
      ],
      "metadata": {
        "id": "EL7JbTKQCqUR"
      },
      "execution_count": null,
      "outputs": []
    },
    {
      "cell_type": "code",
      "source": [
        "#check the dataset with the flight records\n",
        "\n"
      ],
      "metadata": {
        "id": "C8XXKKWVGa5_"
      },
      "execution_count": null,
      "outputs": []
    },
    {
      "cell_type": "markdown",
      "source": [
        "[Merging](https://pandas.pydata.org/docs/user_guide/merging.html) the two datasets:\n",
        "\n",
        "*Hint: Use the above questions to identify on what feature to merge the datasets*"
      ],
      "metadata": {
        "id": "Mp1SB0TPKoKM"
      }
    },
    {
      "cell_type": "code",
      "source": [
        "#Your code here\n",
        "\n"
      ],
      "metadata": {
        "id": "SJbpo03uHBcW"
      },
      "execution_count": null,
      "outputs": []
    },
    {
      "cell_type": "markdown",
      "source": [
        "We can now drop the travel values for users who have been removed from the suspect list prior.\n"
      ],
      "metadata": {
        "id": "lpN8LzwFCNqp"
      }
    },
    {
      "cell_type": "code",
      "source": [
        "#Your code here\n",
        "\n"
      ],
      "metadata": {
        "id": "XV7sy6yvCfdL"
      },
      "execution_count": null,
      "outputs": []
    },
    {
      "cell_type": "markdown",
      "source": [
        "Let's now identify the user who has travelled to the United States (US) between the 1st of september 2019 and the 31st of october 2020\n",
        "\n",
        "*Note that the travel date is not in datetime format*"
      ],
      "metadata": {
        "id": "wmVg_OcqCzPe"
      }
    },
    {
      "cell_type": "code",
      "source": [
        "#Your code here\n",
        "\n",
        "\n"
      ],
      "metadata": {
        "id": "1qFGYqCsCynF"
      },
      "execution_count": null,
      "outputs": []
    },
    {
      "cell_type": "markdown",
      "source": [
        "##[Data visualisation ](https://pandas.pydata.org/docs/user_guide/visualization.html)\n",
        "\n",
        " Suisse Impossible Mission Force is happy with the result and would like to have some visual aid to make a profile of the potential suspects"
      ],
      "metadata": {
        "id": "6nh27RK8cMJZ"
      }
    },
    {
      "cell_type": "markdown",
      "source": [
        "Let's first make a pie chart to visualise the different employments held from the current suspects:"
      ],
      "metadata": {
        "id": "5mX8w6H7c6ro"
      }
    },
    {
      "cell_type": "code",
      "source": [
        "#Your code here\n",
        "\n"
      ],
      "metadata": {
        "id": "5Muyk-xMc7h6"
      },
      "execution_count": null,
      "outputs": []
    },
    {
      "cell_type": "markdown",
      "source": [
        "## Journey length\n",
        "\n",
        "Suisse Impossible Mission Force believes the rogue agent is an outlier from his declared category based on the days spent there compared to others.\n",
        "\n",
        "We can use boxplots to identify outliers per employment category."
      ],
      "metadata": {
        "id": "WBUy4QHHiWuO"
      }
    },
    {
      "cell_type": "markdown",
      "source": [
        "Let's first make two tables, one with the date of arrival and one with the date of departure (you can reuse your previous dataset for the date of arrival)"
      ],
      "metadata": {
        "id": "uiKyLYwHcCJ-"
      }
    },
    {
      "cell_type": "code",
      "source": [
        "#Your code here\n",
        "\n"
      ],
      "metadata": {
        "id": "cZF3wP3_KF_F"
      },
      "execution_count": null,
      "outputs": []
    },
    {
      "cell_type": "markdown",
      "source": [
        "We can keep on both these tables the user ID, employment, and departure date / arrival date."
      ],
      "metadata": {
        "id": "_gXDZXu0LUa5"
      }
    },
    {
      "cell_type": "code",
      "source": [
        "#Your code here\n",
        "\n"
      ],
      "metadata": {
        "id": "0m_fOp5LLjnq"
      },
      "execution_count": null,
      "outputs": []
    },
    {
      "cell_type": "markdown",
      "source": [
        "We can now join the two tables on user ID"
      ],
      "metadata": {
        "id": "zJR7PDWZL3oO"
      }
    },
    {
      "cell_type": "code",
      "source": [
        "#Your code here\n",
        "\n"
      ],
      "metadata": {
        "id": "9INyxNK9L3aC"
      },
      "execution_count": null,
      "outputs": []
    },
    {
      "cell_type": "markdown",
      "source": [
        "We can now create a new feature called journey_length representing the arrival date - departure date"
      ],
      "metadata": {
        "id": "NK1vMch6MhsP"
      }
    },
    {
      "cell_type": "code",
      "source": [
        "#Your code here\n",
        "\n"
      ],
      "metadata": {
        "id": "6TFymz0VMxaU"
      },
      "execution_count": null,
      "outputs": []
    },
    {
      "cell_type": "markdown",
      "source": [
        "We can now create the boxplots"
      ],
      "metadata": {
        "id": "Nnlu7m3kPBEV"
      }
    },
    {
      "cell_type": "code",
      "source": [
        "#Your code here\n",
        "\n"
      ],
      "metadata": {
        "id": "nH9H5M18PDrm"
      },
      "execution_count": null,
      "outputs": []
    },
    {
      "cell_type": "markdown",
      "source": [
        "##SIMF is satisfied with your work but believes the current data is inconclusive.\n",
        "\n",
        "Your investigation will continue when more intelligence comes in..."
      ],
      "metadata": {
        "id": "BqQD6lffRdNW"
      }
    }
  ]
}