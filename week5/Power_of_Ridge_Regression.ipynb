{
 "cells": [
  {
   "cell_type": "markdown",
   "metadata": {
    "id": "7zUhUBSqM11i"
   },
   "source": [
    "# Explanatory Data Analysis"
   ]
  },
  {
   "cell_type": "markdown",
   "metadata": {
    "id": "5ZzWc4iLMhxO"
   },
   "source": [
    "A machine learning model can get more powerful only when the data used to train and validate it becomes a better representative of the real world. That's why data cleaning and feature selection are key steps of any data science flow. In this notebook, there is the detailed explanation of the explanatory data analysis steps before feeding the data to a regression model. \\\\\n",
    "Refer to this [link](https://www.kaggle.com/c/house-prices-advanced-regression-techniques/data?select=data_description.txt) for data dictionary!"
   ]
  },
  {
   "cell_type": "code",
   "execution_count": 1,
   "metadata": {
    "colab": {
     "base_uri": "https://localhost:8080/"
    },
    "id": "rm5A3h624Lqj",
    "outputId": "c076e130-9961-4889-d83a-47d30497cb09"
   },
   "outputs": [],
   "source": [
    "# importing necessary libraries\n",
    "from sklearn.datasets import load_boston\n",
    "import pandas as pd\n",
    "import numpy as np\n",
    "import statsmodels.api as sm\n",
    "from scipy import stats\n",
    "import matplotlib.pyplot as plt\n",
    "from statsmodels.sandbox.regression.predstd import wls_prediction_std\n",
    "from vega_datasets import data\n",
    "import seaborn as sns\n",
    "\n",
    "from sklearn.model_selection import train_test_split\n",
    "from sklearn.preprocessing import StandardScaler\n",
    "from sklearn.linear_model import ElasticNet, ElasticNetCV\n",
    "from sklearn.metrics import r2_score"
   ]
  },
  {
   "cell_type": "code",
   "execution_count": 2,
   "metadata": {
    "id": "XTdWl_iouz5W"
   },
   "outputs": [],
   "source": [
    "# first view on our data\n",
    "housing_data =  pd.read_csv('https://raw.githubusercontent.com/cjflanagan/cs68/master/housing.csv')"
   ]
  },
  {
   "cell_type": "code",
   "execution_count": 3,
   "metadata": {
    "colab": {
     "base_uri": "https://localhost:8080/",
     "height": 251
    },
    "id": "wYf00m65u_NR",
    "outputId": "1049165d-d3eb-4f99-9ada-65ed3efa25b0"
   },
   "outputs": [
    {
     "data": {
      "text/html": [
       "<div>\n",
       "<style scoped>\n",
       "    .dataframe tbody tr th:only-of-type {\n",
       "        vertical-align: middle;\n",
       "    }\n",
       "\n",
       "    .dataframe tbody tr th {\n",
       "        vertical-align: top;\n",
       "    }\n",
       "\n",
       "    .dataframe thead th {\n",
       "        text-align: right;\n",
       "    }\n",
       "</style>\n",
       "<table border=\"1\" class=\"dataframe\">\n",
       "  <thead>\n",
       "    <tr style=\"text-align: right;\">\n",
       "      <th></th>\n",
       "      <th>Id</th>\n",
       "      <th>MSSubClass</th>\n",
       "      <th>MSZoning</th>\n",
       "      <th>LotFrontage</th>\n",
       "      <th>LotArea</th>\n",
       "      <th>Street</th>\n",
       "      <th>Alley</th>\n",
       "      <th>LotShape</th>\n",
       "      <th>LandContour</th>\n",
       "      <th>Utilities</th>\n",
       "      <th>...</th>\n",
       "      <th>PoolArea</th>\n",
       "      <th>PoolQC</th>\n",
       "      <th>Fence</th>\n",
       "      <th>MiscFeature</th>\n",
       "      <th>MiscVal</th>\n",
       "      <th>MoSold</th>\n",
       "      <th>YrSold</th>\n",
       "      <th>SaleType</th>\n",
       "      <th>SaleCondition</th>\n",
       "      <th>SalePrice</th>\n",
       "    </tr>\n",
       "  </thead>\n",
       "  <tbody>\n",
       "    <tr>\n",
       "      <th>0</th>\n",
       "      <td>1</td>\n",
       "      <td>60</td>\n",
       "      <td>RL</td>\n",
       "      <td>65.0</td>\n",
       "      <td>8450</td>\n",
       "      <td>Pave</td>\n",
       "      <td>NaN</td>\n",
       "      <td>Reg</td>\n",
       "      <td>Lvl</td>\n",
       "      <td>AllPub</td>\n",
       "      <td>...</td>\n",
       "      <td>0</td>\n",
       "      <td>NaN</td>\n",
       "      <td>NaN</td>\n",
       "      <td>NaN</td>\n",
       "      <td>0</td>\n",
       "      <td>2</td>\n",
       "      <td>2008</td>\n",
       "      <td>WD</td>\n",
       "      <td>Normal</td>\n",
       "      <td>208500</td>\n",
       "    </tr>\n",
       "    <tr>\n",
       "      <th>1</th>\n",
       "      <td>2</td>\n",
       "      <td>20</td>\n",
       "      <td>RL</td>\n",
       "      <td>80.0</td>\n",
       "      <td>9600</td>\n",
       "      <td>Pave</td>\n",
       "      <td>NaN</td>\n",
       "      <td>Reg</td>\n",
       "      <td>Lvl</td>\n",
       "      <td>AllPub</td>\n",
       "      <td>...</td>\n",
       "      <td>0</td>\n",
       "      <td>NaN</td>\n",
       "      <td>NaN</td>\n",
       "      <td>NaN</td>\n",
       "      <td>0</td>\n",
       "      <td>5</td>\n",
       "      <td>2007</td>\n",
       "      <td>WD</td>\n",
       "      <td>Normal</td>\n",
       "      <td>181500</td>\n",
       "    </tr>\n",
       "    <tr>\n",
       "      <th>2</th>\n",
       "      <td>3</td>\n",
       "      <td>60</td>\n",
       "      <td>RL</td>\n",
       "      <td>68.0</td>\n",
       "      <td>11250</td>\n",
       "      <td>Pave</td>\n",
       "      <td>NaN</td>\n",
       "      <td>IR1</td>\n",
       "      <td>Lvl</td>\n",
       "      <td>AllPub</td>\n",
       "      <td>...</td>\n",
       "      <td>0</td>\n",
       "      <td>NaN</td>\n",
       "      <td>NaN</td>\n",
       "      <td>NaN</td>\n",
       "      <td>0</td>\n",
       "      <td>9</td>\n",
       "      <td>2008</td>\n",
       "      <td>WD</td>\n",
       "      <td>Normal</td>\n",
       "      <td>223500</td>\n",
       "    </tr>\n",
       "    <tr>\n",
       "      <th>3</th>\n",
       "      <td>4</td>\n",
       "      <td>70</td>\n",
       "      <td>RL</td>\n",
       "      <td>60.0</td>\n",
       "      <td>9550</td>\n",
       "      <td>Pave</td>\n",
       "      <td>NaN</td>\n",
       "      <td>IR1</td>\n",
       "      <td>Lvl</td>\n",
       "      <td>AllPub</td>\n",
       "      <td>...</td>\n",
       "      <td>0</td>\n",
       "      <td>NaN</td>\n",
       "      <td>NaN</td>\n",
       "      <td>NaN</td>\n",
       "      <td>0</td>\n",
       "      <td>2</td>\n",
       "      <td>2006</td>\n",
       "      <td>WD</td>\n",
       "      <td>Abnorml</td>\n",
       "      <td>140000</td>\n",
       "    </tr>\n",
       "    <tr>\n",
       "      <th>4</th>\n",
       "      <td>5</td>\n",
       "      <td>60</td>\n",
       "      <td>RL</td>\n",
       "      <td>84.0</td>\n",
       "      <td>14260</td>\n",
       "      <td>Pave</td>\n",
       "      <td>NaN</td>\n",
       "      <td>IR1</td>\n",
       "      <td>Lvl</td>\n",
       "      <td>AllPub</td>\n",
       "      <td>...</td>\n",
       "      <td>0</td>\n",
       "      <td>NaN</td>\n",
       "      <td>NaN</td>\n",
       "      <td>NaN</td>\n",
       "      <td>0</td>\n",
       "      <td>12</td>\n",
       "      <td>2008</td>\n",
       "      <td>WD</td>\n",
       "      <td>Normal</td>\n",
       "      <td>250000</td>\n",
       "    </tr>\n",
       "  </tbody>\n",
       "</table>\n",
       "<p>5 rows × 81 columns</p>\n",
       "</div>"
      ],
      "text/plain": [
       "   Id  MSSubClass MSZoning  LotFrontage  LotArea Street Alley LotShape  \\\n",
       "0   1          60       RL         65.0     8450   Pave   NaN      Reg   \n",
       "1   2          20       RL         80.0     9600   Pave   NaN      Reg   \n",
       "2   3          60       RL         68.0    11250   Pave   NaN      IR1   \n",
       "3   4          70       RL         60.0     9550   Pave   NaN      IR1   \n",
       "4   5          60       RL         84.0    14260   Pave   NaN      IR1   \n",
       "\n",
       "  LandContour Utilities  ... PoolArea PoolQC Fence MiscFeature MiscVal MoSold  \\\n",
       "0         Lvl    AllPub  ...        0    NaN   NaN         NaN       0      2   \n",
       "1         Lvl    AllPub  ...        0    NaN   NaN         NaN       0      5   \n",
       "2         Lvl    AllPub  ...        0    NaN   NaN         NaN       0      9   \n",
       "3         Lvl    AllPub  ...        0    NaN   NaN         NaN       0      2   \n",
       "4         Lvl    AllPub  ...        0    NaN   NaN         NaN       0     12   \n",
       "\n",
       "  YrSold  SaleType  SaleCondition  SalePrice  \n",
       "0   2008        WD         Normal     208500  \n",
       "1   2007        WD         Normal     181500  \n",
       "2   2008        WD         Normal     223500  \n",
       "3   2006        WD        Abnorml     140000  \n",
       "4   2008        WD         Normal     250000  \n",
       "\n",
       "[5 rows x 81 columns]"
      ]
     },
     "execution_count": 3,
     "metadata": {},
     "output_type": "execute_result"
    }
   ],
   "source": [
    "housing_data.head()"
   ]
  },
  {
   "cell_type": "code",
   "execution_count": 4,
   "metadata": {
    "colab": {
     "base_uri": "https://localhost:8080/"
    },
    "id": "Q4-cM5SR0Ei7",
    "outputId": "20531e24-53f4-48f4-b62b-4d880ddb8bfe"
   },
   "outputs": [
    {
     "data": {
      "text/plain": [
       "(1460, 81)"
      ]
     },
     "execution_count": 4,
     "metadata": {},
     "output_type": "execute_result"
    }
   ],
   "source": [
    "housing_data.shape"
   ]
  },
  {
   "cell_type": "code",
   "execution_count": 5,
   "metadata": {
    "colab": {
     "base_uri": "https://localhost:8080/"
    },
    "id": "8_yME-3ssp0K",
    "outputId": "2ce66509-a1d4-4edd-cb30-e754db2ca5f3"
   },
   "outputs": [
    {
     "name": "stdout",
     "output_type": "stream",
     "text": [
      "<class 'pandas.core.frame.DataFrame'>\n",
      "RangeIndex: 1460 entries, 0 to 1459\n",
      "Data columns (total 81 columns):\n",
      " #   Column         Non-Null Count  Dtype  \n",
      "---  ------         --------------  -----  \n",
      " 0   Id             1460 non-null   int64  \n",
      " 1   MSSubClass     1460 non-null   int64  \n",
      " 2   MSZoning       1460 non-null   object \n",
      " 3   LotFrontage    1201 non-null   float64\n",
      " 4   LotArea        1460 non-null   int64  \n",
      " 5   Street         1460 non-null   object \n",
      " 6   Alley          91 non-null     object \n",
      " 7   LotShape       1460 non-null   object \n",
      " 8   LandContour    1460 non-null   object \n",
      " 9   Utilities      1460 non-null   object \n",
      " 10  LotConfig      1460 non-null   object \n",
      " 11  LandSlope      1460 non-null   object \n",
      " 12  Neighborhood   1460 non-null   object \n",
      " 13  Condition1     1460 non-null   object \n",
      " 14  Condition2     1460 non-null   object \n",
      " 15  BldgType       1460 non-null   object \n",
      " 16  HouseStyle     1460 non-null   object \n",
      " 17  OverallQual    1460 non-null   int64  \n",
      " 18  OverallCond    1460 non-null   int64  \n",
      " 19  YearBuilt      1460 non-null   int64  \n",
      " 20  YearRemodAdd   1460 non-null   int64  \n",
      " 21  RoofStyle      1460 non-null   object \n",
      " 22  RoofMatl       1460 non-null   object \n",
      " 23  Exterior1st    1460 non-null   object \n",
      " 24  Exterior2nd    1460 non-null   object \n",
      " 25  MasVnrType     1452 non-null   object \n",
      " 26  MasVnrArea     1452 non-null   float64\n",
      " 27  ExterQual      1460 non-null   object \n",
      " 28  ExterCond      1460 non-null   object \n",
      " 29  Foundation     1460 non-null   object \n",
      " 30  BsmtQual       1423 non-null   object \n",
      " 31  BsmtCond       1423 non-null   object \n",
      " 32  BsmtExposure   1422 non-null   object \n",
      " 33  BsmtFinType1   1423 non-null   object \n",
      " 34  BsmtFinSF1     1460 non-null   int64  \n",
      " 35  BsmtFinType2   1422 non-null   object \n",
      " 36  BsmtFinSF2     1460 non-null   int64  \n",
      " 37  BsmtUnfSF      1460 non-null   int64  \n",
      " 38  TotalBsmtSF    1460 non-null   int64  \n",
      " 39  Heating        1460 non-null   object \n",
      " 40  HeatingQC      1460 non-null   object \n",
      " 41  CentralAir     1460 non-null   object \n",
      " 42  Electrical     1459 non-null   object \n",
      " 43  1stFlrSF       1460 non-null   int64  \n",
      " 44  2ndFlrSF       1460 non-null   int64  \n",
      " 45  LowQualFinSF   1460 non-null   int64  \n",
      " 46  GrLivArea      1460 non-null   int64  \n",
      " 47  BsmtFullBath   1460 non-null   int64  \n",
      " 48  BsmtHalfBath   1460 non-null   int64  \n",
      " 49  FullBath       1460 non-null   int64  \n",
      " 50  HalfBath       1460 non-null   int64  \n",
      " 51  BedroomAbvGr   1460 non-null   int64  \n",
      " 52  KitchenAbvGr   1460 non-null   int64  \n",
      " 53  KitchenQual    1460 non-null   object \n",
      " 54  TotRmsAbvGrd   1460 non-null   int64  \n",
      " 55  Functional     1460 non-null   object \n",
      " 56  Fireplaces     1460 non-null   int64  \n",
      " 57  FireplaceQu    770 non-null    object \n",
      " 58  GarageType     1379 non-null   object \n",
      " 59  GarageYrBlt    1379 non-null   float64\n",
      " 60  GarageFinish   1379 non-null   object \n",
      " 61  GarageCars     1460 non-null   int64  \n",
      " 62  GarageArea     1460 non-null   int64  \n",
      " 63  GarageQual     1379 non-null   object \n",
      " 64  GarageCond     1379 non-null   object \n",
      " 65  PavedDrive     1460 non-null   object \n",
      " 66  WoodDeckSF     1460 non-null   int64  \n",
      " 67  OpenPorchSF    1460 non-null   int64  \n",
      " 68  EnclosedPorch  1460 non-null   int64  \n",
      " 69  3SsnPorch      1460 non-null   int64  \n",
      " 70  ScreenPorch    1460 non-null   int64  \n",
      " 71  PoolArea       1460 non-null   int64  \n",
      " 72  PoolQC         7 non-null      object \n",
      " 73  Fence          281 non-null    object \n",
      " 74  MiscFeature    54 non-null     object \n",
      " 75  MiscVal        1460 non-null   int64  \n",
      " 76  MoSold         1460 non-null   int64  \n",
      " 77  YrSold         1460 non-null   int64  \n",
      " 78  SaleType       1460 non-null   object \n",
      " 79  SaleCondition  1460 non-null   object \n",
      " 80  SalePrice      1460 non-null   int64  \n",
      "dtypes: float64(3), int64(35), object(43)\n",
      "memory usage: 924.0+ KB\n"
     ]
    }
   ],
   "source": [
    "# checking the column types \n",
    "housing_data.info()"
   ]
  },
  {
   "cell_type": "markdown",
   "metadata": {
    "id": "swFzWzO7KHC3"
   },
   "source": [
    "Fill the missing values:"
   ]
  },
  {
   "cell_type": "code",
   "execution_count": 6,
   "metadata": {
    "colab": {
     "base_uri": "https://localhost:8080/",
     "height": 631
    },
    "id": "LHxhMe8dEdd-",
    "outputId": "0130e93b-e8b2-408e-da35-cdef6f5c3152"
   },
   "outputs": [
    {
     "data": {
      "text/html": [
       "<div>\n",
       "<style scoped>\n",
       "    .dataframe tbody tr th:only-of-type {\n",
       "        vertical-align: middle;\n",
       "    }\n",
       "\n",
       "    .dataframe tbody tr th {\n",
       "        vertical-align: top;\n",
       "    }\n",
       "\n",
       "    .dataframe thead th {\n",
       "        text-align: right;\n",
       "    }\n",
       "</style>\n",
       "<table border=\"1\" class=\"dataframe\">\n",
       "  <thead>\n",
       "    <tr style=\"text-align: right;\">\n",
       "      <th></th>\n",
       "      <th>0</th>\n",
       "    </tr>\n",
       "  </thead>\n",
       "  <tbody>\n",
       "    <tr>\n",
       "      <th>LotFrontage</th>\n",
       "      <td>259</td>\n",
       "    </tr>\n",
       "    <tr>\n",
       "      <th>Alley</th>\n",
       "      <td>1369</td>\n",
       "    </tr>\n",
       "    <tr>\n",
       "      <th>MasVnrType</th>\n",
       "      <td>8</td>\n",
       "    </tr>\n",
       "    <tr>\n",
       "      <th>MasVnrArea</th>\n",
       "      <td>8</td>\n",
       "    </tr>\n",
       "    <tr>\n",
       "      <th>BsmtQual</th>\n",
       "      <td>37</td>\n",
       "    </tr>\n",
       "    <tr>\n",
       "      <th>BsmtCond</th>\n",
       "      <td>37</td>\n",
       "    </tr>\n",
       "    <tr>\n",
       "      <th>BsmtExposure</th>\n",
       "      <td>38</td>\n",
       "    </tr>\n",
       "    <tr>\n",
       "      <th>BsmtFinType1</th>\n",
       "      <td>37</td>\n",
       "    </tr>\n",
       "    <tr>\n",
       "      <th>BsmtFinType2</th>\n",
       "      <td>38</td>\n",
       "    </tr>\n",
       "    <tr>\n",
       "      <th>Electrical</th>\n",
       "      <td>1</td>\n",
       "    </tr>\n",
       "    <tr>\n",
       "      <th>FireplaceQu</th>\n",
       "      <td>690</td>\n",
       "    </tr>\n",
       "    <tr>\n",
       "      <th>GarageType</th>\n",
       "      <td>81</td>\n",
       "    </tr>\n",
       "    <tr>\n",
       "      <th>GarageYrBlt</th>\n",
       "      <td>81</td>\n",
       "    </tr>\n",
       "    <tr>\n",
       "      <th>GarageFinish</th>\n",
       "      <td>81</td>\n",
       "    </tr>\n",
       "    <tr>\n",
       "      <th>GarageQual</th>\n",
       "      <td>81</td>\n",
       "    </tr>\n",
       "    <tr>\n",
       "      <th>GarageCond</th>\n",
       "      <td>81</td>\n",
       "    </tr>\n",
       "    <tr>\n",
       "      <th>PoolQC</th>\n",
       "      <td>1453</td>\n",
       "    </tr>\n",
       "    <tr>\n",
       "      <th>Fence</th>\n",
       "      <td>1179</td>\n",
       "    </tr>\n",
       "    <tr>\n",
       "      <th>MiscFeature</th>\n",
       "      <td>1406</td>\n",
       "    </tr>\n",
       "  </tbody>\n",
       "</table>\n",
       "</div>"
      ],
      "text/plain": [
       "                 0\n",
       "LotFrontage    259\n",
       "Alley         1369\n",
       "MasVnrType       8\n",
       "MasVnrArea       8\n",
       "BsmtQual        37\n",
       "BsmtCond        37\n",
       "BsmtExposure    38\n",
       "BsmtFinType1    37\n",
       "BsmtFinType2    38\n",
       "Electrical       1\n",
       "FireplaceQu    690\n",
       "GarageType      81\n",
       "GarageYrBlt     81\n",
       "GarageFinish    81\n",
       "GarageQual      81\n",
       "GarageCond      81\n",
       "PoolQC        1453\n",
       "Fence         1179\n",
       "MiscFeature   1406"
      ]
     },
     "execution_count": 6,
     "metadata": {},
     "output_type": "execute_result"
    }
   ],
   "source": [
    "# checking the number of missing data in columns that contain missing data\n",
    "null_df = pd.DataFrame(housing_data.isnull().sum())\n",
    "null_df[null_df[0]!=0]"
   ]
  },
  {
   "cell_type": "code",
   "execution_count": 7,
   "metadata": {
    "id": "jpPeNJGkFBSn"
   },
   "outputs": [],
   "source": [
    "housing_data.LotFrontage = housing_data.LotFrontage.fillna(0)\n",
    "housing_data.MasVnrType = housing_data.MasVnrType.fillna('None')\n",
    "housing_data.MasVnrArea = housing_data.MasVnrArea.fillna(0)\n",
    "housing_data.BsmtQual = housing_data.BsmtQual.fillna('NA')\n",
    "housing_data.BsmtCond = housing_data.BsmtCond.fillna('NA')\n",
    "housing_data.BsmtExposure = housing_data.BsmtExposure.fillna('NA')\n",
    "housing_data.Electrical = housing_data.Electrical.fillna('Mix')\n",
    "housing_data.GarageType = housing_data.GarageType.fillna('NA')\n",
    "housing_data.Fence = housing_data.Fence.fillna('NA')\n",
    "housing_data.PoolQC = housing_data.PoolQC.fillna('NA')\n",
    "housing_data.PoolQC = housing_data.PoolQC.replace('NaN','NA')\n",
    "housing_data.MiscFeature = housing_data.MiscFeature.fillna('NA')\n",
    "housing_data.GarageCond = housing_data.GarageCond.fillna('NA')\n",
    "housing_data.GarageQual = housing_data.GarageQual.fillna('NA')\n",
    "housing_data.BsmtFinType1 = housing_data.BsmtFinType1.fillna('NA')\n",
    "housing_data.BsmtFinType2 = housing_data.BsmtFinType2.fillna('NA')\n",
    "housing_data.FireplaceQu = housing_data.FireplaceQu.fillna('NA')\n",
    "housing_data.GarageFinish = housing_data.GarageFinish.fillna('NA')\n",
    "housing_data.Alley = housing_data.Alley.fillna('NA')"
   ]
  },
  {
   "cell_type": "markdown",
   "metadata": {
    "id": "kP6XvFmmtWv1"
   },
   "source": [
    "Now decide what to do with all of the columns. There are categorical and numerical. For categorical, create dummies. For categorical there are columns like `ExterQual` which has an order like Excellent, Good, .. but they are represented with strings rather than numbers. Convert them to numbers:"
   ]
  },
  {
   "cell_type": "code",
   "execution_count": 8,
   "metadata": {
    "colab": {
     "base_uri": "https://localhost:8080/"
    },
    "id": "P0IjU5uVuPNp",
    "outputId": "50cf744a-57f7-4cb8-aa4e-ec3d72ddf7f4"
   },
   "outputs": [
    {
     "data": {
      "text/plain": [
       "2    906\n",
       "3    488\n",
       "4     52\n",
       "1     14\n",
       "Name: ExterQual, dtype: int64"
      ]
     },
     "execution_count": 8,
     "metadata": {},
     "output_type": "execute_result"
    }
   ],
   "source": [
    "# converting every ordinal categorical value to numeric representations.\n",
    "# since there are no nulls we can end the if loop with 1. \n",
    "housing_data.ExterQual.map(lambda x: 4 if x==\"Ex\" else (3 if x == 'Gd' else (2 if x == 'TA' else 1))).value_counts()"
   ]
  },
  {
   "cell_type": "code",
   "execution_count": 9,
   "metadata": {
    "id": "C2yE_jdMvb84"
   },
   "outputs": [],
   "source": [
    "# since above numbers are right, it means that we did the map function right. Let's make it inplace. \n",
    "housing_data.ExterQual = housing_data.ExterQual.map(lambda x: 4 if x==\"Ex\" else (3 if x == 'Gd' else (2 if x == 'TA' else 1)))"
   ]
  },
  {
   "cell_type": "code",
   "execution_count": 10,
   "metadata": {
    "id": "nlPfXCmg-f5v"
   },
   "outputs": [],
   "source": [
    "housing_data.ExterCond = housing_data.ExterCond.map(lambda x: 5 if x==\"Ex\" else (4 if x == 'Gd' else (3 if x == 'TA' else (2 if x == 'Fa' else 1))))"
   ]
  },
  {
   "cell_type": "code",
   "execution_count": 11,
   "metadata": {
    "id": "MohNPY3jv2mr"
   },
   "outputs": [],
   "source": [
    "bsmt_zip = {'Ex':6,\n",
    "            'Gd':5,\n",
    "            'TA':4,\n",
    "            'Fa':3,\n",
    "            'Po':2,\n",
    "            'NA':1}"
   ]
  },
  {
   "cell_type": "code",
   "execution_count": 12,
   "metadata": {
    "id": "IioKiRetvst1"
   },
   "outputs": [],
   "source": [
    "# do similar for the BsmtCond, BsmtExposure column\n",
    "housing_data.BsmtQual = housing_data.BsmtQual.map(bsmt_zip)\n",
    "housing_data.BsmtCond = housing_data.BsmtCond.map(bsmt_zip)"
   ]
  },
  {
   "cell_type": "code",
   "execution_count": 13,
   "metadata": {
    "id": "jTdXt22r3mVB"
   },
   "outputs": [],
   "source": [
    "bsmt_zip2 = {'Gd':5,\n",
    "            'Av':4,\n",
    "            'Mn':3,\n",
    "            'No':2,\n",
    "            'NA':1}"
   ]
  },
  {
   "cell_type": "code",
   "execution_count": 14,
   "metadata": {
    "colab": {
     "base_uri": "https://localhost:8080/"
    },
    "id": "_j7V6RmvDL7h",
    "outputId": "97cefea2-3b93-4203-9508-6c52f48ba5d4"
   },
   "outputs": [
    {
     "data": {
      "text/plain": [
       "No    953\n",
       "Av    221\n",
       "Gd    134\n",
       "Mn    114\n",
       "NA     38\n",
       "Name: BsmtExposure, dtype: int64"
      ]
     },
     "execution_count": 14,
     "metadata": {},
     "output_type": "execute_result"
    }
   ],
   "source": [
    "housing_data.BsmtExposure.value_counts()"
   ]
  },
  {
   "cell_type": "code",
   "execution_count": 15,
   "metadata": {
    "id": "XaqpwNMX4l3O"
   },
   "outputs": [],
   "source": [
    "# do similar for the BsmtCond, BsmtExposure column\n",
    "housing_data.BsmtExposure = housing_data.BsmtExposure.map(bsmt_zip2)"
   ]
  },
  {
   "cell_type": "code",
   "execution_count": 16,
   "metadata": {
    "id": "lZlXSXc6548Q"
   },
   "outputs": [],
   "source": [
    "kitchen_zip = {'Ex':5,\n",
    "            'Gd':4,\n",
    "            'TA':3,\n",
    "            'Fa':2,\n",
    "            'Po':1}\n",
    "housing_data.KitchenQual = housing_data.KitchenQual.map(kitchen_zip)"
   ]
  },
  {
   "cell_type": "code",
   "execution_count": 17,
   "metadata": {
    "id": "xtFF2rWr6cvL"
   },
   "outputs": [],
   "source": [
    "pool_zip = {'Ex':5,\n",
    "            'Gd':4,\n",
    "            'TA':3,\n",
    "            'Fa':2,\n",
    "            'NA':1}\n",
    "housing_data.PoolQC = housing_data.PoolQC.map(pool_zip)"
   ]
  },
  {
   "cell_type": "markdown",
   "metadata": {
    "id": "Fx1zF8sMB1ZS"
   },
   "source": [
    "For the year data, I will convert it to three bins: new mid and old. Houses earlier than 1978 will be labeled as old. 1978 is picked because that is the year where it was decided that lead in wall paintings are prohibited. Since I have experienced the price change of buildings built earlier than 1978 I decided 1978 to be the threshold value. "
   ]
  },
  {
   "cell_type": "code",
   "execution_count": 18,
   "metadata": {
    "id": "lCqrsIbu7wRW"
   },
   "outputs": [],
   "source": [
    "housing_data.YearBuilt = housing_data.YearBuilt.map(lambda x: 'new' if x>1999 else ('mid' if x>1978 else 'old'))"
   ]
  },
  {
   "cell_type": "code",
   "execution_count": 19,
   "metadata": {
    "id": "HS2S3UVq8eZB"
   },
   "outputs": [],
   "source": [
    "housing_data.YrSold = housing_data.YrSold.map(lambda x: 'new' if x>1999 else ('mid' if x>1978 else 'old'))"
   ]
  },
  {
   "cell_type": "code",
   "execution_count": 20,
   "metadata": {
    "id": "wMEP-3ew9xwB"
   },
   "outputs": [],
   "source": [
    "housing_data.YearRemodAdd = housing_data.YearRemodAdd.map(lambda x: 'new' if x>1999 else ('mid' if x>1978 else 'old'))"
   ]
  },
  {
   "cell_type": "code",
   "execution_count": 21,
   "metadata": {
    "id": "q6sdM0VLCu7T"
   },
   "outputs": [],
   "source": [
    "housing_data.drop(columns=['Id'], inplace=True)"
   ]
  },
  {
   "cell_type": "code",
   "execution_count": 22,
   "metadata": {
    "id": "j0fXhV189f1G"
   },
   "outputs": [],
   "source": [
    "housing_data.MSSubClass = housing_data.MSSubClass.astype(str)"
   ]
  },
  {
   "cell_type": "code",
   "execution_count": 23,
   "metadata": {
    "id": "IXLvHfTqGFfU"
   },
   "outputs": [],
   "source": [
    "bsmt_fin_zip = {'GLQ':6,\n",
    "                'ALQ':5,\n",
    "                'BLQ':4,\n",
    "                'Rec':3,\n",
    "                'LwQ':2,\n",
    "                'Unf':1,\n",
    "                'NA':0}\n",
    "housing_data.BsmtFinType1 = housing_data.BsmtFinType1.map(bsmt_fin_zip)"
   ]
  },
  {
   "cell_type": "code",
   "execution_count": 24,
   "metadata": {
    "id": "viuCg2RFGqc3"
   },
   "outputs": [],
   "source": [
    "housing_data.BsmtFinType2 = housing_data.BsmtFinType2.map(bsmt_fin_zip)"
   ]
  },
  {
   "cell_type": "code",
   "execution_count": 25,
   "metadata": {
    "id": "oZA6b7Z6G1C9"
   },
   "outputs": [],
   "source": [
    "housing_data.HeatingQC = housing_data.HeatingQC.map(kitchen_zip)"
   ]
  },
  {
   "cell_type": "code",
   "execution_count": 26,
   "metadata": {
    "id": "Dez1yG_zHEAJ"
   },
   "outputs": [],
   "source": [
    "function_zip = {'Typ':7,\n",
    "                'Min1':6,\n",
    "                'Min2':5,\n",
    "                'Mod':4,\n",
    "                'Maj1':3,\n",
    "                'Maj2':2,\n",
    "                'Sev':1,\n",
    "                'Sal':0}\n",
    "housing_data.Functional = housing_data.Functional.map(function_zip)"
   ]
  },
  {
   "cell_type": "code",
   "execution_count": 27,
   "metadata": {
    "id": "jb1YLgOHHtPr"
   },
   "outputs": [],
   "source": [
    "housing_data.GarageYrBlt = housing_data.GarageYrBlt.map(lambda x: 'new' if x>1999 else ('mid' if x>1978 else 'old'))"
   ]
  },
  {
   "cell_type": "code",
   "execution_count": 28,
   "metadata": {
    "id": "zz7Qp9DfH1Ua"
   },
   "outputs": [],
   "source": [
    "garage_fin_zip = {'Fin':3,\n",
    "                'RFn':2,\n",
    "                'Unf':1,\n",
    "                'NA':0}\n",
    "housing_data.GarageFinish = housing_data.GarageFinish.map(garage_fin_zip)"
   ]
  },
  {
   "cell_type": "code",
   "execution_count": 29,
   "metadata": {
    "id": "_VpHSZ9XI3vi"
   },
   "outputs": [],
   "source": [
    "housing_data.GarageQual = housing_data.GarageQual.map(bsmt_zip)\n",
    "housing_data.GarageCond = housing_data.GarageCond.map(bsmt_zip)"
   ]
  },
  {
   "cell_type": "code",
   "execution_count": 30,
   "metadata": {
    "id": "C1XfYCi3JJuB"
   },
   "outputs": [],
   "source": [
    "pave_zip = {'Y':3,\n",
    "                'P':2,\n",
    "                'N':1}\n",
    "housing_data.PavedDrive = housing_data.PavedDrive.map(pave_zip)"
   ]
  },
  {
   "cell_type": "code",
   "execution_count": 31,
   "metadata": {
    "id": "JMwWgicAJfOv"
   },
   "outputs": [],
   "source": [
    "fence_zip = {'GdPrv':4,\n",
    "                'MnPrv':3,\n",
    "                'GdWo':2,\n",
    "                'MnWw':1,\n",
    "                'NA':0}\n",
    "housing_data.Fence = housing_data.Fence.map(fence_zip)"
   ]
  },
  {
   "cell_type": "code",
   "execution_count": 32,
   "metadata": {
    "id": "b4HP6HIjy3tW"
   },
   "outputs": [],
   "source": [
    "alley_zip = {'Pave':2,\n",
    "             'Grvl':1,\n",
    "             'NA':0}\n",
    "housing_data.Alley = housing_data.Alley.map(alley_zip)"
   ]
  },
  {
   "cell_type": "code",
   "execution_count": 33,
   "metadata": {
    "id": "_i0pIjxwzPv1"
   },
   "outputs": [],
   "source": [
    "housing_data.FireplaceQu = housing_data.FireplaceQu.map(bsmt_zip)"
   ]
  },
  {
   "cell_type": "code",
   "execution_count": 34,
   "metadata": {
    "id": "anEKggtI_9DA"
   },
   "outputs": [],
   "source": [
    "pave_zip = {'Pave':2,\n",
    "             'Grvl':1}\n",
    "housing_data.Street = housing_data.Street.map(pave_zip)"
   ]
  },
  {
   "cell_type": "code",
   "execution_count": 35,
   "metadata": {
    "id": "O8YUw6WUCfR6"
   },
   "outputs": [],
   "source": [
    "slope_zip = {'Gtl':2,\n",
    "             'Mod':1,\n",
    "             'Sev':0}\n",
    "housing_data.LandSlope = housing_data.LandSlope.map(slope_zip)"
   ]
  },
  {
   "cell_type": "code",
   "execution_count": 36,
   "metadata": {
    "colab": {
     "base_uri": "https://localhost:8080/",
     "height": 222
    },
    "id": "eDLzrET5-GIx",
    "outputId": "c971a47d-8737-4127-b011-6ce83f40d864"
   },
   "outputs": [
    {
     "data": {
      "text/html": [
       "<div>\n",
       "<style scoped>\n",
       "    .dataframe tbody tr th:only-of-type {\n",
       "        vertical-align: middle;\n",
       "    }\n",
       "\n",
       "    .dataframe tbody tr th {\n",
       "        vertical-align: top;\n",
       "    }\n",
       "\n",
       "    .dataframe thead th {\n",
       "        text-align: right;\n",
       "    }\n",
       "</style>\n",
       "<table border=\"1\" class=\"dataframe\">\n",
       "  <thead>\n",
       "    <tr style=\"text-align: right;\">\n",
       "      <th></th>\n",
       "      <th>MSSubClass</th>\n",
       "      <th>MSZoning</th>\n",
       "      <th>LotFrontage</th>\n",
       "      <th>LotArea</th>\n",
       "      <th>Street</th>\n",
       "      <th>Alley</th>\n",
       "      <th>LotShape</th>\n",
       "      <th>LandContour</th>\n",
       "      <th>Utilities</th>\n",
       "      <th>LotConfig</th>\n",
       "      <th>...</th>\n",
       "      <th>PoolArea</th>\n",
       "      <th>PoolQC</th>\n",
       "      <th>Fence</th>\n",
       "      <th>MiscFeature</th>\n",
       "      <th>MiscVal</th>\n",
       "      <th>MoSold</th>\n",
       "      <th>YrSold</th>\n",
       "      <th>SaleType</th>\n",
       "      <th>SaleCondition</th>\n",
       "      <th>SalePrice</th>\n",
       "    </tr>\n",
       "  </thead>\n",
       "  <tbody>\n",
       "    <tr>\n",
       "      <th>0</th>\n",
       "      <td>60</td>\n",
       "      <td>RL</td>\n",
       "      <td>65.0</td>\n",
       "      <td>8450</td>\n",
       "      <td>2</td>\n",
       "      <td>0</td>\n",
       "      <td>Reg</td>\n",
       "      <td>Lvl</td>\n",
       "      <td>AllPub</td>\n",
       "      <td>Inside</td>\n",
       "      <td>...</td>\n",
       "      <td>0</td>\n",
       "      <td>1</td>\n",
       "      <td>0</td>\n",
       "      <td>NA</td>\n",
       "      <td>0</td>\n",
       "      <td>2</td>\n",
       "      <td>new</td>\n",
       "      <td>WD</td>\n",
       "      <td>Normal</td>\n",
       "      <td>208500</td>\n",
       "    </tr>\n",
       "    <tr>\n",
       "      <th>1</th>\n",
       "      <td>20</td>\n",
       "      <td>RL</td>\n",
       "      <td>80.0</td>\n",
       "      <td>9600</td>\n",
       "      <td>2</td>\n",
       "      <td>0</td>\n",
       "      <td>Reg</td>\n",
       "      <td>Lvl</td>\n",
       "      <td>AllPub</td>\n",
       "      <td>FR2</td>\n",
       "      <td>...</td>\n",
       "      <td>0</td>\n",
       "      <td>1</td>\n",
       "      <td>0</td>\n",
       "      <td>NA</td>\n",
       "      <td>0</td>\n",
       "      <td>5</td>\n",
       "      <td>new</td>\n",
       "      <td>WD</td>\n",
       "      <td>Normal</td>\n",
       "      <td>181500</td>\n",
       "    </tr>\n",
       "    <tr>\n",
       "      <th>2</th>\n",
       "      <td>60</td>\n",
       "      <td>RL</td>\n",
       "      <td>68.0</td>\n",
       "      <td>11250</td>\n",
       "      <td>2</td>\n",
       "      <td>0</td>\n",
       "      <td>IR1</td>\n",
       "      <td>Lvl</td>\n",
       "      <td>AllPub</td>\n",
       "      <td>Inside</td>\n",
       "      <td>...</td>\n",
       "      <td>0</td>\n",
       "      <td>1</td>\n",
       "      <td>0</td>\n",
       "      <td>NA</td>\n",
       "      <td>0</td>\n",
       "      <td>9</td>\n",
       "      <td>new</td>\n",
       "      <td>WD</td>\n",
       "      <td>Normal</td>\n",
       "      <td>223500</td>\n",
       "    </tr>\n",
       "    <tr>\n",
       "      <th>3</th>\n",
       "      <td>70</td>\n",
       "      <td>RL</td>\n",
       "      <td>60.0</td>\n",
       "      <td>9550</td>\n",
       "      <td>2</td>\n",
       "      <td>0</td>\n",
       "      <td>IR1</td>\n",
       "      <td>Lvl</td>\n",
       "      <td>AllPub</td>\n",
       "      <td>Corner</td>\n",
       "      <td>...</td>\n",
       "      <td>0</td>\n",
       "      <td>1</td>\n",
       "      <td>0</td>\n",
       "      <td>NA</td>\n",
       "      <td>0</td>\n",
       "      <td>2</td>\n",
       "      <td>new</td>\n",
       "      <td>WD</td>\n",
       "      <td>Abnorml</td>\n",
       "      <td>140000</td>\n",
       "    </tr>\n",
       "    <tr>\n",
       "      <th>4</th>\n",
       "      <td>60</td>\n",
       "      <td>RL</td>\n",
       "      <td>84.0</td>\n",
       "      <td>14260</td>\n",
       "      <td>2</td>\n",
       "      <td>0</td>\n",
       "      <td>IR1</td>\n",
       "      <td>Lvl</td>\n",
       "      <td>AllPub</td>\n",
       "      <td>FR2</td>\n",
       "      <td>...</td>\n",
       "      <td>0</td>\n",
       "      <td>1</td>\n",
       "      <td>0</td>\n",
       "      <td>NA</td>\n",
       "      <td>0</td>\n",
       "      <td>12</td>\n",
       "      <td>new</td>\n",
       "      <td>WD</td>\n",
       "      <td>Normal</td>\n",
       "      <td>250000</td>\n",
       "    </tr>\n",
       "  </tbody>\n",
       "</table>\n",
       "<p>5 rows × 80 columns</p>\n",
       "</div>"
      ],
      "text/plain": [
       "  MSSubClass MSZoning  LotFrontage  LotArea  Street  Alley LotShape  \\\n",
       "0         60       RL         65.0     8450       2      0      Reg   \n",
       "1         20       RL         80.0     9600       2      0      Reg   \n",
       "2         60       RL         68.0    11250       2      0      IR1   \n",
       "3         70       RL         60.0     9550       2      0      IR1   \n",
       "4         60       RL         84.0    14260       2      0      IR1   \n",
       "\n",
       "  LandContour Utilities LotConfig  ...  PoolArea PoolQC Fence MiscFeature  \\\n",
       "0         Lvl    AllPub    Inside  ...         0      1     0          NA   \n",
       "1         Lvl    AllPub       FR2  ...         0      1     0          NA   \n",
       "2         Lvl    AllPub    Inside  ...         0      1     0          NA   \n",
       "3         Lvl    AllPub    Corner  ...         0      1     0          NA   \n",
       "4         Lvl    AllPub       FR2  ...         0      1     0          NA   \n",
       "\n",
       "  MiscVal MoSold  YrSold  SaleType SaleCondition SalePrice  \n",
       "0       0      2     new        WD        Normal    208500  \n",
       "1       0      5     new        WD        Normal    181500  \n",
       "2       0      9     new        WD        Normal    223500  \n",
       "3       0      2     new        WD       Abnorml    140000  \n",
       "4       0     12     new        WD        Normal    250000  \n",
       "\n",
       "[5 rows x 80 columns]"
      ]
     },
     "execution_count": 36,
     "metadata": {},
     "output_type": "execute_result"
    }
   ],
   "source": [
    "housing_data.head()"
   ]
  },
  {
   "cell_type": "code",
   "execution_count": 38,
   "metadata": {},
   "outputs": [],
   "source": [
    "housing_data.to_csv(\"data/processed_housing_data.csv\", index=False)"
   ]
  },
  {
   "cell_type": "markdown",
   "metadata": {
    "id": "oYL7PL4IRdFR"
   },
   "source": [
    "All the ordinal categorical values are replaced with numerical representations. Our data doesn't have ordinal categorical values anymore. There are also no missing data. \\\\\n",
    "The next step is to get rid of all the columns that have the object type. They need to be replaced with dummy columns so that we can feed only numeric data to our model. "
   ]
  },
  {
   "cell_type": "code",
   "execution_count": 38,
   "metadata": {
    "id": "ylQsF9ZW9Ia-"
   },
   "outputs": [],
   "source": [
    "df_types = pd.DataFrame(housing_data.dtypes).reset_index()\n",
    "string_columns = df_types[df_types[0]=='object']['index']\n",
    "non_string_columns = df_types[df_types[0]!='object']['index']"
   ]
  },
  {
   "cell_type": "code",
   "execution_count": 39,
   "metadata": {
    "id": "eX8wUosvpUf6"
   },
   "outputs": [
    {
     "data": {
      "text/plain": [
       "2       LotFrontage\n",
       "3           LotArea\n",
       "4            Street\n",
       "5             Alley\n",
       "10        LandSlope\n",
       "16      OverallQual\n",
       "17      OverallCond\n",
       "25       MasVnrArea\n",
       "26        ExterQual\n",
       "27        ExterCond\n",
       "29         BsmtQual\n",
       "30         BsmtCond\n",
       "31     BsmtExposure\n",
       "32     BsmtFinType1\n",
       "33       BsmtFinSF1\n",
       "34     BsmtFinType2\n",
       "35       BsmtFinSF2\n",
       "36        BsmtUnfSF\n",
       "37      TotalBsmtSF\n",
       "39        HeatingQC\n",
       "42         1stFlrSF\n",
       "43         2ndFlrSF\n",
       "44     LowQualFinSF\n",
       "45        GrLivArea\n",
       "46     BsmtFullBath\n",
       "47     BsmtHalfBath\n",
       "48         FullBath\n",
       "49         HalfBath\n",
       "50     BedroomAbvGr\n",
       "51     KitchenAbvGr\n",
       "52      KitchenQual\n",
       "53     TotRmsAbvGrd\n",
       "54       Functional\n",
       "55       Fireplaces\n",
       "56      FireplaceQu\n",
       "59     GarageFinish\n",
       "60       GarageCars\n",
       "61       GarageArea\n",
       "62       GarageQual\n",
       "63       GarageCond\n",
       "64       PavedDrive\n",
       "65       WoodDeckSF\n",
       "66      OpenPorchSF\n",
       "67    EnclosedPorch\n",
       "68        3SsnPorch\n",
       "69      ScreenPorch\n",
       "70         PoolArea\n",
       "71           PoolQC\n",
       "72            Fence\n",
       "74          MiscVal\n",
       "75           MoSold\n",
       "79        SalePrice\n",
       "Name: index, dtype: object"
      ]
     },
     "execution_count": 39,
     "metadata": {},
     "output_type": "execute_result"
    }
   ],
   "source": [
    "non_string_columns"
   ]
  },
  {
   "cell_type": "code",
   "execution_count": 40,
   "metadata": {
    "colab": {
     "base_uri": "https://localhost:8080/",
     "height": 224
    },
    "id": "IhNORGFdDkP8",
    "outputId": "6ad966a1-2c56-4f92-f907-ba53783e84d4"
   },
   "outputs": [
    {
     "data": {
      "text/html": [
       "<div>\n",
       "<style scoped>\n",
       "    .dataframe tbody tr th:only-of-type {\n",
       "        vertical-align: middle;\n",
       "    }\n",
       "\n",
       "    .dataframe tbody tr th {\n",
       "        vertical-align: top;\n",
       "    }\n",
       "\n",
       "    .dataframe thead th {\n",
       "        text-align: right;\n",
       "    }\n",
       "</style>\n",
       "<table border=\"1\" class=\"dataframe\">\n",
       "  <thead>\n",
       "    <tr style=\"text-align: right;\">\n",
       "      <th></th>\n",
       "      <th>LotFrontage</th>\n",
       "      <th>LotArea</th>\n",
       "      <th>Street</th>\n",
       "      <th>Alley</th>\n",
       "      <th>LandSlope</th>\n",
       "      <th>OverallQual</th>\n",
       "      <th>OverallCond</th>\n",
       "      <th>MasVnrArea</th>\n",
       "      <th>ExterQual</th>\n",
       "      <th>ExterCond</th>\n",
       "      <th>...</th>\n",
       "      <th>OpenPorchSF</th>\n",
       "      <th>EnclosedPorch</th>\n",
       "      <th>3SsnPorch</th>\n",
       "      <th>ScreenPorch</th>\n",
       "      <th>PoolArea</th>\n",
       "      <th>PoolQC</th>\n",
       "      <th>Fence</th>\n",
       "      <th>MiscVal</th>\n",
       "      <th>MoSold</th>\n",
       "      <th>SalePrice</th>\n",
       "    </tr>\n",
       "  </thead>\n",
       "  <tbody>\n",
       "    <tr>\n",
       "      <th>0</th>\n",
       "      <td>65.0</td>\n",
       "      <td>8450</td>\n",
       "      <td>2</td>\n",
       "      <td>0</td>\n",
       "      <td>2</td>\n",
       "      <td>7</td>\n",
       "      <td>5</td>\n",
       "      <td>196.0</td>\n",
       "      <td>3</td>\n",
       "      <td>3</td>\n",
       "      <td>...</td>\n",
       "      <td>61</td>\n",
       "      <td>0</td>\n",
       "      <td>0</td>\n",
       "      <td>0</td>\n",
       "      <td>0</td>\n",
       "      <td>1</td>\n",
       "      <td>0</td>\n",
       "      <td>0</td>\n",
       "      <td>2</td>\n",
       "      <td>208500</td>\n",
       "    </tr>\n",
       "    <tr>\n",
       "      <th>1</th>\n",
       "      <td>80.0</td>\n",
       "      <td>9600</td>\n",
       "      <td>2</td>\n",
       "      <td>0</td>\n",
       "      <td>2</td>\n",
       "      <td>6</td>\n",
       "      <td>8</td>\n",
       "      <td>0.0</td>\n",
       "      <td>2</td>\n",
       "      <td>3</td>\n",
       "      <td>...</td>\n",
       "      <td>0</td>\n",
       "      <td>0</td>\n",
       "      <td>0</td>\n",
       "      <td>0</td>\n",
       "      <td>0</td>\n",
       "      <td>1</td>\n",
       "      <td>0</td>\n",
       "      <td>0</td>\n",
       "      <td>5</td>\n",
       "      <td>181500</td>\n",
       "    </tr>\n",
       "    <tr>\n",
       "      <th>2</th>\n",
       "      <td>68.0</td>\n",
       "      <td>11250</td>\n",
       "      <td>2</td>\n",
       "      <td>0</td>\n",
       "      <td>2</td>\n",
       "      <td>7</td>\n",
       "      <td>5</td>\n",
       "      <td>162.0</td>\n",
       "      <td>3</td>\n",
       "      <td>3</td>\n",
       "      <td>...</td>\n",
       "      <td>42</td>\n",
       "      <td>0</td>\n",
       "      <td>0</td>\n",
       "      <td>0</td>\n",
       "      <td>0</td>\n",
       "      <td>1</td>\n",
       "      <td>0</td>\n",
       "      <td>0</td>\n",
       "      <td>9</td>\n",
       "      <td>223500</td>\n",
       "    </tr>\n",
       "    <tr>\n",
       "      <th>3</th>\n",
       "      <td>60.0</td>\n",
       "      <td>9550</td>\n",
       "      <td>2</td>\n",
       "      <td>0</td>\n",
       "      <td>2</td>\n",
       "      <td>7</td>\n",
       "      <td>5</td>\n",
       "      <td>0.0</td>\n",
       "      <td>2</td>\n",
       "      <td>3</td>\n",
       "      <td>...</td>\n",
       "      <td>35</td>\n",
       "      <td>272</td>\n",
       "      <td>0</td>\n",
       "      <td>0</td>\n",
       "      <td>0</td>\n",
       "      <td>1</td>\n",
       "      <td>0</td>\n",
       "      <td>0</td>\n",
       "      <td>2</td>\n",
       "      <td>140000</td>\n",
       "    </tr>\n",
       "    <tr>\n",
       "      <th>4</th>\n",
       "      <td>84.0</td>\n",
       "      <td>14260</td>\n",
       "      <td>2</td>\n",
       "      <td>0</td>\n",
       "      <td>2</td>\n",
       "      <td>8</td>\n",
       "      <td>5</td>\n",
       "      <td>350.0</td>\n",
       "      <td>3</td>\n",
       "      <td>3</td>\n",
       "      <td>...</td>\n",
       "      <td>84</td>\n",
       "      <td>0</td>\n",
       "      <td>0</td>\n",
       "      <td>0</td>\n",
       "      <td>0</td>\n",
       "      <td>1</td>\n",
       "      <td>0</td>\n",
       "      <td>0</td>\n",
       "      <td>12</td>\n",
       "      <td>250000</td>\n",
       "    </tr>\n",
       "  </tbody>\n",
       "</table>\n",
       "<p>5 rows × 52 columns</p>\n",
       "</div>"
      ],
      "text/plain": [
       "   LotFrontage  LotArea  Street  Alley  LandSlope  OverallQual  OverallCond  \\\n",
       "0         65.0     8450       2      0          2            7            5   \n",
       "1         80.0     9600       2      0          2            6            8   \n",
       "2         68.0    11250       2      0          2            7            5   \n",
       "3         60.0     9550       2      0          2            7            5   \n",
       "4         84.0    14260       2      0          2            8            5   \n",
       "\n",
       "   MasVnrArea  ExterQual  ExterCond  ...  OpenPorchSF  EnclosedPorch  \\\n",
       "0       196.0          3          3  ...           61              0   \n",
       "1         0.0          2          3  ...            0              0   \n",
       "2       162.0          3          3  ...           42              0   \n",
       "3         0.0          2          3  ...           35            272   \n",
       "4       350.0          3          3  ...           84              0   \n",
       "\n",
       "   3SsnPorch  ScreenPorch  PoolArea  PoolQC  Fence  MiscVal  MoSold  SalePrice  \n",
       "0          0            0         0       1      0        0       2     208500  \n",
       "1          0            0         0       1      0        0       5     181500  \n",
       "2          0            0         0       1      0        0       9     223500  \n",
       "3          0            0         0       1      0        0       2     140000  \n",
       "4          0            0         0       1      0        0      12     250000  \n",
       "\n",
       "[5 rows x 52 columns]"
      ]
     },
     "execution_count": 40,
     "metadata": {},
     "output_type": "execute_result"
    }
   ],
   "source": [
    "# all the non-string columns\n",
    "housing_data[non_string_columns].head()"
   ]
  },
  {
   "cell_type": "code",
   "execution_count": 41,
   "metadata": {
    "id": "J8o7_Z7pAGjI"
   },
   "outputs": [],
   "source": [
    "dummy_df = pd.get_dummies(housing_data[string_columns])"
   ]
  },
  {
   "cell_type": "code",
   "execution_count": 42,
   "metadata": {
    "id": "yu4V3yE1A9qP"
   },
   "outputs": [],
   "source": [
    "# creating the ultimate dataframe where we have no categorical values\n",
    "df = pd.concat([dummy_df,housing_data[non_string_columns]], axis=1)"
   ]
  },
  {
   "cell_type": "code",
   "execution_count": 43,
   "metadata": {
    "colab": {
     "base_uri": "https://localhost:8080/"
    },
    "id": "yCQ1Rq44TX_L",
    "outputId": "0db6ed1e-d44d-4958-d806-a2cd3d3b10cb"
   },
   "outputs": [
    {
     "data": {
      "text/plain": [
       "uint8      195\n",
       "int64       50\n",
       "float64      2\n",
       "dtype: int64"
      ]
     },
     "execution_count": 43,
     "metadata": {},
     "output_type": "execute_result"
    }
   ],
   "source": [
    "# no object typed columns left\n",
    "df.dtypes.value_counts()"
   ]
  },
  {
   "cell_type": "code",
   "execution_count": 44,
   "metadata": {
    "colab": {
     "base_uri": "https://localhost:8080/"
    },
    "id": "KuJGleTajZQM",
    "outputId": "b61c3a5d-9e50-4e97-9426-d97021e8022a"
   },
   "outputs": [
    {
     "data": {
      "text/plain": [
       "(1460, 247)"
      ]
     },
     "execution_count": 44,
     "metadata": {},
     "output_type": "execute_result"
    }
   ],
   "source": [
    "df.shape"
   ]
  },
  {
   "cell_type": "code",
   "execution_count": 45,
   "metadata": {
    "colab": {
     "base_uri": "https://localhost:8080/"
    },
    "id": "obROwxSwjdA4",
    "outputId": "ccb3c0dc-55fe-4916-9287-594916098405"
   },
   "outputs": [
    {
     "data": {
      "text/plain": [
       "0"
      ]
     },
     "execution_count": 45,
     "metadata": {},
     "output_type": "execute_result"
    }
   ],
   "source": [
    "# number of missing data\n",
    "df.isnull().sum().sum()"
   ]
  },
  {
   "cell_type": "code",
   "execution_count": 46,
   "metadata": {
    "colab": {
     "base_uri": "https://localhost:8080/",
     "height": 285
    },
    "id": "z64ngHSEINtN",
    "outputId": "2c5ca3dd-93d9-430f-f8cc-e1227eced05c"
   },
   "outputs": [
    {
     "data": {
      "image/png": "[encoded data removed]",
      "text/plain": [
       "<Figure size 432x288 with 1 Axes>"
      ]
     },
     "metadata": {},
     "output_type": "display_data"
    }
   ],
   "source": [
    "# check the outliers in target value\n",
    "sns.set_theme(style=\"whitegrid\")\n",
    "sns.boxplot(x=df['SalePrice']);"
   ]
  },
  {
   "cell_type": "code",
   "execution_count": 47,
   "metadata": {
    "colab": {
     "base_uri": "https://localhost:8080/",
     "height": 365
    },
    "id": "y1Fmyh7PEmjx",
    "outputId": "270e7f61-0900-4fac-ef48-d132962efc7a"
   },
   "outputs": [
    {
     "data": {
      "image/png": "[encoded data removed]",
      "text/plain": [
       "<Figure size 360x360 with 1 Axes>"
      ]
     },
     "metadata": {},
     "output_type": "display_data"
    }
   ],
   "source": [
    "sns.displot(df['SalePrice']);"
   ]
  },
  {
   "cell_type": "markdown",
   "metadata": {
    "id": "7982fVV4F_Zk"
   },
   "source": [
    "In the above two charts, we see that SalePrice: \\\\\n",
    "\n",
    "*   Has multiple outliers\n",
    "*   Has a positive skewness \\\\\n",
    "\n",
    "At this point, I decide not to tackle the outliers. I will leave them as they are. They might be handy if we see a similar data point in my testing dataset. \n",
    "\n"
   ]
  },
  {
   "cell_type": "markdown",
   "metadata": {
    "id": "uexpA1vY5YFH"
   },
   "source": [
    "# Preprocessing"
   ]
  },
  {
   "cell_type": "code",
   "execution_count": 48,
   "metadata": {
    "colab": {
     "base_uri": "https://localhost:8080/"
    },
    "id": "d-jgQnsAq1KJ",
    "outputId": "298200ec-be8b-4f2a-c92e-deffd3c2a28a"
   },
   "outputs": [
    {
     "data": {
      "text/plain": [
       "(1460, 247)"
      ]
     },
     "execution_count": 48,
     "metadata": {},
     "output_type": "execute_result"
    }
   ],
   "source": [
    "df.shape"
   ]
  },
  {
   "cell_type": "markdown",
   "metadata": {
    "id": "9vMehkXVbKk3"
   },
   "source": [
    "Right now there are almost 250 predictors and 1 target variable. Here we need to decrease the number of predictors. There are 2 options. \\\\\n",
    "1. Manually deleting the fields with less correlation to the target.\n",
    "2. Using a regularization technique to pick only the most useful predictors. \n"
   ]
  },
  {
   "cell_type": "markdown",
   "metadata": {
    "id": "_13f0bOJb7rg"
   },
   "source": [
    "Since 250 predictors cannot be easily selected on a visualization, I first eliminate some manually then use Ridge to determine the useful predictors. I want to use Ridge because I already eliminated the unrelated predictors. I don't want to use a harsh regulizer like Lasso at this point."
   ]
  },
  {
   "cell_type": "code",
   "execution_count": 49,
   "metadata": {
    "colab": {
     "base_uri": "https://localhost:8080/",
     "height": 793
    },
    "id": "9iV5PdPwiFMH",
    "outputId": "03d67f55-a251-415a-9fd7-f90189b8ddac"
   },
   "outputs": [
    {
     "data": {
      "text/html": [
       "<div>\n",
       "<style scoped>\n",
       "    .dataframe tbody tr th:only-of-type {\n",
       "        vertical-align: middle;\n",
       "    }\n",
       "\n",
       "    .dataframe tbody tr th {\n",
       "        vertical-align: top;\n",
       "    }\n",
       "\n",
       "    .dataframe thead th {\n",
       "        text-align: right;\n",
       "    }\n",
       "</style>\n",
       "<table border=\"1\" class=\"dataframe\">\n",
       "  <thead>\n",
       "    <tr style=\"text-align: right;\">\n",
       "      <th></th>\n",
       "      <th>SalePrice</th>\n",
       "    </tr>\n",
       "  </thead>\n",
       "  <tbody>\n",
       "    <tr>\n",
       "      <th>SalePrice</th>\n",
       "      <td>1.000000</td>\n",
       "    </tr>\n",
       "    <tr>\n",
       "      <th>OverallQual</th>\n",
       "      <td>0.790982</td>\n",
       "    </tr>\n",
       "    <tr>\n",
       "      <th>GrLivArea</th>\n",
       "      <td>0.708624</td>\n",
       "    </tr>\n",
       "    <tr>\n",
       "      <th>ExterQual</th>\n",
       "      <td>0.682639</td>\n",
       "    </tr>\n",
       "    <tr>\n",
       "      <th>KitchenQual</th>\n",
       "      <td>0.659600</td>\n",
       "    </tr>\n",
       "    <tr>\n",
       "      <th>GarageCars</th>\n",
       "      <td>0.640409</td>\n",
       "    </tr>\n",
       "    <tr>\n",
       "      <th>GarageArea</th>\n",
       "      <td>0.623431</td>\n",
       "    </tr>\n",
       "    <tr>\n",
       "      <th>TotalBsmtSF</th>\n",
       "      <td>0.613581</td>\n",
       "    </tr>\n",
       "    <tr>\n",
       "      <th>1stFlrSF</th>\n",
       "      <td>0.605852</td>\n",
       "    </tr>\n",
       "    <tr>\n",
       "      <th>BsmtQual</th>\n",
       "      <td>0.585207</td>\n",
       "    </tr>\n",
       "    <tr>\n",
       "      <th>FullBath</th>\n",
       "      <td>0.560664</td>\n",
       "    </tr>\n",
       "    <tr>\n",
       "      <th>YearBuilt_old</th>\n",
       "      <td>0.557308</td>\n",
       "    </tr>\n",
       "    <tr>\n",
       "      <th>GarageFinish</th>\n",
       "      <td>0.549247</td>\n",
       "    </tr>\n",
       "    <tr>\n",
       "      <th>TotRmsAbvGrd</th>\n",
       "      <td>0.533723</td>\n",
       "    </tr>\n",
       "    <tr>\n",
       "      <th>FireplaceQu</th>\n",
       "      <td>0.520438</td>\n",
       "    </tr>\n",
       "    <tr>\n",
       "      <th>GarageYrBlt_old</th>\n",
       "      <td>0.498900</td>\n",
       "    </tr>\n",
       "    <tr>\n",
       "      <th>Foundation_PConc</th>\n",
       "      <td>0.497734</td>\n",
       "    </tr>\n",
       "    <tr>\n",
       "      <th>MasVnrArea</th>\n",
       "      <td>0.472614</td>\n",
       "    </tr>\n",
       "    <tr>\n",
       "      <th>Fireplaces</th>\n",
       "      <td>0.466929</td>\n",
       "    </tr>\n",
       "    <tr>\n",
       "      <th>YearBuilt_new</th>\n",
       "      <td>0.466033</td>\n",
       "    </tr>\n",
       "    <tr>\n",
       "      <th>YearRemodAdd_old</th>\n",
       "      <td>0.464053</td>\n",
       "    </tr>\n",
       "    <tr>\n",
       "      <th>GarageYrBlt_new</th>\n",
       "      <td>0.451187</td>\n",
       "    </tr>\n",
       "    <tr>\n",
       "      <th>HeatingQC</th>\n",
       "      <td>0.427649</td>\n",
       "    </tr>\n",
       "    <tr>\n",
       "      <th>Neighborhood_NridgHt</th>\n",
       "      <td>0.402149</td>\n",
       "    </tr>\n",
       "  </tbody>\n",
       "</table>\n",
       "</div>"
      ],
      "text/plain": [
       "                      SalePrice\n",
       "SalePrice              1.000000\n",
       "OverallQual            0.790982\n",
       "GrLivArea              0.708624\n",
       "ExterQual              0.682639\n",
       "KitchenQual            0.659600\n",
       "GarageCars             0.640409\n",
       "GarageArea             0.623431\n",
       "TotalBsmtSF            0.613581\n",
       "1stFlrSF               0.605852\n",
       "BsmtQual               0.585207\n",
       "FullBath               0.560664\n",
       "YearBuilt_old          0.557308\n",
       "GarageFinish           0.549247\n",
       "TotRmsAbvGrd           0.533723\n",
       "FireplaceQu            0.520438\n",
       "GarageYrBlt_old        0.498900\n",
       "Foundation_PConc       0.497734\n",
       "MasVnrArea             0.472614\n",
       "Fireplaces             0.466929\n",
       "YearBuilt_new          0.466033\n",
       "YearRemodAdd_old       0.464053\n",
       "GarageYrBlt_new        0.451187\n",
       "HeatingQC              0.427649\n",
       "Neighborhood_NridgHt   0.402149"
      ]
     },
     "execution_count": 49,
     "metadata": {},
     "output_type": "execute_result"
    }
   ],
   "source": [
    "# find the most correlated columns:\n",
    "df_corr = abs(df.corr()).sort_values(by='SalePrice', ascending=False)[['SalePrice']]\n",
    "df_corr[df_corr['SalePrice']>0.4]"
   ]
  },
  {
   "cell_type": "code",
   "execution_count": 50,
   "metadata": {
    "colab": {
     "base_uri": "https://localhost:8080/"
    },
    "id": "2xoqE5limqlU",
    "outputId": "607788b0-e62d-4df3-dfec-b7f15758b0e1"
   },
   "outputs": [
    {
     "data": {
      "text/plain": [
       "(1460, 24)"
      ]
     },
     "execution_count": 50,
     "metadata": {},
     "output_type": "execute_result"
    }
   ],
   "source": [
    "df_small = df[df_corr[df_corr['SalePrice']>0.4].index.tolist()]\n",
    "df_small.shape"
   ]
  },
  {
   "cell_type": "markdown",
   "metadata": {
    "id": "DLj2yvadm65Z"
   },
   "source": [
    "Now we decreased the number of predictors from 247 to 24. "
   ]
  },
  {
   "cell_type": "markdown",
   "metadata": {
    "id": "S3uoTpLp5X52"
   },
   "source": [
    "Before we do any further move I will split my data. The reason why I do that now is from this point on, it is the training phase. Any test data that I will introduce during modelling or premodelling, will create a bias in my evaluation metrics. "
   ]
  },
  {
   "cell_type": "code",
   "execution_count": 51,
   "metadata": {
    "id": "TMPRnCljJn4K"
   },
   "outputs": [],
   "source": [
    "df_small.reset_index(inplace=True,drop=True)"
   ]
  },
  {
   "cell_type": "code",
   "execution_count": 52,
   "metadata": {
    "id": "bJ1KdKaTDRqk"
   },
   "outputs": [],
   "source": [
    "X = df_small.drop(columns=['SalePrice'])\n",
    "y = df_small['SalePrice']"
   ]
  },
  {
   "cell_type": "code",
   "execution_count": 53,
   "metadata": {
    "id": "GPua5YwUCR2Y"
   },
   "outputs": [],
   "source": [
    "X_train, X_test, y_train, y_test = train_test_split(X, y, test_size = 0.25, random_state = 42)"
   ]
  },
  {
   "cell_type": "code",
   "execution_count": 54,
   "metadata": {
    "colab": {
     "base_uri": "https://localhost:8080/",
     "height": 224
    },
    "id": "7kvhPtftEL8a",
    "outputId": "a8d9feb9-f4f5-44f7-ff4c-a0962207e273"
   },
   "outputs": [
    {
     "data": {
      "text/html": [
       "<div>\n",
       "<style scoped>\n",
       "    .dataframe tbody tr th:only-of-type {\n",
       "        vertical-align: middle;\n",
       "    }\n",
       "\n",
       "    .dataframe tbody tr th {\n",
       "        vertical-align: top;\n",
       "    }\n",
       "\n",
       "    .dataframe thead th {\n",
       "        text-align: right;\n",
       "    }\n",
       "</style>\n",
       "<table border=\"1\" class=\"dataframe\">\n",
       "  <thead>\n",
       "    <tr style=\"text-align: right;\">\n",
       "      <th></th>\n",
       "      <th>OverallQual</th>\n",
       "      <th>GrLivArea</th>\n",
       "      <th>ExterQual</th>\n",
       "      <th>KitchenQual</th>\n",
       "      <th>GarageCars</th>\n",
       "      <th>GarageArea</th>\n",
       "      <th>TotalBsmtSF</th>\n",
       "      <th>1stFlrSF</th>\n",
       "      <th>BsmtQual</th>\n",
       "      <th>FullBath</th>\n",
       "      <th>...</th>\n",
       "      <th>FireplaceQu</th>\n",
       "      <th>GarageYrBlt_old</th>\n",
       "      <th>Foundation_PConc</th>\n",
       "      <th>MasVnrArea</th>\n",
       "      <th>Fireplaces</th>\n",
       "      <th>YearBuilt_new</th>\n",
       "      <th>YearRemodAdd_old</th>\n",
       "      <th>GarageYrBlt_new</th>\n",
       "      <th>HeatingQC</th>\n",
       "      <th>Neighborhood_NridgHt</th>\n",
       "    </tr>\n",
       "  </thead>\n",
       "  <tbody>\n",
       "    <tr>\n",
       "      <th>1023</th>\n",
       "      <td>7</td>\n",
       "      <td>1504</td>\n",
       "      <td>3</td>\n",
       "      <td>4</td>\n",
       "      <td>2</td>\n",
       "      <td>437</td>\n",
       "      <td>1346</td>\n",
       "      <td>1504</td>\n",
       "      <td>5</td>\n",
       "      <td>2</td>\n",
       "      <td>...</td>\n",
       "      <td>5</td>\n",
       "      <td>0</td>\n",
       "      <td>1</td>\n",
       "      <td>14.0</td>\n",
       "      <td>1</td>\n",
       "      <td>1</td>\n",
       "      <td>0</td>\n",
       "      <td>1</td>\n",
       "      <td>5</td>\n",
       "      <td>0</td>\n",
       "    </tr>\n",
       "    <tr>\n",
       "      <th>810</th>\n",
       "      <td>6</td>\n",
       "      <td>1309</td>\n",
       "      <td>2</td>\n",
       "      <td>4</td>\n",
       "      <td>2</td>\n",
       "      <td>484</td>\n",
       "      <td>1040</td>\n",
       "      <td>1309</td>\n",
       "      <td>4</td>\n",
       "      <td>1</td>\n",
       "      <td>...</td>\n",
       "      <td>3</td>\n",
       "      <td>1</td>\n",
       "      <td>0</td>\n",
       "      <td>99.0</td>\n",
       "      <td>1</td>\n",
       "      <td>0</td>\n",
       "      <td>0</td>\n",
       "      <td>0</td>\n",
       "      <td>2</td>\n",
       "      <td>0</td>\n",
       "    </tr>\n",
       "    <tr>\n",
       "      <th>1384</th>\n",
       "      <td>6</td>\n",
       "      <td>1258</td>\n",
       "      <td>2</td>\n",
       "      <td>3</td>\n",
       "      <td>1</td>\n",
       "      <td>280</td>\n",
       "      <td>560</td>\n",
       "      <td>698</td>\n",
       "      <td>4</td>\n",
       "      <td>1</td>\n",
       "      <td>...</td>\n",
       "      <td>1</td>\n",
       "      <td>1</td>\n",
       "      <td>0</td>\n",
       "      <td>0.0</td>\n",
       "      <td>0</td>\n",
       "      <td>0</td>\n",
       "      <td>1</td>\n",
       "      <td>0</td>\n",
       "      <td>3</td>\n",
       "      <td>0</td>\n",
       "    </tr>\n",
       "    <tr>\n",
       "      <th>626</th>\n",
       "      <td>5</td>\n",
       "      <td>1422</td>\n",
       "      <td>2</td>\n",
       "      <td>3</td>\n",
       "      <td>1</td>\n",
       "      <td>286</td>\n",
       "      <td>978</td>\n",
       "      <td>1422</td>\n",
       "      <td>4</td>\n",
       "      <td>1</td>\n",
       "      <td>...</td>\n",
       "      <td>4</td>\n",
       "      <td>1</td>\n",
       "      <td>0</td>\n",
       "      <td>0.0</td>\n",
       "      <td>1</td>\n",
       "      <td>0</td>\n",
       "      <td>1</td>\n",
       "      <td>0</td>\n",
       "      <td>3</td>\n",
       "      <td>0</td>\n",
       "    </tr>\n",
       "    <tr>\n",
       "      <th>813</th>\n",
       "      <td>6</td>\n",
       "      <td>1442</td>\n",
       "      <td>2</td>\n",
       "      <td>3</td>\n",
       "      <td>1</td>\n",
       "      <td>301</td>\n",
       "      <td>1442</td>\n",
       "      <td>1442</td>\n",
       "      <td>4</td>\n",
       "      <td>1</td>\n",
       "      <td>...</td>\n",
       "      <td>1</td>\n",
       "      <td>1</td>\n",
       "      <td>0</td>\n",
       "      <td>243.0</td>\n",
       "      <td>0</td>\n",
       "      <td>0</td>\n",
       "      <td>1</td>\n",
       "      <td>0</td>\n",
       "      <td>4</td>\n",
       "      <td>0</td>\n",
       "    </tr>\n",
       "  </tbody>\n",
       "</table>\n",
       "<p>5 rows × 23 columns</p>\n",
       "</div>"
      ],
      "text/plain": [
       "      OverallQual  GrLivArea  ExterQual  KitchenQual  GarageCars  GarageArea  \\\n",
       "1023            7       1504          3            4           2         437   \n",
       "810             6       1309          2            4           2         484   \n",
       "1384            6       1258          2            3           1         280   \n",
       "626             5       1422          2            3           1         286   \n",
       "813             6       1442          2            3           1         301   \n",
       "\n",
       "      TotalBsmtSF  1stFlrSF  BsmtQual  FullBath  ...  FireplaceQu  \\\n",
       "1023         1346      1504         5         2  ...            5   \n",
       "810          1040      1309         4         1  ...            3   \n",
       "1384          560       698         4         1  ...            1   \n",
       "626           978      1422         4         1  ...            4   \n",
       "813          1442      1442         4         1  ...            1   \n",
       "\n",
       "      GarageYrBlt_old  Foundation_PConc  MasVnrArea  Fireplaces  \\\n",
       "1023                0                 1        14.0           1   \n",
       "810                 1                 0        99.0           1   \n",
       "1384                1                 0         0.0           0   \n",
       "626                 1                 0         0.0           1   \n",
       "813                 1                 0       243.0           0   \n",
       "\n",
       "      YearBuilt_new  YearRemodAdd_old  GarageYrBlt_new  HeatingQC  \\\n",
       "1023              1                 0                1          5   \n",
       "810               0                 0                0          2   \n",
       "1384              0                 1                0          3   \n",
       "626               0                 1                0          3   \n",
       "813               0                 1                0          4   \n",
       "\n",
       "      Neighborhood_NridgHt  \n",
       "1023                     0  \n",
       "810                      0  \n",
       "1384                     0  \n",
       "626                      0  \n",
       "813                      0  \n",
       "\n",
       "[5 rows x 23 columns]"
      ]
     },
     "execution_count": 54,
     "metadata": {},
     "output_type": "execute_result"
    }
   ],
   "source": [
    "X_train.head()"
   ]
  },
  {
   "cell_type": "markdown",
   "metadata": {
    "id": "En5HVRjE5W04"
   },
   "source": [
    "Since I will be utilizing a linear regression model, I need to meet its assumptions.\n",
    "\n",
    "1. Linearity: a predictor and the target value have a linear relationship\n",
    "2. Independence of error: no dependence between errors\n",
    "3. Normality: the errors are normally distributed\n",
    "4. Equality of variance: error values have a similar variance no matter what the value of the predictor becomes.\n",
    "5. Independence of predictors: no multicollinearity!"
   ]
  },
  {
   "cell_type": "code",
   "execution_count": null,
   "metadata": {
    "colab": {
     "base_uri": "https://localhost:8080/",
     "height": 731
    },
    "id": "uX_-vWUTMu7T",
    "outputId": "0f910736-e846-417a-c5d3-f3f73a05dad3"
   },
   "outputs": [
    {
     "data": {
      "text/plain": [
       "<matplotlib.axes._subplots.AxesSubplot at 0x7f3e66e1b8d0>"
      ]
     },
     "execution_count": 173,
     "metadata": {
      "tags": []
     },
     "output_type": "execute_result"
    },
    {
     "data": {
      "image/png": "[encoded data removed]",
      "text/plain": [
       "<Figure size 720x720 with 2 Axes>"
      ]
     },
     "metadata": {
      "tags": []
     },
     "output_type": "display_data"
    }
   ],
   "source": [
    "fig, ax = plt.subplots(figsize=(10,10))\n",
    "sns.heatmap(df_small.abs().corr())"
   ]
  },
  {
   "cell_type": "code",
   "execution_count": 55,
   "metadata": {
    "colab": {
     "base_uri": "https://localhost:8080/",
     "height": 365
    },
    "id": "65WlU6MVl12i",
    "outputId": "d2ea5bdb-de86-443a-8eb3-9597a408d9b8"
   },
   "outputs": [
    {
     "data": {
      "image/png": "[encoded data removed]",
      "text/plain": [
       "<Figure size 360x360 with 1 Axes>"
      ]
     },
     "metadata": {},
     "output_type": "display_data"
    }
   ],
   "source": [
    "sns.displot(y_train, kde=True);"
   ]
  },
  {
   "cell_type": "markdown",
   "metadata": {
    "id": "1A90Fpg45XXf"
   },
   "source": [
    "The above distribution doesn't seem like normal. We need transformation."
   ]
  },
  {
   "cell_type": "code",
   "execution_count": 56,
   "metadata": {
    "colab": {
     "base_uri": "https://localhost:8080/",
     "height": 365
    },
    "id": "48nMr3eOnzOf",
    "outputId": "1644e768-36d4-46bf-8b40-5cd186f8e950"
   },
   "outputs": [
    {
     "data": {
      "image/png": "[encoded data removed]",
      "text/plain": [
       "<Figure size 360x360 with 1 Axes>"
      ]
     },
     "metadata": {},
     "output_type": "display_data"
    }
   ],
   "source": [
    "sns.displot(np.log(y_train), kde=True);"
   ]
  },
  {
   "cell_type": "markdown",
   "metadata": {
    "id": "oliLZL2YoMbE"
   },
   "source": [
    "Now the price looks like normally distributed. Let's double check that with a probability plot."
   ]
  },
  {
   "cell_type": "code",
   "execution_count": 57,
   "metadata": {
    "id": "x-pY1DhcoR_-"
   },
   "outputs": [],
   "source": [
    "y_train = np.log(y_train)\n",
    "y_test = np.log(y_test)"
   ]
  },
  {
   "cell_type": "code",
   "execution_count": 58,
   "metadata": {
    "colab": {
     "base_uri": "https://localhost:8080/",
     "height": 301
    },
    "id": "gm6IwsdyoXXS",
    "outputId": "32f2ab58-0e8c-4f89-a22e-39dbd5d794e3"
   },
   "outputs": [
    {
     "data": {
      "image/png": "[encoded data removed]",
      "text/plain": [
       "<Figure size 432x288 with 1 Axes>"
      ]
     },
     "metadata": {},
     "output_type": "display_data"
    }
   ],
   "source": [
    "stats.probplot(y_train, plot=plt);"
   ]
  },
  {
   "cell_type": "markdown",
   "metadata": {
    "id": "voTWpT_3sZ-H"
   },
   "source": [
    "I will do the same process for the other predictors which are not bound to a certain range: \\\\\n",
    "- GrLivArea\n",
    "- GarageArea\n",
    "- TotalBsmtSF\n",
    "- 1stFlrSF\n",
    "- MasVnrArea \\\\\n",
    "We cannot transform the GarageArea since there are many places without a garage. Log transform cannot applied on values with zero. So we might assign them 1 sf instead of 0. Then we can do a log transform."
   ]
  },
  {
   "cell_type": "code",
   "execution_count": 59,
   "metadata": {
    "colab": {
     "base_uri": "https://localhost:8080/",
     "height": 365
    },
    "id": "wDvhydlpo1F5",
    "outputId": "67e43051-d326-4395-a7a5-505bd3b7a9fc"
   },
   "outputs": [
    {
     "data": {
      "image/png": "[encoded data removed]",
      "text/plain": [
       "<Figure size 360x360 with 1 Axes>"
      ]
     },
     "metadata": {},
     "output_type": "display_data"
    }
   ],
   "source": [
    "sns.displot(np.log(X_train['GrLivArea']), kde=True);"
   ]
  },
  {
   "cell_type": "code",
   "execution_count": 60,
   "metadata": {
    "colab": {
     "base_uri": "https://localhost:8080/",
     "height": 301
    },
    "id": "qyJXCYihWfOs",
    "outputId": "268c1bdc-55bb-4661-c948-2950f8e19ada"
   },
   "outputs": [
    {
     "data": {
      "image/png": "[encoded data removed]",
      "text/plain": [
       "<Figure size 432x288 with 1 Axes>"
      ]
     },
     "metadata": {},
     "output_type": "display_data"
    }
   ],
   "source": [
    "stats.probplot(X_train['GrLivArea'], plot=plt);"
   ]
  },
  {
   "cell_type": "code",
   "execution_count": 61,
   "metadata": {
    "colab": {
     "base_uri": "https://localhost:8080/",
     "height": 301
    },
    "id": "VybnJeZd0YwY",
    "outputId": "afc2cde0-8a30-46bf-b90b-0cabecf7784b"
   },
   "outputs": [
    {
     "data": {
      "image/png": "[encoded data removed]",
      "text/plain": [
       "<Figure size 432x288 with 1 Axes>"
      ]
     },
     "metadata": {},
     "output_type": "display_data"
    }
   ],
   "source": [
    "stats.probplot(np.log(X_train['GrLivArea']), plot=plt);"
   ]
  },
  {
   "cell_type": "code",
   "execution_count": 62,
   "metadata": {
    "colab": {
     "base_uri": "https://localhost:8080/"
    },
    "id": "c1TYGAGmCY72",
    "outputId": "f8c05f0a-b51e-4f8a-cb99-872694e473f0"
   },
   "outputs": [
    {
     "name": "stderr",
     "output_type": "stream",
     "text": [
      "<ipython-input-62-462e98f68412>:2: SettingWithCopyWarning: \n",
      "A value is trying to be set on a copy of a slice from a DataFrame.\n",
      "Try using .loc[row_indexer,col_indexer] = value instead\n",
      "\n",
      "See the caveats in the documentation: https://pandas.pydata.org/pandas-docs/stable/user_guide/indexing.html#returning-a-view-versus-a-copy\n",
      "  X_train['GrLivArea'] = np.log(X_train['GrLivArea'])\n",
      "<ipython-input-62-462e98f68412>:3: SettingWithCopyWarning: \n",
      "A value is trying to be set on a copy of a slice from a DataFrame.\n",
      "Try using .loc[row_indexer,col_indexer] = value instead\n",
      "\n",
      "See the caveats in the documentation: https://pandas.pydata.org/pandas-docs/stable/user_guide/indexing.html#returning-a-view-versus-a-copy\n",
      "  X_test['GrLivArea'] = np.log(X_test['GrLivArea'])\n"
     ]
    }
   ],
   "source": [
    "# GrLivArea will be transformed\n",
    "X_train['GrLivArea'] = np.log(X_train['GrLivArea'])\n",
    "X_test['GrLivArea'] = np.log(X_test['GrLivArea'])"
   ]
  },
  {
   "cell_type": "code",
   "execution_count": 63,
   "metadata": {
    "colab": {
     "base_uri": "https://localhost:8080/"
    },
    "id": "71XLFDuv1vvI",
    "outputId": "774778b2-89e0-4c3b-d6c7-59cbc47c4727"
   },
   "outputs": [
    {
     "name": "stderr",
     "output_type": "stream",
     "text": [
      "<ipython-input-63-2c21180fc672>:1: SettingWithCopyWarning: \n",
      "A value is trying to be set on a copy of a slice from a DataFrame.\n",
      "Try using .loc[row_indexer,col_indexer] = value instead\n",
      "\n",
      "See the caveats in the documentation: https://pandas.pydata.org/pandas-docs/stable/user_guide/indexing.html#returning-a-view-versus-a-copy\n",
      "  X_train['GarageArea'] = X_train['GarageArea'].map(lambda x: 1 if x==0 else x);\n"
     ]
    }
   ],
   "source": [
    "X_train['GarageArea'] = X_train['GarageArea'].map(lambda x: 1 if x==0 else x);"
   ]
  },
  {
   "cell_type": "code",
   "execution_count": 64,
   "metadata": {
    "colab": {
     "base_uri": "https://localhost:8080/",
     "height": 365
    },
    "id": "RaS1yoHG1JlQ",
    "outputId": "96162111-1453-4a8c-d68f-6221505b6982"
   },
   "outputs": [
    {
     "data": {
      "image/png": "[encoded data removed]",
      "text/plain": [
       "<Figure size 360x360 with 1 Axes>"
      ]
     },
     "metadata": {},
     "output_type": "display_data"
    }
   ],
   "source": [
    "sns.displot(np.log(X_train[X_train['GarageArea']>1]['GarageArea']), kde=True);"
   ]
  },
  {
   "cell_type": "code",
   "execution_count": 65,
   "metadata": {
    "colab": {
     "base_uri": "https://localhost:8080/",
     "height": 301
    },
    "id": "szzDeyXvCP5Y",
    "outputId": "d6e71023-5063-41d5-e6ec-5bb228a948b4"
   },
   "outputs": [
    {
     "data": {
      "image/png": "[encoded data removed]",
      "text/plain": [
       "<Figure size 432x288 with 1 Axes>"
      ]
     },
     "metadata": {},
     "output_type": "display_data"
    }
   ],
   "source": [
    "stats.probplot(np.log(X_train[X_train['GarageArea']>1]['GarageArea']), plot=plt);"
   ]
  },
  {
   "cell_type": "code",
   "execution_count": 66,
   "metadata": {
    "colab": {
     "base_uri": "https://localhost:8080/"
    },
    "id": "gUdxcMvnD-yv",
    "outputId": "18950ba6-37fa-44ba-f0de-5adc16eeb7c8"
   },
   "outputs": [
    {
     "name": "stderr",
     "output_type": "stream",
     "text": [
      "<ipython-input-66-440893e8a3d0>:2: SettingWithCopyWarning: \n",
      "A value is trying to be set on a copy of a slice from a DataFrame.\n",
      "Try using .loc[row_indexer,col_indexer] = value instead\n",
      "\n",
      "See the caveats in the documentation: https://pandas.pydata.org/pandas-docs/stable/user_guide/indexing.html#returning-a-view-versus-a-copy\n",
      "  X_test['GarageArea'] = X_test['GarageArea'].map(lambda x: 1 if x==0 else x);\n",
      "<ipython-input-66-440893e8a3d0>:3: SettingWithCopyWarning: \n",
      "A value is trying to be set on a copy of a slice from a DataFrame.\n",
      "Try using .loc[row_indexer,col_indexer] = value instead\n",
      "\n",
      "See the caveats in the documentation: https://pandas.pydata.org/pandas-docs/stable/user_guide/indexing.html#returning-a-view-versus-a-copy\n",
      "  X_train['GarageArea'] = np.log(X_train['GarageArea'])\n",
      "<ipython-input-66-440893e8a3d0>:4: SettingWithCopyWarning: \n",
      "A value is trying to be set on a copy of a slice from a DataFrame.\n",
      "Try using .loc[row_indexer,col_indexer] = value instead\n",
      "\n",
      "See the caveats in the documentation: https://pandas.pydata.org/pandas-docs/stable/user_guide/indexing.html#returning-a-view-versus-a-copy\n",
      "  X_test['GarageArea'] = np.log(X_test['GarageArea'])\n"
     ]
    }
   ],
   "source": [
    "# GarageArea will be transformed\n",
    "X_test['GarageArea'] = X_test['GarageArea'].map(lambda x: 1 if x==0 else x);\n",
    "X_train['GarageArea'] = np.log(X_train['GarageArea'])\n",
    "X_test['GarageArea'] = np.log(X_test['GarageArea'])"
   ]
  },
  {
   "cell_type": "code",
   "execution_count": 67,
   "metadata": {
    "colab": {
     "base_uri": "https://localhost:8080/"
    },
    "id": "JdgQBwe5E00L",
    "outputId": "b3265234-d664-4789-aefe-07330cd9309e"
   },
   "outputs": [
    {
     "name": "stderr",
     "output_type": "stream",
     "text": [
      "<ipython-input-67-17e66a942101>:1: SettingWithCopyWarning: \n",
      "A value is trying to be set on a copy of a slice from a DataFrame.\n",
      "Try using .loc[row_indexer,col_indexer] = value instead\n",
      "\n",
      "See the caveats in the documentation: https://pandas.pydata.org/pandas-docs/stable/user_guide/indexing.html#returning-a-view-versus-a-copy\n",
      "  X_train['TotalBsmtSF'] = X_train['TotalBsmtSF'].map(lambda x: 1 if x==0 else x);\n"
     ]
    }
   ],
   "source": [
    "X_train['TotalBsmtSF'] = X_train['TotalBsmtSF'].map(lambda x: 1 if x==0 else x);"
   ]
  },
  {
   "cell_type": "code",
   "execution_count": 68,
   "metadata": {
    "colab": {
     "base_uri": "https://localhost:8080/",
     "height": 365
    },
    "id": "GC0_wOCDE7WF",
    "outputId": "a481ca02-b72c-4255-b2e3-4b35f2780aaa"
   },
   "outputs": [
    {
     "data": {
      "image/png": "[encoded data removed]",
      "text/plain": [
       "<Figure size 360x360 with 1 Axes>"
      ]
     },
     "metadata": {},
     "output_type": "display_data"
    }
   ],
   "source": [
    "sns.displot(np.log(X_train[X_train['TotalBsmtSF']>1]['TotalBsmtSF']), kde=True);"
   ]
  },
  {
   "cell_type": "code",
   "execution_count": 69,
   "metadata": {
    "colab": {
     "base_uri": "https://localhost:8080/",
     "height": 301
    },
    "id": "2XfLuOuME7T9",
    "outputId": "188fb8a3-faaa-4ca4-dd2a-356d0c9b53a7"
   },
   "outputs": [
    {
     "data": {
      "image/png": "[encoded data removed]",
      "text/plain": [
       "<Figure size 432x288 with 1 Axes>"
      ]
     },
     "metadata": {},
     "output_type": "display_data"
    }
   ],
   "source": [
    "stats.probplot(np.log(X_train[X_train['TotalBsmtSF']>1]['TotalBsmtSF']), plot=plt);"
   ]
  },
  {
   "cell_type": "code",
   "execution_count": 70,
   "metadata": {
    "colab": {
     "base_uri": "https://localhost:8080/"
    },
    "id": "RUWpSdEZE7Q7",
    "outputId": "c4670d94-91f2-4f74-b2ad-d2bc98a13afb"
   },
   "outputs": [
    {
     "name": "stderr",
     "output_type": "stream",
     "text": [
      "<ipython-input-70-c3f3573d7953>:2: SettingWithCopyWarning: \n",
      "A value is trying to be set on a copy of a slice from a DataFrame.\n",
      "Try using .loc[row_indexer,col_indexer] = value instead\n",
      "\n",
      "See the caveats in the documentation: https://pandas.pydata.org/pandas-docs/stable/user_guide/indexing.html#returning-a-view-versus-a-copy\n",
      "  X_test['TotalBsmtSF'] = X_test['TotalBsmtSF'].map(lambda x: 1 if x==0 else x);\n",
      "<ipython-input-70-c3f3573d7953>:3: SettingWithCopyWarning: \n",
      "A value is trying to be set on a copy of a slice from a DataFrame.\n",
      "Try using .loc[row_indexer,col_indexer] = value instead\n",
      "\n",
      "See the caveats in the documentation: https://pandas.pydata.org/pandas-docs/stable/user_guide/indexing.html#returning-a-view-versus-a-copy\n",
      "  X_train['TotalBsmtSF'] = np.log(X_train['TotalBsmtSF'])\n",
      "<ipython-input-70-c3f3573d7953>:4: SettingWithCopyWarning: \n",
      "A value is trying to be set on a copy of a slice from a DataFrame.\n",
      "Try using .loc[row_indexer,col_indexer] = value instead\n",
      "\n",
      "See the caveats in the documentation: https://pandas.pydata.org/pandas-docs/stable/user_guide/indexing.html#returning-a-view-versus-a-copy\n",
      "  X_test['TotalBsmtSF'] = np.log(X_test['TotalBsmtSF'])\n"
     ]
    }
   ],
   "source": [
    "# TotalBsmtSF will be transformed\n",
    "X_test['TotalBsmtSF'] = X_test['TotalBsmtSF'].map(lambda x: 1 if x==0 else x);\n",
    "X_train['TotalBsmtSF'] = np.log(X_train['TotalBsmtSF'])\n",
    "X_test['TotalBsmtSF'] = np.log(X_test['TotalBsmtSF'])"
   ]
  },
  {
   "cell_type": "code",
   "execution_count": 71,
   "metadata": {
    "colab": {
     "base_uri": "https://localhost:8080/",
     "height": 365
    },
    "id": "pWNxtA9pE7OE",
    "outputId": "404aef00-4f45-4c39-c5f4-93a70d4ebd09"
   },
   "outputs": [
    {
     "data": {
      "image/png": "[encoded data removed]",
      "text/plain": [
       "<Figure size 360x360 with 1 Axes>"
      ]
     },
     "metadata": {},
     "output_type": "display_data"
    }
   ],
   "source": [
    "sns.displot(np.log(X_train['1stFlrSF']), kde=True);"
   ]
  },
  {
   "cell_type": "code",
   "execution_count": 72,
   "metadata": {
    "colab": {
     "base_uri": "https://localhost:8080/",
     "height": 301
    },
    "id": "yAOzXGHCE7GC",
    "outputId": "75ec5dbc-ab2e-466c-ecdb-966159e9eb0d"
   },
   "outputs": [
    {
     "data": {
      "image/png": "[encoded data removed]",
      "text/plain": [
       "<Figure size 432x288 with 1 Axes>"
      ]
     },
     "metadata": {},
     "output_type": "display_data"
    }
   ],
   "source": [
    "stats.probplot(np.log(X_train['1stFlrSF']), plot=plt);"
   ]
  },
  {
   "cell_type": "code",
   "execution_count": 73,
   "metadata": {
    "colab": {
     "base_uri": "https://localhost:8080/"
    },
    "id": "gB2dzqWw6J_7",
    "outputId": "050cabe0-b70d-4e61-94b0-82808c3209b2"
   },
   "outputs": [
    {
     "name": "stderr",
     "output_type": "stream",
     "text": [
      "<ipython-input-73-0fb41e6c0a45>:2: SettingWithCopyWarning: \n",
      "A value is trying to be set on a copy of a slice from a DataFrame.\n",
      "Try using .loc[row_indexer,col_indexer] = value instead\n",
      "\n",
      "See the caveats in the documentation: https://pandas.pydata.org/pandas-docs/stable/user_guide/indexing.html#returning-a-view-versus-a-copy\n",
      "  X_train['1stFlrSF'] = np.log(X_train['1stFlrSF'])\n",
      "<ipython-input-73-0fb41e6c0a45>:3: SettingWithCopyWarning: \n",
      "A value is trying to be set on a copy of a slice from a DataFrame.\n",
      "Try using .loc[row_indexer,col_indexer] = value instead\n",
      "\n",
      "See the caveats in the documentation: https://pandas.pydata.org/pandas-docs/stable/user_guide/indexing.html#returning-a-view-versus-a-copy\n",
      "  X_test['1stFlrSF'] = np.log(X_test['1stFlrSF'])\n"
     ]
    }
   ],
   "source": [
    "# GrLivArea will be transformed\n",
    "X_train['1stFlrSF'] = np.log(X_train['1stFlrSF'])\n",
    "X_test['1stFlrSF'] = np.log(X_test['1stFlrSF'])"
   ]
  },
  {
   "cell_type": "code",
   "execution_count": 74,
   "metadata": {
    "colab": {
     "base_uri": "https://localhost:8080/",
     "height": 365
    },
    "id": "bEm4_S2Y6WtI",
    "outputId": "5c5bd7d5-e05e-4b64-dafe-9b5b198e29c4"
   },
   "outputs": [
    {
     "data": {
      "image/png": "[encoded data removed]",
      "text/plain": [
       "<Figure size 360x360 with 1 Axes>"
      ]
     },
     "metadata": {},
     "output_type": "display_data"
    }
   ],
   "source": [
    "sns.displot(np.log(X_train[X_train['MasVnrArea']>1]['MasVnrArea']), kde=True);"
   ]
  },
  {
   "cell_type": "code",
   "execution_count": 75,
   "metadata": {
    "colab": {
     "base_uri": "https://localhost:8080/"
    },
    "id": "mX1ywVJs6WpS",
    "outputId": "744a1d2e-8221-451c-af37-e460ab9e2c73"
   },
   "outputs": [
    {
     "name": "stderr",
     "output_type": "stream",
     "text": [
      "<ipython-input-75-1f17f9b1400e>:2: SettingWithCopyWarning: \n",
      "A value is trying to be set on a copy of a slice from a DataFrame.\n",
      "Try using .loc[row_indexer,col_indexer] = value instead\n",
      "\n",
      "See the caveats in the documentation: https://pandas.pydata.org/pandas-docs/stable/user_guide/indexing.html#returning-a-view-versus-a-copy\n",
      "  X_train['MasVnrArea'] = X_train['MasVnrArea'].map(lambda x: 1 if x==0 else x);\n",
      "<ipython-input-75-1f17f9b1400e>:3: SettingWithCopyWarning: \n",
      "A value is trying to be set on a copy of a slice from a DataFrame.\n",
      "Try using .loc[row_indexer,col_indexer] = value instead\n",
      "\n",
      "See the caveats in the documentation: https://pandas.pydata.org/pandas-docs/stable/user_guide/indexing.html#returning-a-view-versus-a-copy\n",
      "  X_test['MasVnrArea'] = X_test['MasVnrArea'].map(lambda x: 1 if x==0 else x);\n",
      "<ipython-input-75-1f17f9b1400e>:4: SettingWithCopyWarning: \n",
      "A value is trying to be set on a copy of a slice from a DataFrame.\n",
      "Try using .loc[row_indexer,col_indexer] = value instead\n",
      "\n",
      "See the caveats in the documentation: https://pandas.pydata.org/pandas-docs/stable/user_guide/indexing.html#returning-a-view-versus-a-copy\n",
      "  X_train['MasVnrArea'] = np.log(X_train['MasVnrArea'])\n",
      "<ipython-input-75-1f17f9b1400e>:5: SettingWithCopyWarning: \n",
      "A value is trying to be set on a copy of a slice from a DataFrame.\n",
      "Try using .loc[row_indexer,col_indexer] = value instead\n",
      "\n",
      "See the caveats in the documentation: https://pandas.pydata.org/pandas-docs/stable/user_guide/indexing.html#returning-a-view-versus-a-copy\n",
      "  X_test['MasVnrArea'] = np.log(X_test['MasVnrArea'])\n"
     ]
    }
   ],
   "source": [
    "# MasVnrArea will be transformed\n",
    "X_train['MasVnrArea'] = X_train['MasVnrArea'].map(lambda x: 1 if x==0 else x);\n",
    "X_test['MasVnrArea'] = X_test['MasVnrArea'].map(lambda x: 1 if x==0 else x);\n",
    "X_train['MasVnrArea'] = np.log(X_train['MasVnrArea'])\n",
    "X_test['MasVnrArea'] = np.log(X_test['MasVnrArea'])"
   ]
  },
  {
   "cell_type": "markdown",
   "metadata": {
    "id": "Ui0h0q1d7z0Z"
   },
   "source": [
    "Now we can start with standardizing the data. This is helpful to bring all the data to the same scale."
   ]
  },
  {
   "cell_type": "code",
   "execution_count": 76,
   "metadata": {
    "id": "kpshUveqB3yW"
   },
   "outputs": [],
   "source": [
    "from sklearn.preprocessing import StandardScaler\n",
    "# Instantiate Standard Scaler.\n",
    "ss = StandardScaler()\n",
    "# fit \n",
    "Z_train = ss.fit_transform(X_train)\n",
    "# transform the df\n",
    "Z_train = pd.DataFrame(ss.transform(X_train), columns=X_train.columns)"
   ]
  },
  {
   "cell_type": "code",
   "execution_count": 77,
   "metadata": {
    "colab": {
     "base_uri": "https://localhost:8080/",
     "height": 224
    },
    "id": "4PIgDv0eHiGd",
    "outputId": "74439932-1bc5-4ea4-a21c-5111fe0b6eeb"
   },
   "outputs": [
    {
     "data": {
      "text/html": [
       "<div>\n",
       "<style scoped>\n",
       "    .dataframe tbody tr th:only-of-type {\n",
       "        vertical-align: middle;\n",
       "    }\n",
       "\n",
       "    .dataframe tbody tr th {\n",
       "        vertical-align: top;\n",
       "    }\n",
       "\n",
       "    .dataframe thead th {\n",
       "        text-align: right;\n",
       "    }\n",
       "</style>\n",
       "<table border=\"1\" class=\"dataframe\">\n",
       "  <thead>\n",
       "    <tr style=\"text-align: right;\">\n",
       "      <th></th>\n",
       "      <th>OverallQual</th>\n",
       "      <th>GrLivArea</th>\n",
       "      <th>ExterQual</th>\n",
       "      <th>KitchenQual</th>\n",
       "      <th>GarageCars</th>\n",
       "      <th>GarageArea</th>\n",
       "      <th>TotalBsmtSF</th>\n",
       "      <th>1stFlrSF</th>\n",
       "      <th>BsmtQual</th>\n",
       "      <th>FullBath</th>\n",
       "      <th>...</th>\n",
       "      <th>FireplaceQu</th>\n",
       "      <th>GarageYrBlt_old</th>\n",
       "      <th>Foundation_PConc</th>\n",
       "      <th>MasVnrArea</th>\n",
       "      <th>Fireplaces</th>\n",
       "      <th>YearBuilt_new</th>\n",
       "      <th>YearRemodAdd_old</th>\n",
       "      <th>GarageYrBlt_new</th>\n",
       "      <th>HeatingQC</th>\n",
       "      <th>Neighborhood_NridgHt</th>\n",
       "    </tr>\n",
       "  </thead>\n",
       "  <tbody>\n",
       "    <tr>\n",
       "      <th>0</th>\n",
       "      <td>0.637073</td>\n",
       "      <td>0.110952</td>\n",
       "      <td>1.057489</td>\n",
       "      <td>0.743356</td>\n",
       "      <td>0.293831</td>\n",
       "      <td>0.174967</td>\n",
       "      <td>0.396382</td>\n",
       "      <td>0.949769</td>\n",
       "      <td>0.578106</td>\n",
       "      <td>0.772872</td>\n",
       "      <td>...</td>\n",
       "      <td>1.193319</td>\n",
       "      <td>-1.021230</td>\n",
       "      <td>1.107073</td>\n",
       "      <td>0.176570</td>\n",
       "      <td>0.591298</td>\n",
       "      <td>1.635389</td>\n",
       "      <td>-0.799513</td>\n",
       "      <td>1.591307</td>\n",
       "      <td>0.890733</td>\n",
       "      <td>-0.236496</td>\n",
       "    </tr>\n",
       "    <tr>\n",
       "      <th>1</th>\n",
       "      <td>-0.094926</td>\n",
       "      <td>-0.310564</td>\n",
       "      <td>-0.683790</td>\n",
       "      <td>0.743356</td>\n",
       "      <td>0.293831</td>\n",
       "      <td>0.246625</td>\n",
       "      <td>0.168594</td>\n",
       "      <td>0.511752</td>\n",
       "      <td>-0.562482</td>\n",
       "      <td>-1.062909</td>\n",
       "      <td>...</td>\n",
       "      <td>0.088301</td>\n",
       "      <td>0.979211</td>\n",
       "      <td>-0.903283</td>\n",
       "      <td>0.921441</td>\n",
       "      <td>0.591298</td>\n",
       "      <td>-0.611475</td>\n",
       "      <td>-0.799513</td>\n",
       "      <td>-0.628414</td>\n",
       "      <td>-2.222095</td>\n",
       "      <td>-0.236496</td>\n",
       "    </tr>\n",
       "    <tr>\n",
       "      <th>2</th>\n",
       "      <td>-0.094926</td>\n",
       "      <td>-0.431194</td>\n",
       "      <td>-0.683790</td>\n",
       "      <td>-0.761219</td>\n",
       "      <td>-1.069494</td>\n",
       "      <td>-0.137294</td>\n",
       "      <td>-0.378133</td>\n",
       "      <td>-1.471653</td>\n",
       "      <td>-0.562482</td>\n",
       "      <td>-1.062909</td>\n",
       "      <td>...</td>\n",
       "      <td>-1.016718</td>\n",
       "      <td>0.979211</td>\n",
       "      <td>-0.903283</td>\n",
       "      <td>-0.828387</td>\n",
       "      <td>-0.961392</td>\n",
       "      <td>-0.611475</td>\n",
       "      <td>1.250761</td>\n",
       "      <td>-0.628414</td>\n",
       "      <td>-1.184486</td>\n",
       "      <td>-0.236496</td>\n",
       "    </tr>\n",
       "    <tr>\n",
       "      <th>3</th>\n",
       "      <td>-0.826925</td>\n",
       "      <td>-0.059227</td>\n",
       "      <td>-0.683790</td>\n",
       "      <td>-0.761219</td>\n",
       "      <td>-1.069494</td>\n",
       "      <td>-0.122421</td>\n",
       "      <td>0.114307</td>\n",
       "      <td>0.772929</td>\n",
       "      <td>-0.562482</td>\n",
       "      <td>-1.062909</td>\n",
       "      <td>...</td>\n",
       "      <td>0.640810</td>\n",
       "      <td>0.979211</td>\n",
       "      <td>-0.903283</td>\n",
       "      <td>-0.828387</td>\n",
       "      <td>0.591298</td>\n",
       "      <td>-0.611475</td>\n",
       "      <td>1.250761</td>\n",
       "      <td>-0.628414</td>\n",
       "      <td>-1.184486</td>\n",
       "      <td>-0.236496</td>\n",
       "    </tr>\n",
       "    <tr>\n",
       "      <th>4</th>\n",
       "      <td>-0.094926</td>\n",
       "      <td>-0.016831</td>\n",
       "      <td>-0.683790</td>\n",
       "      <td>-0.761219</td>\n",
       "      <td>-1.069494</td>\n",
       "      <td>-0.086562</td>\n",
       "      <td>0.457228</td>\n",
       "      <td>0.816983</td>\n",
       "      <td>-0.562482</td>\n",
       "      <td>-1.062909</td>\n",
       "      <td>...</td>\n",
       "      <td>-1.016718</td>\n",
       "      <td>0.979211</td>\n",
       "      <td>-0.903283</td>\n",
       "      <td>1.263379</td>\n",
       "      <td>-0.961392</td>\n",
       "      <td>-0.611475</td>\n",
       "      <td>1.250761</td>\n",
       "      <td>-0.628414</td>\n",
       "      <td>-0.146876</td>\n",
       "      <td>-0.236496</td>\n",
       "    </tr>\n",
       "  </tbody>\n",
       "</table>\n",
       "<p>5 rows × 23 columns</p>\n",
       "</div>"
      ],
      "text/plain": [
       "   OverallQual  GrLivArea  ExterQual  KitchenQual  GarageCars  GarageArea  \\\n",
       "0     0.637073   0.110952   1.057489     0.743356    0.293831    0.174967   \n",
       "1    -0.094926  -0.310564  -0.683790     0.743356    0.293831    0.246625   \n",
       "2    -0.094926  -0.431194  -0.683790    -0.761219   -1.069494   -0.137294   \n",
       "3    -0.826925  -0.059227  -0.683790    -0.761219   -1.069494   -0.122421   \n",
       "4    -0.094926  -0.016831  -0.683790    -0.761219   -1.069494   -0.086562   \n",
       "\n",
       "   TotalBsmtSF  1stFlrSF  BsmtQual  FullBath  ...  FireplaceQu  \\\n",
       "0     0.396382  0.949769  0.578106  0.772872  ...     1.193319   \n",
       "1     0.168594  0.511752 -0.562482 -1.062909  ...     0.088301   \n",
       "2    -0.378133 -1.471653 -0.562482 -1.062909  ...    -1.016718   \n",
       "3     0.114307  0.772929 -0.562482 -1.062909  ...     0.640810   \n",
       "4     0.457228  0.816983 -0.562482 -1.062909  ...    -1.016718   \n",
       "\n",
       "   GarageYrBlt_old  Foundation_PConc  MasVnrArea  Fireplaces  YearBuilt_new  \\\n",
       "0        -1.021230          1.107073    0.176570    0.591298       1.635389   \n",
       "1         0.979211         -0.903283    0.921441    0.591298      -0.611475   \n",
       "2         0.979211         -0.903283   -0.828387   -0.961392      -0.611475   \n",
       "3         0.979211         -0.903283   -0.828387    0.591298      -0.611475   \n",
       "4         0.979211         -0.903283    1.263379   -0.961392      -0.611475   \n",
       "\n",
       "   YearRemodAdd_old  GarageYrBlt_new  HeatingQC  Neighborhood_NridgHt  \n",
       "0         -0.799513         1.591307   0.890733             -0.236496  \n",
       "1         -0.799513        -0.628414  -2.222095             -0.236496  \n",
       "2          1.250761        -0.628414  -1.184486             -0.236496  \n",
       "3          1.250761        -0.628414  -1.184486             -0.236496  \n",
       "4          1.250761        -0.628414  -0.146876             -0.236496  \n",
       "\n",
       "[5 rows x 23 columns]"
      ]
     },
     "execution_count": 77,
     "metadata": {},
     "output_type": "execute_result"
    }
   ],
   "source": [
    "Z_train.head()"
   ]
  },
  {
   "cell_type": "markdown",
   "metadata": {
    "id": "dgVM0vqqlMVI"
   },
   "source": [
    "# Modeling"
   ]
  },
  {
   "cell_type": "markdown",
   "metadata": {
    "id": "fmcGAiwClChi"
   },
   "source": [
    "Since our data is ready, we can start with the modelling phase."
   ]
  },
  {
   "cell_type": "code",
   "execution_count": 78,
   "metadata": {
    "id": "9jBEwx85fOeR"
   },
   "outputs": [],
   "source": [
    "from sklearn.linear_model import Ridge"
   ]
  },
  {
   "cell_type": "markdown",
   "metadata": {
    "id": "blZE2JswlUwP"
   },
   "source": [
    "First, I will be visualizing the ridge and its impact on the regression coefficients:"
   ]
  },
  {
   "cell_type": "code",
   "execution_count": 79,
   "metadata": {
    "id": "px3gDwDRfVCm"
   },
   "outputs": [],
   "source": [
    "def ridge_coefs(X, y, alphas):\n",
    "    \n",
    "    # list of coefficients:\n",
    "    coefs = []\n",
    "    \n",
    "    # initiate the model\n",
    "    ridge_reg = Ridge()\n",
    "    \n",
    "    # iterate through the alphas fed into the function:\n",
    "    for a in alphas:\n",
    "        \n",
    "        # reinitiate with the new alpha:\n",
    "        ridge_reg.set_params(alpha=a)\n",
    "        \n",
    "        # refit the model on the provided X, y\n",
    "        ridge_reg.fit(X, y)\n",
    "        \n",
    "        # print the coefficient list\n",
    "        coefs.append(ridge_reg.coef_)\n",
    "        \n",
    "    return coefs\n",
    "  # this snippet is taken from an online source"
   ]
  },
  {
   "cell_type": "code",
   "execution_count": 80,
   "metadata": {
    "id": "4FLshbFGfbqv"
   },
   "outputs": [],
   "source": [
    "# np.logspace gives us points between specified orders of magnitude on a logarithmic scale. It is base 10.\n",
    "r_alphas = np.logspace(0, 5, 200)\n",
    "\n",
    "# Get the coefficients for each alpha for the Ridge, using the function above\n",
    "r_coefs = ridge_coefs(Z_train, y_train, r_alphas)"
   ]
  },
  {
   "cell_type": "code",
   "execution_count": 81,
   "metadata": {
    "id": "t64-JV2HgKYe"
   },
   "outputs": [],
   "source": [
    "from cycler import cycler\n",
    "\n",
    "def coef_plotter(alphas, coefs, feature_names, to_alpha, regtype='ridge'):\n",
    "    \n",
    "    # Get the full range of alphas before subsetting to keep the plots from \n",
    "    # resetting axes each time. (We use these values to set static axes later).\n",
    "    amin = np.min(alphas)\n",
    "    amax = np.max(alphas)\n",
    "    \n",
    "    # Subset the alphas and coefficients to just the ones below the set limit\n",
    "    # from the interactive widget:\n",
    "    alphas = [a for a in alphas if a <= to_alpha]\n",
    "    coefs = coefs[0:len(alphas)]\n",
    "    \n",
    "    # Get some colors from seaborn:\n",
    "    colors = sns.color_palette(\"husl\", len(coefs[0]))\n",
    "    \n",
    "    # Get the figure and reset the size to be wider:\n",
    "    fig = plt.figure()\n",
    "    fig.set_size_inches(18,5)\n",
    "\n",
    "    # We have two axes this time on our figure. \n",
    "    # The fig.add_subplot adds axes to our figure. The number inside stands for:\n",
    "    #[figure_rows|figure_cols|position_of_current_axes]\n",
    "    ax1 = fig.add_subplot(121)\n",
    "    \n",
    "    # Give it the color cycler:\n",
    "    ax1.set_prop_cycle(cycler('color', colors))\n",
    "    \n",
    "    # Print a vertical line showing our current alpha threshold:\n",
    "    ax1.axvline(to_alpha, lw=2, ls='dashed', c='k', alpha=0.4)\n",
    "    \n",
    "    # Plot the lines of the alphas on x-axis and coefficients on y-axis\n",
    "    ax1.plot(alphas, coefs, lw=2)\n",
    "    \n",
    "    # set labels for axes:\n",
    "    ax1.set_xlabel('alpha', fontsize=20)\n",
    "    ax1.set_ylabel('coefficients', fontsize=20)\n",
    "    \n",
    "    # If this is for the ridge, set this to a log scale on the x-axis:\n",
    "    if regtype == 'ridge':\n",
    "        ax1.set_xscale('log')\n",
    "    \n",
    "    # Enforce the axis limits:\n",
    "    ax1.set_xlim([amin, amax])\n",
    "    \n",
    "    # Put a title on the axis\n",
    "    ax1.set_title(regtype+' coefficients\\n', fontsize=20)\n",
    "    \n",
    "    # Get the ymin and ymax for this axis to enforce it to be the same on the \n",
    "    # second chart:\n",
    "    ymin, ymax = ax1.get_ylim()\n",
    "\n",
    "    # Add our second axes for the barplot in position 2:\n",
    "    ax2 = fig.add_subplot(122)\n",
    "    \n",
    "    # Position the bars according to their index from the feature names variable:\n",
    "    ax2.bar(list(range(1, len(feature_names)+1)), coefs[-1], align='center', color=colors)\n",
    "    ax2.set_xticks(list(range(1, len(feature_names)+1)))\n",
    "    \n",
    "    # Reset the ticks from numbers to acutally be the names:\n",
    "    ax2.set_xticklabels(feature_names, rotation=65, fontsize=12)\n",
    "    \n",
    "    # enforce limits and add titles, labels\n",
    "    ax2.set_ylim([ymin, ymax])\n",
    "    ax2.set_title(regtype+' predictor coefficients\\n', fontsize=20)\n",
    "    ax2.set_xlabel('coefficients', fontsize=20)\n",
    "    ax2.set_ylabel('alpha', fontsize=20)\n",
    "    \n",
    "    plt.show()\n",
    "  # this snippet is taken from an online source"
   ]
  },
  {
   "cell_type": "code",
   "execution_count": 82,
   "metadata": {
    "colab": {
     "base_uri": "https://localhost:8080/",
     "height": 556,
     "referenced_widgets": [
      "a5443d0de2b94b88a43999b06031b02e",
      "79b1ec5914b54c90b2a94134197c9a08",
      "23aec9cca0134ace836cc43fe43e983e",
      "1e4f558ddb12438189c1bb6c97a4d158",
      "34d2a4bcfbd3489c8538e13896e7d7d9",
      "17c4e838325e434c8f5a3d493ce612bb",
      "e99bc5fdc1964ad896ac494746adbad1"
     ]
    },
    "id": "Ks_CDprlf31U",
    "outputId": "7030fcfa-5b8c-4695-d2f9-0eb7c4e3bdf2"
   },
   "outputs": [
    {
     "data": {
      "application/vnd.jupyter.widget-view+json": {
       "model_id": "b9725cc1dfe64af0a1851bca4bb2c525",
       "version_major": 2,
       "version_minor": 0
      },
      "text/plain": [
       "interactive(children=(FloatSlider(value=0.1, description='log_of_alpha', max=5.0, min=0.1, step=0.2), Output()…"
      ]
     },
     "metadata": {},
     "output_type": "display_data"
    },
    {
     "name": "stdout",
     "output_type": "stream",
     "text": [
      "this snippet is taken from an online source\n"
     ]
    }
   ],
   "source": [
    "from ipywidgets import *\n",
    "from IPython.display import display\n",
    "\n",
    "def ridge_plot_runner(log_of_alpha=0):\n",
    "    coef_plotter(r_alphas, r_coefs, X.columns, 10**log_of_alpha, regtype='ridge')\n",
    "\n",
    "interact(ridge_plot_runner, log_of_alpha=(0.1,5,0.2))\n",
    "print(\"this snippet is taken from an online source\")"
   ]
  },
  {
   "cell_type": "markdown",
   "metadata": {
    "id": "1_Uj5tTLsU7x"
   },
   "source": [
    "Thanks to the visualization, we can understand the relationship between the alpha (strength of the regularization coefficient) and coefficients. But how to pick the best alpha? \n",
    "The answer can be found by trial and error. In this case, we will train different models on the training set and pick the model with the biggest alpha.  "
   ]
  },
  {
   "cell_type": "code",
   "execution_count": 83,
   "metadata": {
    "id": "4TpgQd_RHowP"
   },
   "outputs": [],
   "source": [
    "from sklearn.linear_model import ElasticNet, ElasticNetCV\n",
    "from sklearn.metrics import r2_score\n",
    "from sklearn.linear_model import RidgeCV"
   ]
  },
  {
   "cell_type": "code",
   "execution_count": 84,
   "metadata": {
    "id": "TfS1dde82O5K"
   },
   "outputs": [],
   "source": [
    "# Set up a list of ridge alphas to check.\n",
    "r_alphas = np.logspace(0, 5, 100)\n",
    "# Generates 200 values equally between 0 and 5,\n",
    "# then converts them to alphas between 10^0 and 10^5.\n",
    "\n",
    "# Cross-validate over our list of ridge alphas.\n",
    "ridge_model = RidgeCV(alphas=r_alphas, scoring='r2')\n",
    "\n",
    "# Fit model using best ridge alpha!\n",
    "ridge_model = ridge_model.fit(Z_train, y_train)"
   ]
  },
  {
   "cell_type": "code",
   "execution_count": 85,
   "metadata": {
    "colab": {
     "base_uri": "https://localhost:8080/"
    },
    "id": "CxGllErH2WDR",
    "outputId": "2ccd11d8-2dc6-4d2d-bd26-869192b2208c"
   },
   "outputs": [
    {
     "data": {
      "text/plain": [
       "46.4158883361278"
      ]
     },
     "execution_count": 85,
     "metadata": {},
     "output_type": "execute_result"
    }
   ],
   "source": [
    "# Here is the optimal value of alpha\n",
    "ridge_optimal_alpha = ridge_model.alpha_\n",
    "ridge_optimal_alpha"
   ]
  },
  {
   "cell_type": "code",
   "execution_count": null,
   "metadata": {},
   "outputs": [],
   "source": []
  },
  {
   "cell_type": "code",
   "execution_count": 86,
   "metadata": {
    "id": "YiaUWAUf2_Gp"
   },
   "outputs": [],
   "source": [
    "# transform the df\n",
    "Z_test = pd.DataFrame(ss.transform(X_test), columns=X_test.columns)"
   ]
  },
  {
   "cell_type": "code",
   "execution_count": 87,
   "metadata": {
    "colab": {
     "base_uri": "https://localhost:8080/"
    },
    "id": "ZF5RFiEF2dgx",
    "outputId": "ce1c1e79-7811-4f92-9926-d913cabb8e54"
   },
   "outputs": [
    {
     "name": "stdout",
     "output_type": "stream",
     "text": [
      "0.859960635032611\n",
      "0.8391973181594015\n"
     ]
    }
   ],
   "source": [
    "# Instantiate model.\n",
    "ridge_opt = Ridge(alpha=ridge_optimal_alpha)\n",
    "\n",
    "# Fit model.\n",
    "ridge_opt.fit(Z_train, y_train)\n",
    "\n",
    "# Generate predictions\n",
    "ridge_opt_preds = ridge_opt.predict(Z_test)\n",
    "ridge_opt_preds_train = ridge_opt.predict(Z_train)\n",
    "\n",
    "# Evaluate model.\n",
    "print(r2_score(y_test, ridge_opt_preds))\n",
    "print(r2_score(y_train, ridge_opt_preds_train))"
   ]
  },
  {
   "cell_type": "markdown",
   "metadata": {
    "id": "phR4R_Vp31cM"
   },
   "source": [
    "So the conclusion, the R squared value for the test data was 0.86. This is higher than the score from the training dataset which proves that in a dataset that might highly overfit, we achieved to fit our model to the signal rather than the noise. "
   ]
  },
  {
   "cell_type": "code",
   "execution_count": null,
   "metadata": {},
   "outputs": [],
   "source": []
  }
 ],
 "metadata": {
  "colab": {
   "collapsed_sections": [
    "7zUhUBSqM11i"
   ],
   "name": "Power of Ridge Regression",
   "provenance": []
  },
  "kernelspec": {
   "display_name": "Python 3",
   "language": "python",
   "name": "python3"
  },
  "language_info": {
   "codemirror_mode": {
    "name": "ipython",
    "version": 3
   },
   "file_extension": ".py",
   "mimetype": "text/x-python",
   "name": "python",
   "nbconvert_exporter": "python",
   "pygments_lexer": "ipython3",
   "version": "3.8.5"
  },
  "widgets": {
   "application/vnd.jupyter.widget-state+json": {
    "17c4e838325e434c8f5a3d493ce612bb": {
     "model_module": "@jupyter-widgets/base",
     "model_module_version": "1.2.0",
     "model_name": "LayoutModel",
     "state": {
      "_model_module": "@jupyter-widgets/base",
      "_model_module_version": "1.2.0",
      "_model_name": "LayoutModel",
      "_view_count": null,
      "_view_module": "@jupyter-widgets/base",
      "_view_module_version": "1.2.0",
      "_view_name": "LayoutView",
      "align_content": null,
      "align_items": null,
      "align_self": null,
      "border": null,
      "bottom": null,
      "display": null,
      "flex": null,
      "flex_flow": null,
      "grid_area": null,
      "grid_auto_columns": null,
      "grid_auto_flow": null,
      "grid_auto_rows": null,
      "grid_column": null,
      "grid_gap": null,
      "grid_row": null,
      "grid_template_areas": null,
      "grid_template_columns": null,
      "grid_template_rows": null,
      "height": null,
      "justify_content": null,
      "justify_items": null,
      "left": null,
      "margin": null,
      "max_height": null,
      "max_width": null,
      "min_height": null,
      "min_width": null,
      "object_fit": null,
      "object_position": null,
      "order": null,
      "overflow": null,
      "overflow_x": null,
      "overflow_y": null,
      "padding": null,
      "right": null,
      "top": null,
      "visibility": null,
      "width": null
     }
    },
    "1e4f558ddb12438189c1bb6c97a4d158": {
     "model_module": "@jupyter-widgets/output",
     "model_module_version": "1.0.0",
     "model_name": "OutputModel",
     "state": {
      "_dom_classes": [],
      "_model_module": "@jupyter-widgets/output",
      "_model_module_version": "1.0.0",
      "_model_name": "OutputModel",
      "_view_count": null,
      "_view_module": "@jupyter-widgets/output",
      "_view_module_version": "1.0.0",
      "_view_name": "OutputView",
      "layout": "IPY_MODEL_e99bc5fdc1964ad896ac494746adbad1",
      "msg_id": "",
      "outputs": [
       {
        "image/png": "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\n",
        "metadata": {
         "tags": []
        },
        "output_type": "display_data",
        "text/plain": "<Figure size 1296x360 with 2 Axes>"
       }
      ]
     }
    },
    "23aec9cca0134ace836cc43fe43e983e": {
     "model_module": "@jupyter-widgets/controls",
     "model_module_version": "1.5.0",
     "model_name": "FloatSliderModel",
     "state": {
      "_dom_classes": [],
      "_model_module": "@jupyter-widgets/controls",
      "_model_module_version": "1.5.0",
      "_model_name": "FloatSliderModel",
      "_view_count": null,
      "_view_module": "@jupyter-widgets/controls",
      "_view_module_version": "1.5.0",
      "_view_name": "FloatSliderView",
      "continuous_update": true,
      "description": "log_of_alpha",
      "description_tooltip": null,
      "disabled": false,
      "layout": "IPY_MODEL_17c4e838325e434c8f5a3d493ce612bb",
      "max": 5,
      "min": 0.1,
      "orientation": "horizontal",
      "readout": true,
      "readout_format": ".2f",
      "step": 0.2,
      "style": "IPY_MODEL_34d2a4bcfbd3489c8538e13896e7d7d9",
      "value": 4.9
     }
    },
    "34d2a4bcfbd3489c8538e13896e7d7d9": {
     "model_module": "@jupyter-widgets/controls",
     "model_module_version": "1.5.0",
     "model_name": "SliderStyleModel",
     "state": {
      "_model_module": "@jupyter-widgets/controls",
      "_model_module_version": "1.5.0",
      "_model_name": "SliderStyleModel",
      "_view_count": null,
      "_view_module": "@jupyter-widgets/base",
      "_view_module_version": "1.2.0",
      "_view_name": "StyleView",
      "description_width": "",
      "handle_color": null
     }
    },
    "79b1ec5914b54c90b2a94134197c9a08": {
     "model_module": "@jupyter-widgets/base",
     "model_module_version": "1.2.0",
     "model_name": "LayoutModel",
     "state": {
      "_model_module": "@jupyter-widgets/base",
      "_model_module_version": "1.2.0",
      "_model_name": "LayoutModel",
      "_view_count": null,
      "_view_module": "@jupyter-widgets/base",
      "_view_module_version": "1.2.0",
      "_view_name": "LayoutView",
      "align_content": null,
      "align_items": null,
      "align_self": null,
      "border": null,
      "bottom": null,
      "display": null,
      "flex": null,
      "flex_flow": null,
      "grid_area": null,
      "grid_auto_columns": null,
      "grid_auto_flow": null,
      "grid_auto_rows": null,
      "grid_column": null,
      "grid_gap": null,
      "grid_row": null,
      "grid_template_areas": null,
      "grid_template_columns": null,
      "grid_template_rows": null,
      "height": null,
      "justify_content": null,
      "justify_items": null,
      "left": null,
      "margin": null,
      "max_height": null,
      "max_width": null,
      "min_height": null,
      "min_width": null,
      "object_fit": null,
      "object_position": null,
      "order": null,
      "overflow": null,
      "overflow_x": null,
      "overflow_y": null,
      "padding": null,
      "right": null,
      "top": null,
      "visibility": null,
      "width": null
     }
    },
    "a5443d0de2b94b88a43999b06031b02e": {
     "model_module": "@jupyter-widgets/controls",
     "model_module_version": "1.5.0",
     "model_name": "VBoxModel",
     "state": {
      "_dom_classes": [
       "widget-interact"
      ],
      "_model_module": "@jupyter-widgets/controls",
      "_model_module_version": "1.5.0",
      "_model_name": "VBoxModel",
      "_view_count": null,
      "_view_module": "@jupyter-widgets/controls",
      "_view_module_version": "1.5.0",
      "_view_name": "VBoxView",
      "box_style": "",
      "children": [
       "IPY_MODEL_23aec9cca0134ace836cc43fe43e983e",
       "IPY_MODEL_1e4f558ddb12438189c1bb6c97a4d158"
      ],
      "layout": "IPY_MODEL_79b1ec5914b54c90b2a94134197c9a08"
     }
    },
    "e99bc5fdc1964ad896ac494746adbad1": {
     "model_module": "@jupyter-widgets/base",
     "model_module_version": "1.2.0",
     "model_name": "LayoutModel",
     "state": {
      "_model_module": "@jupyter-widgets/base",
      "_model_module_version": "1.2.0",
      "_model_name": "LayoutModel",
      "_view_count": null,
      "_view_module": "@jupyter-widgets/base",
      "_view_module_version": "1.2.0",
      "_view_name": "LayoutView",
      "align_content": null,
      "align_items": null,
      "align_self": null,
      "border": null,
      "bottom": null,
      "display": null,
      "flex": null,
      "flex_flow": null,
      "grid_area": null,
      "grid_auto_columns": null,
      "grid_auto_flow": null,
      "grid_auto_rows": null,
      "grid_column": null,
      "grid_gap": null,
      "grid_row": null,
      "grid_template_areas": null,
      "grid_template_columns": null,
      "grid_template_rows": null,
      "height": null,
      "justify_content": null,
      "justify_items": null,
      "left": null,
      "margin": null,
      "max_height": null,
      "max_width": null,
      "min_height": null,
      "min_width": null,
      "object_fit": null,
      "object_position": null,
      "order": null,
      "overflow": null,
      "overflow_x": null,
      "overflow_y": null,
      "padding": null,
      "right": null,
      "top": null,
      "visibility": null,
      "width": null
     }
    }
   }
  }
 },
 "nbformat": 4,
 "nbformat_minor": 1
}
