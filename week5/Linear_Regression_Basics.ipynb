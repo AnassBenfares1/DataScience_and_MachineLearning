{
  "cells": [
    {
      "cell_type": "markdown",
      "metadata": {
        "id": "view-in-github"
      },
      "source": [
        "<a href=\"https://colab.research.google.com/github/michalis0/DataMining_and_MachineLearning/blob/master/week5/Linear_Regression_Basics.ipynb\" target=\"_parent\"><img src=\"https://colab.research.google.com/assets/colab-badge.svg\" alt=\"Open In Colab\"/></a>"
      ]
    },
    {
      "cell_type": "markdown",
      "metadata": {
        "id": "f7a_hEfThRmX"
      },
      "source": [
        "# Linear Regression: Basics, Regularization, and Cross-validation\n",
        "\n",
        "In this notebook we will cover the following:\n",
        "\n",
        "    1- Implementing _least squares_ which is the closed form solution of a simple linear regression problem.\n",
        "    2- Implementing Gradient Descent from scratch. GD and its variants are the main algorithm of learning in almost every problem in Machine Learning.\n",
        "    3- Using __sklearn__ package to solve a linear regression problem.\n",
        "    4- What are polynomial features and how can we use them?\n",
        "    5- Splitting the data to train and test sets.\n",
        "    6- What is over fitting? What is regularization?\n",
        "    7- Cross-validation, the standard way of hyper-parameter tuning in ML"
      ]
    },
    {
      "cell_type": "code",
      "execution_count": 1,
      "metadata": {
        "id": "bJjyIvKFhRmY"
      },
      "outputs": [],
      "source": [
        "# Useful starting lines\n",
        "%matplotlib inline\n",
        "import numpy as np\n",
        "import matplotlib.pyplot as plt\n",
        "from matplotlib import collections  as mc\n",
        "%load_ext autoreload\n",
        "%autoreload 2\n",
        "import pandas as pd \n",
        "import seaborn as sns\n",
        "from sklearn.preprocessing import LabelEncoder, OneHotEncoder\n",
        "sns.set_style(\"white\")"
      ]
    },
    {
      "cell_type": "markdown",
      "metadata": {
        "id": "QsaBbrf1hRmd"
      },
      "source": [
        "## 1. Load the data\n",
        "We are going to use an advertisement data. The task is to figure out how different means of advertisement influence the amount of sales of a product.\n",
        "    \n",
        "Let's Load the data with Pandas!"
      ]
    },
    {
      "cell_type": "code",
      "execution_count": 2,
      "metadata": {
        "colab": {
          "base_uri": "https://localhost:8080/",
          "height": 206
        },
        "id": "cO3PNCKehRme",
        "outputId": "e817d705-2f79-45c3-a538-e4ebe89d6b9b"
      },
      "outputs": [
        {
          "output_type": "execute_result",
          "data": {
            "text/plain": [
              "   id     TV  Radio  Newspaper  Sales\n",
              "0   1  230.1   37.8       69.2   22.1\n",
              "1   2   44.5   39.3       45.1   10.4\n",
              "2   3   17.2   45.9       69.3    9.3\n",
              "3   4  151.5   41.3       58.5   18.5\n",
              "4   5  180.8   10.8       58.4   12.9"
            ],
            "text/html": [
              "\n",
              "  <div id=\"df-720c32d6-e1b9-4543-8360-a1f92d72b7a6\">\n",
              "    <div class=\"colab-df-container\">\n",
              "      <div>\n",
              "<style scoped>\n",
              "    .dataframe tbody tr th:only-of-type {\n",
              "        vertical-align: middle;\n",
              "    }\n",
              "\n",
              "    .dataframe tbody tr th {\n",
              "        vertical-align: top;\n",
              "    }\n",
              "\n",
              "    .dataframe thead th {\n",
              "        text-align: right;\n",
              "    }\n",
              "</style>\n",
              "<table border=\"1\" class=\"dataframe\">\n",
              "  <thead>\n",
              "    <tr style=\"text-align: right;\">\n",
              "      <th></th>\n",
              "      <th>id</th>\n",
              "      <th>TV</th>\n",
              "      <th>Radio</th>\n",
              "      <th>Newspaper</th>\n",
              "      <th>Sales</th>\n",
              "    </tr>\n",
              "  </thead>\n",
              "  <tbody>\n",
              "    <tr>\n",
              "      <th>0</th>\n",
              "      <td>1</td>\n",
              "      <td>230.1</td>\n",
              "      <td>37.8</td>\n",
              "      <td>69.2</td>\n",
              "      <td>22.1</td>\n",
              "    </tr>\n",
              "    <tr>\n",
              "      <th>1</th>\n",
              "      <td>2</td>\n",
              "      <td>44.5</td>\n",
              "      <td>39.3</td>\n",
              "      <td>45.1</td>\n",
              "      <td>10.4</td>\n",
              "    </tr>\n",
              "    <tr>\n",
              "      <th>2</th>\n",
              "      <td>3</td>\n",
              "      <td>17.2</td>\n",
              "      <td>45.9</td>\n",
              "      <td>69.3</td>\n",
              "      <td>9.3</td>\n",
              "    </tr>\n",
              "    <tr>\n",
              "      <th>3</th>\n",
              "      <td>4</td>\n",
              "      <td>151.5</td>\n",
              "      <td>41.3</td>\n",
              "      <td>58.5</td>\n",
              "      <td>18.5</td>\n",
              "    </tr>\n",
              "    <tr>\n",
              "      <th>4</th>\n",
              "      <td>5</td>\n",
              "      <td>180.8</td>\n",
              "      <td>10.8</td>\n",
              "      <td>58.4</td>\n",
              "      <td>12.9</td>\n",
              "    </tr>\n",
              "  </tbody>\n",
              "</table>\n",
              "</div>\n",
              "      <button class=\"colab-df-convert\" onclick=\"convertToInteractive('df-720c32d6-e1b9-4543-8360-a1f92d72b7a6')\"\n",
              "              title=\"Convert this dataframe to an interactive table.\"\n",
              "              style=\"display:none;\">\n",
              "        \n",
              "  <svg xmlns=\"http://www.w3.org/2000/svg\" height=\"24px\"viewBox=\"0 0 24 24\"\n",
              "       width=\"24px\">\n",
              "    <path d=\"M0 0h24v24H0V0z\" fill=\"none\"/>\n",
              "    <path d=\"M18.56 5.44l.94 2.06.94-2.06 2.06-.94-2.06-.94-.94-2.06-.94 2.06-2.06.94zm-11 1L8.5 8.5l.94-2.06 2.06-.94-2.06-.94L8.5 2.5l-.94 2.06-2.06.94zm10 10l.94 2.06.94-2.06 2.06-.94-2.06-.94-.94-2.06-.94 2.06-2.06.94z\"/><path d=\"M17.41 7.96l-1.37-1.37c-.4-.4-.92-.59-1.43-.59-.52 0-1.04.2-1.43.59L10.3 9.45l-7.72 7.72c-.78.78-.78 2.05 0 2.83L4 21.41c.39.39.9.59 1.41.59.51 0 1.02-.2 1.41-.59l7.78-7.78 2.81-2.81c.8-.78.8-2.07 0-2.86zM5.41 20L4 18.59l7.72-7.72 1.47 1.35L5.41 20z\"/>\n",
              "  </svg>\n",
              "      </button>\n",
              "      \n",
              "  <style>\n",
              "    .colab-df-container {\n",
              "      display:flex;\n",
              "      flex-wrap:wrap;\n",
              "      gap: 12px;\n",
              "    }\n",
              "\n",
              "    .colab-df-convert {\n",
              "      background-color: #E8F0FE;\n",
              "      border: none;\n",
              "      border-radius: 50%;\n",
              "      cursor: pointer;\n",
              "      display: none;\n",
              "      fill: #1967D2;\n",
              "      height: 32px;\n",
              "      padding: 0 0 0 0;\n",
              "      width: 32px;\n",
              "    }\n",
              "\n",
              "    .colab-df-convert:hover {\n",
              "      background-color: #E2EBFA;\n",
              "      box-shadow: 0px 1px 2px rgba(60, 64, 67, 0.3), 0px 1px 3px 1px rgba(60, 64, 67, 0.15);\n",
              "      fill: #174EA6;\n",
              "    }\n",
              "\n",
              "    [theme=dark] .colab-df-convert {\n",
              "      background-color: #3B4455;\n",
              "      fill: #D2E3FC;\n",
              "    }\n",
              "\n",
              "    [theme=dark] .colab-df-convert:hover {\n",
              "      background-color: #434B5C;\n",
              "      box-shadow: 0px 1px 3px 1px rgba(0, 0, 0, 0.15);\n",
              "      filter: drop-shadow(0px 1px 2px rgba(0, 0, 0, 0.3));\n",
              "      fill: #FFFFFF;\n",
              "    }\n",
              "  </style>\n",
              "\n",
              "      <script>\n",
              "        const buttonEl =\n",
              "          document.querySelector('#df-720c32d6-e1b9-4543-8360-a1f92d72b7a6 button.colab-df-convert');\n",
              "        buttonEl.style.display =\n",
              "          google.colab.kernel.accessAllowed ? 'block' : 'none';\n",
              "\n",
              "        async function convertToInteractive(key) {\n",
              "          const element = document.querySelector('#df-720c32d6-e1b9-4543-8360-a1f92d72b7a6');\n",
              "          const dataTable =\n",
              "            await google.colab.kernel.invokeFunction('convertToInteractive',\n",
              "                                                     [key], {});\n",
              "          if (!dataTable) return;\n",
              "\n",
              "          const docLinkHtml = 'Like what you see? Visit the ' +\n",
              "            '<a target=\"_blank\" href=https://colab.research.google.com/notebooks/data_table.ipynb>data table notebook</a>'\n",
              "            + ' to learn more about interactive tables.';\n",
              "          element.innerHTML = '';\n",
              "          dataTable['output_type'] = 'display_data';\n",
              "          await google.colab.output.renderOutput(dataTable, element);\n",
              "          const docLink = document.createElement('div');\n",
              "          docLink.innerHTML = docLinkHtml;\n",
              "          element.appendChild(docLink);\n",
              "        }\n",
              "      </script>\n",
              "    </div>\n",
              "  </div>\n",
              "  "
            ]
          },
          "metadata": {},
          "execution_count": 2
        }
      ],
      "source": [
        "ad_df = pd.read_csv('https://raw.githubusercontent.com/michalis0/DataMining_and_MachineLearning/master/week5/data/Advertising.csv')\n",
        "# view the first 5 rows \n",
        "ad_df.head()"
      ]
    },
    {
      "cell_type": "markdown",
      "metadata": {
        "id": "e9lRrqzThRmi"
      },
      "source": [
        "In what follows we will try a simple linear regression using only __one__ feature, that is, we want to predict the sales using only the TV advertisments."
      ]
    },
    {
      "cell_type": "markdown",
      "metadata": {
        "id": "BG7NVRHXhRmi"
      },
      "source": [
        "## 2. Least squares: closed form solution\n",
        "Since in 1D linear regression we are fitting a line on the data, we need to find two parameters, constant and slope.\n",
        "\n",
        "As we saw in the lecture we have a closed form solution for these 2 parameters. \n",
        "$slope = \\frac{\\Sigma X_{i} y_{i} - \\frac{1}{n}\\Sigma X_{i} \\Sigma y_{i}}{\\Sigma X_{i}^{2} - \\frac{1}{n}(\\Sigma X_{i})^{2}}$, $constant = \\bar{y} - slope * \\bar{X}$\n"
      ]
    },
    {
      "cell_type": "code",
      "execution_count": 3,
      "metadata": {
        "id": "hTi358OIhRmj"
      },
      "outputs": [],
      "source": [
        "#number of data points\n",
        "n = ad_df.shape[0]\n",
        "#making the data matrix and outputs\n",
        "X = np.array(ad_df[\"TV\"])\n",
        "y = np.array(ad_df[\"Sales\"])"
      ]
    },
    {
      "cell_type": "code",
      "execution_count": 4,
      "metadata": {
        "colab": {
          "base_uri": "https://localhost:8080/"
        },
        "id": "hfuxCAWzhRmm",
        "outputId": "ca3200f6-fa29-46ae-8efd-4690f80bd7c0"
      },
      "outputs": [
        {
          "output_type": "execute_result",
          "data": {
            "text/plain": [
              "((200,), (200,))"
            ]
          },
          "metadata": {},
          "execution_count": 4
        }
      ],
      "source": [
        "X.shape, y.shape"
      ]
    },
    {
      "cell_type": "code",
      "execution_count": 5,
      "metadata": {
        "colab": {
          "base_uri": "https://localhost:8080/"
        },
        "id": "t2OShKbKhRmq",
        "outputId": "ffb763f6-71b1-420a-9d57-86a7fd1288d9"
      },
      "outputs": [
        {
          "output_type": "stream",
          "name": "stdout",
          "text": [
            "slope:  0.04753664043301973 constant:  7.032593549127697\n"
          ]
        }
      ],
      "source": [
        "# closed form solution: calculating the slope and the constant\n",
        "slope = (np.inner(X, y) - sum(X)*sum(y) / n) / (sum(X**2) - sum(X)**2 / n)\n",
        "constant = np.mean(y) - slope * np.mean(X)\n",
        "print(\"slope: \", slope, \"constant: \", constant)"
      ]
    },
    {
      "cell_type": "code",
      "execution_count": 6,
      "metadata": {
        "colab": {
          "base_uri": "https://localhost:8080/",
          "height": 513
        },
        "id": "BUFPcMuFhRmt",
        "outputId": "a4cac280-89fe-46cc-c5d6-f70d435e9692"
      },
      "outputs": [
        {
          "output_type": "display_data",
          "data": {
            "text/plain": [
              "<Figure size 720x504 with 1 Axes>"
            ],
            "image/png": "[encoded data removed]"
          },
          "metadata": {}
        }
      ],
      "source": [
        "fig, ax = plt.subplots(figsize=(10, 7))\n",
        "ax.scatter(X, y, marker='o', color='red', s=40)\n",
        "# plot the line for regression fit, gets the xy coordinates of the end points\n",
        "x_1 = np.array(ax.get_xlim())\n",
        "y_1 = constant + slope * x_1\n",
        "ax.plot(x_1, y_1, color='blue', linewidth=2)\n",
        "\n",
        "# let's also plot the error bars\n",
        "\n",
        "lines = []\n",
        "for i, x_ in enumerate(X): \n",
        "    origin = (X[i], constant + slope * X[i])\n",
        "    end = (X[i], y[i])\n",
        "    lines.append([origin, end])    \n",
        "lc = mc.LineCollection(lines, linewidths=1)\n",
        "ax.add_collection(lc)\n",
        "\n",
        "ax.set_xlabel('TV', size=14)\n",
        "ax.set_ylabel('Sales', size=14)\n",
        "plt.tight_layout();"
      ]
    },
    {
      "cell_type": "markdown",
      "metadata": {
        "id": "ZDhtTcKXhRmw"
      },
      "source": [
        "## 3. Gradient Descent\n",
        "Another approach to find the optimal weights $\\omega$ is to use iterative algorithms such as Gradient Descent. These methods are very important as in most of the cases it is not possible to find a closed form solution to $\\omega$.\n"
      ]
    },
    {
      "cell_type": "code",
      "execution_count": 7,
      "metadata": {
        "id": "L7ZNYlJjhRmx"
      },
      "outputs": [],
      "source": [
        "#append a column of ones to X, we do this to make sure that the dimensions of the matrices match\n",
        "X = np.concatenate((np.ones(n).reshape(n,1), X.reshape(-1,1)), axis=1)"
      ]
    },
    {
      "cell_type": "code",
      "execution_count": 8,
      "metadata": {
        "id": "YRi6JJOUhRm0"
      },
      "outputs": [],
      "source": [
        "class gradient_decsent():\n",
        "    def __init__(self, initial_w=0, gamma=0, max_epochs=50):\n",
        "        self.initial_w = initial_w\n",
        "        self.gamma = gamma\n",
        "        self.max_epochs = max_epochs\n",
        "    \n",
        "    def calculate_loss(self, y, x, w):\n",
        "        \"\"\"\n",
        "        calculate mse\n",
        "        \"\"\"\n",
        "        e = y - x.dot(w)\n",
        "        loss = 0.5*np.mean(e**2)\n",
        "        return loss\n",
        "    \n",
        "    def calculate_gradient(self, y, x, w):\n",
        "        \"\"\"\n",
        "        calculating the gradient of mse\n",
        "        \"\"\"\n",
        "        e = y - x.dot(w)\n",
        "        grad = -1 * x.T.dot(e) / len(e)\n",
        "        return grad\n",
        "    \n",
        "    def update(self, y, x, w):\n",
        "        \"\"\"\n",
        "        update step of GD\n",
        "        \"\"\"\n",
        "        n, d = x.shape\n",
        "        grad = self.calculate_gradient(y, x, w)\n",
        "        w_new = w - self.gamma * grad\n",
        "        return w_new\n",
        "        \n",
        "    def train(self, y, x):\n",
        "        \"\"\"\n",
        "        training\n",
        "        returns the vector of all loss values and weigths after training\n",
        "        \"\"\"\n",
        "        n, d = x.shape\n",
        "        w = self.initial_w\n",
        "        ws = []\n",
        "        losses = []\n",
        "        for n_epoch in range(self.max_epochs):\n",
        "            w = self.update(y, x, w)\n",
        "            ws.append(w)\n",
        "            losses.append(self.calculate_loss(y, x, w))\n",
        "        return losses, ws\n"
      ]
    },
    {
      "cell_type": "markdown",
      "metadata": {
        "id": "4MupzAslhRm4"
      },
      "source": [
        "We would need to [standardize](https://towardsdatascience.com/normalization-vs-standardization-quantitative-analysis-a91e8a79cebf) the data before applying GD. \n",
        "\n",
        "> **Standardization** typically means rescales data to have a mean of 0 and a standard deviation of 1 (unit variance).\n",
        "\n",
        "\n"
      ]
    },
    {
      "cell_type": "code",
      "execution_count": 9,
      "metadata": {
        "id": "YssJh71OhRm4"
      },
      "outputs": [],
      "source": [
        "X[:,1] = X[:,1] - np.mean(X[:,1], axis=0)\n",
        "X[:,1] = X[:,1] / np.std(X[:,1], axis=0)\n",
        "\n",
        "y = y - np.mean(y, axis=0)\n",
        "y = y / np.std(y, axis=0)"
      ]
    },
    {
      "cell_type": "code",
      "execution_count": 10,
      "metadata": {
        "colab": {
          "base_uri": "https://localhost:8080/"
        },
        "id": "VNbAHNHQhRm-",
        "outputId": "2f2a475e-6b67-4a4f-ed39-42f45ace935c"
      },
      "outputs": [
        {
          "output_type": "stream",
          "name": "stdout",
          "text": [
            "[-2.80997448e-16  7.82213261e-01]\n"
          ]
        }
      ],
      "source": [
        "GD = gradient_decsent(initial_w=np.array([0,0]), gamma=0.2, max_epochs=50)\n",
        "losses, ws = GD.train(y, X)\n",
        "print(ws[-1])"
      ]
    },
    {
      "cell_type": "code",
      "execution_count": 11,
      "metadata": {
        "id": "WGzmPB0jhRnB"
      },
      "outputs": [],
      "source": [
        "def GD_vis(losses, ws, w0_range, w1_range, X, y, n_iter=None):\n",
        "    w0, w1 = np.meshgrid(w0_range, w1_range)\n",
        "    grid_losses = np.zeros((len(w0_range), len(w1_range)))\n",
        "    for i in range(len(w0_range)):\n",
        "        for j in range(len(w1_range)):\n",
        "            w = np.array([w0[i,j], w1[i,j]])\n",
        "            grid_losses[i,j] = GD.calculate_loss(y, X, w)\n",
        "    fig = plt.figure(figsize=(10,7))\n",
        "\n",
        "    # plot contourf\n",
        "    ax1 = fig.add_subplot(1, 2, 1)\n",
        "    cp = ax1.contourf(w0, w1, grid_losses, cmap=plt.cm.jet)\n",
        "    fig.colorbar(cp, ax=ax1)\n",
        "    ax1.set_xlabel(r'$w_0$')\n",
        "    ax1.set_ylabel(r'$w_1$')\n",
        "    # put a marker at the minimum\n",
        "    ax1.plot(ws[-1][0], ws[-1][1], marker='*', color='r', markersize=20)\n",
        "\n",
        "    # plot f(x)\n",
        "    ax2 = fig.add_subplot(1, 2, 2)\n",
        "    ax2.scatter(X[:,1], y, marker=\".\", color='r', s=15)\n",
        "    ax2.set_xlabel(\"x\")\n",
        "    ax2.set_ylabel(\"y\")\n",
        "    ax2.grid()\n",
        "    ws_to_plot = np.stack(ws)\n",
        "    if n_iter is not None:\n",
        "        ws_to_plot = ws_to_plot[:n_iter]\n",
        "    ax1.plot(\n",
        "        ws_to_plot[:, 0], ws_to_plot[:, 1],\n",
        "        marker='o', color='w', markersize=10)\n",
        "    x_1 = np.array(ax2.get_xlim())\n",
        "    y_1 = ws_to_plot[-1, 0] + ws_to_plot[-1, 1] * x_1\n",
        "    ax2.plot(x_1, y_1, color='blue', linewidth=2);\n",
        "    return fig"
      ]
    },
    {
      "cell_type": "markdown",
      "metadata": {
        "id": "umu7ZzPPhRnD"
      },
      "source": [
        "Let's see how it progresses through time"
      ]
    },
    {
      "cell_type": "code",
      "execution_count": 12,
      "metadata": {
        "colab": {
          "base_uri": "https://localhost:8080/",
          "height": 444,
          "referenced_widgets": [
            "60ef0d77da4a4427a5179cde237c9b9e",
            "698d3334ef194d6991e4a775ce1eb8da",
            "1eb94d5f1355413e9f8f07b223b43243",
            "32dab0f8aa7d4a59b55a613b6cfe8597",
            "fee095f6c6a14e4e9b9b8c6b68e34a21",
            "fbb860bc57a144b69665655ca90e5de4",
            "d13a0a51dde04ef98f7ef8d90198784a"
          ]
        },
        "id": "VhOj-MebhRnE",
        "outputId": "aa18fe8e-c144-4cda-ea70-51e763862f43"
      },
      "outputs": [
        {
          "output_type": "display_data",
          "data": {
            "text/plain": [
              "interactive(children=(IntSlider(value=1, description='n_iter', max=50, min=1), Output()), _dom_classes=('widge…"
            ],
            "application/vnd.jupyter.widget-view+json": {
              "version_major": 2,
              "version_minor": 0,
              "model_id": "60ef0d77da4a4427a5179cde237c9b9e"
            }
          },
          "metadata": {}
        },
        {
          "output_type": "execute_result",
          "data": {
            "text/plain": [
              "<function __main__.plot_figure(n_iter)>"
            ]
          },
          "metadata": {},
          "execution_count": 12
        }
      ],
      "source": [
        "# Time Visualization\n",
        "from ipywidgets import IntSlider, interact\n",
        "def plot_figure(n_iter):\n",
        "    fig = GD_vis(losses, ws, np.linspace(-1e-18, -4e-16, 100), np.linspace(0,1,100), X, y, n_iter)\n",
        "    fig.set_size_inches(10.0, 6.0)\n",
        "\n",
        "interact(plot_figure, n_iter=IntSlider(min=1, max=len(ws)))"
      ]
    },
    {
      "cell_type": "markdown",
      "metadata": {
        "id": "C0f1od57hRnH"
      },
      "source": [
        "## 4. Using Sklearn\n",
        "When using sklearn we don't need to add a column of ones to the data in order to have the constant parameter. sklearn takes care of it, you should just pass the `fit_intercept` argument to be True (which is also the default value for this argument)"
      ]
    },
    {
      "cell_type": "code",
      "execution_count": 13,
      "metadata": {
        "id": "vB_V-I77hRnI"
      },
      "outputs": [],
      "source": [
        "# Use the original data again\n",
        "X = np.array(ad_df[\"TV\"]).reshape((-1, 1))\n",
        "y = np.array(ad_df[\"Sales\"])"
      ]
    },
    {
      "cell_type": "code",
      "execution_count": 14,
      "metadata": {
        "colab": {
          "base_uri": "https://localhost:8080/"
        },
        "id": "9_2puawjhRnL",
        "outputId": "98c34095-e80b-49b0-8e84-ac7b71f5ca59"
      },
      "outputs": [
        {
          "output_type": "execute_result",
          "data": {
            "text/plain": [
              "LinearRegression()"
            ]
          },
          "metadata": {},
          "execution_count": 14
        }
      ],
      "source": [
        "from sklearn.linear_model import LinearRegression\n",
        "LR = LinearRegression(fit_intercept=True)\n",
        "LR.fit(X, y)"
      ]
    },
    {
      "cell_type": "code",
      "execution_count": 15,
      "metadata": {
        "colab": {
          "base_uri": "https://localhost:8080/"
        },
        "id": "IwnahYeLhRnP",
        "outputId": "944c6ae1-c97d-4f51-88d4-c71b08346a25"
      },
      "outputs": [
        {
          "output_type": "stream",
          "name": "stdout",
          "text": [
            "slope:  0.04753664043301975\n",
            "constant:  7.032593549127695\n",
            "R^2 score:  0.611875050850071\n"
          ]
        }
      ],
      "source": [
        "print(\"slope: \", LR.coef_[0])\n",
        "print(\"constant: \", LR.intercept_)\n",
        "print(\"R^2 score: \", LR.score(X, y))"
      ]
    },
    {
      "cell_type": "code",
      "execution_count": 16,
      "metadata": {
        "colab": {
          "base_uri": "https://localhost:8080/"
        },
        "id": "SF2zMyTUhRnR",
        "outputId": "effafc29-8708-4164-da8f-6375a93cfacb"
      },
      "outputs": [
        {
          "output_type": "execute_result",
          "data": {
            "text/plain": [
              "array([16.53992164])"
            ]
          },
          "metadata": {},
          "execution_count": 16
        }
      ],
      "source": [
        "#predict the Sales of a product with 200 TV advertisments\n",
        "LR.predict(np.array(200).reshape(-1, 1))"
      ]
    },
    {
      "cell_type": "code",
      "execution_count": 17,
      "metadata": {
        "colab": {
          "base_uri": "https://localhost:8080/"
        },
        "id": "HmedCEe0hRnX",
        "outputId": "5f5670a1-843d-46d9-f839-1a8a9fc70d5c"
      },
      "outputs": [
        {
          "output_type": "execute_result",
          "data": {
            "text/plain": [
              "10.512652915656757"
            ]
          },
          "metadata": {},
          "execution_count": 17
        }
      ],
      "source": [
        "# Alternative: mean squared error (MSE)\n",
        "from sklearn.metrics import mean_squared_error\n",
        "mean_squared_error(y, LR.predict(X))"
      ]
    },
    {
      "cell_type": "markdown",
      "metadata": {
        "id": "3fG6nE9khRna"
      },
      "source": [
        "## 5.Using more features for prediction\n",
        "Let's try to use more features to predict the sales. For example we can observe the effect of TV and Radio advertisment in the same time.\n"
      ]
    },
    {
      "cell_type": "code",
      "execution_count": 18,
      "metadata": {
        "colab": {
          "base_uri": "https://localhost:8080/"
        },
        "id": "k7dBH933hRna",
        "outputId": "759be5fc-d5db-40b4-ed6f-620f51e06ae4"
      },
      "outputs": [
        {
          "output_type": "execute_result",
          "data": {
            "text/plain": [
              "((200, 2), (200,))"
            ]
          },
          "metadata": {},
          "execution_count": 18
        }
      ],
      "source": [
        "#let's start with 2 features\n",
        "#making the data matrix and outputs\n",
        "X = np.array(ad_df[[\"TV\", \"Radio\"]])\n",
        "y = np.array(ad_df[\"Sales\"])\n",
        "X.shape, y.shape"
      ]
    },
    {
      "cell_type": "code",
      "execution_count": 19,
      "metadata": {
        "colab": {
          "base_uri": "https://localhost:8080/"
        },
        "id": "2sdYDWy3hRnd",
        "outputId": "d3436755-9919-48a3-85d4-8223eaee854a"
      },
      "outputs": [
        {
          "output_type": "stream",
          "name": "stdout",
          "text": [
            "params:  [0.04575482 0.18799423]\n",
            "constant:  2.9210999124051362\n",
            "R^2 score:  0.8971942610828957\n"
          ]
        }
      ],
      "source": [
        "LR = LinearRegression(fit_intercept=True)\n",
        "LR.fit(X, y)\n",
        "print(\"params: \", LR.coef_)\n",
        "print(\"constant: \", LR.intercept_)\n",
        "print(\"R^2 score: \", LR.score(X, y))"
      ]
    },
    {
      "cell_type": "code",
      "execution_count": 20,
      "metadata": {
        "id": "PgWBArwrhRng",
        "colab": {
          "base_uri": "https://localhost:8080/"
        },
        "outputId": "07781963-151e-43af-c2d3-7068c1d7f218"
      },
      "outputs": [
        {
          "output_type": "stream",
          "name": "stdout",
          "text": [
            "TV:  200 Radio:  50 Sales:  [21.47177426]\n",
            "TV:  200 Radio:  30 Sales:  [17.71188973]\n"
          ]
        }
      ],
      "source": [
        "# predict\n",
        "print(\"TV: \", 200, \"Radio: \", 50, \"Sales: \", LR.predict(np.array([200, 50]).reshape(-1,2)))\n",
        "print(\"TV: \", 200, \"Radio: \", 30, \"Sales: \", LR.predict(np.array([200, 30]).reshape(-1,2)))"
      ]
    },
    {
      "cell_type": "code",
      "execution_count": 21,
      "metadata": {
        "id": "WwXUq29ThRnm",
        "colab": {
          "base_uri": "https://localhost:8080/"
        },
        "outputId": "bc2ee2fe-8fd6-44ad-cdfb-b58d02648205"
      },
      "outputs": [
        {
          "output_type": "stream",
          "name": "stdout",
          "text": [
            "params:  [ 0.04576465  0.18853002 -0.00103749]\n",
            "constant:  2.938889369459412\n",
            "R^2 score:  0.8972106381789522\n"
          ]
        }
      ],
      "source": [
        "# with 3 features\n",
        "X = np.array(ad_df[[\"TV\", \"Radio\", \"Newspaper\"]])\n",
        "y = np.array(ad_df[\"Sales\"])\n",
        "LR.fit(X, y)\n",
        "print(\"params: \", LR.coef_)\n",
        "print(\"constant: \", LR.intercept_)\n",
        "print(\"R^2 score: \", LR.score(X, y))"
      ]
    },
    {
      "cell_type": "code",
      "execution_count": 22,
      "metadata": {
        "id": "0rdk5APFoG61",
        "colab": {
          "base_uri": "https://localhost:8080/"
        },
        "outputId": "2d6548d8-7437-4cf2-bb44-3924bc99b7c1"
      },
      "outputs": [
        {
          "output_type": "stream",
          "name": "stdout",
          "text": [
            "TV:  200 Radio:  50 Newspaper:  50 Sales:  [21.46644465]\n",
            "TV:  200 Radio:  50 Newspaper:  100 Sales:  [21.41457]\n"
          ]
        }
      ],
      "source": [
        "# predict\n",
        "print(\"TV: \", 200, \"Radio: \", 50, \"Newspaper: \", 50, \"Sales: \", LR.predict(np.array([200, 50, 50]).reshape(-1,3)))\n",
        "print(\"TV: \", 200, \"Radio: \", 50, \"Newspaper: \", 100, \"Sales: \", LR.predict(np.array([200, 50, 100]).reshape(-1,3)))"
      ]
    },
    {
      "cell_type": "markdown",
      "metadata": {
        "id": "CqPaFAbahRnr"
      },
      "source": [
        "## 6.Using polynomial features (polynomial combination of features)\n",
        "Sometimes the data cannot be explained by just a linear model and using a linear model causes a high error. In these cases we can add polynomial features to the data which is equivalent to fitting polynomial functions on the data points."
      ]
    },
    {
      "cell_type": "code",
      "execution_count": 23,
      "metadata": {
        "id": "FqadN6f-hRns"
      },
      "outputs": [],
      "source": [
        "from sklearn.preprocessing import PolynomialFeatures\n",
        "poly = PolynomialFeatures(2)\n",
        "X = np.array(ad_df[[\"TV\", \"Radio\"]])\n",
        "y = np.array(ad_df[\"Sales\"])\n",
        "X_poly = poly.fit_transform(X)"
      ]
    },
    {
      "cell_type": "code",
      "execution_count": 24,
      "metadata": {
        "colab": {
          "base_uri": "https://localhost:8080/"
        },
        "id": "LqJggNQZhRny",
        "outputId": "b8af4b3a-7b39-491c-b9e5-8845ff967425"
      },
      "outputs": [
        {
          "output_type": "execute_result",
          "data": {
            "text/plain": [
              "(200, 6)"
            ]
          },
          "metadata": {},
          "execution_count": 24
        }
      ],
      "source": [
        "X_poly.shape"
      ]
    },
    {
      "cell_type": "code",
      "execution_count": 25,
      "metadata": {
        "colab": {
          "base_uri": "https://localhost:8080/"
        },
        "id": "qgpU4Pl7hRn2",
        "outputId": "11e6117b-c95e-4d20-bab2-9b2ca4ae906c"
      },
      "outputs": [
        {
          "output_type": "stream",
          "name": "stdout",
          "text": [
            "params:  [ 5.19444187e+00  5.09930683e-02  2.65400299e-02 -1.09816273e-04\n",
            "  1.07462080e-03  1.86076136e-04]\n",
            "R^2 score:  0.986039101078374\n"
          ]
        }
      ],
      "source": [
        "LR = LinearRegression(fit_intercept=False) # we don't need fit intercept since polynomial features function add a column of ones to the data \n",
        "LR.fit(X_poly, y)\n",
        "print(\"params: \", LR.coef_)\n",
        "print(\"R^2 score: \", LR.score(X_poly, y))"
      ]
    },
    {
      "cell_type": "markdown",
      "metadata": {
        "id": "vJSIgpiyhRn7"
      },
      "source": [
        "Read about $R^2$ measure and you will be able to compare these models."
      ]
    },
    {
      "cell_type": "markdown",
      "metadata": {
        "id": "M-ZCOsT2hRn7"
      },
      "source": [
        "## 7.Train/Test split and overfitting"
      ]
    },
    {
      "cell_type": "markdown",
      "metadata": {
        "id": "7V9tcU_nhRn8"
      },
      "source": [
        "The standard practice in Machine Learning is to keep the test data out of the training and try to predict the output for the unseen data in the test set. We can also evaluate our model by calculating the MSE for training and test data."
      ]
    },
    {
      "cell_type": "markdown",
      "metadata": {
        "id": "meAdAKkohRn-"
      },
      "source": [
        "Now let's see the effect of adding more polynomial features. Adding too much of these features may cause overfitting. We can check this by looking into the test error."
      ]
    },
    {
      "cell_type": "code",
      "execution_count": 26,
      "metadata": {
        "id": "bRkiSjC4hRoB"
      },
      "outputs": [],
      "source": [
        "from sklearn.model_selection import train_test_split\n",
        "from sklearn.metrics import mean_squared_error"
      ]
    },
    {
      "cell_type": "code",
      "execution_count": 27,
      "metadata": {
        "id": "X7pJ4NSFhRoF"
      },
      "outputs": [],
      "source": [
        "# let's again use 1 features\n",
        "X = np.array(ad_df[[\"TV\"]])\n",
        "y = np.array(ad_df[\"Sales\"])"
      ]
    },
    {
      "cell_type": "code",
      "execution_count": 28,
      "metadata": {
        "colab": {
          "base_uri": "https://localhost:8080/",
          "height": 297
        },
        "id": "-kLF_v8jhRoJ",
        "outputId": "32850802-b20b-48e3-b06f-d043fe5b94f1"
      },
      "outputs": [
        {
          "output_type": "execute_result",
          "data": {
            "text/plain": [
              "Text(0, 0.5, 'error')"
            ]
          },
          "metadata": {},
          "execution_count": 28
        },
        {
          "output_type": "display_data",
          "data": {
            "text/plain": [
              "<Figure size 432x288 with 1 Axes>"
            ],
            "image/png": "[encoded data removed]"
          },
          "metadata": {}
        }
      ],
      "source": [
        "train_err = []\n",
        "test_err = []\n",
        "# X = X[:,0].reshape(-1,1)\n",
        "for f in range(1,7):\n",
        "    poly = PolynomialFeatures(f)\n",
        "    X_poly = poly.fit_transform(X)\n",
        "    X_train, X_test, y_train, y_test = train_test_split(X_poly, y, test_size=0.2, random_state=1)\n",
        "    LR = LinearRegression(fit_intercept=False)\n",
        "    LR.fit(X_train, y_train)\n",
        "    train_err.append(mean_squared_error(y_train, LR.predict(X_train)))\n",
        "    test_err.append(mean_squared_error(y_test, LR.predict(X_test)))\n",
        "plt.plot(range(1,7), train_err, label=\"train_error\")\n",
        "plt.plot(range(1,7), test_err, label=\"test_error\")\n",
        "plt.legend(fontsize=10)\n",
        "plt.xlabel(\"polynomial degree\")\n",
        "plt.ylabel(\"error\")\n",
        "# plt.ylim([0, 100]);"
      ]
    },
    {
      "cell_type": "markdown",
      "metadata": {
        "id": "oAHyKh3nhRoM"
      },
      "source": [
        "To avoid overfitting we can penalize the norm of the weight vector. This is called regularization. We will use linear regression with l2 regularizer. By tuning the regularization parameter $\\alpha$ we can minimize the test error."
      ]
    },
    {
      "cell_type": "code",
      "execution_count": 29,
      "metadata": {
        "id": "C-EFZrDehRoN"
      },
      "outputs": [],
      "source": [
        "from sklearn.linear_model import Ridge\n",
        "poly = PolynomialFeatures(2)\n",
        "X_poly = poly.fit_transform(X)\n",
        "X_train, X_test, y_train, y_test = train_test_split(X_poly, y, test_size=0.2, random_state=1)\n",
        "test_err = []\n",
        "for alpha in np.linspace(0.1, 1, num=10):\n",
        "    ridge_regression = Ridge(alpha=alpha)\n",
        "    ridge_regression.fit(X_train, y_train)\n",
        "    test_err.append(mean_squared_error(y_test, ridge_regression.predict(X_test)))\n",
        "    "
      ]
    },
    {
      "cell_type": "code",
      "execution_count": 30,
      "metadata": {
        "colab": {
          "base_uri": "https://localhost:8080/",
          "height": 294
        },
        "id": "zfdGqmiXhRoQ",
        "outputId": "17066a11-d525-424c-a0f7-60327a689bc9"
      },
      "outputs": [
        {
          "output_type": "display_data",
          "data": {
            "text/plain": [
              "<Figure size 432x288 with 1 Axes>"
            ],
            "image/png": "[encoded data removed]"
          },
          "metadata": {}
        }
      ],
      "source": [
        "plt.semilogx(np.logspace(-4, 2, num=10), test_err)\n",
        "plt.xlabel(\"alpha\")\n",
        "plt.ylabel(\"test error\");"
      ]
    },
    {
      "cell_type": "markdown",
      "metadata": {
        "id": "EdQiAgDJhRoT"
      },
      "source": [
        "## 7.Cross validation\n",
        "The standard way to do a hyperparameter tuning is through cross validation. We need to make sure that our model has a has a good generalisation power and performs well on unseen data. Therefore we have to keep 3 different sets of data: training set, validation set and test set."
      ]
    },
    {
      "cell_type": "code",
      "execution_count": 31,
      "metadata": {
        "colab": {
          "base_uri": "https://localhost:8080/"
        },
        "id": "pqqLhvZfhRoU",
        "outputId": "61d13ed7-a3d2-4638-ee56-d1c8e567661a"
      },
      "outputs": [
        {
          "output_type": "execute_result",
          "data": {
            "text/plain": [
              "RidgeCV(alphas=array([ 0.1,  1. , 10. ]), cv=5, fit_intercept=False)"
            ]
          },
          "metadata": {},
          "execution_count": 31
        }
      ],
      "source": [
        "# we use ridge regression with built in cross validation\n",
        "# by default sklearn does leave-one-out cross validation\n",
        "from sklearn.linear_model import RidgeCV\n",
        "ridge = RidgeCV(fit_intercept=False, cv=5)\n",
        "ridge.fit(X_train, y_train)"
      ]
    },
    {
      "cell_type": "code",
      "execution_count": 32,
      "metadata": {
        "colab": {
          "base_uri": "https://localhost:8080/"
        },
        "id": "xS6OJjuYhRoV",
        "outputId": "5819f5d2-7521-428a-d684-3874e5bd0f1a"
      },
      "outputs": [
        {
          "output_type": "execute_result",
          "data": {
            "text/plain": [
              "array([ 6.02967461e+00,  6.62911088e-02, -5.93557717e-05])"
            ]
          },
          "metadata": {},
          "execution_count": 32
        }
      ],
      "source": [
        "ridge.coef_"
      ]
    },
    {
      "cell_type": "code",
      "execution_count": 33,
      "metadata": {
        "colab": {
          "base_uri": "https://localhost:8080/"
        },
        "id": "4nsvxMmWhRoX",
        "outputId": "97769572-dc97-4b43-c978-a7d101af54b5"
      },
      "outputs": [
        {
          "output_type": "execute_result",
          "data": {
            "text/plain": [
              "0.1"
            ]
          },
          "metadata": {},
          "execution_count": 33
        }
      ],
      "source": [
        "# best regularizer\n",
        "ridge.alpha_"
      ]
    },
    {
      "cell_type": "markdown",
      "metadata": {
        "id": "896_8byphRoa"
      },
      "source": [
        "## Complementary material\n",
        "### General closed form solution to linear regression:\n",
        "\n",
        "In Linear regression we want to find the weights (parameters) that minimize the mean squared error which can be written in the form: $\\frac{1}{n} (X\\omega - y)^{\\top}(X\\omega -y)$, where $X, y, \\omega$ are data matrix, outputs and weights respectively. By taking a derivative w.r.t $\\omega$ we can find the closed form solution: $\\omega = (X^{\\top}X)^{-1}X^{\\top}y$"
      ]
    },
    {
      "cell_type": "code",
      "execution_count": 34,
      "metadata": {
        "colab": {
          "base_uri": "https://localhost:8080/"
        },
        "id": "FCQBKFn8hRoa",
        "outputId": "ee60084b-c415-4e38-ad85-7ebfb75101b2"
      },
      "outputs": [
        {
          "output_type": "stream",
          "name": "stdout",
          "text": [
            "[0.08324961]\n"
          ]
        }
      ],
      "source": [
        "#let's solve the equation to find w\n",
        "A = X.T.dot(X)\n",
        "B = X.T.dot(y)\n",
        "#use numpy to solve a linear system of equations\n",
        "w = np.linalg.solve(A, B)\n",
        "print(w)"
      ]
    },
    {
      "cell_type": "code",
      "execution_count": 35,
      "metadata": {
        "colab": {
          "base_uri": "https://localhost:8080/"
        },
        "id": "A0-iv3v1hRoc",
        "outputId": "49461eb0-7561-42ff-f205-9736fcca5630"
      },
      "outputs": [
        {
          "output_type": "execute_result",
          "data": {
            "text/plain": [
              "array([0.08324961])"
            ]
          },
          "metadata": {},
          "execution_count": 35
        }
      ],
      "source": [
        "# compare the result with sklearn\n",
        "LR = LinearRegression(fit_intercept=False)\n",
        "LR.fit(X, y)\n",
        "LR.coef_"
      ]
    },
    {
      "cell_type": "code",
      "execution_count": 35,
      "metadata": {
        "id": "gHPtdA7Yssao"
      },
      "outputs": [],
      "source": []
    }
  ],
  "metadata": {
    "colab": {
      "provenance": [],
      "collapsed_sections": []
    },
    "kernel_info": {
      "name": "python3"
    },
    "kernelspec": {
      "display_name": "Python 3 (ipykernel)",
      "language": "python",
      "name": "python3"
    },
    "language_info": {
      "codemirror_mode": {
        "name": "ipython",
        "version": 3
      },
      "file_extension": ".py",
      "mimetype": "text/x-python",
      "name": "python",
      "nbconvert_exporter": "python",
      "pygments_lexer": "ipython3",
      "version": "3.8.12"
    },
    "nteract": {
      "version": "0.15.0"
    },
    "toc": {
      "base_numbering": 1,
      "nav_menu": {},
      "number_sections": true,
      "sideBar": true,
      "skip_h1_title": false,
      "title_cell": "Table of Contents",
      "title_sidebar": "Contents",
      "toc_cell": false,
      "toc_position": {},
      "toc_section_display": true,
      "toc_window_display": false
    },
    "widgets": {
      "application/vnd.jupyter.widget-state+json": {
        "60ef0d77da4a4427a5179cde237c9b9e": {
          "model_module": "@jupyter-widgets/controls",
          "model_name": "VBoxModel",
          "model_module_version": "1.5.0",
          "state": {
            "_dom_classes": [
              "widget-interact"
            ],
            "_model_module": "@jupyter-widgets/controls",
            "_model_module_version": "1.5.0",
            "_model_name": "VBoxModel",
            "_view_count": null,
            "_view_module": "@jupyter-widgets/controls",
            "_view_module_version": "1.5.0",
            "_view_name": "VBoxView",
            "box_style": "",
            "children": [
              "IPY_MODEL_698d3334ef194d6991e4a775ce1eb8da",
              "IPY_MODEL_1eb94d5f1355413e9f8f07b223b43243"
            ],
            "layout": "IPY_MODEL_32dab0f8aa7d4a59b55a613b6cfe8597"
          }
        },
        "698d3334ef194d6991e4a775ce1eb8da": {
          "model_module": "@jupyter-widgets/controls",
          "model_name": "IntSliderModel",
          "model_module_version": "1.5.0",
          "state": {
            "_dom_classes": [],
            "_model_module": "@jupyter-widgets/controls",
            "_model_module_version": "1.5.0",
            "_model_name": "IntSliderModel",
            "_view_count": null,
            "_view_module": "@jupyter-widgets/controls",
            "_view_module_version": "1.5.0",
            "_view_name": "IntSliderView",
            "continuous_update": true,
            "description": "n_iter",
            "description_tooltip": null,
            "disabled": false,
            "layout": "IPY_MODEL_fee095f6c6a14e4e9b9b8c6b68e34a21",
            "max": 50,
            "min": 1,
            "orientation": "horizontal",
            "readout": true,
            "readout_format": "d",
            "step": 1,
            "style": "IPY_MODEL_fbb860bc57a144b69665655ca90e5de4",
            "value": 1
          }
        },
        "1eb94d5f1355413e9f8f07b223b43243": {
          "model_module": "@jupyter-widgets/output",
          "model_name": "OutputModel",
          "model_module_version": "1.0.0",
          "state": {
            "_dom_classes": [],
            "_model_module": "@jupyter-widgets/output",
            "_model_module_version": "1.0.0",
            "_model_name": "OutputModel",
            "_view_count": null,
            "_view_module": "@jupyter-widgets/output",
            "_view_module_version": "1.0.0",
            "_view_name": "OutputView",
            "layout": "IPY_MODEL_d13a0a51dde04ef98f7ef8d90198784a",
            "msg_id": "",
            "outputs": [
              {
                "output_type": "display_data",
                "data": {
                  "text/plain": "<Figure size 720x432 with 3 Axes>",
                  "image/png": "iVBORw0KGgoAAAANSUhEUgAAAmMAAAF5CAYAAADTbS0dAAAABHNCSVQICAgIfAhkiAAAAAlwSFlzAAALEgAACxIB0t1+/AAAADh0RVh0U29mdHdhcmUAbWF0cGxvdGxpYiB2ZXJzaW9uMy4yLjIsIGh0dHA6Ly9tYXRwbG90bGliLm9yZy+WH4yJAAAgAElEQVR4nO3dfVxUZf7/8Tc3Yua9VoNriJmklKRb25abiosRK0RuiEtld27krltIN5tW27IbbetdWuj2M13KUrNtNcp0aq1wi7b6au22YS3m2kbRDdONlnnH6MDvD2JkYICBmTnnzMzr+XjwgDnnzJnPGQTeXtd1riuqoaGhQQAAADBFtNkFAAAARDLCGAAAgIkIYwAAACYijAEAAJiIMAYAAGAiwhgAAICJgh7Gbr/9do0dO1YXXXSR1/0NDQ36wx/+oPT0dGVnZ+vdd98NdkkATFZRUaGMjAylp6dr5cqVrfaXlZXpvPPO05QpUzRlyhStX79eklRVVaW8vDxlZWUpOztbzz77rNGlA0DAxQb7BXJycnTFFVdo7ty5XvdXVFSourpazz//vN5++239/ve/d//iBRB+XC6XiouLtWrVKtlsNuXm5iotLU3Dhw/3OC4zM1NFRUUe24477jgtWLBAQ4cOlcPh0NSpUzVu3Dj16dPHyEsAgIAKesvYOeeco759+7a5v7y8XD/96U8VFRWlMWPGaN++ffr888+DXRYAk1RWVioxMVEJCQmKi4tTVlaWysvLfXruKaecoqFDh0qSbDabBgwYoD179gSxWgAIPtPHjDkcDsXHx7sfx8fHy+FwmFgRgGBq+TNvs9m8/sw///zzys7O1uzZs/XZZ5+12l9ZWakjR45oyJAhQa0XAIIt6N2UwXLqiHN1VIPNLgOwvPh+n2jbtm0+H3/JySdrf0yMX68ZN2qUunfv7n6cl5envLw8n5//4x//WBdddJHi4uL0l7/8RXPnztXq1avd+z///HPdeuutWrBggaKjTf8/Zaede+65GjzY8/eX0+lUXFycSRUZL9KuV+KaI0F71/vJJ23/LjY9jNlsNtXW1rof19bWymazdfi8oxqsj2LKglkaEBbOHpzTqeP3x8ToNx995NdrLj37bJWVef/5bPkz73A4Wv3M9+/f3/31tGnTtGjRomP17d+vX/ziF7rppps0ZswYv+o0y+DBg1u9P1VVVUpOTjapIuNF2vVKXHMkaO96c3La/l1s+n8p09LS9PTTT6uhoUH//ve/1bt3b5100klmlwUgSFJSUlRdXa2amho5nU7Z7XalpaV5HNN83OjWrVt16qmnSmr8X+f111+vKVOm6Cc/+YmhdQNAsAS9Zezmm2/W9u3btXfvXk2YMEEFBQU6evSoJOmyyy5TamqqXn75ZaWnp6tHjx764x//GOySAJgoNjZWRUVFys/Pl8vl0tSpU5WUlKSSkhKNGjVKkyZN0po1a7R161bFxMSob9++mjdvniTpueee05tvvqmvv/5aTz31lCRp/vz5EfU/bwDhJ+hhbMmSJe3uj4qK0u9+97tglwHAQlJTU5WamuqxrbCw0P31LbfcoltuuaXV85rmHQOAcGJ6NyUAAEAkI4wBAACYiDAGAABgIsIYAACAiQhjAAAAJiKMAQAAmIgwBgAAYCLCGAAAgIkIYwAAACYijAEAgPAyZ47Uo0fj5xBAGAMAAOFl2TLp8OHGzyGAMAYAAMJLQYF03HGNn0NA0BcKBwAAMNTChY0fIYKWMQAAABMRxgAAAExEGAMAADARYQwAAMBEhDEAAAATEcYAAEBksdiksIQxAAAQWSw2KSxhDAAARBaLTQrLpK8AACCyWGxSWFrGAAAATEQYAwAAMBFhDAAAwESEMQAAABMRxgAAQPiz2NxizRHGABiuoqJCGRkZSk9P18qVK9s8bsuWLRoxYoR27NghSTpy5Ijmzp2r7OxsTZ48WStWrDCqZACBFIhg1NlztJxbzELhjDAGwFAul0vFxcUqLS2V3W7X5s2btXv37lbH7d+/X6tXr9bo0aPd2/72t7/J6XRq06ZNKisr0xNPPKGPP/7YyPIBBEIgJl3t7Dlazi1moYlfCWMADFVZWanExEQlJCQoLi5OWVlZKi8vb3VcSUmJrrvuOnXv3t29LSoqSocOHdLRo0d1+PBhdevWTb169TKyfACBEIhJVzt7joULpUOHjs0vZqGJX0N30tfD30ofvWR2FYD1jTS7AE8Oh0Px8fHuxzabTZWVlR7HvPvuu6qtrdXEiRP10EMPubdnZGSovLxc48aN0+HDh3X77berX79+htUOIEACMemqv+ew0MSvoRvGAFjW3r17lZOT436cl5envLw8n55bX1+v+fPna968ea32VVZWKjo6Wq+88or27dunyy+/XD/60Y+UkJAQsNoBwGiEMQAeeveRJmb4d46lx/dXWVmZ1302m021tbXuxw6HQzabzf34wIED2rVrl6666ipJ0hdffKFZs2Zp+fLl2rx5s8aPH69u3bpp4MCBOuuss7Rjxw7CGICQxpgxAIZKSUlRdXW1ampq5HQ6ZbfblZaW5t7fu3dvbdu2TVu3btXWrVs1ZswYLV++XCkpKRo0aJC2bdsmSTp48KDefvttDRs2zKxLAYCAIIwBMFRsbKyKioqUn5+vzMxMTZ48WUlJSSopKfE6kL+56dOn68CBA8rKylJubq5ycnI0cqTFBsUBQCfRTQnAcKmpqUpNTfXYVlhY6PXYNWvWuL/u2bOnli5dGtTaAMBotIwBgJ8+++wzXXnllcrMzFRWVpYeffRRs0sCgstCE6aGA8IYAPgpJiZGt912m5599lk98cQTWrdundeJbIGwYaEJU8MBYQwA/HTSSSfpjDPOkCT16tVLw4YNk8PhMLkqIIgsNGFqOCCMAUAAffzxx6qqqvJYxgkIOy1ns7eyEOhSZQA/AATIgQMHNHv2bN1xxx3tLtPkdDpVVVXlse3w4cOttoWzSLteiWs2y4ilSxVdV6f6pUv13owZQX2trl4vYQwAAuDIkSOaPXu2srOzdeGFF7Z7bFxcnJKTkz22VVVVtdoWziLteiWu2W9z5jSOUSso6FyL3OzZ0rJlii4oCPr739XrpZsSAPzU0NCg3/zmNxo2bJhmBPl/3kDE6upNAyHQpUoYAwA//fOf/9TGjRv1f//3f5oyZYqmTJmil19+2eyygPASxjcN0E0JAH76wQ9+oPfee8/sMoDwtnChpVu3/EHLGAAAgIkIYwAAoLUQmBIi4Ey6ZsIYAACRqKPgEYmz7Jt0zYQxAAAiUUfBI4wHzLfJpGsmjAEAEIk6Ch4hMCVEwJl0zdxNCQBAJArjuxNDDS1jAAAAJiKMAQAAmIgwBgAAjBGJ02X4gDAGAACMEYnTZfiAMAYAAIwRidNl+MCQMFZRUaGMjAylp6dr5cqVrfZ/+umnuvLKK/XTn/5U2dnZLLDbQk8d0l90l3rqkNmlAADQdZE4XYYPgh7GXC6XiouLVVpaKrvdrs2bN2v37t0exyxfvlyTJ0/W008/rfvuu0933XVXsMsKKZP0T+XpJaXpX2aXAgAAAizoYayyslKJiYlKSEhQXFycsrKyVF5e7nFMVFSU9u/fL0n69ttvddJJJwW7rJByif6hhu8+AwCA8BL0SV8dDofi4+Pdj202myorKz2OueGGG3Tttddq7dq1OnTokFatWhXsskJIgy7S64qSlK3XJDVIijK5JgAAECiWGMBvt9t1ySWXqKKiQitXrtScOXNUX19vdlmWcLqqdZyckqTj5FSyPjS5IgBAWOpo2gmmpQiaoIcxm82m2tpa92OHwyGbzeZxzIYNGzR58mRJ0ve//33V1dVp7969wS4tJGRqm2LkkiTFqF6Z+j+TKwIAhKWOpp1gWoqgCXoYS0lJUXV1tWpqauR0OmW325WWluZxzKBBg/T6669Lkt5//33V1dVpwIABwS4tJPxMf1cPHZEk9ZBTP9NL5hYEAAhd7bVudTTtBNNSBE3Qx4zFxsaqqKhI+fn5crlcmjp1qpKSklRSUqJRo0Zp0qRJuu2223TnnXfqkUceUVRUlObPn6+oqMgYF7VBRZqqV9rcX6duHo9H639q0I/bPP5JjVeuigNWHwAgjDRv3Wo5vURHC4ezsHjQGDJmLDU1VVu2bNGLL76oWbNmSZIKCws1adIkSdLw4cP1l7/8Rc8884w2btyocePGGVGWJdymmXpLw7Vfx3nd3/27VrG2HjfZr+P0Lw3XbZoZ8BqBQOto7sEmW7Zs0YgRI7Rjxw6P7Z9++qm+//3v66GHHgp2qUB48ad1izFjQWOJAfyRbLdO1g/0oH6nGTqg7jrayW/JUUXrgLqrSDP0A63Qbp0cpEqBwPBl7kFJ2r9/v1avXq3Ro0e32jd//nyNHz/eiHKB8OLPpKtGjBmL0MBHGLOAesVoiX6mMSrVDg1rs5Wspf06TpUapjEq1X36mRr4diIE+DL3oCSVlJTouuuuU/fu3T22v/jiixo8eLCSkpKMKhmA5Hurmj+BKkJvEuCvt4U0tZL9UdN1SHHtHntIcfqjptMaBkvau3evcnJy3B9PPPGEe5+3uQcdDofH8999913V1tZq4sSJHtsPHDigP//5z7rhhhuCWj8AL3xtVfMnUEXoTQJBH8CPzqlXjN7VUDkVqx7fzS/mjVOxeken0BqGwDtJ0vX+naL/qv4qKyvr0nPr6+s1f/58zZs3r9W+P/3pT7r66qvVs2dP/woEEDwFBY1BrCuBKkJvEuAvuQVdon+odweLgvfWIZZHQkjqaO7BAwcOaNeuXbrqqquUlpamf//735o1a5Z27Niht99+W/fee6/S0tL06KOPasWKFVq7dq0ZlwGgLR21oEXouLD20DJmOY3LH0Wrwb3lqKLlVDfF6Yhi1bgyQbQaWB4JIan53IM2m012u12LFy927+/du7e2bdvmfnzllVdqzpw5SklJ0bp169zbly1bpuOPP15XXHGFofUD8FN702tEKFrGLOZ0VXt0TzYN0p+iP6iyxeD+HqpjeSSEnOZzD2ZmZmry5MnuuQe9DeQHYLJAt2RF6Liw9tAyZjFNyx8dVbTq1E1FmqH7lasGRescfV836kkV62F11xFFf7c8UpWGml020CmpqalKTU312FZYWOj12DVr1njdXsAvcsAYgW7JitBxYe2hZcxifqa/q5tcXqesaDkFRpxcLI8EAAguI6a0iHCEMYup1QDdql+0O2VF0xQYc/QLOdTf4AoBABHFiCktzGSBEEkYs5iLNc+nCVybWskuVuvb/wEAMFyojgWzQIgkjAEAEA7MbuHxZ6klM1kgRBLGAAAIBxZo4QlJFgiRhDEAAMKBBVp40DVMbQEAQDhgyoiQRcsYAACAiQhjAAAgPJh9E0MXEcYAAAgnVg0kRtTV1ZsYTH7PCGMAAIQTq95VaURdXb2JweT3jDAGAEA4sepdlUbU1dVpKkx+z7ibEgCAcGLVuyqtWpdkem20jAEAAJiIMAYAAGAiwhgAADCXr3czWvVOUT8RxgAAQOcEOhT5ejejVe8U9RNhDAAAdE6gQ5GvdzNa9U5RPxHGAABA5wQ6FPk6JUVXp66wOKa2AAAAnWPlaSpCEC1jAADAesJ0sL43hDEAABAYgQxQYTpY3xvCGAAAVmXV1qG26gpkgArTwfreEMYAALAqq7YOtVVXIANUmA7W94YwBgB+uv322zV27FhddNFFZpeCcGO11qGmFrEzz/ReVwQFqEAijAGAn3JyclRaWmp2GQhHVgs3TS1ilZXWqivEEcYAwE/nnHOO+vbta3YZQPBZraUuTDDPGADDVVRU6J577lF9fb2mTZummTNnej1uy5Ytmj17tjZs2KCUlBRJ0ooVK7RhwwZFR0frzjvv1Pjx440sPSCcTqeqqqo8th0+fLjVtnAWrtd74r33asBjj2nP9On64te/9thn9jW3V5vPZsxo/JAkH67F7Gs2WlevN3TD2HG9peSJZlcBhIClZhfgweVyqbi4WKtWrZLNZlNubq7S0tI0fPhwj+P279+v1atXa/To0e5tu3fvlt1ul91ul8Ph0IwZM7RlyxbFxMQYfRl+iYuLU3Jysse2qqqqVtvCWdhe77p1Ul2dTli3Tic89JDHLtOvuZ3agsX0azZYV6+XbkoAhqqsrFRiYqISEhIUFxenrKwslZeXtzqupKRE1113nbp37+7eVl5erqysLMXFxSkhIUGJiYmqrKw0snygfcHsxvN3mov2arPqFBoRgjAGwFAOh0Px8fHuxzabTQ6Hw+OYd999V7W1tZo4cWKnnwuYKpgD7v2d5qK92oI9hUZHYS/Cw2DodlMCCIrDfeO0MzvRr3PsXbJXOTk57sd5eXnKy8vz6bn19fWaP3++5s2b51cNRrr55pu1fft27d27VxMmTFBBQYGmTZtmdlkINwUFjWEpGK1uwTy35Bn2OgqDEXiHJmEMQMD1799fZWVlXvfZbDbV1ta6HzscDtlsNvfjAwcOaNeuXbrqqqskSV988YVmzZql5cuXd/hcsyxZssTsEhAJgrk4d7AX/u4o7AU7DFoc3ZQADJWSkqLq6mrV1NTI6XTKbrcrLS3Nvb93797atm2btm7dqq1bt2rMmDFavny5UlJSlJaWJrvdLqfTqZqaGlVXV+vMM8808WoA+KSj7lurzadmMFrGABgqNjZWRUVFys/Pl8vl0tSpU5WUlKSSkhKNGjVKkyZNavO5SUlJmjx5sjIzMxUTE6OioqKQu5MSAFoijAEwXGpqqlJTUz22FRYWej12zZo1Ho9nzZqlWbNmBa02IOjmzDnWJRehLUHwRDclAABGsuri3y1F+B2ORiKMAQBgJKssKdRR2AqV0BgGCGMAABjJKoPVOwpbVgmNEYAwBgBAJOoobFklNEYABvADABCJgj23GHxGyxgAAF0RzAHuVh48b+XaQhRhDACArgjmAHcrD563cm0hijAGAEBXBHOAu5UHz1u5thDFmDEAALoilNeK9IeVawtRtIwBAABribBxaYQxAABgLRE2Lo0wBgAArCXCxqURxgAAQPuM7jbsaMLZMOvGNCSMVVRUKCMjQ+np6Vq5cqXXY5599lllZmYqKytLt9xyixFlAQBgLDNCRCBe02rdhlarx09BD2Mul0vFxcUqLS2V3W7X5s2btXv3bo9jqqurtXLlSj3++OOy2+264447gl0WAACB42vgMSNEBOI1rdZtaLV6/BT0MFZZWanExEQlJCQoLi5OWVlZKi8v9zjmr3/9q6ZPn66+fftKkgYOHBjssgAACBxfA08gQ4SvATDMgouksFs3M+hhzOFwKD4+3v3YZrPJ4XB4HFNdXa0PPvhAl156qX72s5+poqIi2GUBABA4vgaeQIYIXwOgv685Z460aFFYdQtajSUG8LtcLn344Ydas2aNFi9erN/+9rfat2+f2WUBAOAbM1pqjGrxah7Awql1zUKCHsZsNptqa2vdjx0Oh2w2W6tj0tLS1K1bNyUkJGjo0KGqrq4OdmkAAFiTL12QRgXAptB3661h0y1oNUEPYykpKaqurlZNTY2cTqfsdrvS0tI8jrngggu0fft2SdKePXtUXV2thISEYJcGAIA1WeluwTAbn2VFQQ9jsbGxKioqUn5+vjIzMzV58mQlJSWppKTEPZB//Pjx6tevnzIzM3X11Vdrzpw56t+/f7BLAwBEOqvOVxWOg+7RJkMWCk9NTVVqaqrHtsLCQvfXUVFRuv3223X77bcbUQ4AAI2at0BZqeUn2Itxz5nTeM1NYa/payu9BxHEEgP4AQAwRaS2QDUPoVbqEo1QhDEAQOSK1PFQzUNopAZSCzGkmxIAAFhIy27QSAujFkPLGAAAgIkIYwAAACYijAEwXEVFhTIyMpSenq6VK1e22v/4448rOztbU6ZM0WWXXabdu3e79+3cuVN5eXnKyspSdna26urqjCwdQKix6vQlzRDGABjK5XKpuLhYpaWlstvt2rx5s0fYkqTs7Gxt2rRJGzduVH5+vubNmydJOnr0qG699VbdddddstvtWr16tWJjGfoKP4TAH2r4KQTuFiWMATBUZWWlEhMTlZCQoLi4OGVlZbkngG7Sq1cv99eHDh1SVFSUJOnVV1/ViBEjNHLkSElS//79FRMTY1zxCD+d+UMdScEtWNdqxnvY/G5Ri34PCWMADOVwOBQfH+9+bLPZ5HA4Wh332GOP6YILLtCiRYt05513SpI++OADRUVF6dprr9Ull1yiP//5z4bVjTDVmWkdQqCFJWCCda1mvIfNpy+x6PeQ9n0AHvZooNboQr/OsXfvK8rJyXE/zsvLU15eXqfOMX36dE2fPl2bNm3S8uXLtWDBArlcLv3zn//Uhg0b1KNHD11zzTUaNWqUxo4d61e9iGCdmem+oMBz1vpwFqxrNfs9NPv120AYAxBw/fv3V1lZmdd9NptNtbW17scOh0M2m63Nc2VlZen3v/+9JCk+Pl7nnHOOBgwYIEmaMGGC3n33XcIYjBHsJYqsJBjX2nwJJrPexwBdV0ODVF8vBWqUBN2UAAyVkpKi6upq1dTUyOl0ym63Ky0tzeOY6upq99cvvfSSEhMTJUnjxo3Trl27dOjQIR09elRvvPGGhg8fbmT5QOiw2vgoi3YRtufIEWnnTumpp6R586Srr5bOPVfq10/q21eqqgrM69AyBsBQsbGxKioqUn5+vlwul6ZOnaqkpCSVlJRo1KhRmjRpktauXavXX39dsbGx6tOnjxYsWCBJ6tu3r6655hrl5uYqKipKEyZM0MSJE829IMAbM1uBml77yBHJ5TJ2EfT2rtuiXYSS9PXXjaGr5cf770tHj3p/TmJiY9YNBMIYAMOlpqYqNTXVY1thYaH766YB+95MmTJFU6ZMCVptQEA0bwUyOow1vXZMjPFrTrZ33SZ389bXSzU1jSGrqsozdHm5h0iSFBUlnXKKNHJk648TT2zcHwiEMQBA+LDCuCTJ3Fag5q9t9HtggdavQ4ekXbtat3K9917jPm969PAeuJKSAtf61R7CGAAgfASjRaorAc/MVqC2XtuIoGrQdTc0SF98cSxoNW/p+vDDxv3exMd7D10JCVK0iaPoCWMAgPARjJYZM7scAykEr+PoUel///M+nmvvXu/PiY2Vhg9vHbhGjGgceG9FhDEAQPgIRsuMBbreAsLC17FvX2M3YstWrt27G+9D8KZPHyk5uXXoOvVUqVs3Y+v3F2EMAID2dDXgWWX8WhOTB9A3NEgff+y9levTT9t+3pAh3kOXzdbJAfRW+340QxgDACAYgtkt6EuwMCl8HD7c2KK1c6dUUXGCvvrq2AD6Awe8P6d798ZuxJaB67TTpJ49A1SYhbtpCWMAAARDMLsFfQkWQQ4fX37ZooXrqSrt/CBOH+gU1Tc0jYY/0eM5J57YGLJatnQNGRK42ew9NA+kFu6mJYwBAKzJwt1KPglmt6AvweLMM6Xt2xs/d5HLJVVXe79r8auvWh6dLEmKlktJSU1zcX2l888f6B5AP3Bgl0vpmuaBtGmxcAvqchhbuXKlZs6cGchaAAA4pukP6ZIloR3KJGnOHI1YulSaPTsw1+BL0Kus9Pzcjv37jw2gb/6xa5fkdHp/Tq9ex1q2kpOlkdtXa+Rz9+nU63+i7kvmSZKqqj5XcrLRCawZC7eGNedzGGs+O3ZDQ4N27txJGAMABE/TH9IjRyw71sdny5Ypuq7O2GtoEUQaGqTPPvMMW00tXR9/3PZpTj7Z+9xc3/teywH0V333YSEhsri7z2GsV69euueee9yPf/e73wWlIAAAJB37Q9q8uzJUFRSofulSRft6DX500Tqd3w2gP2+hdvZb2Bi8ftgYur791vtz4uLk7lpsPqbrtNOk3r079fLogg7DWF1dnbp3765f/vKXHttvuummoBUFAMGwZs0aXXzxxerbt6/ZpaAzQqR1o10LF+q9GTOUnJzs2/FtDb5vFtL23r6wVbdiVVXjJKkul/fTDhjgfZqIoUMbJ0uFOTp863Nzc3X++efrsssu89jez6rT2AJAG7788kvl5ubq9NNP19SpUzV+/HhFBWqlXyCQvutirL9htj78oFngWnKadrr+pp2LRurzRd6fGhUlDRvmGbaaAtgJJxh7GfBNh2Fs48aNeumllzRv3jzV19frsssu08SJE/kFBiDk3HTTTbrxxhv1j3/8Q2VlZbr77rs1efJk5ebmasiQIX6du6KiQvfcc4/q6+s1bdo0xtSGAwPv5jx4sMXi1h8t1M4RC/Xen6TD9zY/Mt/91fHHt7249XHHBbVcBFiHYWzfvn1KSkrS9ddfr507d2rRokW6++67tXXrViPqA4CAioqK0oknnqgTTjhBMTEx+uabbzR79mz96Ec/0pw5c7p0TpfLpeLiYq1atUo2m025ublKS0vT8OHDA1w9DBXgeboaGqTaWu8z0H/4YdvPGzSodeBKLrtHgx+5R9GTbgj9Llx0HMbOO+88jRkzRmeddZZ69uypn/3sZ+rVq5cRtQFAQD366KPauHGj+vfvr9zcXM2ZM0fdunVTfX29Lrzwwi6HscrKSiUmJiohIUGSlJWVpfLycsKY1XS2pauL0yIcOeJ9cev//Oc07dvn/TmxsZ4D6Jsvbu11iOOUP0h1IX6HKdw6DGNPPvmk1q5dq127dmnatGlKT09XdHR0R08DAMv55ptvtGzZMg0ePNhje3R0tFasWNHl8zocDsXHx7sf22w2VbYzt5PT6VRVVZXHtsOHD7faFs7MuN4RS5cquq5O9UuX6r0ZMzp+wowZjR9S48j4Fr79Nlr/+1+cPvigu/vzBx/E6aOP4nT0qLehPDHq3dulYcPqdMopTg0b5tQpp9Rp2DCnTj7Z6XVx608/9b5u44mXX64Bjz2mPZdfri8s/O+Gf9e+6TCMnXHGGZo3b5727t2r9evXa/r06UpNTW11dyUAWN3s2bPb3HfqqacaVkdcXFyru+qqqqp8v9MuDJhyvbNnN873VVDg82vX17e9uPVnn7X9vKFDW7dyRUfv0rhxpykq6nhJx/t3LQ89JD30kE6QZOUx+fy79k2HYeyKK67QwYMHdfjwYUmN/4PcsmULYQwAvvxcGkQAACAASURBVGOz2VRbW+t+7HA4ZLPZTKwIXrUzRcbhw9J//+u53E/T4tYHD3o/3XHHtb249fFeslZVlUvc+wZvOgxjCxYsUJ8+fdSrVy/uoAQAL1JSUlRdXa2amhrZbDbZ7XYtXrzY7LLQQkODl8Wtv/v44IPG/d7YbN7vWhwyRGLUDgKhwzDWcmyFZcRLutrsIoAQsNnsAsJfbGysioqKlJ+fL5fLpalTpyopKcnsskJLAKeROHr02OLWLVu69uzx/pyYGOnUU72Hrv79/SoH6BDz7QJAAKSmpio1NdXsMkJXF6aR+PZb74tb//e/bS9u3bu39xnoTz21cUkgwAyEMQCA+dqYRqKhofFuwpYtXDt3Sp980vbpEhK8t3INGtRycesAM3CiWEtped3fPT7x8ssbbzZAuwhjAADT1d29ULuv/m6txXs8Q9f+/d6f071742B5bwPoTZsOM8ATxYaMltf93eMBjz1GGPMBYQwAYJg9exoD1tatffXNN8cC1//+1ziNhDcnnOC9lWvo8rmKeWCp9JMCqdgiwaeLE8WGvJbX/d3jPZdfbumpN6yCMAYACCiXq3F5H293LX7xRdNR3/N4TnR047itluO5RoxoZ3HrB5YGtxWqM12OzY89dCjwtVhdy2lDvnv8RVWVZxiL1G7cDhDGAABdcuDAscWtm4/p2rVLqqvz/pyePZvGbn2jc8/t6w5dw4d3YXHrYLdCdabLMVK7JzuL98krwhgAw1VUVOiee+5RfX29pk2bppkzZ3rsf/zxx7Vu3TpFR0fr+OOP1913363hw4fr1Vdf1eLFi3XkyBF169ZNt956q8aOHWvSVUSG9ha3/uijtp/3ve99t6B1i5auwYMbB9BXVX2q5GRviy52QjuTuAZEZ8JepHZPdhbvk1eEMQCGcrlcKi4u1qpVq2Sz2ZSbm6u0tDSPRbWzs7N12WWXSZLKy8s1b948PfTQQ+rfv7+WL18um82mXbt26dprr9Urr7xi1qWElSNHpPffPxa0mrd0tbW4dbdubS9u3aePQYUHs9uro7DX8rXNbOkJ1PsQ7G5Es98niyKMATBUZWWlEhMTlZCQIEnKyspSeXm5Rxjr1exWuEOHDrlX/zj99NPd25OSklRXVyen06k4Jojy2ddfe2/lev/9xslSvenX71gLV/OWrlNOkWLN/itiZreX2V1uzYNToGox+5qMZpExbGb/GAGIMA6HQ/Hx8e7HNptNlZWVrY577LHHtGrVKh05ckSPPvpoq/1btmzR6aefThDzor5eqqnxDFtNLV0Oh/fnREU1hitvdy2eeGKQ5+byh5ndXmZ3uTUPToGqxexrMppFwidhDEDA7d27Vzk5Oe7HeXl5ysvL69Q5pk+frunTp2vTpk1avny5FixY4N733//+V/fee68efvjhgNUcig4dOjaAvuXi1m3d0Nejh+fi1k0tXUlJjftCjpndXmZ3uTUPToGqxexr8lWgWrQsEj4JYwA8fKUBekyX+3WOs/q/o7KyMq/7bDabamtr3Y8dDodsNlub58rKytLvf/979+Pa2lrdcMMNWrBggYYMGeJXnaGgoaFxOoiWgauqqnH6iLYWt46P997KlZAQQotbW6QLyTQdXX+oBKdgCFSLlkXeQ8IYAEOlpKSourpaNTU1stlsstvtWrx4sccx1dXVGjp0qCTppZdeUmJioiRp3759mjlzpm655RadffbZRpduuG++kc49t7Gly5uYmMYpIZqHreTkxpavfv2MrdVv3oKHRbqQTBNO1x/oYG2RFq1AIYwBMFRsbKyKioqUn58vl8ulqVOnKikpSSUlJRo1apQmTZqktWvX6vXXX1dsbKz69Onj7qJcu3atPvroIz3wwAN64IEHJEkPP/ywBg4caOYlBc2RI42BrE8f74tbDxsWRotbewseRvzBtXLrWzgFjkAHS4u0aAUKYQyA4VJTU5WamuqxrbCw0P31nXfe6fV5v/rVr/SrX/0qqLVZyQknNC6SLVl4AH2geAseRvzBtXLrUzgFjqbv75lnNg5OtGL4NVGojBwAgIgUFRUBQUxq/MN86JDxf6ALChqn/g9U69OcOY1hY86cwJzPaL7U35VrbPr+VlYeC79wI4wBACJXoENg85a2UORL/f5cY6DDb5ggjAEAECihHjZ8qd+fazSrBdTiCGMAAOsKtW6/UA8bvtRv5jWG2r8HHxHGAADWZVS3X/M/8mH6B98MJ957b2Dfy1DvBm4DYQwAYIyuhJwzz/T8HCzN/8iH6R98Mwx47LHAvpe+dpGGWKA2JIxVVFQoIyND6enpWrlyZZvHbdmyRSNGjNCOHTuMKAsAYKSuhJymdUu9rF8aUM3/yFtt3NecOY0rssfGBi5cBCKs+HCOPdOnB/a99LWLNMQCddDDmMvlUnFxsUpLS2W327V582bt3r271XH79+/X6tWrNXr06GCXBAAIlvb+QHcl5BgVjJr/kW/+tRVaWJYtk1yuxo9AhYtAhJWmcyxZ0uZ79MWvfx0eU5YEWdDDWGVlpRITE5WQkKC4uDhlZWWpvLy81XElJSW67rrr1L1792CXBAAIlvb+yHdl4LfZA+Kt0MJSUNC49lVMTODCRSDCStM5JPPfo5bM/nfTSUEPYw6HQ/Hx8e7HNptNDofD45h3331XtbW1mjhxYrDLAQAEU6i0SPja4mWF61m4UDp6tPEjUOEikGHl7LPNf49CnOkD+Ovr6zV//nzNnTvX7FIAAP6ySotER2HL1xYvq1xPMPjbBdv0HlZWhu97ZJCghzGbzaba2lr3Y4fDIZvN5n584MAB7dq1S1dddZXS0tL073//W7NmzWIQPwBEmpbhwJ+w0FHYskKLl9n87YLlPQyYoIexlJQUVVdXq6amRk6nU3a7XWlpae79vXv31rZt27R161Zt3bpVY8aM0fLly5WSkhLs0gAAVtIyHARz2Z1AtnhZYZB/V/gbpsK51dBgQQ9jsbGxKioqUn5+vjIzMzV58mQlJSWppKTE60B+AECEahkOQmXZHSsM8u8KwpRlGDJmLDU1VVu2bNGLL76oWbNmSZIKCws1adKkVseuWbOGVjEAiEQtw4EZYcGXVq6Wx9BdBz+ZPoAfAADL8KWVq+UxtDDBT4QxAEDnGDFGyqxxWL60ctEShgAjjAEAfDdnjrRoUWPL0KJFwQtLZo3D8qWVi5YwBBhhDADgu5bhKFhhKZCtT6F6tyMiBmEMAOC7ppD0wx8Gt6vO19YnXxbRDtW7HYONkGoZsWYX0FVxAw8r8ec7zS4DsL7NZheAsNK0kHawzJnTGJoKCnx7naZFtJu+9vacgoJj57Sizl5zoDQPqXS5moqWMQCAfwLZwtLZVixfFtFu3spmxdYgs1ruuBHBMghjAAD/BDJMdDYgdHYRbSt2WZoVirgRwTIIYwAA/wQyTAQ7IBgRfM49V4qKavzsC0JRxAvZMWMAAIsI9jiyQDKi1u3bPT8DHaBlDADQdb7czRhpfvhDz8/NWXHMGkxHGAMAdF3T3Ywul7XGYZlp2zapoaHxc0tWHLMG0xHGAABd58vdjF0Vjq1I3MEILwhjAAxXUVGhjIwMpaena+XKla32r1q1SpmZmcrOztbVV1+tTz75xL1v4cKFysrK0uTJk/WHP/xBDQ0NRpaOljp7N2NnhGMrEoP14QVhDIChXC6XiouLVVpaKrvdrs2bN2v37t0exyQnJ+vJJ5/Upk2blJGRoUWLFkmS/vWvf+lf//qXnnnmGW3evFk7duzQdgZJhy9akRAhCGMADFVZWanExEQlJCQoLi5OWVlZKi8v9zjmvPPOU48ePSRJY8aMUW1trSQpKipKTqdTR44ccX8+4YQTDL8G+OG7rsfEvLxjXZBtdUd2tRWp6Xznnht+3ZwIS4QxAAG3d+9e5eTkuD+eeOIJ9z6Hw6H4+Hj3Y5vNJofD0ea5NmzYoAkTJkiSvv/97+vcc8/VuHHjNG7cOI0fP16nnnpq8C4EHevsuK7vuh577NhxrAsy0N2RTefbvr3x85IlgTkvECTMMwbAg/Or4/TRwyP9OsdZ/furrKzM71o2btyod955R2vXrpUkffjhh3r//ff18ssvS5J+/vOf680339QPfvADv18L32m5TmJH6yZ2dn3D79aJPJSUpOP/+99jXZCBXDuyoKAxgDWtWQlYHC1jAAxls9nc3Y5SY0uZzWZrddxrr72mBx98UMuXL1dcXJwk6YUXXtDo0aPVs2dP9ezZU+PHj9dbb71lWO0RoWUrVUetVl1ZvujQIX34xBPHuiDb647syh2VCxdK3bode3zzzb4/FzABYQyAoVJSUlRdXa2amho5nU7Z7XalpaV5HPOf//xHRUVFWr58uQYOHOje/r3vfU9vvPGGjh49qiNHjuiNN96gm7Kr2go5LcNVR2ErkHcHequpq12YTXXfeit3LsLyCGMADBUbG6uioiLl5+crMzNTkydPVlJSkkpKStwD+RcuXKiDBw+qsLBQU6ZM0S9/+UtJUkZGhoYMGaLs7GxNmTJFI0eObBXk4CNvIcdbl6SRUzF4q6mrd1QyhQRCCGPGABguNTVVqampHtsKCwvdXz/yyCNenxcTE6Pi4uJglhY5vhu75RFyOjv+y4iaQmndS6CLaBkDAD8899xzysrK0siRI7Vjxw6zy/Gdt5Yjs+f1ojULEYowBgB+OO2007Rs2TKdc845ZpfiP8IQYAq6KQHAD9xAAMBftIwBADxZdYFuq9YF+ImWMQDowDXXXKMvv/yy1fYbb7xRF1xwQafP53Q6VVVV5bHt8OHDrbYF04n33qsBjz2mPdOn64tf/9pj34ilSxVdV6f6pUv13owZQXm9rlxve3W1dz1WYfT32Aoi7Zq7er2EMQDoQFt3d3ZVXFyckpOTPbZVVVW12hZU69ZJdXU6Yd06nfDQQ577Zs+Wli1TdEFB4Gpq8Xoe19vRLP++1NXe9ViE4d9jC4i0a+7q9dJNCQCRqL07J4MxkL+91/N1Ytf26jL7TlDAD4QxAPDDCy+8oAkTJuitt97SL37xC1177bVml+SbtoJNsMZlBTtIcScoQhhhDAD8kJ6eroqKCr3zzjt67bXX9JBFu8h81tXlh5rrbKAjSCHCEcYAAMcEopUqEIEOiCCEMQDAMYFopWL8FtAphDEAQGA1D3TMDQZ0KGSnthioPZqkdWaXAVhe5Mzwg07xdToJf5m9+DgQAmgZA4BIZNS4LrosgQ4RxgAgEhkVkrhTEuhQyHZTAgD8sHAhAQmwCFrGAAAATEQYA4BI1pW7HblDEggowhgARLKuDORnUlcgoAhjABDJujKQnzskgYBiAD8ARLKuDORn8D8QULSMAUAk6Ow4L8aFAYYhjAFAOGsKVUuWdDzOq3kAY1wYYBjCGACEs6ZQJXU8zqt5AGNcGGAYwhgAhLOmUHXzza1nwm/ZFdk8gDFzPmAYwhgAhLP2QlXLrsimYyXGiwEGIowBQKRqqyuS8WKAoQhjAAxXUVGhjIwMpaena+XKla32r1q1SpmZmcrOztbVV1+tTz75xGP//v37NWHCBBUXFxtVcnhqq9WM8WKAoQhjAAzlcrlUXFys0tJS2e12bd68Wbt37/Y4Jjk5WU8++aQ2bdqkjIwMLVq0yGP//fffr3POOcfIssNTW9NXMF4MMBRhDIChKisrlZiYqISEBMXFxSkrK0vl5eUex5x33nnq0aOHJGnMmDGqra1173vnnXf01Vdf6fzzzze07pDU0VxhTd2RixYxPgwwEWEMgKEcDofi4+Pdj202mxwOR5vHb9iwQRMmTJAk1dfXa8GCBZo7d27Q6wwLHY39at4NyfgwwDQshwTAU62ke/07xV7bXuXk5Lgf5+XlKS8vr9Pn2bhxo9555x2tXbtWkrRu3TpNmDDBI8yhHQUFx+YM86apG7K9YwAEHWEMQMD1799fZWVlXvfZbDaPbkeHwyGbzdbquNdee00PPvig1q5dq7i4OEnSW2+9pX/+8596/PHHdeDAAR05ckTHH3+8fv3rXwfnQkKdL2tIss4kYDrCGABDpaSkqLq6WjU1NbLZbLLb7Vq8eLHHMf/5z39UVFSk0tJSDRw40L29+XFlZWV65513CGIAQp4hYayiokL33HOP6uvrNW3aNM2cOdNj/6pVq7R+/XrFxMRowIAB+uMf/6jBgwcbURoAg8XGxqqoqEj5+flyuVyaOnWqkpKSVFJSolGjRmnSpElauHChDh48qMLCQknSoEGD9OCDD5pcOQAER9DDWNNt7KtWrZLNZlNubq7S0tI0fPhw9zFNt7H36NFD69at06JFi3T//fcHuzQAJklNTVVqaqrHtqbgJUmPPPJIh+fIycnxGJcGAKEq6GGs+W3skty3sTcPY+edd5776zFjxuiZZ57p8LwD9JWu1OrAFwyEmTt0ltklAADaEfSpLfy5jR0AECQdzUEGwDCWmmes6Tb2/Px8s0sBgPDG+pOAZQQ9jHX2Nvbly5e7b2MHAPiprRYw1p8ELCPoYaz5bexOp1N2u11paWkexzTdxr58+XKP29gBAH5q3gLWPJix/iRgGUEPY81vY8/MzNTkyZPdt7E3rUfX/Db2KVOm6Je//GWwywKAyNC8BYyuScCSDJlnLBC3sQMAOmnOnGNLHbH0EWBZlhrADwAIoJYtYXRNApZEGAOAcDRnjnTkiBQTc6wljOksAEsijAFAOFq2THK5pG7dPLsoGTMGWA5hDADCkbepK5jOArAkQwbwA2hfNw3RAF2nPvqpotVT9TqgfXpae/RnHdFHZpeHULRwYeuxYd62ATAdLWOAyXpqok7R39RPeYpRb0UpWjHqrX7K0yn6m3pqotklAgCCiDAGmKibhmiw/p+idbyi5LnyRJTiFK3jNVj/T900xKQKAQDBRhgDTDRA1ymqg9ECUYrVAF1rUEUIO9xBCVgeYQwwUR/9tFWLWEtRilMf5RhUEcIOd1AClkcYA0wUrZ4BPQ5ohTsoAcvjbkrARPU6oBj19uk4oEu4gxKwPFrGABPt09NqkLPdYxrk1D6VGVQRAMBohDHARHv0ZzXoaLvHNOio9ughgyoCABiNMAaY6Ig+0if6lep1sFULWYOcqtdBfaJfMfErAISxkB0zdtw3To3cxB8ohINHpeNfkYbdJJ18pRTbSzq6X1Efr1HU/+5TwsH/+Xn+swJSJQAgOEI2jAFh5eD/pHcKGj8AABGFbkoAAAATEcYAAABMRDclAPhhwYIF+vvf/65u3bppyJAhmjdvnvr06WN2WQBCCC1jAOCH888/X5s3b9amTZs0dOhQrVixwuySAIQYwhgAw1VUVCgjI0Pp6elauXJlq/2rVq1SZmamsrOzdfXVV+uTTz5x73vqqad04YUX6sILL9RTTz1lZNlejRs3TrGxjZ0MY8aMUW1trckVAQg1hDEAhnK5XCouLlZpaansdrs2b96s3bt3exyTnJysJ598Ups2bVJGRoYWLVokSfr666/1pz/9SX/961+1fv16/elPf9I333xjxmV49eSTT2rChAlmlwEgxDBmDIChKisrlZiYqISEBElSVlaWysvLNXz4cPcx5513nvvrMWPG6JlnnpEk/eMf/9D555+vfv36SWrsInzllVd00UUXBbXma665Rl9++WWr7TfeeKMuuOACSdLy5csVExOjiy++uMPzOZ1OVVVVeWw7fPhwq23hLNKuV+KaI0FXr5cwBsBQDodD8fHx7sc2m02VlZVtHr9hwwZ3a5O35zocjuAV+51HHnmk3f1lZWV66aWX9MgjjygqKqrD88XFxSk5OdljW1VVVatt4SzSrlfimiNBV6+XMAbA0+FvpY9e8usUe217lZOT436cl5envLy8Tp9n48aNeuedd7R27Vq/6gmmiooKlZaWau3aterRo4fZ5QAIQYQxAAHXv39/lZWVed1ns9k8Brk7HA7ZbLZWx7322mt68MEHtXbtWsXFxbmfu337do/n/vCHPwxw9Z1z9913y+l0asaMGZKk0aNHq7i42NSaNGeOtGyZVFAgLVxobi0AOkQYA2ColJQUVVdXq6amRjabTXa7XYsXL/Y45j//+Y+KiopUWlqqgQMHurePGzdOS5YscQ/a/8c//qGbb77Z0PpbeuGFF0x9fa+WLZMOH278TBgDLI8wBsBQsbGxKioqUn5+vlwul6ZOnaqkpCSVlJRo1KhRmjRpkhYuXKiDBw+qsLBQkjRo0CA9+OCD6tevn371q18pNzdXknT99de7B/OjmYKCYy1jACyPMAbAcKmpqUpNTfXY1hS8pPYHzOfm5rrDGNqwcCEtYkAIYZ4xAAAAExHGAAAATEQYAwAAMBFhDAAAwESEMQAAABOF7t2Un0t6wOwigBBwvNkFAADaQ8sYAACAiQhjAAAAJiKMAQAAmIgwBgAAYCLCGAAAgIkIYwAAACYijAEAAJiIMAYAAGAiwhgAAICJCGMAEA7mzJF69Gj8DCCkEMYAIBwsWyYdPtz4GUBIIYwBQDgoKJCOO67xM4CQEroLhQMAjlm4sPEDQMihZQwAAMBEhDEAAAATEcYAAABMRBgDAAAwUcgO4P92n/TSO2ZXAYSAS8wuAADQHlrGAAAATEQYAwAAMBFhDAAAwESGhLGKigplZGQoPT1dK1eubLXf6XTqxhtvVHp6uqZNm6aPP/7YiLIAmKSj3wlvvPGGLrnkEp1++un629/+5rHv008/1c9//nNNnjxZmZmZ/L4AEPKCHsZcLpeKi4tVWloqu92uzZs3a/fu3R7HrF+/Xn369NELL7yga665Rvfee2+wywJgEl9+JwwaNEjz5s3TRRdd1Or5c+fO1bXXXqvnnntO69ev18CBA40qHQCCIuhhrLKyUomJiUpISFBcXJyysrJUXl7ucczWrVt1ySWNt3xlZGTo9ddfV0NDQ7BLA2ACX34nnHzyyRo5cqSioz1/Re3evVtHjx7V+eefL0nq2bOnevToYVjtABAMQQ9jDodD8fHx7sc2m00Oh6PVMYMGDZIkxcbGqnfv3tq7d2+wSwNgAl9+J7Slurpaffr00Q033KCf/vSnWrBggVwuV7BKBQBDhOw8Y/vi47X07LPNLgOwvE8++aRTx19wwRDt3bvUr9esq6tTTk6O+3FeXp7y8vL8OqckHT16VG+++aaefvppDRo0SDfddJPKyso0bdo0v89tpE8++cTj/QEQ/tr7XRz0MGaz2VRbW+t+7HA4ZLPZWh3z2WefKT4+XkePHtW3336r/v37t3vebdu2BaVeINI99NBDQT2/L78T2hIfH6/k5GQlJCRIkiZNmqS33347KHUGE7+/ADQX9G7KlJQUVVdXq6amRk6nU3a7XWlpaR7HpKWl6amnnpIkbdmyReedd56ioqKCXRoAE/jyO6G95+7bt0979uyR1Bhqhg8fHsxyASDoohoMGCn/8ssv649//KNcLpemTp2qWbNmqaSkRKNGjdKkSZNUV1enW2+9VVVVVerbt6/uu+8+9/98AYSfjn4nVFZW6oYbbtC+ffvUvXt3nXDCCbLb7ZKkV199VfPnz5cknXHGGSouLlZcXJyZlwMAfjEkjAEAAMA7ZuAHAAAwEWEMAADARGERxh5++GGNGDHCPag3FN1///3Kzs7WlClT9POf/9zneZesZsGCBfrJT36i7OxsXX/99dq3b5/ZJXXZc889p6ysLI0cOVI7duwwuxyEuXD62fFVpPyMdbT8Vzi6/fbbNXbsWK+raISjzz77TFdeeaUyMzOVlZWlRx99tFPPD/kw9tlnn+nVV1/V9773PbNL8Ut+fr42bdqkjRs3auLEiXrggQfMLqlLzj//fG3evFmbNm3S0KFDtWLFCrNL6rLTTjtNy5Yt0znnnGN2KYgA4fSz46tI+BnzZfmvcJSTk6PS0lKzyzBMTEyMbrvtNj377LN64okntG7duk59n0M+jM2bN0+33npryE+F0atXL/fXhw4dCtnrGTdunGJjG6evGzNmjMd8UqHm1FNP1bBhw8wuAxEinH52fBUJP2O+LP8Vjs455xz17dvX7DIMc9JJJ+mMM86Q1Pj3fNiwYZ3q4QrZGfgl6cUXX9RJJ52kkSNHml1KQNx33316+umn1bt3b61evdrscvz25JNPavLkyWaXAYQcfnbCh7flvyorK02sCMH28ccfq6qqSqNHj/b5OZYPY9dcc42+/PLLVttvvPFGrVixQg8//LAJVXVNe9dywQUX6KabbtJNN92kFStWaO3atZo9e7YJVXaso+uQpOXLlysmJkYXX3yx0eV1ii/XAgRKOP3s+IqfMUSSAwcOaPbs2brjjjs8erw6Yvkw9sgjj3jd/t577+njjz/WlClTJEm1tbXKycnR+vXrdeKJJxpYoe/aupaWsrOzNXPmTMuGsY6uo6ysTC+99JIeeeQRy3e3+vo9AQIhnH52fBXpP2P+LP+F0HLkyBHNnj1b2dnZuvDCCzv1XMuHsbaMGDFCr7/+uvtxWlqaNmzYoAEDBphYVddVV1dr6NChkqTy8vKQHUdRUVGh0tJSrV27Vj169DC7HCBk8LMTnpov/2Wz2WS327V48WKzy0KANTQ06De/+Y2GDRumGTNmdPr5YTMDf6iHsYKCAn3wwQeKiorS4MGDddddd4Xk/57S09PldDrVr18/SdLo0aNVXFxsclVd88ILL+juu+/Wnj171KdPHyUnJwd9EW1ErnD62fFVpPyMeVv+K9zdfPPN2r59u/bu3auBAweqoKBA06ZNM7usoHnzzTc1ffp0nXbaaYqObrw38uabb1ZqaqpPzw+bMAYAABCKQn5qCwAAgFBGGAMAADARYQwAAMBEhDEAAAATEcaAIAr0YrnXXnutfvCDH+gXv/iFx/aGhgbdd999ysjI0OTJk8NiBQcAiBQhO88YEApycnJ0xRVXaO7cuQE5X35+vg4dOqQnnnjCY3tZWZk+++wzPffco58liAAAA3ZJREFUc4qOjtZXX30VkNcDAAQfLWNAEHlbLPejjz7Stddeq5ycHF1++eV6//33fT7f2LFj1bNnz1bbH3/8cV1//fXu+W0GDhzoX+EAAMMQxtBpH3/8saZPny5JevfddzVixAjt2bNHLpdL2dnZOnTokMkVWttvf/tb/fa3v1VZWZnmzp2ru+66y+9z1tTU6Nlnn1VOTo7y8/NVXV3tf6EAAqKyslLZ2dmqq6vTwYMHlZWVpV27dpldFiyEbkp0Wp8+fXTw4EFJ0tq1azVmzBh9++23euuttzR27FiWcmnHgQMH9NZbb6mwsNC9zel0SpKef/55LV26tNVzbDZbh7OSO51Ode/eXWVlZXr++ed1xx13aN26dYEtHkCXnHnmmUpLS9P999+vw4cP6+KLL9Zpp51mdlmwEMIYOq1Xr146dOiQ9uzZo88//1xnnXWWvvnmG/31r3/VbbfdpoMHD+quu+5St27d9MMf/lAXX3yx2SVbRkNDg/r06aONGze22nfhhRd2enHZJjabTenp6ZIal9W5/fbb/aoTQGBdf/31ys3NVffu3XXnnXeaXQ4shm5KdFp0dLSioqK0YcMG5ebmqmfPnnrvvffkcrl0yimn6Pnnn1dGRob+8Ic/aOvWrWaXaym9evXSySefrOeee05SYzjbuXOn3+e94IILtG3bNknS9u3b3YvOA7CGr7/+WgcPHtSBAwdUV1dndjmwGMIYuiQ6Olpbt25Venq6evXqpYcffliXXnqpJMnhcGjQoEGSpJiYGDPLNN3NN9+sSy+9VB988IEmTJig9evXa9GiRdqwYYMuvvhiZWVl6cUXX/T5fJdffrkKCwv1+uuva8KECXrllVckSTNnztTzzz+v7OxsLVmyRPfcc0+wLglAFxQVFamwsFDZ2dm69957zS4HFkM3JbokNjZW48ePV2xsrHr27KnDhw/rxz/+saTGLrPa2lolJyervr7e5ErNtWTJEq/bOxoD1pa2xoH16dNHK1eu7NI5AQTX008/rW7duik7O1sul0uXXnqpXn/9dY0dO9bs0mARUQ0NDQ1mF4HwcvDgQd19992Ki4vT2WefzZgxAADaQRgDAAAwEWPGAAAATEQYAwAAMBFhDAAAwESEMQAAABMRxgAAAExEGAMAADARYQwAAMBEhDEAAAATEcYAAABM9P8BWen/zETu/3EAAAAASUVORK5CYII=\n"
                },
                "metadata": {}
              }
            ]
          }
        },
        "32dab0f8aa7d4a59b55a613b6cfe8597": {
          "model_module": "@jupyter-widgets/base",
          "model_name": "LayoutModel",
          "model_module_version": "1.2.0",
          "state": {
            "_model_module": "@jupyter-widgets/base",
            "_model_module_version": "1.2.0",
            "_model_name": "LayoutModel",
            "_view_count": null,
            "_view_module": "@jupyter-widgets/base",
            "_view_module_version": "1.2.0",
            "_view_name": "LayoutView",
            "align_content": null,
            "align_items": null,
            "align_self": null,
            "border": null,
            "bottom": null,
            "display": null,
            "flex": null,
            "flex_flow": null,
            "grid_area": null,
            "grid_auto_columns": null,
            "grid_auto_flow": null,
            "grid_auto_rows": null,
            "grid_column": null,
            "grid_gap": null,
            "grid_row": null,
            "grid_template_areas": null,
            "grid_template_columns": null,
            "grid_template_rows": null,
            "height": null,
            "justify_content": null,
            "justify_items": null,
            "left": null,
            "margin": null,
            "max_height": null,
            "max_width": null,
            "min_height": null,
            "min_width": null,
            "object_fit": null,
            "object_position": null,
            "order": null,
            "overflow": null,
            "overflow_x": null,
            "overflow_y": null,
            "padding": null,
            "right": null,
            "top": null,
            "visibility": null,
            "width": null
          }
        },
        "fee095f6c6a14e4e9b9b8c6b68e34a21": {
          "model_module": "@jupyter-widgets/base",
          "model_name": "LayoutModel",
          "model_module_version": "1.2.0",
          "state": {
            "_model_module": "@jupyter-widgets/base",
            "_model_module_version": "1.2.0",
            "_model_name": "LayoutModel",
            "_view_count": null,
            "_view_module": "@jupyter-widgets/base",
            "_view_module_version": "1.2.0",
            "_view_name": "LayoutView",
            "align_content": null,
            "align_items": null,
            "align_self": null,
            "border": null,
            "bottom": null,
            "display": null,
            "flex": null,
            "flex_flow": null,
            "grid_area": null,
            "grid_auto_columns": null,
            "grid_auto_flow": null,
            "grid_auto_rows": null,
            "grid_column": null,
            "grid_gap": null,
            "grid_row": null,
            "grid_template_areas": null,
            "grid_template_columns": null,
            "grid_template_rows": null,
            "height": null,
            "justify_content": null,
            "justify_items": null,
            "left": null,
            "margin": null,
            "max_height": null,
            "max_width": null,
            "min_height": null,
            "min_width": null,
            "object_fit": null,
            "object_position": null,
            "order": null,
            "overflow": null,
            "overflow_x": null,
            "overflow_y": null,
            "padding": null,
            "right": null,
            "top": null,
            "visibility": null,
            "width": null
          }
        },
        "fbb860bc57a144b69665655ca90e5de4": {
          "model_module": "@jupyter-widgets/controls",
          "model_name": "SliderStyleModel",
          "model_module_version": "1.5.0",
          "state": {
            "_model_module": "@jupyter-widgets/controls",
            "_model_module_version": "1.5.0",
            "_model_name": "SliderStyleModel",
            "_view_count": null,
            "_view_module": "@jupyter-widgets/base",
            "_view_module_version": "1.2.0",
            "_view_name": "StyleView",
            "description_width": "",
            "handle_color": null
          }
        },
        "d13a0a51dde04ef98f7ef8d90198784a": {
          "model_module": "@jupyter-widgets/base",
          "model_name": "LayoutModel",
          "model_module_version": "1.2.0",
          "state": {
            "_model_module": "@jupyter-widgets/base",
            "_model_module_version": "1.2.0",
            "_model_name": "LayoutModel",
            "_view_count": null,
            "_view_module": "@jupyter-widgets/base",
            "_view_module_version": "1.2.0",
            "_view_name": "LayoutView",
            "align_content": null,
            "align_items": null,
            "align_self": null,
            "border": null,
            "bottom": null,
            "display": null,
            "flex": null,
            "flex_flow": null,
            "grid_area": null,
            "grid_auto_columns": null,
            "grid_auto_flow": null,
            "grid_auto_rows": null,
            "grid_column": null,
            "grid_gap": null,
            "grid_row": null,
            "grid_template_areas": null,
            "grid_template_columns": null,
            "grid_template_rows": null,
            "height": null,
            "justify_content": null,
            "justify_items": null,
            "left": null,
            "margin": null,
            "max_height": null,
            "max_width": null,
            "min_height": null,
            "min_width": null,
            "object_fit": null,
            "object_position": null,
            "order": null,
            "overflow": null,
            "overflow_x": null,
            "overflow_y": null,
            "padding": null,
            "right": null,
            "top": null,
            "visibility": null,
            "width": null
          }
        }
      }
    }
  },
  "nbformat": 4,
  "nbformat_minor": 0
}