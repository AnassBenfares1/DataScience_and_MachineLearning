{
  "nbformat": 4,
  "nbformat_minor": 0,
  "metadata": {
    "kernelspec": {
      "display_name": "Python 3",
      "language": "python",
      "name": "python3"
    },
    "language_info": {
      "codemirror_mode": {
        "name": "ipython",
        "version": 3
      },
      "file_extension": ".py",
      "mimetype": "text/x-python",
      "name": "python",
      "nbconvert_exporter": "python",
      "pygments_lexer": "ipython3",
      "version": "3.8.5"
    },
    "colab": {
      "name": "Ridge_regression.ipynb",
      "provenance": [],
      "include_colab_link": true
    }
  },
  "cells": [
    {
      "cell_type": "markdown",
      "metadata": {
        "id": "view-in-github",
        "colab_type": "text"
      },
      "source": [
        "<a href=\"https://colab.research.google.com/github/michalis0/DataMining_and_MachineLearning/blob/master/week5/Ridge_regression.ipynb\" target=\"_parent\"><img src=\"https://colab.research.google.com/assets/colab-badge.svg\" alt=\"Open In Colab\"/></a>"
      ]
    },
    {
      "cell_type": "markdown",
      "metadata": {
        "id": "xzc978scbU2D"
      },
      "source": [
        "# Linear regression: Standardiztion, Ridge regression, Cross-validation, and more.\n",
        "\n",
        "In this notebook, we are going to tackle the problem of predicting house prices in more details. We will follow the following steps:\n",
        "\n",
        "    1- Preprocessing the data\n",
        "        1.1- One-hot encoding of the categorical columns\n",
        "        1.2- Feature engineering: selecting a subset of columns based on their correlation with the target variable.\n",
        "    2- Splitting the data into training and test sets.\n",
        "    3- Normalization of the data\n",
        "    4- Training a ridge regression model\n",
        "    5- Cross-validation to find the best regularizer hyper-parameter\n",
        "    6- Evaluating the model on the test data"
      ]
    },
    {
      "cell_type": "code",
      "metadata": {
        "id": "46vJYxBQbU2I",
        "outputId": "d2da06e2-0ff4-4930-dc35-afa6b53e4df1"
      },
      "source": [
        "# Useful starting lines\n",
        "%matplotlib inline\n",
        "import numpy as np\n",
        "import matplotlib.pyplot as plt\n",
        "from matplotlib import collections  as mc\n",
        "%load_ext autoreload\n",
        "%autoreload 2\n",
        "import pandas as pd \n",
        "import seaborn as sns\n",
        "from sklearn.preprocessing import LabelEncoder, OneHotEncoder\n",
        "from sklearn.model_selection import train_test_split\n",
        "sns.set_style(\"white\")"
      ],
      "execution_count": null,
      "outputs": [
        {
          "name": "stdout",
          "output_type": "stream",
          "text": [
            "The autoreload extension is already loaded. To reload it, use:\n",
            "  %reload_ext autoreload\n"
          ]
        }
      ]
    },
    {
      "cell_type": "markdown",
      "metadata": {
        "id": "kVIckeavbU2K"
      },
      "source": [
        "## 0- Loading the data"
      ]
    },
    {
      "cell_type": "code",
      "metadata": {
        "id": "PDB4lCvIbU2L",
        "outputId": "f6cb63de-6f63-405f-9737-52f05b5e9d1e"
      },
      "source": [
        "housing_data = pd.read_csv(\"data/processed_housing_data.csv\")\n",
        "housing_data.head()"
      ],
      "execution_count": null,
      "outputs": [
        {
          "data": {
            "text/html": [
              "<div>\n",
              "<style scoped>\n",
              "    .dataframe tbody tr th:only-of-type {\n",
              "        vertical-align: middle;\n",
              "    }\n",
              "\n",
              "    .dataframe tbody tr th {\n",
              "        vertical-align: top;\n",
              "    }\n",
              "\n",
              "    .dataframe thead th {\n",
              "        text-align: right;\n",
              "    }\n",
              "</style>\n",
              "<table border=\"1\" class=\"dataframe\">\n",
              "  <thead>\n",
              "    <tr style=\"text-align: right;\">\n",
              "      <th></th>\n",
              "      <th>MSSubClass</th>\n",
              "      <th>MSZoning</th>\n",
              "      <th>LotFrontage</th>\n",
              "      <th>LotArea</th>\n",
              "      <th>Street</th>\n",
              "      <th>Alley</th>\n",
              "      <th>LotShape</th>\n",
              "      <th>LandContour</th>\n",
              "      <th>Utilities</th>\n",
              "      <th>LotConfig</th>\n",
              "      <th>...</th>\n",
              "      <th>PoolArea</th>\n",
              "      <th>PoolQC</th>\n",
              "      <th>Fence</th>\n",
              "      <th>MiscFeature</th>\n",
              "      <th>MiscVal</th>\n",
              "      <th>MoSold</th>\n",
              "      <th>YrSold</th>\n",
              "      <th>SaleType</th>\n",
              "      <th>SaleCondition</th>\n",
              "      <th>SalePrice</th>\n",
              "    </tr>\n",
              "  </thead>\n",
              "  <tbody>\n",
              "    <tr>\n",
              "      <th>0</th>\n",
              "      <td>60</td>\n",
              "      <td>RL</td>\n",
              "      <td>65.0</td>\n",
              "      <td>8450</td>\n",
              "      <td>2</td>\n",
              "      <td>0</td>\n",
              "      <td>Reg</td>\n",
              "      <td>Lvl</td>\n",
              "      <td>AllPub</td>\n",
              "      <td>Inside</td>\n",
              "      <td>...</td>\n",
              "      <td>0</td>\n",
              "      <td>1</td>\n",
              "      <td>0</td>\n",
              "      <td>NaN</td>\n",
              "      <td>0</td>\n",
              "      <td>2</td>\n",
              "      <td>new</td>\n",
              "      <td>WD</td>\n",
              "      <td>Normal</td>\n",
              "      <td>208500</td>\n",
              "    </tr>\n",
              "    <tr>\n",
              "      <th>1</th>\n",
              "      <td>20</td>\n",
              "      <td>RL</td>\n",
              "      <td>80.0</td>\n",
              "      <td>9600</td>\n",
              "      <td>2</td>\n",
              "      <td>0</td>\n",
              "      <td>Reg</td>\n",
              "      <td>Lvl</td>\n",
              "      <td>AllPub</td>\n",
              "      <td>FR2</td>\n",
              "      <td>...</td>\n",
              "      <td>0</td>\n",
              "      <td>1</td>\n",
              "      <td>0</td>\n",
              "      <td>NaN</td>\n",
              "      <td>0</td>\n",
              "      <td>5</td>\n",
              "      <td>new</td>\n",
              "      <td>WD</td>\n",
              "      <td>Normal</td>\n",
              "      <td>181500</td>\n",
              "    </tr>\n",
              "    <tr>\n",
              "      <th>2</th>\n",
              "      <td>60</td>\n",
              "      <td>RL</td>\n",
              "      <td>68.0</td>\n",
              "      <td>11250</td>\n",
              "      <td>2</td>\n",
              "      <td>0</td>\n",
              "      <td>IR1</td>\n",
              "      <td>Lvl</td>\n",
              "      <td>AllPub</td>\n",
              "      <td>Inside</td>\n",
              "      <td>...</td>\n",
              "      <td>0</td>\n",
              "      <td>1</td>\n",
              "      <td>0</td>\n",
              "      <td>NaN</td>\n",
              "      <td>0</td>\n",
              "      <td>9</td>\n",
              "      <td>new</td>\n",
              "      <td>WD</td>\n",
              "      <td>Normal</td>\n",
              "      <td>223500</td>\n",
              "    </tr>\n",
              "    <tr>\n",
              "      <th>3</th>\n",
              "      <td>70</td>\n",
              "      <td>RL</td>\n",
              "      <td>60.0</td>\n",
              "      <td>9550</td>\n",
              "      <td>2</td>\n",
              "      <td>0</td>\n",
              "      <td>IR1</td>\n",
              "      <td>Lvl</td>\n",
              "      <td>AllPub</td>\n",
              "      <td>Corner</td>\n",
              "      <td>...</td>\n",
              "      <td>0</td>\n",
              "      <td>1</td>\n",
              "      <td>0</td>\n",
              "      <td>NaN</td>\n",
              "      <td>0</td>\n",
              "      <td>2</td>\n",
              "      <td>new</td>\n",
              "      <td>WD</td>\n",
              "      <td>Abnorml</td>\n",
              "      <td>140000</td>\n",
              "    </tr>\n",
              "    <tr>\n",
              "      <th>4</th>\n",
              "      <td>60</td>\n",
              "      <td>RL</td>\n",
              "      <td>84.0</td>\n",
              "      <td>14260</td>\n",
              "      <td>2</td>\n",
              "      <td>0</td>\n",
              "      <td>IR1</td>\n",
              "      <td>Lvl</td>\n",
              "      <td>AllPub</td>\n",
              "      <td>FR2</td>\n",
              "      <td>...</td>\n",
              "      <td>0</td>\n",
              "      <td>1</td>\n",
              "      <td>0</td>\n",
              "      <td>NaN</td>\n",
              "      <td>0</td>\n",
              "      <td>12</td>\n",
              "      <td>new</td>\n",
              "      <td>WD</td>\n",
              "      <td>Normal</td>\n",
              "      <td>250000</td>\n",
              "    </tr>\n",
              "  </tbody>\n",
              "</table>\n",
              "<p>5 rows × 80 columns</p>\n",
              "</div>"
            ],
            "text/plain": [
              "   MSSubClass MSZoning  LotFrontage  LotArea  Street  Alley LotShape  \\\n",
              "0          60       RL         65.0     8450       2      0      Reg   \n",
              "1          20       RL         80.0     9600       2      0      Reg   \n",
              "2          60       RL         68.0    11250       2      0      IR1   \n",
              "3          70       RL         60.0     9550       2      0      IR1   \n",
              "4          60       RL         84.0    14260       2      0      IR1   \n",
              "\n",
              "  LandContour Utilities LotConfig  ...  PoolArea PoolQC Fence MiscFeature  \\\n",
              "0         Lvl    AllPub    Inside  ...         0      1     0         NaN   \n",
              "1         Lvl    AllPub       FR2  ...         0      1     0         NaN   \n",
              "2         Lvl    AllPub    Inside  ...         0      1     0         NaN   \n",
              "3         Lvl    AllPub    Corner  ...         0      1     0         NaN   \n",
              "4         Lvl    AllPub       FR2  ...         0      1     0         NaN   \n",
              "\n",
              "  MiscVal MoSold  YrSold  SaleType SaleCondition SalePrice  \n",
              "0       0      2     new        WD        Normal    208500  \n",
              "1       0      5     new        WD        Normal    181500  \n",
              "2       0      9     new        WD        Normal    223500  \n",
              "3       0      2     new        WD       Abnorml    140000  \n",
              "4       0     12     new        WD        Normal    250000  \n",
              "\n",
              "[5 rows x 80 columns]"
            ]
          },
          "execution_count": 3,
          "metadata": {},
          "output_type": "execute_result"
        }
      ]
    },
    {
      "cell_type": "code",
      "metadata": {
        "id": "kyEHfa2IbU2L",
        "outputId": "bf6f1517-1fe5-4c53-f63d-7e1c111a41ee"
      },
      "source": [
        "housing_data.shape"
      ],
      "execution_count": null,
      "outputs": [
        {
          "data": {
            "text/plain": [
              "(1460, 80)"
            ]
          },
          "execution_count": 4,
          "metadata": {},
          "output_type": "execute_result"
        }
      ]
    },
    {
      "cell_type": "code",
      "metadata": {
        "id": "yGUf-xWdbU2M",
        "outputId": "e56cf32f-0ea9-4486-a563-b124b754b26c"
      },
      "source": [
        "print(housing_data.dtypes)"
      ],
      "execution_count": null,
      "outputs": [
        {
          "name": "stdout",
          "output_type": "stream",
          "text": [
            "MSSubClass         int64\n",
            "MSZoning          object\n",
            "LotFrontage      float64\n",
            "LotArea            int64\n",
            "Street             int64\n",
            "                  ...   \n",
            "MoSold             int64\n",
            "YrSold            object\n",
            "SaleType          object\n",
            "SaleCondition     object\n",
            "SalePrice          int64\n",
            "Length: 80, dtype: object\n"
          ]
        }
      ]
    },
    {
      "cell_type": "markdown",
      "metadata": {
        "id": "mVrHC0IibU2N"
      },
      "source": [
        "## 1- Preprocessing\n",
        "\n",
        "### 1.1- One-hot encoding of the categorical columns\n",
        "\n",
        "We can observe that we have non-numerical columns in our dataset. We have to get rid of them and convert them to numerical values before feeding the data to the model. These columns actuaclly have categorical values, meaning that they only take values from a fixed set of values. For example, let's take a look at the `MSZoning` column."
      ]
    },
    {
      "cell_type": "code",
      "metadata": {
        "id": "La-haE4gbU2O",
        "outputId": "27a155b3-1591-4e37-e777-072aceb752eb"
      },
      "source": [
        "housing_data[\"MSZoning\"].value_counts()"
      ],
      "execution_count": null,
      "outputs": [
        {
          "data": {
            "text/plain": [
              "RL         1151\n",
              "RM          218\n",
              "FV           65\n",
              "RH           16\n",
              "C (all)      10\n",
              "Name: MSZoning, dtype: int64"
            ]
          },
          "execution_count": 6,
          "metadata": {},
          "output_type": "execute_result"
        }
      ]
    },
    {
      "cell_type": "markdown",
      "metadata": {
        "id": "IBhc828EbU2P"
      },
      "source": [
        "We can convert such columns to numerical values using one-hot encoding."
      ]
    },
    {
      "cell_type": "code",
      "metadata": {
        "id": "pH4b2ZacbU2Q"
      },
      "source": [
        "from sklearn.preprocessing import OneHotEncoder\n",
        "\n",
        "ohe = OneHotEncoder()\n",
        "mszoning_ohe = ohe.fit_transform(housing_data[[\"MSZoning\"]])"
      ],
      "execution_count": null,
      "outputs": []
    },
    {
      "cell_type": "code",
      "metadata": {
        "id": "90BUA68xbU2R",
        "outputId": "d5df8e7c-71ab-475a-c9fa-c4bfbe9f8b82"
      },
      "source": [
        "mszoning_ohe"
      ],
      "execution_count": null,
      "outputs": [
        {
          "data": {
            "text/plain": [
              "<1460x5 sparse matrix of type '<class 'numpy.float64'>'\n",
              "\twith 1460 stored elements in Compressed Sparse Row format>"
            ]
          },
          "execution_count": 14,
          "metadata": {},
          "output_type": "execute_result"
        }
      ]
    },
    {
      "cell_type": "code",
      "metadata": {
        "id": "QqddNsxzbU2R",
        "outputId": "15cdae5b-9f23-40e3-b2fd-27bc435201d0"
      },
      "source": [
        "# order of the categories\n",
        "ohe.categories_"
      ],
      "execution_count": null,
      "outputs": [
        {
          "data": {
            "text/plain": [
              "[array(['C (all)', 'FV', 'RH', 'RL', 'RM'], dtype=object)]"
            ]
          },
          "execution_count": 11,
          "metadata": {},
          "output_type": "execute_result"
        }
      ]
    },
    {
      "cell_type": "code",
      "metadata": {
        "id": "Dlni9wyabU2S",
        "outputId": "1b0e9f02-3975-4f2b-b796-b6d71de0cd87"
      },
      "source": [
        "# looking at the first rwo of the matrix\n",
        "mszoning_ohe[0].todense()"
      ],
      "execution_count": null,
      "outputs": [
        {
          "data": {
            "text/plain": [
              "matrix([[0., 0., 0., 1., 0.]])"
            ]
          },
          "execution_count": 19,
          "metadata": {},
          "output_type": "execute_result"
        }
      ]
    },
    {
      "cell_type": "markdown",
      "metadata": {
        "id": "hMEWntoDbU2S"
      },
      "source": [
        "As you can see the one-hot encoder returns an array of `number of datapoints` $\\times$ `number of categoreis`. Each column of this array corresponds to a single category and if it is one, it indicates the categorical value for that data point.\n",
        "\n",
        "However, with this representation we have to convert the resulting array to a dataframe and also name each column of the resulting dataframe according to the categorical value. With the `get_dummies` method from pandas we can actually do the one-hot encoding more easily.\n"
      ]
    },
    {
      "cell_type": "code",
      "metadata": {
        "id": "WAV2d_YlbU2T",
        "outputId": "6fd4f318-8ef4-4875-b1a2-48d6c48a13f5"
      },
      "source": [
        "mszoning_ohe = pd.get_dummies(housing_data[[\"MSZoning\"]])\n",
        "mszoning_ohe.head()"
      ],
      "execution_count": null,
      "outputs": [
        {
          "data": {
            "text/html": [
              "<div>\n",
              "<style scoped>\n",
              "    .dataframe tbody tr th:only-of-type {\n",
              "        vertical-align: middle;\n",
              "    }\n",
              "\n",
              "    .dataframe tbody tr th {\n",
              "        vertical-align: top;\n",
              "    }\n",
              "\n",
              "    .dataframe thead th {\n",
              "        text-align: right;\n",
              "    }\n",
              "</style>\n",
              "<table border=\"1\" class=\"dataframe\">\n",
              "  <thead>\n",
              "    <tr style=\"text-align: right;\">\n",
              "      <th></th>\n",
              "      <th>MSZoning_C (all)</th>\n",
              "      <th>MSZoning_FV</th>\n",
              "      <th>MSZoning_RH</th>\n",
              "      <th>MSZoning_RL</th>\n",
              "      <th>MSZoning_RM</th>\n",
              "    </tr>\n",
              "  </thead>\n",
              "  <tbody>\n",
              "    <tr>\n",
              "      <th>0</th>\n",
              "      <td>0</td>\n",
              "      <td>0</td>\n",
              "      <td>0</td>\n",
              "      <td>1</td>\n",
              "      <td>0</td>\n",
              "    </tr>\n",
              "    <tr>\n",
              "      <th>1</th>\n",
              "      <td>0</td>\n",
              "      <td>0</td>\n",
              "      <td>0</td>\n",
              "      <td>1</td>\n",
              "      <td>0</td>\n",
              "    </tr>\n",
              "    <tr>\n",
              "      <th>2</th>\n",
              "      <td>0</td>\n",
              "      <td>0</td>\n",
              "      <td>0</td>\n",
              "      <td>1</td>\n",
              "      <td>0</td>\n",
              "    </tr>\n",
              "    <tr>\n",
              "      <th>3</th>\n",
              "      <td>0</td>\n",
              "      <td>0</td>\n",
              "      <td>0</td>\n",
              "      <td>1</td>\n",
              "      <td>0</td>\n",
              "    </tr>\n",
              "    <tr>\n",
              "      <th>4</th>\n",
              "      <td>0</td>\n",
              "      <td>0</td>\n",
              "      <td>0</td>\n",
              "      <td>1</td>\n",
              "      <td>0</td>\n",
              "    </tr>\n",
              "  </tbody>\n",
              "</table>\n",
              "</div>"
            ],
            "text/plain": [
              "   MSZoning_C (all)  MSZoning_FV  MSZoning_RH  MSZoning_RL  MSZoning_RM\n",
              "0                 0            0            0            1            0\n",
              "1                 0            0            0            1            0\n",
              "2                 0            0            0            1            0\n",
              "3                 0            0            0            1            0\n",
              "4                 0            0            0            1            0"
            ]
          },
          "execution_count": 22,
          "metadata": {},
          "output_type": "execute_result"
        }
      ]
    },
    {
      "cell_type": "markdown",
      "metadata": {
        "id": "ycPivDQnbU2U"
      },
      "source": [
        "so let's extract all the categorical columns and encode them all at once."
      ]
    },
    {
      "cell_type": "code",
      "metadata": {
        "id": "4r9kIvbsbU2U"
      },
      "source": [
        "df_types = pd.DataFrame(housing_data.dtypes).reset_index()\n",
        "string_columns = df_types[df_types[0]=='object']['index']\n",
        "non_string_columns = df_types[df_types[0]!='object']['index']"
      ],
      "execution_count": null,
      "outputs": []
    },
    {
      "cell_type": "code",
      "metadata": {
        "id": "RR4Bx7S6bU2U",
        "outputId": "a8140247-c74b-4a8d-f890-544ee05d98bf"
      },
      "source": [
        "print(string_columns)"
      ],
      "execution_count": null,
      "outputs": [
        {
          "name": "stdout",
          "output_type": "stream",
          "text": [
            "1          MSZoning\n",
            "6          LotShape\n",
            "7       LandContour\n",
            "8         Utilities\n",
            "9         LotConfig\n",
            "11     Neighborhood\n",
            "12       Condition1\n",
            "13       Condition2\n",
            "14         BldgType\n",
            "15       HouseStyle\n",
            "18        YearBuilt\n",
            "19     YearRemodAdd\n",
            "20        RoofStyle\n",
            "21         RoofMatl\n",
            "22      Exterior1st\n",
            "23      Exterior2nd\n",
            "24       MasVnrType\n",
            "28       Foundation\n",
            "38          Heating\n",
            "40       CentralAir\n",
            "41       Electrical\n",
            "57       GarageType\n",
            "58      GarageYrBlt\n",
            "73      MiscFeature\n",
            "76           YrSold\n",
            "77         SaleType\n",
            "78    SaleCondition\n",
            "Name: index, dtype: object\n"
          ]
        }
      ]
    },
    {
      "cell_type": "code",
      "metadata": {
        "id": "eo_-MtCnbU2V"
      },
      "source": [
        "dummy_df = pd.get_dummies(housing_data[string_columns])\n",
        "# creating the ultimate dataframe where all categorical columns are one-hot encoded\n",
        "df = pd.concat([dummy_df,housing_data[non_string_columns]], axis=1)"
      ],
      "execution_count": null,
      "outputs": []
    },
    {
      "cell_type": "code",
      "metadata": {
        "id": "DdiFoA3YbU2V",
        "outputId": "6f74de4a-5381-4969-ae3a-5e672c5fb980"
      },
      "source": [
        "df.shape"
      ],
      "execution_count": null,
      "outputs": [
        {
          "data": {
            "text/plain": [
              "(1460, 231)"
            ]
          },
          "execution_count": 26,
          "metadata": {},
          "output_type": "execute_result"
        }
      ]
    },
    {
      "cell_type": "code",
      "metadata": {
        "id": "8jaUEWQObU2Y",
        "outputId": "cb6ffb02-36ce-4221-b8d3-976e213c906a"
      },
      "source": [
        "df.dtypes.value_counts()"
      ],
      "execution_count": null,
      "outputs": [
        {
          "data": {
            "text/plain": [
              "uint8      178\n",
              "int64       51\n",
              "float64      2\n",
              "dtype: int64"
            ]
          },
          "execution_count": 27,
          "metadata": {},
          "output_type": "execute_result"
        }
      ]
    },
    {
      "cell_type": "markdown",
      "metadata": {
        "id": "Yoh8tH1JbU2Y"
      },
      "source": [
        "### 1.2- Feature engineering\n",
        "\n",
        "Right now there are almost 231 features. In the following we will try to decrease the number of features based on their correlation to the target.\n"
      ]
    },
    {
      "cell_type": "code",
      "metadata": {
        "id": "8lDajNMmbU2Y",
        "outputId": "fb593921-4ab2-49fe-a46c-f4954ebf30fa"
      },
      "source": [
        "df_corr = abs(df.corr()).sort_values(by='SalePrice', ascending=False)[['SalePrice']]\n",
        "df_corr[df_corr['SalePrice']>0.4]"
      ],
      "execution_count": null,
      "outputs": [
        {
          "data": {
            "text/html": [
              "<div>\n",
              "<style scoped>\n",
              "    .dataframe tbody tr th:only-of-type {\n",
              "        vertical-align: middle;\n",
              "    }\n",
              "\n",
              "    .dataframe tbody tr th {\n",
              "        vertical-align: top;\n",
              "    }\n",
              "\n",
              "    .dataframe thead th {\n",
              "        text-align: right;\n",
              "    }\n",
              "</style>\n",
              "<table border=\"1\" class=\"dataframe\">\n",
              "  <thead>\n",
              "    <tr style=\"text-align: right;\">\n",
              "      <th></th>\n",
              "      <th>SalePrice</th>\n",
              "    </tr>\n",
              "  </thead>\n",
              "  <tbody>\n",
              "    <tr>\n",
              "      <th>SalePrice</th>\n",
              "      <td>1.000000</td>\n",
              "    </tr>\n",
              "    <tr>\n",
              "      <th>OverallQual</th>\n",
              "      <td>0.790982</td>\n",
              "    </tr>\n",
              "    <tr>\n",
              "      <th>GrLivArea</th>\n",
              "      <td>0.708624</td>\n",
              "    </tr>\n",
              "    <tr>\n",
              "      <th>ExterQual</th>\n",
              "      <td>0.682639</td>\n",
              "    </tr>\n",
              "    <tr>\n",
              "      <th>KitchenQual</th>\n",
              "      <td>0.659600</td>\n",
              "    </tr>\n",
              "    <tr>\n",
              "      <th>GarageCars</th>\n",
              "      <td>0.640409</td>\n",
              "    </tr>\n",
              "    <tr>\n",
              "      <th>GarageArea</th>\n",
              "      <td>0.623431</td>\n",
              "    </tr>\n",
              "    <tr>\n",
              "      <th>TotalBsmtSF</th>\n",
              "      <td>0.613581</td>\n",
              "    </tr>\n",
              "    <tr>\n",
              "      <th>1stFlrSF</th>\n",
              "      <td>0.605852</td>\n",
              "    </tr>\n",
              "    <tr>\n",
              "      <th>BsmtQual</th>\n",
              "      <td>0.585207</td>\n",
              "    </tr>\n",
              "    <tr>\n",
              "      <th>FullBath</th>\n",
              "      <td>0.560664</td>\n",
              "    </tr>\n",
              "    <tr>\n",
              "      <th>YearBuilt_old</th>\n",
              "      <td>0.557308</td>\n",
              "    </tr>\n",
              "    <tr>\n",
              "      <th>GarageFinish</th>\n",
              "      <td>0.549247</td>\n",
              "    </tr>\n",
              "    <tr>\n",
              "      <th>TotRmsAbvGrd</th>\n",
              "      <td>0.533723</td>\n",
              "    </tr>\n",
              "    <tr>\n",
              "      <th>FireplaceQu</th>\n",
              "      <td>0.520438</td>\n",
              "    </tr>\n",
              "    <tr>\n",
              "      <th>GarageYrBlt_old</th>\n",
              "      <td>0.498900</td>\n",
              "    </tr>\n",
              "    <tr>\n",
              "      <th>Foundation_PConc</th>\n",
              "      <td>0.497734</td>\n",
              "    </tr>\n",
              "    <tr>\n",
              "      <th>MasVnrArea</th>\n",
              "      <td>0.472614</td>\n",
              "    </tr>\n",
              "    <tr>\n",
              "      <th>Fireplaces</th>\n",
              "      <td>0.466929</td>\n",
              "    </tr>\n",
              "    <tr>\n",
              "      <th>YearBuilt_new</th>\n",
              "      <td>0.466033</td>\n",
              "    </tr>\n",
              "    <tr>\n",
              "      <th>YearRemodAdd_old</th>\n",
              "      <td>0.464053</td>\n",
              "    </tr>\n",
              "    <tr>\n",
              "      <th>GarageYrBlt_new</th>\n",
              "      <td>0.451187</td>\n",
              "    </tr>\n",
              "    <tr>\n",
              "      <th>HeatingQC</th>\n",
              "      <td>0.427649</td>\n",
              "    </tr>\n",
              "    <tr>\n",
              "      <th>Neighborhood_NridgHt</th>\n",
              "      <td>0.402149</td>\n",
              "    </tr>\n",
              "  </tbody>\n",
              "</table>\n",
              "</div>"
            ],
            "text/plain": [
              "                      SalePrice\n",
              "SalePrice              1.000000\n",
              "OverallQual            0.790982\n",
              "GrLivArea              0.708624\n",
              "ExterQual              0.682639\n",
              "KitchenQual            0.659600\n",
              "GarageCars             0.640409\n",
              "GarageArea             0.623431\n",
              "TotalBsmtSF            0.613581\n",
              "1stFlrSF               0.605852\n",
              "BsmtQual               0.585207\n",
              "FullBath               0.560664\n",
              "YearBuilt_old          0.557308\n",
              "GarageFinish           0.549247\n",
              "TotRmsAbvGrd           0.533723\n",
              "FireplaceQu            0.520438\n",
              "GarageYrBlt_old        0.498900\n",
              "Foundation_PConc       0.497734\n",
              "MasVnrArea             0.472614\n",
              "Fireplaces             0.466929\n",
              "YearBuilt_new          0.466033\n",
              "YearRemodAdd_old       0.464053\n",
              "GarageYrBlt_new        0.451187\n",
              "HeatingQC              0.427649\n",
              "Neighborhood_NridgHt   0.402149"
            ]
          },
          "execution_count": 29,
          "metadata": {},
          "output_type": "execute_result"
        }
      ]
    },
    {
      "cell_type": "code",
      "metadata": {
        "id": "w2w_J-n_bU2Z",
        "outputId": "6a5a89ba-f606-457a-b946-5b4e8726be92"
      },
      "source": [
        "# let's only keep the columns with a correlation greater than 0.4\n",
        "df_small = df[df_corr[df_corr['SalePrice']>0.4].index.tolist()]\n",
        "df_small.shape"
      ],
      "execution_count": null,
      "outputs": [
        {
          "data": {
            "text/plain": [
              "(1460, 24)"
            ]
          },
          "execution_count": 30,
          "metadata": {},
          "output_type": "execute_result"
        }
      ]
    },
    {
      "cell_type": "markdown",
      "metadata": {
        "id": "zUuQUt7ybU2Z"
      },
      "source": [
        "Now we decreased the number of features to 24. "
      ]
    },
    {
      "cell_type": "markdown",
      "metadata": {
        "id": "9VLGRNErbU2Z"
      },
      "source": [
        "### 2- Splitting the data into training and test sets.\n",
        "\n",
        "Next we split the data to training and test sets. The reason we do this is that we want to start the training phase after this step. Any test data that I will introduce during modelling or premodelling, will create a bias in my evaluation metrics. "
      ]
    },
    {
      "cell_type": "code",
      "metadata": {
        "id": "4SRRgWUdbU2Z"
      },
      "source": [
        "df_small.reset_index(inplace=True,drop=True)"
      ],
      "execution_count": null,
      "outputs": []
    },
    {
      "cell_type": "code",
      "metadata": {
        "id": "zPUOMM2RbU2Z"
      },
      "source": [
        "X = df_small.drop(columns=['SalePrice'])\n",
        "y = df_small['SalePrice']"
      ],
      "execution_count": null,
      "outputs": []
    },
    {
      "cell_type": "code",
      "metadata": {
        "id": "FG8Iol4ybU2a"
      },
      "source": [
        "X_train, X_test, y_train, y_test = train_test_split(X, y, test_size = 0.25, random_state = 42)"
      ],
      "execution_count": null,
      "outputs": []
    },
    {
      "cell_type": "code",
      "metadata": {
        "id": "MtPdZMohbU2a",
        "outputId": "b4212801-397b-40dc-c362-4c1f95108203"
      },
      "source": [
        "X_train.head()"
      ],
      "execution_count": null,
      "outputs": [
        {
          "data": {
            "text/html": [
              "<div>\n",
              "<style scoped>\n",
              "    .dataframe tbody tr th:only-of-type {\n",
              "        vertical-align: middle;\n",
              "    }\n",
              "\n",
              "    .dataframe tbody tr th {\n",
              "        vertical-align: top;\n",
              "    }\n",
              "\n",
              "    .dataframe thead th {\n",
              "        text-align: right;\n",
              "    }\n",
              "</style>\n",
              "<table border=\"1\" class=\"dataframe\">\n",
              "  <thead>\n",
              "    <tr style=\"text-align: right;\">\n",
              "      <th></th>\n",
              "      <th>OverallQual</th>\n",
              "      <th>GrLivArea</th>\n",
              "      <th>ExterQual</th>\n",
              "      <th>KitchenQual</th>\n",
              "      <th>GarageCars</th>\n",
              "      <th>GarageArea</th>\n",
              "      <th>TotalBsmtSF</th>\n",
              "      <th>1stFlrSF</th>\n",
              "      <th>BsmtQual</th>\n",
              "      <th>FullBath</th>\n",
              "      <th>...</th>\n",
              "      <th>FireplaceQu</th>\n",
              "      <th>GarageYrBlt_old</th>\n",
              "      <th>Foundation_PConc</th>\n",
              "      <th>MasVnrArea</th>\n",
              "      <th>Fireplaces</th>\n",
              "      <th>YearBuilt_new</th>\n",
              "      <th>YearRemodAdd_old</th>\n",
              "      <th>GarageYrBlt_new</th>\n",
              "      <th>HeatingQC</th>\n",
              "      <th>Neighborhood_NridgHt</th>\n",
              "    </tr>\n",
              "  </thead>\n",
              "  <tbody>\n",
              "    <tr>\n",
              "      <th>1023</th>\n",
              "      <td>7</td>\n",
              "      <td>1504</td>\n",
              "      <td>3</td>\n",
              "      <td>4</td>\n",
              "      <td>2</td>\n",
              "      <td>437</td>\n",
              "      <td>1346</td>\n",
              "      <td>1504</td>\n",
              "      <td>5</td>\n",
              "      <td>2</td>\n",
              "      <td>...</td>\n",
              "      <td>5</td>\n",
              "      <td>0</td>\n",
              "      <td>1</td>\n",
              "      <td>14.0</td>\n",
              "      <td>1</td>\n",
              "      <td>1</td>\n",
              "      <td>0</td>\n",
              "      <td>1</td>\n",
              "      <td>5</td>\n",
              "      <td>0</td>\n",
              "    </tr>\n",
              "    <tr>\n",
              "      <th>810</th>\n",
              "      <td>6</td>\n",
              "      <td>1309</td>\n",
              "      <td>2</td>\n",
              "      <td>4</td>\n",
              "      <td>2</td>\n",
              "      <td>484</td>\n",
              "      <td>1040</td>\n",
              "      <td>1309</td>\n",
              "      <td>4</td>\n",
              "      <td>1</td>\n",
              "      <td>...</td>\n",
              "      <td>3</td>\n",
              "      <td>1</td>\n",
              "      <td>0</td>\n",
              "      <td>99.0</td>\n",
              "      <td>1</td>\n",
              "      <td>0</td>\n",
              "      <td>0</td>\n",
              "      <td>0</td>\n",
              "      <td>2</td>\n",
              "      <td>0</td>\n",
              "    </tr>\n",
              "    <tr>\n",
              "      <th>1384</th>\n",
              "      <td>6</td>\n",
              "      <td>1258</td>\n",
              "      <td>2</td>\n",
              "      <td>3</td>\n",
              "      <td>1</td>\n",
              "      <td>280</td>\n",
              "      <td>560</td>\n",
              "      <td>698</td>\n",
              "      <td>4</td>\n",
              "      <td>1</td>\n",
              "      <td>...</td>\n",
              "      <td>1</td>\n",
              "      <td>1</td>\n",
              "      <td>0</td>\n",
              "      <td>0.0</td>\n",
              "      <td>0</td>\n",
              "      <td>0</td>\n",
              "      <td>1</td>\n",
              "      <td>0</td>\n",
              "      <td>3</td>\n",
              "      <td>0</td>\n",
              "    </tr>\n",
              "    <tr>\n",
              "      <th>626</th>\n",
              "      <td>5</td>\n",
              "      <td>1422</td>\n",
              "      <td>2</td>\n",
              "      <td>3</td>\n",
              "      <td>1</td>\n",
              "      <td>286</td>\n",
              "      <td>978</td>\n",
              "      <td>1422</td>\n",
              "      <td>4</td>\n",
              "      <td>1</td>\n",
              "      <td>...</td>\n",
              "      <td>4</td>\n",
              "      <td>1</td>\n",
              "      <td>0</td>\n",
              "      <td>0.0</td>\n",
              "      <td>1</td>\n",
              "      <td>0</td>\n",
              "      <td>1</td>\n",
              "      <td>0</td>\n",
              "      <td>3</td>\n",
              "      <td>0</td>\n",
              "    </tr>\n",
              "    <tr>\n",
              "      <th>813</th>\n",
              "      <td>6</td>\n",
              "      <td>1442</td>\n",
              "      <td>2</td>\n",
              "      <td>3</td>\n",
              "      <td>1</td>\n",
              "      <td>301</td>\n",
              "      <td>1442</td>\n",
              "      <td>1442</td>\n",
              "      <td>4</td>\n",
              "      <td>1</td>\n",
              "      <td>...</td>\n",
              "      <td>1</td>\n",
              "      <td>1</td>\n",
              "      <td>0</td>\n",
              "      <td>243.0</td>\n",
              "      <td>0</td>\n",
              "      <td>0</td>\n",
              "      <td>1</td>\n",
              "      <td>0</td>\n",
              "      <td>4</td>\n",
              "      <td>0</td>\n",
              "    </tr>\n",
              "  </tbody>\n",
              "</table>\n",
              "<p>5 rows × 23 columns</p>\n",
              "</div>"
            ],
            "text/plain": [
              "      OverallQual  GrLivArea  ExterQual  KitchenQual  GarageCars  GarageArea  \\\n",
              "1023            7       1504          3            4           2         437   \n",
              "810             6       1309          2            4           2         484   \n",
              "1384            6       1258          2            3           1         280   \n",
              "626             5       1422          2            3           1         286   \n",
              "813             6       1442          2            3           1         301   \n",
              "\n",
              "      TotalBsmtSF  1stFlrSF  BsmtQual  FullBath  ...  FireplaceQu  \\\n",
              "1023         1346      1504         5         2  ...            5   \n",
              "810          1040      1309         4         1  ...            3   \n",
              "1384          560       698         4         1  ...            1   \n",
              "626           978      1422         4         1  ...            4   \n",
              "813          1442      1442         4         1  ...            1   \n",
              "\n",
              "      GarageYrBlt_old  Foundation_PConc  MasVnrArea  Fireplaces  \\\n",
              "1023                0                 1        14.0           1   \n",
              "810                 1                 0        99.0           1   \n",
              "1384                1                 0         0.0           0   \n",
              "626                 1                 0         0.0           1   \n",
              "813                 1                 0       243.0           0   \n",
              "\n",
              "      YearBuilt_new  YearRemodAdd_old  GarageYrBlt_new  HeatingQC  \\\n",
              "1023              1                 0                1          5   \n",
              "810               0                 0                0          2   \n",
              "1384              0                 1                0          3   \n",
              "626               0                 1                0          3   \n",
              "813               0                 1                0          4   \n",
              "\n",
              "      Neighborhood_NridgHt  \n",
              "1023                     0  \n",
              "810                      0  \n",
              "1384                     0  \n",
              "626                      0  \n",
              "813                      0  \n",
              "\n",
              "[5 rows x 23 columns]"
            ]
          },
          "execution_count": 36,
          "metadata": {},
          "output_type": "execute_result"
        }
      ]
    },
    {
      "cell_type": "markdown",
      "metadata": {
        "id": "8YPEF3GcbU2a"
      },
      "source": [
        "### 3- Normalization of the data\n",
        "\n",
        "Now we can start with normalize the data. This is helpful to bring all the data to the same scale. We will use the sklearn standard scaler which removes the mean from each featrues and divids it by it standard deviation."
      ]
    },
    {
      "cell_type": "code",
      "metadata": {
        "id": "vWetyDHObU2a"
      },
      "source": [
        "from sklearn.preprocessing import StandardScaler\n",
        "# Instantiate Standard Scaler.\n",
        "ss = StandardScaler()\n",
        "# fit \n",
        "Z_train = ss.fit_transform(X_train)\n",
        "# transform the df\n",
        "Z_train = pd.DataFrame(ss.transform(X_train), columns=X_train.columns)"
      ],
      "execution_count": null,
      "outputs": []
    },
    {
      "cell_type": "code",
      "metadata": {
        "id": "2t6sZniwbU2a",
        "outputId": "08a34b3d-9f97-42a3-98de-3e47b2252a6c"
      },
      "source": [
        "Z_train.head()\n"
      ],
      "execution_count": null,
      "outputs": [
        {
          "data": {
            "text/html": [
              "<div>\n",
              "<style scoped>\n",
              "    .dataframe tbody tr th:only-of-type {\n",
              "        vertical-align: middle;\n",
              "    }\n",
              "\n",
              "    .dataframe tbody tr th {\n",
              "        vertical-align: top;\n",
              "    }\n",
              "\n",
              "    .dataframe thead th {\n",
              "        text-align: right;\n",
              "    }\n",
              "</style>\n",
              "<table border=\"1\" class=\"dataframe\">\n",
              "  <thead>\n",
              "    <tr style=\"text-align: right;\">\n",
              "      <th></th>\n",
              "      <th>OverallQual</th>\n",
              "      <th>GrLivArea</th>\n",
              "      <th>ExterQual</th>\n",
              "      <th>KitchenQual</th>\n",
              "      <th>GarageCars</th>\n",
              "      <th>GarageArea</th>\n",
              "      <th>TotalBsmtSF</th>\n",
              "      <th>1stFlrSF</th>\n",
              "      <th>BsmtQual</th>\n",
              "      <th>FullBath</th>\n",
              "      <th>...</th>\n",
              "      <th>FireplaceQu</th>\n",
              "      <th>GarageYrBlt_old</th>\n",
              "      <th>Foundation_PConc</th>\n",
              "      <th>MasVnrArea</th>\n",
              "      <th>Fireplaces</th>\n",
              "      <th>YearBuilt_new</th>\n",
              "      <th>YearRemodAdd_old</th>\n",
              "      <th>GarageYrBlt_new</th>\n",
              "      <th>HeatingQC</th>\n",
              "      <th>Neighborhood_NridgHt</th>\n",
              "    </tr>\n",
              "  </thead>\n",
              "  <tbody>\n",
              "    <tr>\n",
              "      <th>0</th>\n",
              "      <td>0.637073</td>\n",
              "      <td>-0.051643</td>\n",
              "      <td>1.057489</td>\n",
              "      <td>0.743356</td>\n",
              "      <td>0.293831</td>\n",
              "      <td>-0.192617</td>\n",
              "      <td>0.642893</td>\n",
              "      <td>0.862092</td>\n",
              "      <td>0.578106</td>\n",
              "      <td>0.772872</td>\n",
              "      <td>...</td>\n",
              "      <td>1.193319</td>\n",
              "      <td>-1.021230</td>\n",
              "      <td>1.107073</td>\n",
              "      <td>-0.519303</td>\n",
              "      <td>0.591298</td>\n",
              "      <td>1.635389</td>\n",
              "      <td>-0.799513</td>\n",
              "      <td>1.591307</td>\n",
              "      <td>0.890733</td>\n",
              "      <td>-0.236496</td>\n",
              "    </tr>\n",
              "    <tr>\n",
              "      <th>1</th>\n",
              "      <td>-0.094926</td>\n",
              "      <td>-0.421692</td>\n",
              "      <td>-0.683790</td>\n",
              "      <td>0.743356</td>\n",
              "      <td>0.293831</td>\n",
              "      <td>0.030695</td>\n",
              "      <td>-0.046799</td>\n",
              "      <td>0.357895</td>\n",
              "      <td>-0.562482</td>\n",
              "      <td>-1.062909</td>\n",
              "      <td>...</td>\n",
              "      <td>0.088301</td>\n",
              "      <td>0.979211</td>\n",
              "      <td>-0.903283</td>\n",
              "      <td>-0.023289</td>\n",
              "      <td>0.591298</td>\n",
              "      <td>-0.611475</td>\n",
              "      <td>-0.799513</td>\n",
              "      <td>-0.628414</td>\n",
              "      <td>-2.222095</td>\n",
              "      <td>-0.236496</td>\n",
              "    </tr>\n",
              "    <tr>\n",
              "      <th>2</th>\n",
              "      <td>-0.094926</td>\n",
              "      <td>-0.518474</td>\n",
              "      <td>-0.683790</td>\n",
              "      <td>-0.761219</td>\n",
              "      <td>-1.069494</td>\n",
              "      <td>-0.938576</td>\n",
              "      <td>-1.128667</td>\n",
              "      <td>-1.221922</td>\n",
              "      <td>-0.562482</td>\n",
              "      <td>-1.062909</td>\n",
              "      <td>...</td>\n",
              "      <td>-1.016718</td>\n",
              "      <td>0.979211</td>\n",
              "      <td>-0.903283</td>\n",
              "      <td>-0.601000</td>\n",
              "      <td>-0.961392</td>\n",
              "      <td>-0.611475</td>\n",
              "      <td>1.250761</td>\n",
              "      <td>-0.628414</td>\n",
              "      <td>-1.184486</td>\n",
              "      <td>-0.236496</td>\n",
              "    </tr>\n",
              "    <tr>\n",
              "      <th>3</th>\n",
              "      <td>-0.826925</td>\n",
              "      <td>-0.207253</td>\n",
              "      <td>-0.683790</td>\n",
              "      <td>-0.761219</td>\n",
              "      <td>-1.069494</td>\n",
              "      <td>-0.910068</td>\n",
              "      <td>-0.186540</td>\n",
              "      <td>0.650071</td>\n",
              "      <td>-0.562482</td>\n",
              "      <td>-1.062909</td>\n",
              "      <td>...</td>\n",
              "      <td>0.640810</td>\n",
              "      <td>0.979211</td>\n",
              "      <td>-0.903283</td>\n",
              "      <td>-0.601000</td>\n",
              "      <td>0.591298</td>\n",
              "      <td>-0.611475</td>\n",
              "      <td>1.250761</td>\n",
              "      <td>-0.628414</td>\n",
              "      <td>-1.184486</td>\n",
              "      <td>-0.236496</td>\n",
              "    </tr>\n",
              "    <tr>\n",
              "      <th>4</th>\n",
              "      <td>-0.094926</td>\n",
              "      <td>-0.169300</td>\n",
              "      <td>-0.683790</td>\n",
              "      <td>-0.761219</td>\n",
              "      <td>-1.069494</td>\n",
              "      <td>-0.838798</td>\n",
              "      <td>0.859266</td>\n",
              "      <td>0.701784</td>\n",
              "      <td>-0.562482</td>\n",
              "      <td>-1.062909</td>\n",
              "      <td>...</td>\n",
              "      <td>-1.016718</td>\n",
              "      <td>0.979211</td>\n",
              "      <td>-0.903283</td>\n",
              "      <td>0.817019</td>\n",
              "      <td>-0.961392</td>\n",
              "      <td>-0.611475</td>\n",
              "      <td>1.250761</td>\n",
              "      <td>-0.628414</td>\n",
              "      <td>-0.146876</td>\n",
              "      <td>-0.236496</td>\n",
              "    </tr>\n",
              "  </tbody>\n",
              "</table>\n",
              "<p>5 rows × 23 columns</p>\n",
              "</div>"
            ],
            "text/plain": [
              "   OverallQual  GrLivArea  ExterQual  KitchenQual  GarageCars  GarageArea  \\\n",
              "0     0.637073  -0.051643   1.057489     0.743356    0.293831   -0.192617   \n",
              "1    -0.094926  -0.421692  -0.683790     0.743356    0.293831    0.030695   \n",
              "2    -0.094926  -0.518474  -0.683790    -0.761219   -1.069494   -0.938576   \n",
              "3    -0.826925  -0.207253  -0.683790    -0.761219   -1.069494   -0.910068   \n",
              "4    -0.094926  -0.169300  -0.683790    -0.761219   -1.069494   -0.838798   \n",
              "\n",
              "   TotalBsmtSF  1stFlrSF  BsmtQual  FullBath  ...  FireplaceQu  \\\n",
              "0     0.642893  0.862092  0.578106  0.772872  ...     1.193319   \n",
              "1    -0.046799  0.357895 -0.562482 -1.062909  ...     0.088301   \n",
              "2    -1.128667 -1.221922 -0.562482 -1.062909  ...    -1.016718   \n",
              "3    -0.186540  0.650071 -0.562482 -1.062909  ...     0.640810   \n",
              "4     0.859266  0.701784 -0.562482 -1.062909  ...    -1.016718   \n",
              "\n",
              "   GarageYrBlt_old  Foundation_PConc  MasVnrArea  Fireplaces  YearBuilt_new  \\\n",
              "0        -1.021230          1.107073   -0.519303    0.591298       1.635389   \n",
              "1         0.979211         -0.903283   -0.023289    0.591298      -0.611475   \n",
              "2         0.979211         -0.903283   -0.601000   -0.961392      -0.611475   \n",
              "3         0.979211         -0.903283   -0.601000    0.591298      -0.611475   \n",
              "4         0.979211         -0.903283    0.817019   -0.961392      -0.611475   \n",
              "\n",
              "   YearRemodAdd_old  GarageYrBlt_new  HeatingQC  Neighborhood_NridgHt  \n",
              "0         -0.799513         1.591307   0.890733             -0.236496  \n",
              "1         -0.799513        -0.628414  -2.222095             -0.236496  \n",
              "2          1.250761        -0.628414  -1.184486             -0.236496  \n",
              "3          1.250761        -0.628414  -1.184486             -0.236496  \n",
              "4          1.250761        -0.628414  -0.146876             -0.236496  \n",
              "\n",
              "[5 rows x 23 columns]"
            ]
          },
          "execution_count": 38,
          "metadata": {},
          "output_type": "execute_result"
        }
      ]
    },
    {
      "cell_type": "markdown",
      "metadata": {
        "id": "Ikmht7ZTbU2b"
      },
      "source": [
        "### 4- Training a ridge regression model\n",
        "\n",
        "Since our data is ready, we can start with the modelling phase."
      ]
    },
    {
      "cell_type": "code",
      "metadata": {
        "id": "GAZV6viobU2b"
      },
      "source": [
        "from sklearn.linear_model import Ridge"
      ],
      "execution_count": null,
      "outputs": []
    },
    {
      "cell_type": "markdown",
      "metadata": {
        "id": "T7z_brdjbU2b"
      },
      "source": [
        "First, Let's visualize the regularization hyper-parameter of ridge and its impact on the regression coefficients."
      ]
    },
    {
      "cell_type": "code",
      "metadata": {
        "id": "foaSXvZQbU2b"
      },
      "source": [
        "def ridge_coefs(X, y, alphas):\n",
        "    \n",
        "    # list of coefficients:\n",
        "    coefs = []\n",
        "    \n",
        "    # initiate the model\n",
        "    ridge_reg = Ridge()\n",
        "    \n",
        "    # iterate through the alphas fed into the function:\n",
        "    for a in alphas:\n",
        "        \n",
        "        # reinitiate with the new alpha:\n",
        "        ridge_reg.set_params(alpha=a)\n",
        "        \n",
        "        # refit the model on the provided X, y\n",
        "        ridge_reg.fit(X, y)\n",
        "        \n",
        "        # print the coefficient list\n",
        "        coefs.append(ridge_reg.coef_)\n",
        "        \n",
        "    return coefs\n",
        "  # this snippet is taken from an online source"
      ],
      "execution_count": null,
      "outputs": []
    },
    {
      "cell_type": "code",
      "metadata": {
        "id": "WpfkiocLbU2b"
      },
      "source": [
        "# np.logspace gives us points between specified orders of magnitude on a logarithmic scale. It is base 10.\n",
        "r_alphas = np.logspace(0, 5, 200)\n",
        "\n",
        "# Get the coefficients for each alpha for the Ridge, using the function above\n",
        "r_coefs = ridge_coefs(Z_train, y_train, r_alphas)"
      ],
      "execution_count": null,
      "outputs": []
    },
    {
      "cell_type": "code",
      "metadata": {
        "id": "oBdCHAmHbU2c"
      },
      "source": [
        "from cycler import cycler\n",
        "\n",
        "def coef_plotter(alphas, coefs, feature_names, to_alpha, regtype='ridge'):\n",
        "    \n",
        "    # Get the full range of alphas before subsetting to keep the plots from \n",
        "    # resetting axes each time. (We use these values to set static axes later).\n",
        "    amin = np.min(alphas)\n",
        "    amax = np.max(alphas)\n",
        "    \n",
        "    # Subset the alphas and coefficients to just the ones below the set limit\n",
        "    # from the interactive widget:\n",
        "    alphas = [a for a in alphas if a <= to_alpha]\n",
        "    coefs = coefs[0:len(alphas)]\n",
        "    \n",
        "    # Get some colors from seaborn:\n",
        "    colors = sns.color_palette(\"husl\", len(coefs[0]))\n",
        "    \n",
        "    # Get the figure and reset the size to be wider:\n",
        "    fig = plt.figure()\n",
        "    fig.set_size_inches(18,5)\n",
        "\n",
        "    # We have two axes this time on our figure. \n",
        "    # The fig.add_subplot adds axes to our figure. The number inside stands for:\n",
        "    #[figure_rows|figure_cols|position_of_current_axes]\n",
        "    ax1 = fig.add_subplot(121)\n",
        "    \n",
        "    # Give it the color cycler:\n",
        "    ax1.set_prop_cycle(cycler('color', colors))\n",
        "    \n",
        "    # Print a vertical line showing our current alpha threshold:\n",
        "    ax1.axvline(to_alpha, lw=2, ls='dashed', c='k', alpha=0.4)\n",
        "    \n",
        "    # Plot the lines of the alphas on x-axis and coefficients on y-axis\n",
        "    ax1.plot(alphas, coefs, lw=2)\n",
        "    \n",
        "    # set labels for axes:\n",
        "    ax1.set_xlabel('alpha', fontsize=20)\n",
        "    ax1.set_ylabel('coefficients', fontsize=20)\n",
        "    \n",
        "    # If this is for the ridge, set this to a log scale on the x-axis:\n",
        "    if regtype == 'ridge':\n",
        "        ax1.set_xscale('log')\n",
        "    \n",
        "    # Enforce the axis limits:\n",
        "    ax1.set_xlim([amin, amax])\n",
        "    \n",
        "    # Put a title on the axis\n",
        "    ax1.set_title(regtype+' coefficients\\n', fontsize=20)\n",
        "    \n",
        "    # Get the ymin and ymax for this axis to enforce it to be the same on the \n",
        "    # second chart:\n",
        "    ymin, ymax = ax1.get_ylim()\n",
        "\n",
        "    # Add our second axes for the barplot in position 2:\n",
        "    ax2 = fig.add_subplot(122)\n",
        "    \n",
        "    # Position the bars according to their index from the feature names variable:\n",
        "    ax2.bar(list(range(1, len(feature_names)+1)), coefs[-1], align='center', color=colors)\n",
        "    ax2.set_xticks(list(range(1, len(feature_names)+1)))\n",
        "    \n",
        "    # Reset the ticks from numbers to acutally be the names:\n",
        "    ax2.set_xticklabels(feature_names, rotation=65, fontsize=12)\n",
        "    \n",
        "    # enforce limits and add titles, labels\n",
        "    ax2.set_ylim([ymin, ymax])\n",
        "    ax2.set_title(regtype+' predictor coefficients\\n', fontsize=20)\n",
        "    ax2.set_xlabel('coefficients', fontsize=20)\n",
        "    ax2.set_ylabel('alpha', fontsize=20)\n",
        "    \n",
        "    plt.show()\n",
        "  # this snippet is taken from an online source"
      ],
      "execution_count": null,
      "outputs": []
    },
    {
      "cell_type": "code",
      "metadata": {
        "id": "cSy3ZmM6bU2c",
        "outputId": "40ae4227-9051-406a-d19e-50d0b7971ee8"
      },
      "source": [
        "from ipywidgets import *\n",
        "from IPython.display import display\n",
        "\n",
        "def ridge_plot_runner(log_of_alpha=0):\n",
        "    coef_plotter(r_alphas, r_coefs, X.columns, 10**log_of_alpha, regtype='ridge')\n",
        "\n",
        "interact(ridge_plot_runner, log_of_alpha=(0.1,5,0.2))\n",
        "print(\"this snippet is taken from an online source\")"
      ],
      "execution_count": null,
      "outputs": [
        {
          "data": {
            "application/vnd.jupyter.widget-view+json": {
              "model_id": "b29b9a2a36d64442aac2f70befe14ea7",
              "version_major": 2,
              "version_minor": 0
            },
            "text/plain": [
              "interactive(children=(FloatSlider(value=0.1, description='log_of_alpha', max=5.0, min=0.1, step=0.2), Output()…"
            ]
          },
          "metadata": {},
          "output_type": "display_data"
        },
        {
          "name": "stdout",
          "output_type": "stream",
          "text": [
            "this snippet is taken from an online source\n"
          ]
        }
      ]
    },
    {
      "cell_type": "markdown",
      "metadata": {
        "id": "L8hglpHnbU2c"
      },
      "source": [
        "### 5- Cross-validation to find the best regularizer hyper-parameter\n",
        "\n",
        "Thanks to the visualization, we can understand the relationship between the alpha (strength of the regularization coefficient) and coefficients. But how to pick the best alpha? The answer can be found by trial and error. In this case, we will train different models on the training set and pick the model that performs the best. We will do this using cross-validation."
      ]
    },
    {
      "cell_type": "code",
      "metadata": {
        "id": "CfzdJPT5bU2c"
      },
      "source": [
        "from sklearn.metrics import r2_score\n",
        "from sklearn.linear_model import RidgeCV"
      ],
      "execution_count": null,
      "outputs": []
    },
    {
      "cell_type": "code",
      "metadata": {
        "id": "jNmdfC2AbU2d"
      },
      "source": [
        "# Set up a list of ridge alphas to check.\n",
        "r_alphas = np.logspace(0, 5, 100)\n",
        "# Generates 200 values equally between 0 and 5,\n",
        "# then converts them to alphas between 10^0 and 10^5.\n",
        "\n",
        "# Cross-validate over our list of ridge alphas.\n",
        "ridge_model = RidgeCV(alphas=r_alphas, scoring='r2')\n",
        "\n",
        "# Fit model using best ridge alpha!\n",
        "ridge_model = ridge_model.fit(Z_train, y_train)"
      ],
      "execution_count": null,
      "outputs": []
    },
    {
      "cell_type": "code",
      "metadata": {
        "id": "dkJa-fVCbU2d",
        "outputId": "147f33b0-c87e-425e-f890-68b84b4c2967"
      },
      "source": [
        "# Here is the optimal value of alpha\n",
        "ridge_optimal_alpha = ridge_model.alpha_\n",
        "ridge_optimal_alpha"
      ],
      "execution_count": null,
      "outputs": [
        {
          "data": {
            "text/plain": [
              "298.364724028334"
            ]
          },
          "execution_count": 46,
          "metadata": {},
          "output_type": "execute_result"
        }
      ]
    },
    {
      "cell_type": "markdown",
      "metadata": {
        "id": "5Kkm1Z0WbU2d"
      },
      "source": [
        "### 6- Evaluating the model on the test data\n",
        "\n",
        "To evaluate the model on the test data, we first need to normalize the test data __using the same normalization that we used to normalize the training data.__"
      ]
    },
    {
      "cell_type": "code",
      "metadata": {
        "id": "_0Nwq4O2bU2d"
      },
      "source": [
        "# transform the test data\n",
        "Z_test = pd.DataFrame(ss.transform(X_test), columns=X_test.columns)"
      ],
      "execution_count": null,
      "outputs": []
    },
    {
      "cell_type": "code",
      "metadata": {
        "id": "4VbHN0KEbU2d",
        "outputId": "9d67cf8e-596f-4097-db90-7e4e60466133"
      },
      "source": [
        "# Instantiate the best model.\n",
        "ridge_opt = Ridge(alpha=ridge_optimal_alpha)\n",
        "\n",
        "# Fit model.\n",
        "ridge_opt.fit(Z_train, y_train)\n",
        "\n",
        "# Generate predictions\n",
        "ridge_opt_preds = ridge_opt.predict(Z_test)\n",
        "ridge_opt_preds_train = ridge_opt.predict(Z_train)\n",
        "\n",
        "# Evaluate model.\n",
        "print(\"score on the test data: \", r2_score(y_test, ridge_opt_preds))\n",
        "print(\"score on the training data:\", r2_score(y_train, ridge_opt_preds_train))"
      ],
      "execution_count": null,
      "outputs": [
        {
          "name": "stdout",
          "output_type": "stream",
          "text": [
            "score on the test data:  0.8235006604344213\n",
            "score on the training data: 0.7817669754810197\n"
          ]
        }
      ]
    },
    {
      "cell_type": "markdown",
      "metadata": {
        "id": "3eJ2CQsgbU2d"
      },
      "source": [
        "So the conclusion, the R squared value for the test data was 0.82. This is higher than the score from the training dataset which proves that in a dataset that might highly overfit, we achieved to fit our model to the signal rather than the noise. "
      ]
    },
    {
      "cell_type": "code",
      "metadata": {
        "id": "mfIxltIjbU2e"
      },
      "source": [
        ""
      ],
      "execution_count": null,
      "outputs": []
    }
  ]
}