{
  "nbformat": 4,
  "nbformat_minor": 0,
  "metadata": {
    "colab": {
      "provenance": []
    },
    "kernelspec": {
      "display_name": "Python 3",
      "language": "python",
      "name": "python3"
    },
    "language_info": {
      "codemirror_mode": {
        "name": "ipython",
        "version": 3
      },
      "file_extension": ".py",
      "mimetype": "text/x-python",
      "name": "python",
      "nbconvert_exporter": "python",
      "pygments_lexer": "ipython3",
      "version": "3.7.3"
    }
  },
  "cells": [
    {
      "cell_type": "markdown",
      "metadata": {
        "id": "bEclPhDe6sto"
      },
      "source": [
        "<a href=\"https://colab.research.google.com/github/michalis0/DataMining_and_MachineLearning/blob/master/week2/Data_Cleaning_in_Pandas.ipynb\" target=\"_parent\"><img src=\"https://colab.research.google.com/assets/colab-badge.svg\" alt=\"Open In Colab\"/></a>"
      ]
    },
    {
      "cell_type": "markdown",
      "metadata": {
        "id": "ZaJpX6maF1hW"
      },
      "source": [
        "# Data cleaning with Pandas\n",
        "\n",
        "<img width=\"200\" src='https://upload.wikimedia.org/wikipedia/commons/e/ed/Pandas_logo.svg'>\n",
        "\n",
        "### How Does Data Get Dirty?\n",
        "- Missing data.\n",
        "- Inconsistent data.\n",
        "- Duplicate data.\n",
        "\n",
        "This is just to name a few things that can go wrong. There is an endless list of ways that data can end up very messy.\n",
        "Sometimes there are insufficient validation checks when the data is entered in the first place.\n",
        "If you have form fields with users entering data in any format they want with no guidelines or form validation checks in place to enforce conforming to a certain format, then users will input however they see fit.\n",
        "\n",
        "There could be an input field for the state (U.S.) and you have some data that is the two-character abbreviation, NY and then others have New York, then there are potential misspellings and typos, etc.\n",
        "\n",
        "Data can also become corrupted during transmission or in storage."
      ]
    },
    {
      "cell_type": "markdown",
      "metadata": {
        "id": "cunJdWS4F1hY"
      },
      "source": [
        "We’ll use Pandas to examine and clean the building violations dataset from the NYC Department of Buildings (DOB) that is available on NYC Open Data.\n",
        "\n",
        "The datset can be found [here](https://data.cityofnewyork.us/Housing-Development/DOB-Violations/3h2n-5cm9).\n",
        "\n",
        "For this exercise, we will work with a subset of the data with 10000 records."
      ]
    },
    {
      "cell_type": "code",
      "metadata": {
        "id": "1SoxqEHtF1hg"
      },
      "source": [
        "import pandas as pd \n",
        "import numpy as np "
      ],
      "execution_count": 1,
      "outputs": []
    },
    {
      "cell_type": "markdown",
      "metadata": {
        "id": "PD8ihbeHF1ho"
      },
      "source": [
        "### Load the data"
      ]
    },
    {
      "cell_type": "code",
      "metadata": {
        "id": "0fgt4gEcF1hp"
      },
      "source": [
        "df = pd.read_csv(\"https://raw.githubusercontent.com/michalis0/DataMining_and_MachineLearning/master/week3/data/violation_DOB.csv\")"
      ],
      "execution_count": 2,
      "outputs": []
    },
    {
      "cell_type": "markdown",
      "metadata": {
        "id": "RFrej8kTF1ht"
      },
      "source": [
        "### Shape of the data\n",
        "Let's first check how many rows and columns (features) are in this dataset"
      ]
    },
    {
      "cell_type": "code",
      "metadata": {
        "colab": {
          "base_uri": "https://localhost:8080/"
        },
        "id": "YeC_ODO-F1hu",
        "outputId": "3aafc54b-4f8c-4362-a427-a0ec81c3ba82"
      },
      "source": [
        "df.shape"
      ],
      "execution_count": 3,
      "outputs": [
        {
          "output_type": "execute_result",
          "data": {
            "text/plain": [
              "(10000, 18)"
            ]
          },
          "metadata": {},
          "execution_count": 3
        }
      ]
    },
    {
      "cell_type": "markdown",
      "metadata": {
        "id": "XPBg0rcdF1h0"
      },
      "source": [
        "### Check out the first few rows\n",
        "You can look at the first few rows by calling `head()` on the dataframe."
      ]
    },
    {
      "cell_type": "code",
      "metadata": {
        "colab": {
          "base_uri": "https://localhost:8080/",
          "height": 433
        },
        "id": "l_oGmG_SF1h1",
        "outputId": "bee4a80c-b530-4649-8a94-bbc7bcac5d79"
      },
      "source": [
        "df.head(3)"
      ],
      "execution_count": 4,
      "outputs": [
        {
          "output_type": "execute_result",
          "data": {
            "text/plain": [
              "   isn_dob_bis_viol boro      bin   block     lot  issue_date  \\\n",
              "0           2351406    3  3059563  2136.0  2136.0    20190520   \n",
              "1           2383173    3  3137310  5631.0    14.0    20190903   \n",
              "2           2427322    2  2003035  2504.0    36.0    20190904   \n",
              "\n",
              "  violation_type_code violation_number house_number         street  \\\n",
              "0              JVCAT5            00339          441   WYTHE AVENUE   \n",
              "1             LL2604S         NRF01042          920      48 STREET   \n",
              "2             AEUHAZ1            00162          941  JEROME AVENUE   \n",
              "\n",
              "  device_number                                        description  \\\n",
              "0       3P10799           FAILURE TO PERFORM CATEGORY 5 INSPECTION   \n",
              "1           NaN  FAILED TO FILE FINAL SPRINKLER REPORT BY JULY ...   \n",
              "2           NaN  FAILURE TO CERTIFY CORRECTION ON IMMEDIATELY H...   \n",
              "\n",
              "                   number            violation_category  \\\n",
              "0      V052019JVCAT500339      V-DOB VIOLATION - ACTIVE   \n",
              "1  V090319LL2604SNRF01042      V-DOB VIOLATION - ACTIVE   \n",
              "2    V*090419AEUHAZ100162  V*-DOB VIOLATION - DISMISSED   \n",
              "\n",
              "                                      violation_type  disposition_date  \\\n",
              "0  JVCAT5-RESIDENTIAL ELEVATOR PERIODIC INSPECTIO...               NaN   \n",
              "1                                  LL2604S-SPRINKLER               NaN   \n",
              "2                    AEUHAZ1-FAIL TO CERTIFY CLASS 1        20191202.0   \n",
              "\n",
              "           disposition_comments ecb_number  \n",
              "0                           NaN        NaN  \n",
              "1                           NaN        NaN  \n",
              "2  GNC    PAID INVOICE 62132098  35409075X  "
            ],
            "text/html": [
              "\n",
              "  <div id=\"df-91fcc32b-ddca-4100-9443-76a9fbf935eb\">\n",
              "    <div class=\"colab-df-container\">\n",
              "      <div>\n",
              "<style scoped>\n",
              "    .dataframe tbody tr th:only-of-type {\n",
              "        vertical-align: middle;\n",
              "    }\n",
              "\n",
              "    .dataframe tbody tr th {\n",
              "        vertical-align: top;\n",
              "    }\n",
              "\n",
              "    .dataframe thead th {\n",
              "        text-align: right;\n",
              "    }\n",
              "</style>\n",
              "<table border=\"1\" class=\"dataframe\">\n",
              "  <thead>\n",
              "    <tr style=\"text-align: right;\">\n",
              "      <th></th>\n",
              "      <th>isn_dob_bis_viol</th>\n",
              "      <th>boro</th>\n",
              "      <th>bin</th>\n",
              "      <th>block</th>\n",
              "      <th>lot</th>\n",
              "      <th>issue_date</th>\n",
              "      <th>violation_type_code</th>\n",
              "      <th>violation_number</th>\n",
              "      <th>house_number</th>\n",
              "      <th>street</th>\n",
              "      <th>device_number</th>\n",
              "      <th>description</th>\n",
              "      <th>number</th>\n",
              "      <th>violation_category</th>\n",
              "      <th>violation_type</th>\n",
              "      <th>disposition_date</th>\n",
              "      <th>disposition_comments</th>\n",
              "      <th>ecb_number</th>\n",
              "    </tr>\n",
              "  </thead>\n",
              "  <tbody>\n",
              "    <tr>\n",
              "      <th>0</th>\n",
              "      <td>2351406</td>\n",
              "      <td>3</td>\n",
              "      <td>3059563</td>\n",
              "      <td>2136.0</td>\n",
              "      <td>2136.0</td>\n",
              "      <td>20190520</td>\n",
              "      <td>JVCAT5</td>\n",
              "      <td>00339</td>\n",
              "      <td>441</td>\n",
              "      <td>WYTHE AVENUE</td>\n",
              "      <td>3P10799</td>\n",
              "      <td>FAILURE TO PERFORM CATEGORY 5 INSPECTION</td>\n",
              "      <td>V052019JVCAT500339</td>\n",
              "      <td>V-DOB VIOLATION - ACTIVE</td>\n",
              "      <td>JVCAT5-RESIDENTIAL ELEVATOR PERIODIC INSPECTIO...</td>\n",
              "      <td>NaN</td>\n",
              "      <td>NaN</td>\n",
              "      <td>NaN</td>\n",
              "    </tr>\n",
              "    <tr>\n",
              "      <th>1</th>\n",
              "      <td>2383173</td>\n",
              "      <td>3</td>\n",
              "      <td>3137310</td>\n",
              "      <td>5631.0</td>\n",
              "      <td>14.0</td>\n",
              "      <td>20190903</td>\n",
              "      <td>LL2604S</td>\n",
              "      <td>NRF01042</td>\n",
              "      <td>920</td>\n",
              "      <td>48 STREET</td>\n",
              "      <td>NaN</td>\n",
              "      <td>FAILED TO FILE FINAL SPRINKLER REPORT BY JULY ...</td>\n",
              "      <td>V090319LL2604SNRF01042</td>\n",
              "      <td>V-DOB VIOLATION - ACTIVE</td>\n",
              "      <td>LL2604S-SPRINKLER</td>\n",
              "      <td>NaN</td>\n",
              "      <td>NaN</td>\n",
              "      <td>NaN</td>\n",
              "    </tr>\n",
              "    <tr>\n",
              "      <th>2</th>\n",
              "      <td>2427322</td>\n",
              "      <td>2</td>\n",
              "      <td>2003035</td>\n",
              "      <td>2504.0</td>\n",
              "      <td>36.0</td>\n",
              "      <td>20190904</td>\n",
              "      <td>AEUHAZ1</td>\n",
              "      <td>00162</td>\n",
              "      <td>941</td>\n",
              "      <td>JEROME AVENUE</td>\n",
              "      <td>NaN</td>\n",
              "      <td>FAILURE TO CERTIFY CORRECTION ON IMMEDIATELY H...</td>\n",
              "      <td>V*090419AEUHAZ100162</td>\n",
              "      <td>V*-DOB VIOLATION - DISMISSED</td>\n",
              "      <td>AEUHAZ1-FAIL TO CERTIFY CLASS 1</td>\n",
              "      <td>20191202.0</td>\n",
              "      <td>GNC    PAID INVOICE 62132098</td>\n",
              "      <td>35409075X</td>\n",
              "    </tr>\n",
              "  </tbody>\n",
              "</table>\n",
              "</div>\n",
              "      <button class=\"colab-df-convert\" onclick=\"convertToInteractive('df-91fcc32b-ddca-4100-9443-76a9fbf935eb')\"\n",
              "              title=\"Convert this dataframe to an interactive table.\"\n",
              "              style=\"display:none;\">\n",
              "        \n",
              "  <svg xmlns=\"http://www.w3.org/2000/svg\" height=\"24px\"viewBox=\"0 0 24 24\"\n",
              "       width=\"24px\">\n",
              "    <path d=\"M0 0h24v24H0V0z\" fill=\"none\"/>\n",
              "    <path d=\"M18.56 5.44l.94 2.06.94-2.06 2.06-.94-2.06-.94-.94-2.06-.94 2.06-2.06.94zm-11 1L8.5 8.5l.94-2.06 2.06-.94-2.06-.94L8.5 2.5l-.94 2.06-2.06.94zm10 10l.94 2.06.94-2.06 2.06-.94-2.06-.94-.94-2.06-.94 2.06-2.06.94z\"/><path d=\"M17.41 7.96l-1.37-1.37c-.4-.4-.92-.59-1.43-.59-.52 0-1.04.2-1.43.59L10.3 9.45l-7.72 7.72c-.78.78-.78 2.05 0 2.83L4 21.41c.39.39.9.59 1.41.59.51 0 1.02-.2 1.41-.59l7.78-7.78 2.81-2.81c.8-.78.8-2.07 0-2.86zM5.41 20L4 18.59l7.72-7.72 1.47 1.35L5.41 20z\"/>\n",
              "  </svg>\n",
              "      </button>\n",
              "      \n",
              "  <style>\n",
              "    .colab-df-container {\n",
              "      display:flex;\n",
              "      flex-wrap:wrap;\n",
              "      gap: 12px;\n",
              "    }\n",
              "\n",
              "    .colab-df-convert {\n",
              "      background-color: #E8F0FE;\n",
              "      border: none;\n",
              "      border-radius: 50%;\n",
              "      cursor: pointer;\n",
              "      display: none;\n",
              "      fill: #1967D2;\n",
              "      height: 32px;\n",
              "      padding: 0 0 0 0;\n",
              "      width: 32px;\n",
              "    }\n",
              "\n",
              "    .colab-df-convert:hover {\n",
              "      background-color: #E2EBFA;\n",
              "      box-shadow: 0px 1px 2px rgba(60, 64, 67, 0.3), 0px 1px 3px 1px rgba(60, 64, 67, 0.15);\n",
              "      fill: #174EA6;\n",
              "    }\n",
              "\n",
              "    [theme=dark] .colab-df-convert {\n",
              "      background-color: #3B4455;\n",
              "      fill: #D2E3FC;\n",
              "    }\n",
              "\n",
              "    [theme=dark] .colab-df-convert:hover {\n",
              "      background-color: #434B5C;\n",
              "      box-shadow: 0px 1px 3px 1px rgba(0, 0, 0, 0.15);\n",
              "      filter: drop-shadow(0px 1px 2px rgba(0, 0, 0, 0.3));\n",
              "      fill: #FFFFFF;\n",
              "    }\n",
              "  </style>\n",
              "\n",
              "      <script>\n",
              "        const buttonEl =\n",
              "          document.querySelector('#df-91fcc32b-ddca-4100-9443-76a9fbf935eb button.colab-df-convert');\n",
              "        buttonEl.style.display =\n",
              "          google.colab.kernel.accessAllowed ? 'block' : 'none';\n",
              "\n",
              "        async function convertToInteractive(key) {\n",
              "          const element = document.querySelector('#df-91fcc32b-ddca-4100-9443-76a9fbf935eb');\n",
              "          const dataTable =\n",
              "            await google.colab.kernel.invokeFunction('convertToInteractive',\n",
              "                                                     [key], {});\n",
              "          if (!dataTable) return;\n",
              "\n",
              "          const docLinkHtml = 'Like what you see? Visit the ' +\n",
              "            '<a target=\"_blank\" href=https://colab.research.google.com/notebooks/data_table.ipynb>data table notebook</a>'\n",
              "            + ' to learn more about interactive tables.';\n",
              "          element.innerHTML = '';\n",
              "          dataTable['output_type'] = 'display_data';\n",
              "          await google.colab.output.renderOutput(dataTable, element);\n",
              "          const docLink = document.createElement('div');\n",
              "          docLink.innerHTML = docLinkHtml;\n",
              "          element.appendChild(docLink);\n",
              "        }\n",
              "      </script>\n",
              "    </div>\n",
              "  </div>\n",
              "  "
            ]
          },
          "metadata": {},
          "execution_count": 4
        }
      ]
    },
    {
      "cell_type": "markdown",
      "metadata": {
        "id": "-iIy4l0XF1h5"
      },
      "source": [
        "### List the column/feature names"
      ]
    },
    {
      "cell_type": "code",
      "metadata": {
        "colab": {
          "base_uri": "https://localhost:8080/"
        },
        "id": "z9o2EIEpF1h7",
        "outputId": "604ae647-924b-42b5-a863-526b9edf4ef7"
      },
      "source": [
        "df.columns"
      ],
      "execution_count": 5,
      "outputs": [
        {
          "output_type": "execute_result",
          "data": {
            "text/plain": [
              "Index(['isn_dob_bis_viol', 'boro', 'bin', 'block', 'lot', 'issue_date',\n",
              "       'violation_type_code', 'violation_number', 'house_number', 'street',\n",
              "       'device_number', 'description', 'number', 'violation_category',\n",
              "       'violation_type', 'disposition_date', 'disposition_comments',\n",
              "       'ecb_number'],\n",
              "      dtype='object')"
            ]
          },
          "metadata": {},
          "execution_count": 5
        }
      ]
    },
    {
      "cell_type": "markdown",
      "metadata": {
        "id": "VuhfCbOi0F3_"
      },
      "source": [
        "### Duplicates\n",
        "You can check if there are duplicates in the dataset."
      ]
    },
    {
      "cell_type": "code",
      "metadata": {
        "id": "nKusv1dw0Nsi",
        "colab": {
          "base_uri": "https://localhost:8080/"
        },
        "outputId": "4b204996-3765-4579-f41f-9d9c78e39368"
      },
      "source": [
        "df.duplicated()  # this gives a Boolean data type"
      ],
      "execution_count": 6,
      "outputs": [
        {
          "output_type": "execute_result",
          "data": {
            "text/plain": [
              "0       False\n",
              "1       False\n",
              "2       False\n",
              "3       False\n",
              "4       False\n",
              "        ...  \n",
              "9995    False\n",
              "9996    False\n",
              "9997    False\n",
              "9998    False\n",
              "9999    False\n",
              "Length: 10000, dtype: bool"
            ]
          },
          "metadata": {},
          "execution_count": 6
        }
      ]
    },
    {
      "cell_type": "markdown",
      "metadata": {
        "id": "73gToAp51DIe"
      },
      "source": [
        "This shows which are the duplicated rows if any. None are duplicated here."
      ]
    },
    {
      "cell_type": "code",
      "metadata": {
        "id": "f7X9jYbl0tSP",
        "colab": {
          "base_uri": "https://localhost:8080/",
          "height": 113
        },
        "outputId": "992517ba-4a9f-4e0e-ac58-c3b1a3e666a2"
      },
      "source": [
        "df.loc[df.duplicated()=='True', :]"
      ],
      "execution_count": 7,
      "outputs": [
        {
          "output_type": "execute_result",
          "data": {
            "text/plain": [
              "Empty DataFrame\n",
              "Columns: [isn_dob_bis_viol, boro, bin, block, lot, issue_date, violation_type_code, violation_number, house_number, street, device_number, description, number, violation_category, violation_type, disposition_date, disposition_comments, ecb_number]\n",
              "Index: []"
            ],
            "text/html": [
              "\n",
              "  <div id=\"df-35aeb526-439c-4ee4-9d44-4d6d2f7d449d\">\n",
              "    <div class=\"colab-df-container\">\n",
              "      <div>\n",
              "<style scoped>\n",
              "    .dataframe tbody tr th:only-of-type {\n",
              "        vertical-align: middle;\n",
              "    }\n",
              "\n",
              "    .dataframe tbody tr th {\n",
              "        vertical-align: top;\n",
              "    }\n",
              "\n",
              "    .dataframe thead th {\n",
              "        text-align: right;\n",
              "    }\n",
              "</style>\n",
              "<table border=\"1\" class=\"dataframe\">\n",
              "  <thead>\n",
              "    <tr style=\"text-align: right;\">\n",
              "      <th></th>\n",
              "      <th>isn_dob_bis_viol</th>\n",
              "      <th>boro</th>\n",
              "      <th>bin</th>\n",
              "      <th>block</th>\n",
              "      <th>lot</th>\n",
              "      <th>issue_date</th>\n",
              "      <th>violation_type_code</th>\n",
              "      <th>violation_number</th>\n",
              "      <th>house_number</th>\n",
              "      <th>street</th>\n",
              "      <th>device_number</th>\n",
              "      <th>description</th>\n",
              "      <th>number</th>\n",
              "      <th>violation_category</th>\n",
              "      <th>violation_type</th>\n",
              "      <th>disposition_date</th>\n",
              "      <th>disposition_comments</th>\n",
              "      <th>ecb_number</th>\n",
              "    </tr>\n",
              "  </thead>\n",
              "  <tbody>\n",
              "  </tbody>\n",
              "</table>\n",
              "</div>\n",
              "      <button class=\"colab-df-convert\" onclick=\"convertToInteractive('df-35aeb526-439c-4ee4-9d44-4d6d2f7d449d')\"\n",
              "              title=\"Convert this dataframe to an interactive table.\"\n",
              "              style=\"display:none;\">\n",
              "        \n",
              "  <svg xmlns=\"http://www.w3.org/2000/svg\" height=\"24px\"viewBox=\"0 0 24 24\"\n",
              "       width=\"24px\">\n",
              "    <path d=\"M0 0h24v24H0V0z\" fill=\"none\"/>\n",
              "    <path d=\"M18.56 5.44l.94 2.06.94-2.06 2.06-.94-2.06-.94-.94-2.06-.94 2.06-2.06.94zm-11 1L8.5 8.5l.94-2.06 2.06-.94-2.06-.94L8.5 2.5l-.94 2.06-2.06.94zm10 10l.94 2.06.94-2.06 2.06-.94-2.06-.94-.94-2.06-.94 2.06-2.06.94z\"/><path d=\"M17.41 7.96l-1.37-1.37c-.4-.4-.92-.59-1.43-.59-.52 0-1.04.2-1.43.59L10.3 9.45l-7.72 7.72c-.78.78-.78 2.05 0 2.83L4 21.41c.39.39.9.59 1.41.59.51 0 1.02-.2 1.41-.59l7.78-7.78 2.81-2.81c.8-.78.8-2.07 0-2.86zM5.41 20L4 18.59l7.72-7.72 1.47 1.35L5.41 20z\"/>\n",
              "  </svg>\n",
              "      </button>\n",
              "      \n",
              "  <style>\n",
              "    .colab-df-container {\n",
              "      display:flex;\n",
              "      flex-wrap:wrap;\n",
              "      gap: 12px;\n",
              "    }\n",
              "\n",
              "    .colab-df-convert {\n",
              "      background-color: #E8F0FE;\n",
              "      border: none;\n",
              "      border-radius: 50%;\n",
              "      cursor: pointer;\n",
              "      display: none;\n",
              "      fill: #1967D2;\n",
              "      height: 32px;\n",
              "      padding: 0 0 0 0;\n",
              "      width: 32px;\n",
              "    }\n",
              "\n",
              "    .colab-df-convert:hover {\n",
              "      background-color: #E2EBFA;\n",
              "      box-shadow: 0px 1px 2px rgba(60, 64, 67, 0.3), 0px 1px 3px 1px rgba(60, 64, 67, 0.15);\n",
              "      fill: #174EA6;\n",
              "    }\n",
              "\n",
              "    [theme=dark] .colab-df-convert {\n",
              "      background-color: #3B4455;\n",
              "      fill: #D2E3FC;\n",
              "    }\n",
              "\n",
              "    [theme=dark] .colab-df-convert:hover {\n",
              "      background-color: #434B5C;\n",
              "      box-shadow: 0px 1px 3px 1px rgba(0, 0, 0, 0.15);\n",
              "      filter: drop-shadow(0px 1px 2px rgba(0, 0, 0, 0.3));\n",
              "      fill: #FFFFFF;\n",
              "    }\n",
              "  </style>\n",
              "\n",
              "      <script>\n",
              "        const buttonEl =\n",
              "          document.querySelector('#df-35aeb526-439c-4ee4-9d44-4d6d2f7d449d button.colab-df-convert');\n",
              "        buttonEl.style.display =\n",
              "          google.colab.kernel.accessAllowed ? 'block' : 'none';\n",
              "\n",
              "        async function convertToInteractive(key) {\n",
              "          const element = document.querySelector('#df-35aeb526-439c-4ee4-9d44-4d6d2f7d449d');\n",
              "          const dataTable =\n",
              "            await google.colab.kernel.invokeFunction('convertToInteractive',\n",
              "                                                     [key], {});\n",
              "          if (!dataTable) return;\n",
              "\n",
              "          const docLinkHtml = 'Like what you see? Visit the ' +\n",
              "            '<a target=\"_blank\" href=https://colab.research.google.com/notebooks/data_table.ipynb>data table notebook</a>'\n",
              "            + ' to learn more about interactive tables.';\n",
              "          element.innerHTML = '';\n",
              "          dataTable['output_type'] = 'display_data';\n",
              "          await google.colab.output.renderOutput(dataTable, element);\n",
              "          const docLink = document.createElement('div');\n",
              "          docLink.innerHTML = docLinkHtml;\n",
              "          element.appendChild(docLink);\n",
              "        }\n",
              "      </script>\n",
              "    </div>\n",
              "  </div>\n",
              "  "
            ]
          },
          "metadata": {},
          "execution_count": 7
        }
      ]
    },
    {
      "cell_type": "markdown",
      "metadata": {
        "id": "0P1K2DBC1gPU"
      },
      "source": [
        "For example you can check that if you only look at house numbers, then the same house appears more than once in the dataset. Looking at house numbers only the dataset does contain duplicates."
      ]
    },
    {
      "cell_type": "code",
      "metadata": {
        "id": "zDjZikyk1K9f",
        "colab": {
          "base_uri": "https://localhost:8080/"
        },
        "outputId": "713399e9-36a8-4324-8ac5-44f67a05a4dc"
      },
      "source": [
        "df.house_number.duplicated()"
      ],
      "execution_count": 8,
      "outputs": [
        {
          "output_type": "execute_result",
          "data": {
            "text/plain": [
              "0       False\n",
              "1       False\n",
              "2       False\n",
              "3       False\n",
              "4       False\n",
              "        ...  \n",
              "9995     True\n",
              "9996     True\n",
              "9997     True\n",
              "9998     True\n",
              "9999     True\n",
              "Name: house_number, Length: 10000, dtype: bool"
            ]
          },
          "metadata": {},
          "execution_count": 8
        }
      ]
    },
    {
      "cell_type": "markdown",
      "metadata": {
        "id": "Z0ttulb9F1h_"
      },
      "source": [
        "### Missing/Null values\n",
        "You can call `isnull()` and `sum()` to get a count of how many null values are there in each column."
      ]
    },
    {
      "cell_type": "code",
      "metadata": {
        "colab": {
          "base_uri": "https://localhost:8080/"
        },
        "id": "lu2-o0DQF1iA",
        "outputId": "0b9539da-6b94-47eb-8b2b-cf0d4819d756"
      },
      "source": [
        "df.isnull().sum()"
      ],
      "execution_count": 9,
      "outputs": [
        {
          "output_type": "execute_result",
          "data": {
            "text/plain": [
              "isn_dob_bis_viol           0\n",
              "boro                       0\n",
              "bin                        0\n",
              "block                      1\n",
              "lot                        1\n",
              "issue_date                 0\n",
              "violation_type_code        0\n",
              "violation_number           0\n",
              "house_number               0\n",
              "street                     0\n",
              "device_number           4775\n",
              "description              528\n",
              "number                     0\n",
              "violation_category         0\n",
              "violation_type             0\n",
              "disposition_date        6297\n",
              "disposition_comments    6285\n",
              "ecb_number              7532\n",
              "dtype: int64"
            ]
          },
          "metadata": {},
          "execution_count": 9
        }
      ]
    },
    {
      "cell_type": "markdown",
      "metadata": {
        "id": "7-VRzH3FF1iY"
      },
      "source": [
        "### Data Types of the Features\n",
        "It is important that the data values in each column have the correct data type. For example, you can expect a column containing numbers to be in numeric format, but sometimes you will find string values in it. In such a case, when you do numeric calculations on that column you might get unexpected results.\n",
        "\n",
        "The property `dtypes` will show you the data types for each column in the dataframe."
      ]
    },
    {
      "cell_type": "code",
      "metadata": {
        "colab": {
          "base_uri": "https://localhost:8080/"
        },
        "id": "4-DTI_csF1iZ",
        "outputId": "d5786db4-731d-4952-d0b3-8e84e8889013"
      },
      "source": [
        "df.dtypes"
      ],
      "execution_count": 10,
      "outputs": [
        {
          "output_type": "execute_result",
          "data": {
            "text/plain": [
              "isn_dob_bis_viol          int64\n",
              "boro                     object\n",
              "bin                       int64\n",
              "block                   float64\n",
              "lot                     float64\n",
              "issue_date                int64\n",
              "violation_type_code      object\n",
              "violation_number         object\n",
              "house_number             object\n",
              "street                   object\n",
              "device_number            object\n",
              "description              object\n",
              "number                   object\n",
              "violation_category       object\n",
              "violation_type           object\n",
              "disposition_date        float64\n",
              "disposition_comments     object\n",
              "ecb_number               object\n",
              "dtype: object"
            ]
          },
          "metadata": {},
          "execution_count": 10
        }
      ]
    },
    {
      "cell_type": "markdown",
      "metadata": {
        "id": "UE94_vaCF1if"
      },
      "source": [
        "You can notice that the column `issue_date` is in integer format (`int64`), whereas it should be in datetime format. In Pandas you can convert a column to datetime format using `to_datetime` method."
      ]
    },
    {
      "cell_type": "code",
      "metadata": {
        "colab": {
          "base_uri": "https://localhost:8080/"
        },
        "id": "pnZyewjwF1if",
        "outputId": "fa8e6262-778e-4463-8a0b-e81d5d9bf6d3"
      },
      "source": [
        "df['issue_date'].head()"
      ],
      "execution_count": 11,
      "outputs": [
        {
          "output_type": "execute_result",
          "data": {
            "text/plain": [
              "0    20190520\n",
              "1    20190903\n",
              "2    20190904\n",
              "3    20190906\n",
              "4    20190107\n",
              "Name: issue_date, dtype: int64"
            ]
          },
          "metadata": {},
          "execution_count": 11
        }
      ]
    },
    {
      "cell_type": "code",
      "metadata": {
        "colab": {
          "base_uri": "https://localhost:8080/"
        },
        "id": "mzx9LZVqJ5Cm",
        "outputId": "f2bb24fc-9809-4444-caab-56f7f287c744"
      },
      "source": [
        "# if you do not provide the format, the function may infer the wrong format\n",
        "pd.to_datetime(df['issue_date']).head()\n"
      ],
      "execution_count": 12,
      "outputs": [
        {
          "output_type": "execute_result",
          "data": {
            "text/plain": [
              "0   1970-01-01 00:00:00.020190520\n",
              "1   1970-01-01 00:00:00.020190903\n",
              "2   1970-01-01 00:00:00.020190904\n",
              "3   1970-01-01 00:00:00.020190906\n",
              "4   1970-01-01 00:00:00.020190107\n",
              "Name: issue_date, dtype: datetime64[ns]"
            ]
          },
          "metadata": {},
          "execution_count": 12
        }
      ]
    },
    {
      "cell_type": "code",
      "metadata": {
        "colab": {
          "base_uri": "https://localhost:8080/"
        },
        "id": "VleHHxyeF1ii",
        "outputId": "7754d8b4-2de4-4553-aef3-f553e12da58a"
      },
      "source": [
        "df['issue_date'] = pd.to_datetime(df['issue_date'], format=\"%Y%m%d\")\n",
        "df['issue_date'].head()"
      ],
      "execution_count": 13,
      "outputs": [
        {
          "output_type": "execute_result",
          "data": {
            "text/plain": [
              "0   2019-05-20\n",
              "1   2019-09-03\n",
              "2   2019-09-04\n",
              "3   2019-09-06\n",
              "4   2019-01-07\n",
              "Name: issue_date, dtype: datetime64[ns]"
            ]
          },
          "metadata": {},
          "execution_count": 13
        }
      ]
    },
    {
      "cell_type": "markdown",
      "metadata": {
        "id": "3R_0ZH5EF1il"
      },
      "source": [
        "As another example you can also convert the `house_number` column to numeric datatype. To do so you can use the `to_numeric` method.\n",
        "\n",
        ">Note that in a real application you should not do that since you are not going to do numeric calculations on `house_number`. Moreover `house_number` could be a string or a mix of string and digits as well).\n",
        "\n"
      ]
    },
    {
      "cell_type": "code",
      "metadata": {
        "colab": {
          "base_uri": "https://localhost:8080/",
          "height": 342
        },
        "id": "uFA20ShBF1il",
        "outputId": "bf37bffa-44b6-4966-91f5-0e0e42d2a782"
      },
      "source": [
        "# notice that by running this line you will get an error. There reason is that there are non-numeric values in this\n",
        "# column which cannot be converted to numeric data type. \n",
        "df[\"house_number\"] = pd.to_numeric(df['house_number'])"
      ],
      "execution_count": 14,
      "outputs": [
        {
          "output_type": "error",
          "ename": "ValueError",
          "evalue": "ignored",
          "traceback": [
            "\u001b[0;31m---------------------------------------------------------------------------\u001b[0m",
            "\u001b[0;31mValueError\u001b[0m                                Traceback (most recent call last)",
            "\u001b[0;32m/usr/local/lib/python3.7/dist-packages/pandas/_libs/lib.pyx\u001b[0m in \u001b[0;36mpandas._libs.lib.maybe_convert_numeric\u001b[0;34m()\u001b[0m\n",
            "\u001b[0;31mValueError\u001b[0m: Unable to parse string \"32-14\"",
            "\nDuring handling of the above exception, another exception occurred:\n",
            "\u001b[0;31mValueError\u001b[0m                                Traceback (most recent call last)",
            "\u001b[0;32m<ipython-input-14-05ac9d4a935b>\u001b[0m in \u001b[0;36m<module>\u001b[0;34m\u001b[0m\n\u001b[1;32m      1\u001b[0m \u001b[0;31m# notice that by running this line you will get an error. There reason is that there are non-numeric values in this\u001b[0m\u001b[0;34m\u001b[0m\u001b[0;34m\u001b[0m\u001b[0;34m\u001b[0m\u001b[0m\n\u001b[1;32m      2\u001b[0m \u001b[0;31m# column which cannot be converted to numeric data type.\u001b[0m\u001b[0;34m\u001b[0m\u001b[0;34m\u001b[0m\u001b[0;34m\u001b[0m\u001b[0m\n\u001b[0;32m----> 3\u001b[0;31m \u001b[0mdf\u001b[0m\u001b[0;34m[\u001b[0m\u001b[0;34m\"house_number\"\u001b[0m\u001b[0;34m]\u001b[0m \u001b[0;34m=\u001b[0m \u001b[0mpd\u001b[0m\u001b[0;34m.\u001b[0m\u001b[0mto_numeric\u001b[0m\u001b[0;34m(\u001b[0m\u001b[0mdf\u001b[0m\u001b[0;34m[\u001b[0m\u001b[0;34m'house_number'\u001b[0m\u001b[0;34m]\u001b[0m\u001b[0;34m)\u001b[0m\u001b[0;34m\u001b[0m\u001b[0;34m\u001b[0m\u001b[0m\n\u001b[0m",
            "\u001b[0;32m/usr/local/lib/python3.7/dist-packages/pandas/core/tools/numeric.py\u001b[0m in \u001b[0;36mto_numeric\u001b[0;34m(arg, errors, downcast)\u001b[0m\n\u001b[1;32m    182\u001b[0m         \u001b[0;32mtry\u001b[0m\u001b[0;34m:\u001b[0m\u001b[0;34m\u001b[0m\u001b[0;34m\u001b[0m\u001b[0m\n\u001b[1;32m    183\u001b[0m             values, _ = lib.maybe_convert_numeric(\n\u001b[0;32m--> 184\u001b[0;31m                 \u001b[0mvalues\u001b[0m\u001b[0;34m,\u001b[0m \u001b[0mset\u001b[0m\u001b[0;34m(\u001b[0m\u001b[0;34m)\u001b[0m\u001b[0;34m,\u001b[0m \u001b[0mcoerce_numeric\u001b[0m\u001b[0;34m=\u001b[0m\u001b[0mcoerce_numeric\u001b[0m\u001b[0;34m\u001b[0m\u001b[0;34m\u001b[0m\u001b[0m\n\u001b[0m\u001b[1;32m    185\u001b[0m             )\n\u001b[1;32m    186\u001b[0m         \u001b[0;32mexcept\u001b[0m \u001b[0;34m(\u001b[0m\u001b[0mValueError\u001b[0m\u001b[0;34m,\u001b[0m \u001b[0mTypeError\u001b[0m\u001b[0;34m)\u001b[0m\u001b[0;34m:\u001b[0m\u001b[0;34m\u001b[0m\u001b[0;34m\u001b[0m\u001b[0m\n",
            "\u001b[0;32m/usr/local/lib/python3.7/dist-packages/pandas/_libs/lib.pyx\u001b[0m in \u001b[0;36mpandas._libs.lib.maybe_convert_numeric\u001b[0;34m()\u001b[0m\n",
            "\u001b[0;31mValueError\u001b[0m: Unable to parse string \"32-14\" at position 4"
          ]
        }
      ]
    },
    {
      "cell_type": "code",
      "metadata": {
        "id": "p4-E7ZSjF1io"
      },
      "source": [
        "# However, you can deal with such errors by ignoring them and replacing them with NaN. To do so\n",
        "# you should set errors='coerce'\n",
        "df[\"house_number\"] = pd.to_numeric(df['house_number'], errors='coerce')"
      ],
      "execution_count": 15,
      "outputs": []
    },
    {
      "cell_type": "code",
      "metadata": {
        "colab": {
          "base_uri": "https://localhost:8080/"
        },
        "id": "sOiR8cawF1iq",
        "outputId": "678a550b-59c0-4565-e4e6-b3b2a1355643"
      },
      "source": [
        "df.dtypes"
      ],
      "execution_count": 16,
      "outputs": [
        {
          "output_type": "execute_result",
          "data": {
            "text/plain": [
              "isn_dob_bis_viol                 int64\n",
              "boro                            object\n",
              "bin                              int64\n",
              "block                          float64\n",
              "lot                            float64\n",
              "issue_date              datetime64[ns]\n",
              "violation_type_code             object\n",
              "violation_number                object\n",
              "house_number                   float64\n",
              "street                          object\n",
              "device_number                   object\n",
              "description                     object\n",
              "number                          object\n",
              "violation_category              object\n",
              "violation_type                  object\n",
              "disposition_date               float64\n",
              "disposition_comments            object\n",
              "ecb_number                      object\n",
              "dtype: object"
            ]
          },
          "metadata": {},
          "execution_count": 16
        }
      ]
    },
    {
      "cell_type": "markdown",
      "metadata": {
        "id": "LWKrSP3H3dsR"
      },
      "source": [
        "The coerce parameter used above generated new missing values for this `house_number` column."
      ]
    },
    {
      "cell_type": "code",
      "metadata": {
        "id": "d8_nqBIL3kXs",
        "colab": {
          "base_uri": "https://localhost:8080/"
        },
        "outputId": "04dc8d9d-cf51-4f39-810c-861006562632"
      },
      "source": [
        "df.isnull().sum()"
      ],
      "execution_count": 17,
      "outputs": [
        {
          "output_type": "execute_result",
          "data": {
            "text/plain": [
              "isn_dob_bis_viol           0\n",
              "boro                       0\n",
              "bin                        0\n",
              "block                      1\n",
              "lot                        1\n",
              "issue_date                 0\n",
              "violation_type_code        0\n",
              "violation_number           0\n",
              "house_number            1740\n",
              "street                     0\n",
              "device_number           4775\n",
              "description              528\n",
              "number                     0\n",
              "violation_category         0\n",
              "violation_type             0\n",
              "disposition_date        6297\n",
              "disposition_comments    6285\n",
              "ecb_number              7532\n",
              "dtype: int64"
            ]
          },
          "metadata": {},
          "execution_count": 17
        }
      ]
    },
    {
      "cell_type": "markdown",
      "metadata": {
        "id": "YXGsKb2uF1iE"
      },
      "source": [
        "### Dropping the columns you are not interested in\n",
        "Let's say we are only interested in house number, the types of violations each building received and whether they have been closed or not. So we are going to drop the rest of the columns.\n",
        "\n",
        "Note that many operations in Pandas can be done on a copy of the data or in-place (affecting the original data frame). You can use the parameter `inplace=True`. \n",
        "\n",
        "> Also note that in Pandas, axis 0 represents the rows while axis 1 represents the columns."
      ]
    },
    {
      "cell_type": "code",
      "metadata": {
        "id": "nWYB-ehBF1iG"
      },
      "source": [
        "columns_to_delete = ['block', 'boro','lot','street','violation_number',\n",
        "                     'disposition_comments', 'isn_dob_bis_viol', 'disposition_date','ecb_number','description'] \n",
        "df.drop(columns_to_delete, inplace=True, axis=1)"
      ],
      "execution_count": 18,
      "outputs": []
    },
    {
      "cell_type": "code",
      "metadata": {
        "colab": {
          "base_uri": "https://localhost:8080/"
        },
        "id": "_6RMqxQUF1iM",
        "outputId": "7c3d6cff-7772-484f-9c31-601bd330c771"
      },
      "source": [
        "df.columns"
      ],
      "execution_count": 19,
      "outputs": [
        {
          "output_type": "execute_result",
          "data": {
            "text/plain": [
              "Index(['bin', 'issue_date', 'violation_type_code', 'house_number',\n",
              "       'device_number', 'number', 'violation_category', 'violation_type'],\n",
              "      dtype='object')"
            ]
          },
          "metadata": {},
          "execution_count": 19
        }
      ]
    },
    {
      "cell_type": "markdown",
      "metadata": {
        "id": "cWtViCcmF1it"
      },
      "source": [
        "### Dealing with null values\n",
        "There are different ways to deal with null values in a dataset.   \n",
        "Here we are going to show you two different cases.\n",
        "\n",
        "1. Filling null values with the mean or median value of the column (for numerical features).\n",
        "\n",
        "2. Removing the rows (data samples) with null features.\n"
      ]
    },
    {
      "cell_type": "code",
      "metadata": {
        "id": "bb4vK0fVF1it"
      },
      "source": [
        "# replacing null values in the house_number column with the mean value\n",
        "# note that you can also replace the null values with any other scalar as well\n",
        "df[\"house_number\"].fillna(df[\"house_number\"].mean(), inplace=True)"
      ],
      "execution_count": 20,
      "outputs": []
    },
    {
      "cell_type": "code",
      "metadata": {
        "id": "A_vHXkNrF1iv"
      },
      "source": [
        "# Removing the rows (data samples) with null features\n",
        "df.dropna(axis=0, inplace=True)"
      ],
      "execution_count": 21,
      "outputs": []
    },
    {
      "cell_type": "code",
      "metadata": {
        "colab": {
          "base_uri": "https://localhost:8080/"
        },
        "id": "bgx3wA-qF1ix",
        "outputId": "12c43dd9-a699-4577-f07f-043870722499"
      },
      "source": [
        "# now we have less rows in our dataframe\n",
        "df.shape"
      ],
      "execution_count": 22,
      "outputs": [
        {
          "output_type": "execute_result",
          "data": {
            "text/plain": [
              "(5225, 8)"
            ]
          },
          "metadata": {},
          "execution_count": 22
        }
      ]
    },
    {
      "cell_type": "markdown",
      "metadata": {
        "id": "cpxytVcEF1iz"
      },
      "source": [
        "### Categorical features\n",
        "In pandas there is also a specific data type for categorical features. Categorical features are the ones that only take values from a given set. For instance in this dataset `violation_type_code` is a catgorical feature.\n",
        "\n",
        "You can convert a column to categorical using the method `astype('category')`."
      ]
    },
    {
      "cell_type": "code",
      "metadata": {
        "colab": {
          "base_uri": "https://localhost:8080/"
        },
        "id": "iHS7kq32F1i_",
        "outputId": "7f04cc24-30a0-49ef-e092-8846e84e1779"
      },
      "source": [
        "df.dtypes"
      ],
      "execution_count": 23,
      "outputs": [
        {
          "output_type": "execute_result",
          "data": {
            "text/plain": [
              "bin                             int64\n",
              "issue_date             datetime64[ns]\n",
              "violation_type_code            object\n",
              "house_number                  float64\n",
              "device_number                  object\n",
              "number                         object\n",
              "violation_category             object\n",
              "violation_type                 object\n",
              "dtype: object"
            ]
          },
          "metadata": {},
          "execution_count": 23
        }
      ]
    },
    {
      "cell_type": "markdown",
      "metadata": {
        "id": "QjdQNreBMo8R"
      },
      "source": [
        "With the help of the `value_counts()` function you can see how many times each violation code is present in the dataset. This is a categorical nominal variable."
      ]
    },
    {
      "cell_type": "code",
      "metadata": {
        "colab": {
          "base_uri": "https://localhost:8080/"
        },
        "id": "SnSOVINvb2u7",
        "outputId": "2dd9c6cf-943b-4c99-c7e9-747046b2ec4c"
      },
      "source": [
        "df[\"violation_type_code\"].value_counts()"
      ],
      "execution_count": 24,
      "outputs": [
        {
          "output_type": "execute_result",
          "data": {
            "text/plain": [
              "LBLVIO     1946\n",
              "ACC1       1393\n",
              "EVCAT1      676\n",
              "EVCAT5      476\n",
              "FISPNRF     221\n",
              "E           201\n",
              "FISP         97\n",
              "JVIOS        70\n",
              "JVCAT5       68\n",
              "ACH1         37\n",
              "ACJ1         16\n",
              "HVIOS        15\n",
              "HVCAT5        9\n",
              "Name: violation_type_code, dtype: int64"
            ]
          },
          "metadata": {},
          "execution_count": 24
        }
      ]
    },
    {
      "cell_type": "code",
      "metadata": {
        "id": "0mrRLaT1F1iz"
      },
      "source": [
        "df[\"violation_type_code\"] = df[\"violation_type_code\"].astype(\"category\")"
      ],
      "execution_count": 25,
      "outputs": []
    },
    {
      "cell_type": "markdown",
      "metadata": {
        "id": "wwgyL74CF1i1"
      },
      "source": [
        "You can see that now the data type of this column has changed. Also observe that we have 13 categories in the column."
      ]
    },
    {
      "cell_type": "code",
      "metadata": {
        "colab": {
          "base_uri": "https://localhost:8080/"
        },
        "id": "cmTsaDhFF1i2",
        "outputId": "70b9b9f7-3cad-4226-a86f-1ac3421a8313"
      },
      "source": [
        "df[\"violation_type_code\"]"
      ],
      "execution_count": 26,
      "outputs": [
        {
          "output_type": "execute_result",
          "data": {
            "text/plain": [
              "0       JVCAT5\n",
              "3         ACC1\n",
              "4            E\n",
              "7       LBLVIO\n",
              "8       EVCAT5\n",
              "         ...  \n",
              "9994    LBLVIO\n",
              "9996    LBLVIO\n",
              "9997    LBLVIO\n",
              "9998    EVCAT1\n",
              "9999    LBLVIO\n",
              "Name: violation_type_code, Length: 5225, dtype: category\n",
              "Categories (13, object): ['ACC1', 'ACH1', 'ACJ1', 'E', ..., 'HVIOS', 'JVCAT5', 'JVIOS', 'LBLVIO']"
            ]
          },
          "metadata": {},
          "execution_count": 26
        }
      ]
    },
    {
      "cell_type": "code",
      "metadata": {
        "id": "a0IJZV265oe_",
        "colab": {
          "base_uri": "https://localhost:8080/"
        },
        "outputId": "e5a6a28b-5877-4e3e-f70e-5203d25b73b4"
      },
      "source": [
        "df.violation_type_code.cat.categories"
      ],
      "execution_count": 27,
      "outputs": [
        {
          "output_type": "execute_result",
          "data": {
            "text/plain": [
              "Index(['ACC1', 'ACH1', 'ACJ1', 'E', 'EVCAT1', 'EVCAT5', 'FISP', 'FISPNRF',\n",
              "       'HVCAT5', 'HVIOS', 'JVCAT5', 'JVIOS', 'LBLVIO'],\n",
              "      dtype='object')"
            ]
          },
          "metadata": {},
          "execution_count": 27
        }
      ]
    },
    {
      "cell_type": "markdown",
      "metadata": {
        "id": "lQhH5-jvF1i4"
      },
      "source": [
        "### Change a column name\n",
        "\n",
        "You can change columns names easily in pandas. To do so, use the `rename` method and pass the names to change as a dictionary."
      ]
    },
    {
      "cell_type": "code",
      "metadata": {
        "id": "3pA1sXVoF1i4"
      },
      "source": [
        "df.rename(columns = {\"issue_date\": \"date\"}, inplace=True)"
      ],
      "execution_count": 28,
      "outputs": []
    },
    {
      "cell_type": "code",
      "metadata": {
        "id": "XsHVkSl25gFy",
        "colab": {
          "base_uri": "https://localhost:8080/",
          "height": 298
        },
        "outputId": "06a64f10-d83f-4568-9dc8-3ce7581a9ac2"
      },
      "source": [
        "df.head(2)"
      ],
      "execution_count": 29,
      "outputs": [
        {
          "output_type": "execute_result",
          "data": {
            "text/plain": [
              "       bin       date violation_type_code  house_number device_number  \\\n",
              "0  3059563 2019-05-20              JVCAT5         441.0       3P10799   \n",
              "3  1001389 2019-09-06                ACC1         375.0        1F5381   \n",
              "\n",
              "               number        violation_category  \\\n",
              "0  V052019JVCAT500339  V-DOB VIOLATION - ACTIVE   \n",
              "3    V090619ACC100284  V-DOB VIOLATION - ACTIVE   \n",
              "\n",
              "                                      violation_type  \n",
              "0  JVCAT5-RESIDENTIAL ELEVATOR PERIODIC INSPECTIO...  \n",
              "3  ACC1-(OTHER BLDGS TYPES) - ELEVATOR AFFIRMATIO...  "
            ],
            "text/html": [
              "\n",
              "  <div id=\"df-5f79ee65-9edc-4a90-99cd-fcfeb1bc7390\">\n",
              "    <div class=\"colab-df-container\">\n",
              "      <div>\n",
              "<style scoped>\n",
              "    .dataframe tbody tr th:only-of-type {\n",
              "        vertical-align: middle;\n",
              "    }\n",
              "\n",
              "    .dataframe tbody tr th {\n",
              "        vertical-align: top;\n",
              "    }\n",
              "\n",
              "    .dataframe thead th {\n",
              "        text-align: right;\n",
              "    }\n",
              "</style>\n",
              "<table border=\"1\" class=\"dataframe\">\n",
              "  <thead>\n",
              "    <tr style=\"text-align: right;\">\n",
              "      <th></th>\n",
              "      <th>bin</th>\n",
              "      <th>date</th>\n",
              "      <th>violation_type_code</th>\n",
              "      <th>house_number</th>\n",
              "      <th>device_number</th>\n",
              "      <th>number</th>\n",
              "      <th>violation_category</th>\n",
              "      <th>violation_type</th>\n",
              "    </tr>\n",
              "  </thead>\n",
              "  <tbody>\n",
              "    <tr>\n",
              "      <th>0</th>\n",
              "      <td>3059563</td>\n",
              "      <td>2019-05-20</td>\n",
              "      <td>JVCAT5</td>\n",
              "      <td>441.0</td>\n",
              "      <td>3P10799</td>\n",
              "      <td>V052019JVCAT500339</td>\n",
              "      <td>V-DOB VIOLATION - ACTIVE</td>\n",
              "      <td>JVCAT5-RESIDENTIAL ELEVATOR PERIODIC INSPECTIO...</td>\n",
              "    </tr>\n",
              "    <tr>\n",
              "      <th>3</th>\n",
              "      <td>1001389</td>\n",
              "      <td>2019-09-06</td>\n",
              "      <td>ACC1</td>\n",
              "      <td>375.0</td>\n",
              "      <td>1F5381</td>\n",
              "      <td>V090619ACC100284</td>\n",
              "      <td>V-DOB VIOLATION - ACTIVE</td>\n",
              "      <td>ACC1-(OTHER BLDGS TYPES) - ELEVATOR AFFIRMATIO...</td>\n",
              "    </tr>\n",
              "  </tbody>\n",
              "</table>\n",
              "</div>\n",
              "      <button class=\"colab-df-convert\" onclick=\"convertToInteractive('df-5f79ee65-9edc-4a90-99cd-fcfeb1bc7390')\"\n",
              "              title=\"Convert this dataframe to an interactive table.\"\n",
              "              style=\"display:none;\">\n",
              "        \n",
              "  <svg xmlns=\"http://www.w3.org/2000/svg\" height=\"24px\"viewBox=\"0 0 24 24\"\n",
              "       width=\"24px\">\n",
              "    <path d=\"M0 0h24v24H0V0z\" fill=\"none\"/>\n",
              "    <path d=\"M18.56 5.44l.94 2.06.94-2.06 2.06-.94-2.06-.94-.94-2.06-.94 2.06-2.06.94zm-11 1L8.5 8.5l.94-2.06 2.06-.94-2.06-.94L8.5 2.5l-.94 2.06-2.06.94zm10 10l.94 2.06.94-2.06 2.06-.94-2.06-.94-.94-2.06-.94 2.06-2.06.94z\"/><path d=\"M17.41 7.96l-1.37-1.37c-.4-.4-.92-.59-1.43-.59-.52 0-1.04.2-1.43.59L10.3 9.45l-7.72 7.72c-.78.78-.78 2.05 0 2.83L4 21.41c.39.39.9.59 1.41.59.51 0 1.02-.2 1.41-.59l7.78-7.78 2.81-2.81c.8-.78.8-2.07 0-2.86zM5.41 20L4 18.59l7.72-7.72 1.47 1.35L5.41 20z\"/>\n",
              "  </svg>\n",
              "      </button>\n",
              "      \n",
              "  <style>\n",
              "    .colab-df-container {\n",
              "      display:flex;\n",
              "      flex-wrap:wrap;\n",
              "      gap: 12px;\n",
              "    }\n",
              "\n",
              "    .colab-df-convert {\n",
              "      background-color: #E8F0FE;\n",
              "      border: none;\n",
              "      border-radius: 50%;\n",
              "      cursor: pointer;\n",
              "      display: none;\n",
              "      fill: #1967D2;\n",
              "      height: 32px;\n",
              "      padding: 0 0 0 0;\n",
              "      width: 32px;\n",
              "    }\n",
              "\n",
              "    .colab-df-convert:hover {\n",
              "      background-color: #E2EBFA;\n",
              "      box-shadow: 0px 1px 2px rgba(60, 64, 67, 0.3), 0px 1px 3px 1px rgba(60, 64, 67, 0.15);\n",
              "      fill: #174EA6;\n",
              "    }\n",
              "\n",
              "    [theme=dark] .colab-df-convert {\n",
              "      background-color: #3B4455;\n",
              "      fill: #D2E3FC;\n",
              "    }\n",
              "\n",
              "    [theme=dark] .colab-df-convert:hover {\n",
              "      background-color: #434B5C;\n",
              "      box-shadow: 0px 1px 3px 1px rgba(0, 0, 0, 0.15);\n",
              "      filter: drop-shadow(0px 1px 2px rgba(0, 0, 0, 0.3));\n",
              "      fill: #FFFFFF;\n",
              "    }\n",
              "  </style>\n",
              "\n",
              "      <script>\n",
              "        const buttonEl =\n",
              "          document.querySelector('#df-5f79ee65-9edc-4a90-99cd-fcfeb1bc7390 button.colab-df-convert');\n",
              "        buttonEl.style.display =\n",
              "          google.colab.kernel.accessAllowed ? 'block' : 'none';\n",
              "\n",
              "        async function convertToInteractive(key) {\n",
              "          const element = document.querySelector('#df-5f79ee65-9edc-4a90-99cd-fcfeb1bc7390');\n",
              "          const dataTable =\n",
              "            await google.colab.kernel.invokeFunction('convertToInteractive',\n",
              "                                                     [key], {});\n",
              "          if (!dataTable) return;\n",
              "\n",
              "          const docLinkHtml = 'Like what you see? Visit the ' +\n",
              "            '<a target=\"_blank\" href=https://colab.research.google.com/notebooks/data_table.ipynb>data table notebook</a>'\n",
              "            + ' to learn more about interactive tables.';\n",
              "          element.innerHTML = '';\n",
              "          dataTable['output_type'] = 'display_data';\n",
              "          await google.colab.output.renderOutput(dataTable, element);\n",
              "          const docLink = document.createElement('div');\n",
              "          docLink.innerHTML = docLinkHtml;\n",
              "          element.appendChild(docLink);\n",
              "        }\n",
              "      </script>\n",
              "    </div>\n",
              "  </div>\n",
              "  "
            ]
          },
          "metadata": {},
          "execution_count": 29
        }
      ]
    }
  ]
}