{
  "nbformat": 4,
  "nbformat_minor": 0,
  "metadata": {
    "colab": {
      "name": "Classification_Logistics Regression.ipynb",
      "provenance": [],
      "include_colab_link": true
    },
    "kernelspec": {
      "name": "python3",
      "display_name": "Python 3"
    },
    "language_info": {
      "name": "python"
    }
  },
  "cells": [
    {
      "cell_type": "markdown",
      "metadata": {
        "id": "view-in-github",
        "colab_type": "text"
      },
      "source": [
        "<a href=\"https://colab.research.google.com/github/michalis0/DataMining_and_MachineLearning/blob/master/week6/Classification_Logistic_Regression.ipynb\" target=\"_parent\"><img src=\"https://colab.research.google.com/assets/colab-badge.svg\" alt=\"Open In Colab\"/></a>"
      ]
    },
    {
      "cell_type": "markdown",
      "metadata": {
        "id": "zNh7izQ9Obcc"
      },
      "source": [
        "# Data Mining and Machine Learning - Week 6\n",
        "# Classification (I)\n",
        "\n",
        "Classification is part of **supervised learning**. The objective is to predict a category (or a label), by training a model on a set of annotated (labelled) samples. The variable to predict is categorical (not numerical as in regression), and its categories are predefined.\n",
        "\n",
        "For example you can predict whether an email is spam or not spam. Or looking at email advertisements, predict whether a client will click or not on the advert.  \n",
        "\n",
        "This notebook looks at **binary classifiers** (when the target variable only has 2 classes, like yes or no) and **multi-class classifiers** (when the target variable has more than 2 classes, like low, medium and high income)\n",
        "\n",
        "Let's look at a concrete first classification task and solve it step by step using Scikit-learn."
      ]
    },
    {
      "cell_type": "code",
      "metadata": {
        "id": "hwFo_At1OM-V"
      },
      "source": [
        "# import required packages\n",
        "import numpy as np\n",
        "import pandas as pd\n",
        "import seaborn as sns\n",
        "import matplotlib.pyplot as plt\n",
        "from sklearn.preprocessing import LabelEncoder, OrdinalEncoder, OneHotEncoder, StandardScaler\n",
        "from sklearn.model_selection import train_test_split\n",
        "from sklearn.metrics import confusion_matrix, accuracy_score, precision_score, recall_score, f1_score\n",
        "\n",
        "from sklearn.linear_model import LogisticRegression, LogisticRegressionCV\n",
        "\n",
        "%matplotlib inline\n",
        "sns.set_style('dark')"
      ],
      "execution_count": 1,
      "outputs": []
    },
    {
      "cell_type": "markdown",
      "metadata": {
        "id": "YtB0lxemR3xg"
      },
      "source": [
        "##1. Logistic Regression for Binary Classifiers: first simple easy example\n",
        "\n",
        "To start with, we create our own dataset so that it includes two numerical variables (x1 and x2) and one binary target variable, which only takes two values: 0 and 1.\n",
        "\n",
        "The goal is to fit a model using the features x1 and x2 to learn when the target variable is 0 and when it is 1."
      ]
    },
    {
      "cell_type": "code",
      "metadata": {
        "colab": {
          "base_uri": "https://localhost:8080/",
          "height": 363
        },
        "id": "TQ6zMamPR3KS",
        "outputId": "5f7c4b74-5de0-425d-e6e3-32c81933dbe6"
      },
      "source": [
        "sample = [[0.1, 0.2, 0],\n",
        "          [0.3, 0.05, 0],\n",
        "          [0.3, 0.2, 0],\n",
        "          [0.7, 0.65, 1],\n",
        "          [0.25, 0.3, 0],\n",
        "          [0.85, 0.55, 1],\n",
        "          [0.1, 0.45, 0],\n",
        "          [0.9, 0.85, 1],\n",
        "          [0.95, 0.55, 1],\n",
        "          [0.8, 0.8, 1]\n",
        "          ]\n",
        "df = pd.DataFrame(sample, columns=['x1', 'x2', 'target'])\n",
        "df"
      ],
      "execution_count": 2,
      "outputs": [
        {
          "output_type": "execute_result",
          "data": {
            "text/html": [
              "<div>\n",
              "<style scoped>\n",
              "    .dataframe tbody tr th:only-of-type {\n",
              "        vertical-align: middle;\n",
              "    }\n",
              "\n",
              "    .dataframe tbody tr th {\n",
              "        vertical-align: top;\n",
              "    }\n",
              "\n",
              "    .dataframe thead th {\n",
              "        text-align: right;\n",
              "    }\n",
              "</style>\n",
              "<table border=\"1\" class=\"dataframe\">\n",
              "  <thead>\n",
              "    <tr style=\"text-align: right;\">\n",
              "      <th></th>\n",
              "      <th>x1</th>\n",
              "      <th>x2</th>\n",
              "      <th>target</th>\n",
              "    </tr>\n",
              "  </thead>\n",
              "  <tbody>\n",
              "    <tr>\n",
              "      <th>0</th>\n",
              "      <td>0.10</td>\n",
              "      <td>0.20</td>\n",
              "      <td>0</td>\n",
              "    </tr>\n",
              "    <tr>\n",
              "      <th>1</th>\n",
              "      <td>0.30</td>\n",
              "      <td>0.05</td>\n",
              "      <td>0</td>\n",
              "    </tr>\n",
              "    <tr>\n",
              "      <th>2</th>\n",
              "      <td>0.30</td>\n",
              "      <td>0.20</td>\n",
              "      <td>0</td>\n",
              "    </tr>\n",
              "    <tr>\n",
              "      <th>3</th>\n",
              "      <td>0.70</td>\n",
              "      <td>0.65</td>\n",
              "      <td>1</td>\n",
              "    </tr>\n",
              "    <tr>\n",
              "      <th>4</th>\n",
              "      <td>0.25</td>\n",
              "      <td>0.30</td>\n",
              "      <td>0</td>\n",
              "    </tr>\n",
              "    <tr>\n",
              "      <th>5</th>\n",
              "      <td>0.85</td>\n",
              "      <td>0.55</td>\n",
              "      <td>1</td>\n",
              "    </tr>\n",
              "    <tr>\n",
              "      <th>6</th>\n",
              "      <td>0.10</td>\n",
              "      <td>0.45</td>\n",
              "      <td>0</td>\n",
              "    </tr>\n",
              "    <tr>\n",
              "      <th>7</th>\n",
              "      <td>0.90</td>\n",
              "      <td>0.85</td>\n",
              "      <td>1</td>\n",
              "    </tr>\n",
              "    <tr>\n",
              "      <th>8</th>\n",
              "      <td>0.95</td>\n",
              "      <td>0.55</td>\n",
              "      <td>1</td>\n",
              "    </tr>\n",
              "    <tr>\n",
              "      <th>9</th>\n",
              "      <td>0.80</td>\n",
              "      <td>0.80</td>\n",
              "      <td>1</td>\n",
              "    </tr>\n",
              "  </tbody>\n",
              "</table>\n",
              "</div>"
            ],
            "text/plain": [
              "     x1    x2  target\n",
              "0  0.10  0.20       0\n",
              "1  0.30  0.05       0\n",
              "2  0.30  0.20       0\n",
              "3  0.70  0.65       1\n",
              "4  0.25  0.30       0\n",
              "5  0.85  0.55       1\n",
              "6  0.10  0.45       0\n",
              "7  0.90  0.85       1\n",
              "8  0.95  0.55       1\n",
              "9  0.80  0.80       1"
            ]
          },
          "metadata": {},
          "execution_count": 2
        }
      ]
    },
    {
      "cell_type": "markdown",
      "metadata": {
        "id": "0p2fAh8tWPlI"
      },
      "source": [
        "###Plot `x1` and `x2` according to `target`\n",
        "\n",
        "The idea is to get a graphical representation of the problem at hand using x1 and x2 as the two dimension of a scatter plot and varying the color of the resulting scatter points by the target vairable (which shows either 0 or 1)."
      ]
    },
    {
      "cell_type": "code",
      "metadata": {
        "colab": {
          "base_uri": "https://localhost:8080/",
          "height": 258
        },
        "id": "3PJAmrCrWiKp",
        "outputId": "efa42662-3a55-4a91-fc70-ada29d216dbb"
      },
      "source": [
        "df.plot.scatter(x='x1', y='x2', c='target', colormap='winter'); # set the (c) color of the map to vary by the \"target\" feature of the df"
      ],
      "execution_count": 3,
      "outputs": [
        {
          "output_type": "display_data",
          "data": {
            "image/png": "[encoded data removed]",
            "text/plain": [
              "<Figure size 432x288 with 2 Axes>"
            ]
          },
          "metadata": {
            "needs_background": "light"
          }
        }
      ]
    },
    {
      "cell_type": "markdown",
      "metadata": {
        "id": "cpVjvbMhYJWZ"
      },
      "source": [
        "We can see there is a clear linear separation between the red scatter points (target=1) and the blue points (target=0). You can easily draw a line that separates the two categories.\n",
        "\n",
        "This situation is a good candidate for training a logistic regression.\n",
        "\n",
        "### Logistic Regression and Decision Boundary\n",
        "\n",
        "We'll do just that below."
      ]
    },
    {
      "cell_type": "code",
      "metadata": {
        "colab": {
          "base_uri": "https://localhost:8080/"
        },
        "id": "XFEzc5VXaYOn",
        "outputId": "e5f6dc5f-ce7c-41b9-d196-7d5c095e778b"
      },
      "source": [
        "# Fit model\n",
        "\n",
        "X = df[['x1', 'x2']] # this is our input matrix, it includes our two numerical features\n",
        "\n",
        "y = df.target # this is our binary target vector, it contains our categorical variable, the lables we'd like to learn\n",
        "\n",
        "#instantiate the estimator\n",
        "LR = LogisticRegression()\n",
        "\n",
        "# fit the estimator to our labelled data (input matrix and target vector)\n",
        "LR.fit(X, y)"
      ],
      "execution_count": 4,
      "outputs": [
        {
          "output_type": "execute_result",
          "data": {
            "text/plain": [
              "LogisticRegression(C=1.0, class_weight=None, dual=False, fit_intercept=True,\n",
              "                   intercept_scaling=1, l1_ratio=None, max_iter=100,\n",
              "                   multi_class='auto', n_jobs=None, penalty='l2',\n",
              "                   random_state=None, solver='lbfgs', tol=0.0001, verbose=0,\n",
              "                   warm_start=False)"
            ]
          },
          "metadata": {},
          "execution_count": 4
        }
      ]
    },
    {
      "cell_type": "markdown",
      "metadata": {
        "id": "1lLRGcM-dWCO"
      },
      "source": [
        "Some results of our simple Logistic Regression model. We will apply the train-test-split in the second example. Here we only have 10 data points."
      ]
    },
    {
      "cell_type": "code",
      "metadata": {
        "colab": {
          "base_uri": "https://localhost:8080/"
        },
        "id": "2E3vzDWmdPfw",
        "outputId": "b03ec535-c6aa-4ee4-a4d8-eafdbf8ba231"
      },
      "source": [
        "LR.coef_ # these are the fitted coefficients for x1 and x2"
      ],
      "execution_count": 5,
      "outputs": [
        {
          "output_type": "execute_result",
          "data": {
            "text/plain": [
              "array([[1.15013435, 0.79371503]])"
            ]
          },
          "metadata": {},
          "execution_count": 5
        }
      ]
    },
    {
      "cell_type": "code",
      "metadata": {
        "colab": {
          "base_uri": "https://localhost:8080/"
        },
        "id": "QkmP-6qWdiE0",
        "outputId": "afb2e288-c4d6-42c5-9c1d-61d2c341847a"
      },
      "source": [
        "LR.intercept_ # this is fitted the intercept"
      ],
      "execution_count": 6,
      "outputs": [
        {
          "output_type": "execute_result",
          "data": {
            "text/plain": [
              "array([-0.96836108])"
            ]
          },
          "metadata": {},
          "execution_count": 6
        }
      ]
    },
    {
      "cell_type": "code",
      "metadata": {
        "colab": {
          "base_uri": "https://localhost:8080/"
        },
        "id": "LR_fAPqwd2VZ",
        "outputId": "611853e2-7d3b-4056-f101-e74a9cb63310"
      },
      "source": [
        "LR.predict(X) # these are the model predictions for y given the set of X's"
      ],
      "execution_count": 7,
      "outputs": [
        {
          "output_type": "execute_result",
          "data": {
            "text/plain": [
              "array([0, 0, 0, 1, 0, 1, 0, 1, 1, 1])"
            ]
          },
          "metadata": {},
          "execution_count": 7
        }
      ]
    },
    {
      "cell_type": "code",
      "metadata": {
        "colab": {
          "base_uri": "https://localhost:8080/"
        },
        "id": "HQTQRIO4eQOH",
        "outputId": "418fca43-7735-4be3-c000-053d76c21290"
      },
      "source": [
        "LR.predict_proba(X) # for each point in the dataset, these are the predicted probabilities for each class (0 and 1)"
      ],
      "execution_count": 8,
      "outputs": [
        {
          "output_type": "execute_result",
          "data": {
            "text/plain": [
              "array([[0.66699047, 0.33300953],\n",
              "       [0.6419034 , 0.3580966 ],\n",
              "       [0.61409959, 0.38590041],\n",
              "       [0.4127405 , 0.5872595 ],\n",
              "       [0.60890529, 0.39109471],\n",
              "       [0.39036068, 0.60963932],\n",
              "       [0.62156023, 0.37843977],\n",
              "       [0.32269423, 0.67730577],\n",
              "       [0.3633601 , 0.6366399 ],\n",
              "       [0.35738815, 0.64261185]])"
            ]
          },
          "metadata": {},
          "execution_count": 8
        }
      ]
    },
    {
      "cell_type": "code",
      "metadata": {
        "colab": {
          "base_uri": "https://localhost:8080/"
        },
        "id": "X1YopsVWe15r",
        "outputId": "96c75592-510b-4810-e00b-b213ff157b03"
      },
      "source": [
        "LR.classes_ # these are classes that the model learned to predict for the target vector y"
      ],
      "execution_count": 9,
      "outputs": [
        {
          "output_type": "execute_result",
          "data": {
            "text/plain": [
              "array([0, 1])"
            ]
          },
          "metadata": {},
          "execution_count": 9
        }
      ]
    },
    {
      "cell_type": "markdown",
      "metadata": {
        "id": "SHsYG9DsRAzw"
      },
      "source": [
        "How good is this model? One way we could assess goodness of fit is by looking at accuracy.\n",
        "\n",
        "***Accuracy** is the proportion of data points (from the test set that the model classifies as correct). We'll come back to see the train-test split later. But for the moment, let's check the accuracy of our model with the code below. Our model seems 100% accurate. That can be because we have not tested it on any unseen labelled data (the test set)."
      ]
    },
    {
      "cell_type": "code",
      "metadata": {
        "colab": {
          "base_uri": "https://localhost:8080/"
        },
        "id": "5Q1Pd_OpRJHe",
        "outputId": "9edc8cf6-446f-42ab-e7e4-f5aed298917f"
      },
      "source": [
        "LR.score(X, y)"
      ],
      "execution_count": 10,
      "outputs": [
        {
          "output_type": "execute_result",
          "data": {
            "text/plain": [
              "1.0"
            ]
          },
          "metadata": {},
          "execution_count": 10
        }
      ]
    },
    {
      "cell_type": "markdown",
      "metadata": {
        "id": "x8l_p-m0flcv"
      },
      "source": [
        "Can we have a nice graphical representation of our simple, easy model?"
      ]
    },
    {
      "cell_type": "code",
      "metadata": {
        "colab": {
          "base_uri": "https://localhost:8080/",
          "height": 447
        },
        "id": "Ncd6texDgwv6",
        "outputId": "31d0a975-2002-4fbc-b503-12979d1269ee"
      },
      "source": [
        "# here is the decision boundary plot\n",
        "\n",
        "# create a grid of values bounded by the actual min and max values of x1 and x2\n",
        "x_min, x_max = X.x1.min()-.1, X.x1.max() + .1\n",
        "y_min, y_max = X.x2.min()-.1, X.x2.max() +.1\n",
        "xx, yy = np.meshgrid(np.linspace(x_min, x_max, 100), np.linspace(y_min, y_max, 100))\n",
        "\n",
        "# get the predicted target values for the generated grid of values\n",
        "Z = LR.predict(np.c_[xx.ravel(), yy.ravel()])\n",
        "Z = Z.reshape(xx.shape)\n",
        "\n",
        "# put the result into a pseudocolor plot\n",
        "plt.figure(1, figsize=(10, 7))\n",
        "plt.pcolormesh(xx, yy, Z, cmap='winter') # x and y specify the corners, Z specifies the color\n",
        "\n",
        "# plot the training points\n",
        "plt.scatter(X.x1, X.x2, edgecolors='k', c='white')\n",
        "\n",
        "# plot two new unseen points p1 and p2\n",
        "plt.scatter(0.4, 0.4, c='black') # p1\n",
        "plt.scatter(0.6, 0.5, c='black') #p2\n",
        "plt.text(0.36, 0.36, 'p1') # the label of p1\n",
        "plt.text(0.61, 0.5, 'p2') # the label of p2\n",
        "plt.xlabel('x1', fontsize=15)\n",
        "plt.ylabel('x2', fontsize=15);"
      ],
      "execution_count": 11,
      "outputs": [
        {
          "output_type": "display_data",
          "data": {
            "image/png": "[encoded data removed]",
            "text/plain": [
              "<Figure size 720x504 with 1 Axes>"
            ]
          },
          "metadata": {
            "needs_background": "light"
          }
        }
      ]
    },
    {
      "cell_type": "markdown",
      "metadata": {
        "id": "KF6oZ-F5vnaS"
      },
      "source": [
        "This pseudo color plot shows the decision boundary for our Logistic Regression classifier. We have seen previously this seems to be a linearly separable problem given the position of the train scatter points on the plot. Now we can see where the model drew the line.\n",
        "\n",
        "We have also plotted two new \"unseen\" points: p1 and p2. Given our simple easy model, what target class can we predict for p1 and p2?\n",
        "\n",
        "### Predictions for two new unseen points"
      ]
    },
    {
      "cell_type": "code",
      "metadata": {
        "colab": {
          "base_uri": "https://localhost:8080/",
          "height": 0
        },
        "id": "hpGaKPGlw-df",
        "outputId": "f1c23271-62ea-44aa-aec4-9c3d4443800e"
      },
      "source": [
        "# Make a dataframe with our two new points p1 and p2 for which we know the x1 and x2 values\n",
        "\n",
        "p = pd.DataFrame([[0.4, 0.4], [0.6, 0.5]], columns=['x1', 'x2'], index=['p1', 'p2'])\n",
        "p"
      ],
      "execution_count": 12,
      "outputs": [
        {
          "output_type": "execute_result",
          "data": {
            "text/html": [
              "<div>\n",
              "<style scoped>\n",
              "    .dataframe tbody tr th:only-of-type {\n",
              "        vertical-align: middle;\n",
              "    }\n",
              "\n",
              "    .dataframe tbody tr th {\n",
              "        vertical-align: top;\n",
              "    }\n",
              "\n",
              "    .dataframe thead th {\n",
              "        text-align: right;\n",
              "    }\n",
              "</style>\n",
              "<table border=\"1\" class=\"dataframe\">\n",
              "  <thead>\n",
              "    <tr style=\"text-align: right;\">\n",
              "      <th></th>\n",
              "      <th>x1</th>\n",
              "      <th>x2</th>\n",
              "    </tr>\n",
              "  </thead>\n",
              "  <tbody>\n",
              "    <tr>\n",
              "      <th>p1</th>\n",
              "      <td>0.4</td>\n",
              "      <td>0.4</td>\n",
              "    </tr>\n",
              "    <tr>\n",
              "      <th>p2</th>\n",
              "      <td>0.6</td>\n",
              "      <td>0.5</td>\n",
              "    </tr>\n",
              "  </tbody>\n",
              "</table>\n",
              "</div>"
            ],
            "text/plain": [
              "     x1   x2\n",
              "p1  0.4  0.4\n",
              "p2  0.6  0.5"
            ]
          },
          "metadata": {},
          "execution_count": 12
        }
      ]
    },
    {
      "cell_type": "code",
      "metadata": {
        "colab": {
          "base_uri": "https://localhost:8080/"
        },
        "id": "rkpWQ2lixu5q",
        "outputId": "acc2068b-7ee7-413a-f03e-fd9739d634be"
      },
      "source": [
        "# use our model LR to predict\n",
        "LR.predict(p)"
      ],
      "execution_count": 13,
      "outputs": [
        {
          "output_type": "execute_result",
          "data": {
            "text/plain": [
              "array([0, 1])"
            ]
          },
          "metadata": {},
          "execution_count": 13
        }
      ]
    },
    {
      "cell_type": "markdown",
      "metadata": {
        "id": "Z6SZeZXDx6j2"
      },
      "source": [
        "Our guess is confirmed, the model predicts p1 to be of label 0 (blue in the decision boundary plot) and p1 to be of label 1 (green).\n",
        "\n",
        "But with what probability are they of the predicted labels? Remember, they are quite close to the decision boundary, thus the predictions have close to 50-50 probability to be accurate)."
      ]
    },
    {
      "cell_type": "code",
      "metadata": {
        "colab": {
          "base_uri": "https://localhost:8080/"
        },
        "id": "qFaLroMgySEn",
        "outputId": "395bb489-3540-4602-c553-5e6cbf28f695"
      },
      "source": [
        "LR.predict_proba(p)"
      ],
      "execution_count": 14,
      "outputs": [
        {
          "output_type": "execute_result",
          "data": {
            "text/plain": [
              "array([[0.5475611 , 0.4524389 ],\n",
              "       [0.47039042, 0.52960958]])"
            ]
          },
          "metadata": {},
          "execution_count": 14
        }
      ]
    },
    {
      "cell_type": "markdown",
      "metadata": {
        "id": "DW3AwJCgy1c6"
      },
      "source": [
        "### A few theoretical elements\n",
        "\n",
        "Logistics Regression gets its name from the function used at its core, the logistic function. Also called the Sigmoid Function, it is used to describe probabilities. The function has an S-shaped curve shown below. It takes any float x and maps it to a probability value between 0 and 1. The function applies this non-linear transformation to x to map it to a probability value.\n",
        "\n",
        "This is the Sigmoid Function:\n",
        "\n",
        "$$\\frac{1}{1+e^{-x}}$$\n",
        "\n"
      ]
    },
    {
      "cell_type": "code",
      "metadata": {
        "colab": {
          "base_uri": "https://localhost:8080/",
          "height": 0
        },
        "id": "Wbh-EqCa4itE",
        "outputId": "9f5f5814-bcf7-43ba-eb2a-6e2574dd61d6"
      },
      "source": [
        "x = np.linspace(-6, 6, num=100)\n",
        "plt.figure(figsize=(10,6))\n",
        "plt.plot(x, (1/(1+np.exp(-x))), c='purple')\n",
        "plt.title('Sigmoid Function')\n",
        "plt.xlabel('x values')\n",
        "plt.ylabel('probability value');"
      ],
      "execution_count": 15,
      "outputs": [
        {
          "output_type": "display_data",
          "data": {
            "image/png": "[encoded data removed]",
            "text/plain": [
              "<Figure size 720x432 with 1 Axes>"
            ]
          },
          "metadata": {
            "needs_background": "light"
          }
        }
      ]
    },
    {
      "cell_type": "markdown",
      "metadata": {
        "id": "5Woo239n6YQr"
      },
      "source": [
        "Preparing data for Logistics Regression\n",
        "\n",
        "Just a reminder of some of the assumptions underlying a linear regression:\n",
        "\n",
        "* **Binary target variable**: the model is intended for binary (two-class) classification problems. It predicts the probability of an instance belonging to one of these two classes.\n",
        "* **Remove noise**: it assumes no error is present in the target variable. Thus you should consider removing misclassified instances and cleaning your data.\n",
        "* **Linear relationship**: it assumes there is a linear relationship between X and y-probabilities (that the problem is linearly separable). Thus you should consider plotting your data like we have seen above.\n",
        "* **Fail to converge**: It is possible that the estimation fails to converge and given an error. This can happen if there are many highly correlated inputs in your data or if the data are very sparse (many zero values in the input data). In this case you can set a number for the `max_iter` parameter.\n",
        "\n",
        "\n",
        "Perhaps we could do better in the example above if we applied some of the improvements we have learned before for regression:\n",
        "* train-test-split (test our results on a set of unseen data)\n",
        "* standardisation (when x1 and x2 are on different scales)\n",
        "* cross-validation (have several test sets)\n",
        "* regularization (when x1 and x2 are highly correlated; to reduce overfitting)\n"
      ]
    },
    {
      "cell_type": "markdown",
      "metadata": {
        "id": "g_3zFPVK_Tq7"
      },
      "source": [
        "##2. Logistic Regression to Predict Ad Click\n",
        "\n",
        "Let's try this out Logistic Regression in a real-world example from Kaggle on Advertising data. The dataset is available online here: https://www.kaggle.com/dipankarroydipu/advertising-data-analysis-logistic-regression/data.\n",
        "\n",
        "It has 1000`rows and 10 features:\n",
        "* `Daily Time Spent on Site`: consumer time on site in minutes\n",
        "* `Age`: customer age in years\n",
        "* `Area Income`: average income of geographical area in which customer resides\n",
        "* `Daily Internet Usage`: average minutes a day a customer is online\n",
        "* `Ad Topic Line`: headline of the advertisement\n",
        "* `City`: city of the customer\n",
        "* `Male`: takes 1 if customer is male\n",
        "* `Country`: country of the customer\n",
        "* `Timestamp`: time at which customer clicked on ad\n",
        "* `Clicked ad`: 1 if clicked on ad and 0 otherwise.\n",
        "\n",
        "The goal is the predict whether a customer clicks on an advertisement email using the `Clicked ad` column.\n",
        "\n",
        "First, load the dataset."
      ]
    },
    {
      "cell_type": "code",
      "metadata": {
        "colab": {
          "base_uri": "https://localhost:8080/",
          "height": 310
        },
        "id": "SXb5LEk__x8B",
        "outputId": "6fb4818d-63e7-4dd7-f65e-29160bf8f893"
      },
      "source": [
        "data = pd.read_csv('https://raw.githubusercontent.com/michalis0/DataMining_and_MachineLearning/master/week6/data/advertising.csv')\n",
        "data.head()"
      ],
      "execution_count": 16,
      "outputs": [
        {
          "output_type": "execute_result",
          "data": {
            "text/html": [
              "<div>\n",
              "<style scoped>\n",
              "    .dataframe tbody tr th:only-of-type {\n",
              "        vertical-align: middle;\n",
              "    }\n",
              "\n",
              "    .dataframe tbody tr th {\n",
              "        vertical-align: top;\n",
              "    }\n",
              "\n",
              "    .dataframe thead th {\n",
              "        text-align: right;\n",
              "    }\n",
              "</style>\n",
              "<table border=\"1\" class=\"dataframe\">\n",
              "  <thead>\n",
              "    <tr style=\"text-align: right;\">\n",
              "      <th></th>\n",
              "      <th>Daily Time Spent on Site</th>\n",
              "      <th>Age</th>\n",
              "      <th>Area Income</th>\n",
              "      <th>Daily Internet Usage</th>\n",
              "      <th>Ad Topic Line</th>\n",
              "      <th>City</th>\n",
              "      <th>Male</th>\n",
              "      <th>Country</th>\n",
              "      <th>Timestamp</th>\n",
              "      <th>Clicked on Ad</th>\n",
              "    </tr>\n",
              "  </thead>\n",
              "  <tbody>\n",
              "    <tr>\n",
              "      <th>0</th>\n",
              "      <td>68.95</td>\n",
              "      <td>35</td>\n",
              "      <td>61833.90</td>\n",
              "      <td>256.09</td>\n",
              "      <td>Cloned 5thgeneration orchestration</td>\n",
              "      <td>Wrightburgh</td>\n",
              "      <td>0</td>\n",
              "      <td>Tunisia</td>\n",
              "      <td>2016-03-27 00:53:11</td>\n",
              "      <td>0</td>\n",
              "    </tr>\n",
              "    <tr>\n",
              "      <th>1</th>\n",
              "      <td>80.23</td>\n",
              "      <td>31</td>\n",
              "      <td>68441.85</td>\n",
              "      <td>193.77</td>\n",
              "      <td>Monitored national standardization</td>\n",
              "      <td>West Jodi</td>\n",
              "      <td>1</td>\n",
              "      <td>Nauru</td>\n",
              "      <td>2016-04-04 01:39:02</td>\n",
              "      <td>0</td>\n",
              "    </tr>\n",
              "    <tr>\n",
              "      <th>2</th>\n",
              "      <td>69.47</td>\n",
              "      <td>26</td>\n",
              "      <td>59785.94</td>\n",
              "      <td>236.50</td>\n",
              "      <td>Organic bottom-line service-desk</td>\n",
              "      <td>Davidton</td>\n",
              "      <td>0</td>\n",
              "      <td>San Marino</td>\n",
              "      <td>2016-03-13 20:35:42</td>\n",
              "      <td>0</td>\n",
              "    </tr>\n",
              "    <tr>\n",
              "      <th>3</th>\n",
              "      <td>74.15</td>\n",
              "      <td>29</td>\n",
              "      <td>54806.18</td>\n",
              "      <td>245.89</td>\n",
              "      <td>Triple-buffered reciprocal time-frame</td>\n",
              "      <td>West Terrifurt</td>\n",
              "      <td>1</td>\n",
              "      <td>Italy</td>\n",
              "      <td>2016-01-10 02:31:19</td>\n",
              "      <td>0</td>\n",
              "    </tr>\n",
              "    <tr>\n",
              "      <th>4</th>\n",
              "      <td>68.37</td>\n",
              "      <td>35</td>\n",
              "      <td>73889.99</td>\n",
              "      <td>225.58</td>\n",
              "      <td>Robust logistical utilization</td>\n",
              "      <td>South Manuel</td>\n",
              "      <td>0</td>\n",
              "      <td>Iceland</td>\n",
              "      <td>2016-06-03 03:36:18</td>\n",
              "      <td>0</td>\n",
              "    </tr>\n",
              "  </tbody>\n",
              "</table>\n",
              "</div>"
            ],
            "text/plain": [
              "   Daily Time Spent on Site  Age  ...            Timestamp  Clicked on Ad\n",
              "0                     68.95   35  ...  2016-03-27 00:53:11              0\n",
              "1                     80.23   31  ...  2016-04-04 01:39:02              0\n",
              "2                     69.47   26  ...  2016-03-13 20:35:42              0\n",
              "3                     74.15   29  ...  2016-01-10 02:31:19              0\n",
              "4                     68.37   35  ...  2016-06-03 03:36:18              0\n",
              "\n",
              "[5 rows x 10 columns]"
            ]
          },
          "metadata": {},
          "execution_count": 16
        }
      ]
    },
    {
      "cell_type": "markdown",
      "metadata": {
        "id": "EUk2aIawBsuQ"
      },
      "source": [
        "Check how variables are encoded."
      ]
    },
    {
      "cell_type": "code",
      "metadata": {
        "colab": {
          "base_uri": "https://localhost:8080/"
        },
        "id": "bV2e_aSQAF-q",
        "outputId": "2e86e469-fa80-434f-9787-d2df1e2d08d0"
      },
      "source": [
        "data.dtypes"
      ],
      "execution_count": 17,
      "outputs": [
        {
          "output_type": "execute_result",
          "data": {
            "text/plain": [
              "Daily Time Spent on Site    float64\n",
              "Age                           int64\n",
              "Area Income                 float64\n",
              "Daily Internet Usage        float64\n",
              "Ad Topic Line                object\n",
              "City                         object\n",
              "Male                          int64\n",
              "Country                      object\n",
              "Timestamp                    object\n",
              "Clicked on Ad                 int64\n",
              "dtype: object"
            ]
          },
          "metadata": {},
          "execution_count": 17
        }
      ]
    },
    {
      "cell_type": "markdown",
      "metadata": {
        "id": "jOpN1xvhB0zS"
      },
      "source": [
        "Convert timestamp to date time format."
      ]
    },
    {
      "cell_type": "code",
      "metadata": {
        "id": "zlmw-jarB4li"
      },
      "source": [
        "data.Timestamp = pd.to_datetime(data.Timestamp, format='%Y-%m-%d')"
      ],
      "execution_count": 18,
      "outputs": []
    },
    {
      "cell_type": "markdown",
      "metadata": {
        "id": "HB6WJzgWCoyT"
      },
      "source": [
        "Encode `country` and `city` as categorical variables using a LabelEncoder (or else you won't be able to use them as features in your model).\n",
        "\n",
        "The Label Encoder does not assume there is any order within the list of Cities and Countries (they are categorical but not ordinal variables)."
      ]
    },
    {
      "cell_type": "code",
      "metadata": {
        "id": "PaRwIc0fCz67"
      },
      "source": [
        "# instantiate encoder\n",
        "le=LabelEncoder()\n",
        "# fit_transform on entire dataset\n",
        "data['city_label'] = pd.Series(le.fit_transform(data.City))\n"
      ],
      "execution_count": 19,
      "outputs": []
    },
    {
      "cell_type": "code",
      "metadata": {
        "colab": {
          "base_uri": "https://localhost:8080/"
        },
        "id": "4xYeUJeDDu9r",
        "outputId": "c0631a99-9ea6-48dc-e3d9-197a846feeab"
      },
      "source": [
        "data.city_label.head()"
      ],
      "execution_count": 20,
      "outputs": [
        {
          "output_type": "execute_result",
          "data": {
            "text/plain": [
              "0    961\n",
              "1    903\n",
              "2    111\n",
              "3    939\n",
              "4    805\n",
              "Name: city_label, dtype: int64"
            ]
          },
          "metadata": {},
          "execution_count": 20
        }
      ]
    },
    {
      "cell_type": "code",
      "metadata": {
        "id": "5yooNcZHD_DV"
      },
      "source": [
        "# do the same for country\n",
        "data['country_label'] = pd.Series(le.fit_transform(data.Country))"
      ],
      "execution_count": 21,
      "outputs": []
    },
    {
      "cell_type": "code",
      "metadata": {
        "colab": {
          "base_uri": "https://localhost:8080/"
        },
        "id": "nJBgZti7ER8K",
        "outputId": "4361e869-5ec9-4ad8-c6d9-efd63072aba4"
      },
      "source": [
        "data.columns"
      ],
      "execution_count": 22,
      "outputs": [
        {
          "output_type": "execute_result",
          "data": {
            "text/plain": [
              "Index(['Daily Time Spent on Site', 'Age', 'Area Income',\n",
              "       'Daily Internet Usage', 'Ad Topic Line', 'City', 'Male', 'Country',\n",
              "       'Timestamp', 'Clicked on Ad', 'city_label', 'country_label'],\n",
              "      dtype='object')"
            ]
          },
          "metadata": {},
          "execution_count": 22
        }
      ]
    },
    {
      "cell_type": "markdown",
      "metadata": {
        "id": "FCrlktJElzp9"
      },
      "source": [
        "There is another encoder we would like to introduce: Ordinal Encoder, in which the order of categories counts and can be set.\n",
        "\n",
        "For this, let's look at the `Age` column and split it just for the purpose of demonstratin into 3 categories: 16 to 25, 26 to 40, 41 to 61."
      ]
    },
    {
      "cell_type": "code",
      "metadata": {
        "id": "l5UD8jLAkgh7"
      },
      "source": [
        "# create a new column age_cat which stores the three groups using list comprehesion\n",
        "\n",
        "data['age_cat'] = ['26-40' if x>25 and x<=40 \n",
        "                   else '16-25' if x<=25\n",
        "                   else '41-61' for x in data.Age]"
      ],
      "execution_count": 23,
      "outputs": []
    },
    {
      "cell_type": "code",
      "metadata": {
        "id": "uTFjdg9XpLpV",
        "outputId": "c5cac555-0370-4b8b-d616-dbace687d3e8",
        "colab": {
          "base_uri": "https://localhost:8080/"
        }
      },
      "source": [
        "data.age_cat.value_counts()"
      ],
      "execution_count": 24,
      "outputs": [
        {
          "output_type": "execute_result",
          "data": {
            "text/plain": [
              "26-40    613\n",
              "41-61    289\n",
              "16-25     98\n",
              "Name: age_cat, dtype: int64"
            ]
          },
          "metadata": {},
          "execution_count": 24
        }
      ]
    },
    {
      "cell_type": "markdown",
      "metadata": {
        "id": "ChzhkIKZv7aL"
      },
      "source": [
        "Let's assume we want to label-encode this column and make sure that the order of the categories respects the order of age. In other words you want the order of the labels is 16-25 =0, 26-40=1, 41-61=2. Then you can use an ordinal encoder in which you can set the order of your categories."
      ]
    },
    {
      "cell_type": "code",
      "metadata": {
        "id": "RAfidi-swyqX",
        "outputId": "65888c05-a15b-4942-86ae-06dd4e1e52f8",
        "colab": {
          "base_uri": "https://localhost:8080/"
        }
      },
      "source": [
        "# instantiate encoder\n",
        "oe=OrdinalEncoder()\n",
        "\n",
        "# set the order of your categories\n",
        "oe.set_params(categories= [['16-25', '26-40', '41-61']])\n",
        "\n",
        "# fit-transform a dataframe of the categorical age variable\n",
        "oe_age= oe.fit_transform(data[['age_cat']])\n",
        "\n",
        "# double check your encoder used the categories in the right order\n",
        "oe.categories_"
      ],
      "execution_count": 25,
      "outputs": [
        {
          "output_type": "execute_result",
          "data": {
            "text/plain": [
              "[array(['16-25', '26-40', '41-61'], dtype=object)]"
            ]
          },
          "metadata": {},
          "execution_count": 25
        }
      ]
    },
    {
      "cell_type": "markdown",
      "metadata": {
        "id": "cvg2obNhxrcP"
      },
      "source": [
        "This seems to be the right order. Let's have a look at the value counts to be sure. remember, your new column is `oe_age`"
      ]
    },
    {
      "cell_type": "code",
      "metadata": {
        "id": "7N2qDf-9x0km",
        "outputId": "978f8325-9f7d-4df1-f750-f6c654015bd0",
        "colab": {
          "base_uri": "https://localhost:8080/"
        }
      },
      "source": [
        "oe_age = pd.DataFrame(oe_age).astype('int')\n",
        "oe_age.value_counts()"
      ],
      "execution_count": 26,
      "outputs": [
        {
          "output_type": "execute_result",
          "data": {
            "text/plain": [
              "1    613\n",
              "2    289\n",
              "0     98\n",
              "dtype: int64"
            ]
          },
          "metadata": {},
          "execution_count": 26
        }
      ]
    },
    {
      "cell_type": "markdown",
      "metadata": {
        "id": "7LqCu6bRyz9E"
      },
      "source": [
        "So now we are sure that the 98 '16-25' observations we had before were encoded with label 0, the 613 '26-40' got lable 1 and so on."
      ]
    },
    {
      "cell_type": "markdown",
      "metadata": {
        "id": "DR80z-8dE0fG"
      },
      "source": [
        "### Quick exploratory data analysis\n",
        "\n",
        "What is the relationship between these variables? You can use a pairplot from the Seaborn package."
      ]
    },
    {
      "cell_type": "code",
      "metadata": {
        "colab": {
          "base_uri": "https://localhost:8080/",
          "height": 569
        },
        "id": "zftKIYw1FHT5",
        "outputId": "03c08b8d-82b5-4bf2-cc2a-429debda867f"
      },
      "source": [
        "sns.pairplot(data=data, x_vars=['Daily Time Spent on Site', 'Daily Internet Usage', 'Age'], \n",
        "             y_vars=['Daily Time Spent on Site', 'Daily Internet Usage', 'Age'], hue='Clicked on Ad')"
      ],
      "execution_count": 27,
      "outputs": [
        {
          "output_type": "execute_result",
          "data": {
            "text/plain": [
              "<seaborn.axisgrid.PairGrid at 0x7f0a970cbb10>"
            ]
          },
          "metadata": {},
          "execution_count": 27
        },
        {
          "output_type": "display_data",
          "data": {
            "image/png": "[encoded data removed]",
            "text/plain": [
              "<Figure size 615.75x540 with 12 Axes>"
            ]
          },
          "metadata": {
            "needs_background": "light"
          }
        }
      ]
    },
    {
      "cell_type": "markdown",
      "metadata": {
        "id": "c-3al_uQJsm6"
      },
      "source": [
        "This problem is not as clear-cut linearly separable as in the previous example, but still it is a good candidate. For comparison we included the similar pairplot for the previous synthetic example. \n",
        "\n",
        "For example for age there is a bigger overlap between the \"have clicked\" and \"have not clicked\" customers in subplots."
      ]
    },
    {
      "cell_type": "code",
      "metadata": {
        "colab": {
          "base_uri": "https://localhost:8080/",
          "height": 393
        },
        "id": "gLd3PfK6JE2k",
        "outputId": "673a4869-c02d-414d-aeef-3dab78548f68"
      },
      "source": [
        "# this was for the previous dataset just for comparison's sake\n",
        "sns.pairplot(df, hue='target')"
      ],
      "execution_count": 28,
      "outputs": [
        {
          "output_type": "execute_result",
          "data": {
            "text/plain": [
              "<seaborn.axisgrid.PairGrid at 0x7f0a8ada2a50>"
            ]
          },
          "metadata": {},
          "execution_count": 28
        },
        {
          "output_type": "display_data",
          "data": {
            "image/png": "[encoded data removed]",
            "text/plain": [
              "<Figure size 402.375x360 with 6 Axes>"
            ]
          },
          "metadata": {
            "needs_background": "light"
          }
        }
      ]
    },
    {
      "cell_type": "markdown",
      "metadata": {
        "id": "guszdMcsK-HK"
      },
      "source": [
        "### Logistic Regression with Train-Test Split \n",
        "\n",
        "Let's try our Logistic Regression on all of the features, using `Clicked on Ad` as our target variable. "
      ]
    },
    {
      "cell_type": "code",
      "metadata": {
        "id": "uAC0AaByLlak"
      },
      "source": [
        "# Select the input and target variables\n",
        "X = data.drop(['Timestamp', 'Clicked on Ad', 'Ad Topic Line', 'City', 'Country', 'age_cat'], axis=1)\n",
        "\n",
        "y= data['Clicked on Ad']"
      ],
      "execution_count": 29,
      "outputs": []
    },
    {
      "cell_type": "code",
      "metadata": {
        "colab": {
          "base_uri": "https://localhost:8080/",
          "height": 112
        },
        "id": "aXWEBBVgMEX9",
        "outputId": "b00060fe-bfdc-4bb0-e623-a48ff868737b"
      },
      "source": [
        "X.head(2)"
      ],
      "execution_count": 30,
      "outputs": [
        {
          "output_type": "execute_result",
          "data": {
            "text/html": [
              "<div>\n",
              "<style scoped>\n",
              "    .dataframe tbody tr th:only-of-type {\n",
              "        vertical-align: middle;\n",
              "    }\n",
              "\n",
              "    .dataframe tbody tr th {\n",
              "        vertical-align: top;\n",
              "    }\n",
              "\n",
              "    .dataframe thead th {\n",
              "        text-align: right;\n",
              "    }\n",
              "</style>\n",
              "<table border=\"1\" class=\"dataframe\">\n",
              "  <thead>\n",
              "    <tr style=\"text-align: right;\">\n",
              "      <th></th>\n",
              "      <th>Daily Time Spent on Site</th>\n",
              "      <th>Age</th>\n",
              "      <th>Area Income</th>\n",
              "      <th>Daily Internet Usage</th>\n",
              "      <th>Male</th>\n",
              "      <th>city_label</th>\n",
              "      <th>country_label</th>\n",
              "    </tr>\n",
              "  </thead>\n",
              "  <tbody>\n",
              "    <tr>\n",
              "      <th>0</th>\n",
              "      <td>68.95</td>\n",
              "      <td>35</td>\n",
              "      <td>61833.90</td>\n",
              "      <td>256.09</td>\n",
              "      <td>0</td>\n",
              "      <td>961</td>\n",
              "      <td>215</td>\n",
              "    </tr>\n",
              "    <tr>\n",
              "      <th>1</th>\n",
              "      <td>80.23</td>\n",
              "      <td>31</td>\n",
              "      <td>68441.85</td>\n",
              "      <td>193.77</td>\n",
              "      <td>1</td>\n",
              "      <td>903</td>\n",
              "      <td>147</td>\n",
              "    </tr>\n",
              "  </tbody>\n",
              "</table>\n",
              "</div>"
            ],
            "text/plain": [
              "   Daily Time Spent on Site  Age  Area Income  ...  Male  city_label  country_label\n",
              "0                     68.95   35     61833.90  ...     0         961            215\n",
              "1                     80.23   31     68441.85  ...     1         903            147\n",
              "\n",
              "[2 rows x 7 columns]"
            ]
          },
          "metadata": {},
          "execution_count": 30
        }
      ]
    },
    {
      "cell_type": "markdown",
      "metadata": {
        "id": "h6eDBIELMNsk"
      },
      "source": [
        "Let's have a look at Y to see how many \"have clicked\" events we have in our dataset."
      ]
    },
    {
      "cell_type": "code",
      "metadata": {
        "colab": {
          "base_uri": "https://localhost:8080/"
        },
        "id": "4VrAs-ddMZlO",
        "outputId": "93637ed7-dea2-45b1-daaf-db859cdd412f"
      },
      "source": [
        "y.value_counts()"
      ],
      "execution_count": 31,
      "outputs": [
        {
          "output_type": "execute_result",
          "data": {
            "text/plain": [
              "1    500\n",
              "0    500\n",
              "Name: Clicked on Ad, dtype: int64"
            ]
          },
          "metadata": {},
          "execution_count": 31
        }
      ]
    },
    {
      "cell_type": "markdown",
      "metadata": {
        "id": "i6P6Wu4NMd97"
      },
      "source": [
        "To get this value expressed as a proportion of all the observations you can use the code below."
      ]
    },
    {
      "cell_type": "code",
      "metadata": {
        "colab": {
          "base_uri": "https://localhost:8080/"
        },
        "id": "EGK-LOxgMdcM",
        "outputId": "04b1c0bb-81c3-413e-c825-3648d0340263"
      },
      "source": [
        "y.value_counts()/len(y)"
      ],
      "execution_count": 32,
      "outputs": [
        {
          "output_type": "execute_result",
          "data": {
            "text/plain": [
              "1    0.5\n",
              "0    0.5\n",
              "Name: Clicked on Ad, dtype: float64"
            ]
          },
          "metadata": {},
          "execution_count": 32
        }
      ]
    },
    {
      "cell_type": "markdown",
      "metadata": {
        "id": "bkrTgmXxMq7d"
      },
      "source": [
        "So it's 50-50! Let's apply our train test split using an 80-20 ratio. This shuffles our data so that the resulting samples have nearly the same proportion of \"have clicked\" occurances."
      ]
    },
    {
      "cell_type": "code",
      "metadata": {
        "id": "zLTa3QYRMzJd"
      },
      "source": [
        "X_train, X_test, y_train, y_test = train_test_split(X, y, test_size=0.2, random_state=10)"
      ],
      "execution_count": 33,
      "outputs": []
    },
    {
      "cell_type": "markdown",
      "metadata": {
        "id": "A9d7N8piNSPf"
      },
      "source": [
        "Let's check, what is the proportion of have clicked in the training set?"
      ]
    },
    {
      "cell_type": "code",
      "metadata": {
        "colab": {
          "base_uri": "https://localhost:8080/"
        },
        "id": "j7Wcl1tANbDL",
        "outputId": "5d026c98-7bb6-4e28-c07d-6282b781a979"
      },
      "source": [
        "y_train.value_counts(normalize=True)"
      ],
      "execution_count": 34,
      "outputs": [
        {
          "output_type": "execute_result",
          "data": {
            "text/plain": [
              "0    0.505\n",
              "1    0.495\n",
              "Name: Clicked on Ad, dtype: float64"
            ]
          },
          "metadata": {},
          "execution_count": 34
        }
      ]
    },
    {
      "cell_type": "markdown",
      "metadata": {
        "id": "EbDbVw_CNovz"
      },
      "source": [
        "So we can see 0 is the most frequent class in the train set. And in the test set?"
      ]
    },
    {
      "cell_type": "code",
      "metadata": {
        "colab": {
          "base_uri": "https://localhost:8080/"
        },
        "id": "IXNuA71WNrUR",
        "outputId": "c8614d49-c702-4e02-8d39-07690a0254ff"
      },
      "source": [
        "y_test.value_counts(normalize=True)"
      ],
      "execution_count": 35,
      "outputs": [
        {
          "output_type": "execute_result",
          "data": {
            "text/plain": [
              "1    0.52\n",
              "0    0.48\n",
              "Name: Clicked on Ad, dtype: float64"
            ]
          },
          "metadata": {},
          "execution_count": 35
        }
      ]
    },
    {
      "cell_type": "markdown",
      "metadata": {
        "id": "dJvk-tolOF0o"
      },
      "source": [
        "1 is the most frequent class in the test set. \n",
        "\n",
        "If we use the most frequent value from the train set (0) and we use it as a guess for the train set, we get 0.48 correct estimates on the test set.\n",
        "\n",
        "This will be our **baseline** for our model. It shows given the most frequent class in the train set, what is the proportion of data points from the test set that the model classified correctly. This is one of the metrics we will try to improve with our model.\n",
        "\n",
        "More formally, we can use a DummyClassifier to find the baseline estimator."
      ]
    },
    {
      "cell_type": "code",
      "metadata": {
        "colab": {
          "base_uri": "https://localhost:8080/"
        },
        "id": "nMpSYyeuPrdi",
        "outputId": "34a2e2a1-db38-47af-d045-07a736d380ec"
      },
      "source": [
        "from sklearn.dummy import DummyClassifier\n",
        "\n",
        "# instantiate with the \"most frequent\" parameter\n",
        "dummy = DummyClassifier(strategy='most_frequent')\n",
        "\n",
        "# fit it as if we had no X features to train it on\n",
        "dummy.fit(None, y_train)\n",
        "\n",
        "#compute test baseline and store it for later\n",
        "baseline = dummy.score(None, y_test)\n",
        "baseline"
      ],
      "execution_count": 36,
      "outputs": [
        {
          "output_type": "execute_result",
          "data": {
            "text/plain": [
              "0.48"
            ]
          },
          "metadata": {},
          "execution_count": 36
        }
      ]
    },
    {
      "cell_type": "markdown",
      "metadata": {
        "id": "4Hvcp8OFQlBu"
      },
      "source": [
        "OK, so now back to our Logistic Regression. We have X and y, we can just apply the steps we learned before, this time paying attention to train the classifier on the train data and to test our model on the test data."
      ]
    },
    {
      "cell_type": "code",
      "metadata": {
        "colab": {
          "base_uri": "https://localhost:8080/"
        },
        "id": "BRT89AoWQ7qk",
        "outputId": "14dfffe1-1f9f-4d2c-cee9-2404c3e36d35"
      },
      "source": [
        "log_reg =LogisticRegression(max_iter=1000, solver='lbfgs', random_state=0)\n",
        "\n",
        "log_reg.fit(X_train, y_train)\n",
        "\n",
        "y_pred = log_reg.predict(X_test)\n",
        "\n",
        "y_pred"
      ],
      "execution_count": 37,
      "outputs": [
        {
          "output_type": "execute_result",
          "data": {
            "text/plain": [
              "array([1, 1, 0, 0, 0, 1, 0, 0, 0, 0, 0, 1, 1, 1, 0, 0, 1, 0, 0, 0, 1, 0,\n",
              "       1, 1, 0, 1, 1, 1, 1, 0, 1, 0, 0, 1, 0, 0, 1, 0, 0, 1, 0, 1, 0, 0,\n",
              "       0, 0, 1, 1, 0, 1, 1, 1, 0, 1, 0, 1, 0, 0, 1, 1, 0, 1, 1, 0, 1, 1,\n",
              "       1, 0, 0, 1, 1, 0, 0, 1, 0, 1, 1, 0, 1, 0, 0, 0, 1, 0, 1, 1, 0, 1,\n",
              "       0, 1, 0, 1, 1, 0, 0, 0, 0, 0, 1, 0, 1, 0, 1, 1, 0, 0, 0, 0, 1, 1,\n",
              "       1, 1, 0, 0, 0, 1, 1, 0, 0, 0, 0, 0, 1, 0, 1, 1, 0, 0, 0, 1, 1, 0,\n",
              "       0, 1, 0, 0, 1, 1, 1, 0, 1, 1, 0, 1, 1, 0, 0, 0, 0, 1, 0, 1, 1, 0,\n",
              "       0, 1, 0, 1, 1, 0, 1, 0, 0, 1, 1, 1, 1, 0, 1, 0, 1, 1, 0, 1, 1, 0,\n",
              "       0, 1, 1, 0, 1, 0, 1, 0, 0, 1, 0, 0, 1, 0, 1, 1, 1, 1, 1, 0, 1, 0,\n",
              "       0, 1])"
            ]
          },
          "metadata": {},
          "execution_count": 37
        }
      ]
    },
    {
      "cell_type": "markdown",
      "metadata": {
        "id": "wm1rmWycUTel"
      },
      "source": [
        "#### Evaluate the model\n",
        "\n",
        "To evaluate our models we can build our own function below which combines several useful metrics."
      ]
    },
    {
      "cell_type": "code",
      "metadata": {
        "id": "jIvft0bmUfTi"
      },
      "source": [
        "def evaluate(test, pred):\n",
        "  precision = precision_score(test, pred)\n",
        "  recall = recall_score(test, pred)\n",
        "  f1= f1_score(test, pred)\n",
        "  print(f'CONFUSION MATRIX:\\n{confusion_matrix(test, pred)}')\n",
        "  print(f\"ACCURACY SCORE:\\n{accuracy_score(test, pred) :.4f}\")\n",
        "  print(f'CLASSIFICATION REPORT:\\n\\tPrecision: {precision: .4f}\\n\\tRecall: {recall:.4f}\\n\\tF1_Score: {f1:.4f}')"
      ],
      "execution_count": 38,
      "outputs": []
    },
    {
      "cell_type": "code",
      "metadata": {
        "colab": {
          "base_uri": "https://localhost:8080/"
        },
        "id": "oTghEGHTWaAA",
        "outputId": "b7d3538a-323e-4f61-d5d3-977e858ed656"
      },
      "source": [
        "evaluate(y_test, y_pred)"
      ],
      "execution_count": 39,
      "outputs": [
        {
          "output_type": "stream",
          "name": "stdout",
          "text": [
            "CONFUSION MATRIX:\n",
            "[[89  7]\n",
            " [13 91]]\n",
            "ACCURACY SCORE:\n",
            "0.9000\n",
            "CLASSIFICATION REPORT:\n",
            "\tPrecision:  0.9286\n",
            "\tRecall: 0.8750\n",
            "\tF1_Score: 0.9010\n"
          ]
        }
      ]
    },
    {
      "cell_type": "markdown",
      "metadata": {
        "id": "XKWnqYfYX4QR"
      },
      "source": [
        "First, as concerns accuracy, we can clearly see that this is much better than the baseline. What else can we conclude from these results?\n",
        "\n",
        "#### Little recap of evaluation metrics in classification\n",
        "\n",
        "**Confusion matrix**: shows where our model makes errors by showing the number of true positives, true negatives, false positives and false negatives on the test set.\n",
        "\n",
        "**True positives**: customers who clicked on the ad (1) and were classified by our model as having clicked on the ad (1). Here 91.\n",
        "\n",
        "**True negatives**: customers who did not click (0) and were classified by our model as not having clicked (0). Here 89.\n",
        "\n",
        "**False positives**: customers who did not click (0), but our model classified as having clicked (1). Here 7.\n",
        "\n",
        "**False negatives**: customers who clicked (1), but our model classified as not having clicked (0). Here 13."
      ]
    },
    {
      "cell_type": "code",
      "metadata": {
        "colab": {
          "base_uri": "https://localhost:8080/"
        },
        "id": "K_1ce11gX-WC",
        "outputId": "3728a190-ad33-4152-dbbb-308ae8ed36bc"
      },
      "source": [
        "# this shows the classes that the model is using, so first 0 and then 1\n",
        "log_reg.classes_"
      ],
      "execution_count": 40,
      "outputs": [
        {
          "output_type": "execute_result",
          "data": {
            "text/plain": [
              "array([0, 1])"
            ]
          },
          "metadata": {},
          "execution_count": 40
        }
      ]
    },
    {
      "cell_type": "code",
      "metadata": {
        "colab": {
          "base_uri": "https://localhost:8080/"
        },
        "id": "xKQOezu6a9Yv",
        "outputId": "4fc0d884-37ec-48dc-9c85-e97942cc9ab3"
      },
      "source": [
        "# use the code below to identify your TP, TN, FP, FN\n",
        "tn, fp, fn, tp = confusion_matrix(y_test, y_pred).ravel()\n",
        "print(\"True positives: \"+ str(tp))\n",
        "print(\"True negatives: \"+ str(tn))\n",
        "print(\"False positives: \"+ str(fp))\n",
        "print(\"False negatives: \"+ str(fn))"
      ],
      "execution_count": 41,
      "outputs": [
        {
          "output_type": "stream",
          "name": "stdout",
          "text": [
            "True positives: 91\n",
            "True negatives: 89\n",
            "False positives: 7\n",
            "False negatives: 13\n"
          ]
        }
      ]
    },
    {
      "cell_type": "markdown",
      "metadata": {
        "id": "g07kmclUbhKz"
      },
      "source": [
        "Another way to view this confusion matrix, is by transforming it into a DataFrame as below."
      ]
    },
    {
      "cell_type": "code",
      "metadata": {
        "colab": {
          "base_uri": "https://localhost:8080/",
          "height": 112
        },
        "id": "EQCn46GObn57",
        "outputId": "dae063cb-a7b0-46da-c01e-eb86d0db8e85"
      },
      "source": [
        "pd.DataFrame(confusion_matrix(y_test, y_pred), columns=['predicted: 0', 'predicted: 1 (clicked)'], index= ['true: 0', 'true: 1 (clicked)'])"
      ],
      "execution_count": 42,
      "outputs": [
        {
          "output_type": "execute_result",
          "data": {
            "text/html": [
              "<div>\n",
              "<style scoped>\n",
              "    .dataframe tbody tr th:only-of-type {\n",
              "        vertical-align: middle;\n",
              "    }\n",
              "\n",
              "    .dataframe tbody tr th {\n",
              "        vertical-align: top;\n",
              "    }\n",
              "\n",
              "    .dataframe thead th {\n",
              "        text-align: right;\n",
              "    }\n",
              "</style>\n",
              "<table border=\"1\" class=\"dataframe\">\n",
              "  <thead>\n",
              "    <tr style=\"text-align: right;\">\n",
              "      <th></th>\n",
              "      <th>predicted: 0</th>\n",
              "      <th>predicted: 1 (clicked)</th>\n",
              "    </tr>\n",
              "  </thead>\n",
              "  <tbody>\n",
              "    <tr>\n",
              "      <th>true: 0</th>\n",
              "      <td>89</td>\n",
              "      <td>7</td>\n",
              "    </tr>\n",
              "    <tr>\n",
              "      <th>true: 1 (clicked)</th>\n",
              "      <td>13</td>\n",
              "      <td>91</td>\n",
              "    </tr>\n",
              "  </tbody>\n",
              "</table>\n",
              "</div>"
            ],
            "text/plain": [
              "                   predicted: 0  predicted: 1 (clicked)\n",
              "true: 0                      89                       7\n",
              "true: 1 (clicked)            13                      91"
            ]
          },
          "metadata": {},
          "execution_count": 42
        }
      ]
    },
    {
      "cell_type": "markdown",
      "metadata": {
        "id": "MPxnr3PmchyK"
      },
      "source": [
        "And, for a graphical presentation, you can also plot the confusion matrix like below."
      ]
    },
    {
      "cell_type": "code",
      "metadata": {
        "colab": {
          "base_uri": "https://localhost:8080/",
          "height": 267
        },
        "id": "xIEkYgVccoqx",
        "outputId": "d8ce1f44-ca84-4a40-8c46-2390a348c0f8"
      },
      "source": [
        "sns.heatmap(pd.DataFrame(confusion_matrix(y_test, y_pred)), annot=True, cmap='Oranges', fmt='.4g');"
      ],
      "execution_count": 43,
      "outputs": [
        {
          "output_type": "display_data",
          "data": {
            "image/png": "[encoded data removed]",
            "text/plain": [
              "<Figure size 432x288 with 2 Axes>"
            ]
          },
          "metadata": {
            "needs_background": "light"
          }
        }
      ]
    },
    {
      "cell_type": "markdown",
      "metadata": {
        "id": "aSJl3krkWr6j"
      },
      "source": [
        "#### Continuation little recap on evaluation metrics\n",
        "\n",
        "**Precision**: how many times our model is correct when predicting the positive class (1). TP/(TP+FP) = 91/(91+7)=0.9286\n",
        "\n",
        "**Recall**: how many times the model predicts the positive class (1) when it really is positive. TP/(TP+FN) = 91/(91+13)=0.875\n",
        "\n",
        "**F1**: harmonic mean of precision and recall.  \n",
        "\n",
        "(....)\n",
        "\n",
        "Little parentesis, you can also get the test accuracy by using the slightly different code below. Just note that the parameters are different"
      ]
    },
    {
      "cell_type": "code",
      "metadata": {
        "colab": {
          "base_uri": "https://localhost:8080/"
        },
        "id": "4LN0_WBoW4ro",
        "outputId": "855877cd-143b-41e4-f4d1-667e4aab2add"
      },
      "source": [
        "log_reg.score(X_test, y_test)"
      ],
      "execution_count": 44,
      "outputs": [
        {
          "output_type": "execute_result",
          "data": {
            "text/plain": [
              "0.9"
            ]
          },
          "metadata": {},
          "execution_count": 44
        }
      ]
    },
    {
      "cell_type": "markdown",
      "metadata": {
        "id": "vXSzu7p0XUJi"
      },
      "source": [
        "Let's also store this accuracy for later."
      ]
    },
    {
      "cell_type": "code",
      "metadata": {
        "id": "Ir2FdLjPXYV1"
      },
      "source": [
        "a1=log_reg.score(X_test, y_test)"
      ],
      "execution_count": 45,
      "outputs": []
    },
    {
      "cell_type": "markdown",
      "metadata": {
        "id": "rEZ1ipzFdEdd"
      },
      "source": [
        "### Apply Standardisation\n",
        "\n",
        "One way to improve results is to try to apply standardisation.\n",
        "You can do so by applying the ScandardScaler from Scikit-learn. This will transform your X features so that they each have a mean of 0 and a standard deviation of 1. \n",
        "\n",
        "Standardisation is helpful to give the same weight (importance) to each predictor variable.\n",
        "\n",
        "***Important: do not forget that you must fit your scaler on the train set only, then apply (transform) to both the train and test data***"
      ]
    },
    {
      "cell_type": "code",
      "metadata": {
        "id": "wQqmtgtPeIiT"
      },
      "source": [
        "# instantiate\n",
        "scaler = StandardScaler()\n",
        "# fit on train set only\n",
        "scaler.fit(X_train, y_train)\n",
        "\n",
        "# apply to the train set\n",
        "\n",
        "X_train_s = scaler.transform(X_train)\n",
        "X_test_s = scaler.transform(X_test)"
      ],
      "execution_count": 46,
      "outputs": []
    },
    {
      "cell_type": "code",
      "metadata": {
        "colab": {
          "base_uri": "https://localhost:8080/",
          "height": 300
        },
        "id": "vQGp9FTsepTu",
        "outputId": "d70cf1be-4478-4cf7-8e6f-93fba66277ea"
      },
      "source": [
        "# to check that indeed the scaled X_train has mean 0 and standard deviation 1 (approximately)\n",
        "pd.DataFrame(X_train_s, columns=X_train.columns).describe().round()"
      ],
      "execution_count": 47,
      "outputs": [
        {
          "output_type": "execute_result",
          "data": {
            "text/html": [
              "<div>\n",
              "<style scoped>\n",
              "    .dataframe tbody tr th:only-of-type {\n",
              "        vertical-align: middle;\n",
              "    }\n",
              "\n",
              "    .dataframe tbody tr th {\n",
              "        vertical-align: top;\n",
              "    }\n",
              "\n",
              "    .dataframe thead th {\n",
              "        text-align: right;\n",
              "    }\n",
              "</style>\n",
              "<table border=\"1\" class=\"dataframe\">\n",
              "  <thead>\n",
              "    <tr style=\"text-align: right;\">\n",
              "      <th></th>\n",
              "      <th>Daily Time Spent on Site</th>\n",
              "      <th>Age</th>\n",
              "      <th>Area Income</th>\n",
              "      <th>Daily Internet Usage</th>\n",
              "      <th>Male</th>\n",
              "      <th>city_label</th>\n",
              "      <th>country_label</th>\n",
              "    </tr>\n",
              "  </thead>\n",
              "  <tbody>\n",
              "    <tr>\n",
              "      <th>count</th>\n",
              "      <td>800.0</td>\n",
              "      <td>800.0</td>\n",
              "      <td>800.0</td>\n",
              "      <td>800.0</td>\n",
              "      <td>800.0</td>\n",
              "      <td>800.0</td>\n",
              "      <td>800.0</td>\n",
              "    </tr>\n",
              "    <tr>\n",
              "      <th>mean</th>\n",
              "      <td>0.0</td>\n",
              "      <td>-0.0</td>\n",
              "      <td>0.0</td>\n",
              "      <td>-0.0</td>\n",
              "      <td>-0.0</td>\n",
              "      <td>0.0</td>\n",
              "      <td>0.0</td>\n",
              "    </tr>\n",
              "    <tr>\n",
              "      <th>std</th>\n",
              "      <td>1.0</td>\n",
              "      <td>1.0</td>\n",
              "      <td>1.0</td>\n",
              "      <td>1.0</td>\n",
              "      <td>1.0</td>\n",
              "      <td>1.0</td>\n",
              "      <td>1.0</td>\n",
              "    </tr>\n",
              "    <tr>\n",
              "      <th>min</th>\n",
              "      <td>-2.0</td>\n",
              "      <td>-2.0</td>\n",
              "      <td>-3.0</td>\n",
              "      <td>-2.0</td>\n",
              "      <td>-1.0</td>\n",
              "      <td>-2.0</td>\n",
              "      <td>-2.0</td>\n",
              "    </tr>\n",
              "    <tr>\n",
              "      <th>25%</th>\n",
              "      <td>-1.0</td>\n",
              "      <td>-1.0</td>\n",
              "      <td>-1.0</td>\n",
              "      <td>-1.0</td>\n",
              "      <td>-1.0</td>\n",
              "      <td>-1.0</td>\n",
              "      <td>-1.0</td>\n",
              "    </tr>\n",
              "    <tr>\n",
              "      <th>50%</th>\n",
              "      <td>0.0</td>\n",
              "      <td>-0.0</td>\n",
              "      <td>0.0</td>\n",
              "      <td>0.0</td>\n",
              "      <td>-1.0</td>\n",
              "      <td>-0.0</td>\n",
              "      <td>-0.0</td>\n",
              "    </tr>\n",
              "    <tr>\n",
              "      <th>75%</th>\n",
              "      <td>1.0</td>\n",
              "      <td>1.0</td>\n",
              "      <td>1.0</td>\n",
              "      <td>1.0</td>\n",
              "      <td>1.0</td>\n",
              "      <td>1.0</td>\n",
              "      <td>1.0</td>\n",
              "    </tr>\n",
              "    <tr>\n",
              "      <th>max</th>\n",
              "      <td>2.0</td>\n",
              "      <td>3.0</td>\n",
              "      <td>2.0</td>\n",
              "      <td>2.0</td>\n",
              "      <td>1.0</td>\n",
              "      <td>2.0</td>\n",
              "      <td>2.0</td>\n",
              "    </tr>\n",
              "  </tbody>\n",
              "</table>\n",
              "</div>"
            ],
            "text/plain": [
              "       Daily Time Spent on Site    Age  ...  city_label  country_label\n",
              "count                     800.0  800.0  ...       800.0          800.0\n",
              "mean                        0.0   -0.0  ...         0.0            0.0\n",
              "std                         1.0    1.0  ...         1.0            1.0\n",
              "min                        -2.0   -2.0  ...        -2.0           -2.0\n",
              "25%                        -1.0   -1.0  ...        -1.0           -1.0\n",
              "50%                         0.0   -0.0  ...        -0.0           -0.0\n",
              "75%                         1.0    1.0  ...         1.0            1.0\n",
              "max                         2.0    3.0  ...         2.0            2.0\n",
              "\n",
              "[8 rows x 7 columns]"
            ]
          },
          "metadata": {},
          "execution_count": 47
        }
      ]
    },
    {
      "cell_type": "code",
      "metadata": {
        "colab": {
          "base_uri": "https://localhost:8080/"
        },
        "id": "ZQ4TVkx4fTwI",
        "outputId": "a9c0011f-5e4a-43e5-c7b7-ec36791c4136"
      },
      "source": [
        "log_reg_s = LogisticRegression(max_iter=1000, solver='lbfgs', random_state=0)\n",
        "\n",
        "log_reg_s.fit(X_train_s, y_train)\n",
        "\n",
        "y_pred_s = log_reg_s.predict(X_test_s)\n",
        "\n",
        "# preformance measurement\n",
        "evaluate(y_test, y_pred_s)"
      ],
      "execution_count": 48,
      "outputs": [
        {
          "output_type": "stream",
          "name": "stdout",
          "text": [
            "CONFUSION MATRIX:\n",
            "[[91  5]\n",
            " [ 5 99]]\n",
            "ACCURACY SCORE:\n",
            "0.9500\n",
            "CLASSIFICATION REPORT:\n",
            "\tPrecision:  0.9519\n",
            "\tRecall: 0.9519\n",
            "\tF1_Score: 0.9519\n"
          ]
        }
      ]
    },
    {
      "cell_type": "code",
      "metadata": {
        "colab": {
          "base_uri": "https://localhost:8080/",
          "height": 265
        },
        "id": "XiPfeQXIgMUp",
        "outputId": "82543cc7-97fb-4bbf-ad13-27bd2d8d0207"
      },
      "source": [
        "sns.heatmap(pd.DataFrame(confusion_matrix(y_test, y_pred_s)), annot=True, cmap='Oranges', fmt='.4g');"
      ],
      "execution_count": 49,
      "outputs": [
        {
          "output_type": "display_data",
          "data": {
            "image/png": "[encoded data removed]",
            "text/plain": [
              "<Figure size 432x288 with 2 Axes>"
            ]
          },
          "metadata": {
            "needs_background": "light"
          }
        }
      ]
    },
    {
      "cell_type": "markdown",
      "metadata": {
        "id": "8d-THac2gVbj"
      },
      "source": [
        "There is no doubt, our model is better with standardisation. It has above all higher recall "
      ]
    },
    {
      "cell_type": "code",
      "metadata": {
        "id": "_87hL0nQic1-"
      },
      "source": [
        "a2=log_reg_s.score(X_test_s, y_test)"
      ],
      "execution_count": 50,
      "outputs": []
    },
    {
      "cell_type": "markdown",
      "metadata": {
        "id": "txvf9hOri-C_"
      },
      "source": [
        "### Use Cross-Validation\n",
        "\n",
        "Still on our quest to improve our model. We will try to apply both standardisation and cross-validation to check our test accuracy.\n",
        "\n",
        "We will use a 5-fold cross-validation by setting the `cv` parameter to 5."
      ]
    },
    {
      "cell_type": "code",
      "metadata": {
        "colab": {
          "base_uri": "https://localhost:8080/"
        },
        "id": "gSLLMKi1jY1M",
        "outputId": "7a93b1d6-fb55-46fc-b240-7c5d92e2a618"
      },
      "source": [
        "# instantiate\n",
        "log_reg_s_c = LogisticRegressionCV(solver='lbfgs', cv=5, max_iter=1000)\n",
        "\n",
        "# fit\n",
        "log_reg_s_c.fit(X_train_s, y_train)\n",
        "\n",
        "#make predictions on the standardised test set\n",
        "y_pred_s_c=log_reg_s_c.predict(X_test_s)\n",
        "\n",
        "# preformance measurement\n",
        "evaluate(y_test, y_pred_s_c)\n"
      ],
      "execution_count": 51,
      "outputs": [
        {
          "output_type": "stream",
          "name": "stdout",
          "text": [
            "CONFUSION MATRIX:\n",
            "[[92  4]\n",
            " [ 5 99]]\n",
            "ACCURACY SCORE:\n",
            "0.9550\n",
            "CLASSIFICATION REPORT:\n",
            "\tPrecision:  0.9612\n",
            "\tRecall: 0.9519\n",
            "\tF1_Score: 0.9565\n"
          ]
        }
      ]
    },
    {
      "cell_type": "code",
      "metadata": {
        "id": "HDf2axOckjQA"
      },
      "source": [
        "# store this value for later\n",
        "a3=log_reg_s_c.score(X_test_s, y_test)"
      ],
      "execution_count": 52,
      "outputs": []
    },
    {
      "cell_type": "markdown",
      "metadata": {
        "id": "rpKn0SHalFtR"
      },
      "source": [
        "###What about Regularization?\n",
        "\n",
        "The Logistic Regression classifier uses one by default. You can use the C parameter to check this out. C is the inverse of the regularization strength. Here below we use a very small C, which means strong regularisation. As a result the accuracy drops a little."
      ]
    },
    {
      "cell_type": "code",
      "metadata": {
        "colab": {
          "base_uri": "https://localhost:8080/"
        },
        "id": "IRgZA42plkrr",
        "outputId": "13483399-f972-4e57-e38a-2a5eb6766923"
      },
      "source": [
        "# instantiate\n",
        "log_reg = LogisticRegression(solver='lbfgs', max_iter=1000, C=0.002)\n",
        "\n",
        "# fit\n",
        "log_reg.fit(X_train_s, y_train)\n",
        "\n",
        "#make predictions on the standardised test set\n",
        "y_pred=log_reg.predict(X_test_s)\n",
        "\n",
        "# preformance measurement\n",
        "evaluate(y_test, y_pred)"
      ],
      "execution_count": 53,
      "outputs": [
        {
          "output_type": "stream",
          "name": "stdout",
          "text": [
            "CONFUSION MATRIX:\n",
            "[[96  0]\n",
            " [11 93]]\n",
            "ACCURACY SCORE:\n",
            "0.9450\n",
            "CLASSIFICATION REPORT:\n",
            "\tPrecision:  1.0000\n",
            "\tRecall: 0.8942\n",
            "\tF1_Score: 0.9442\n"
          ]
        }
      ]
    },
    {
      "cell_type": "markdown",
      "metadata": {
        "id": "R0-4tyKlnM9Q"
      },
      "source": [
        "There is a similar parameters you can use to control regularisation for the LogisticRegressionCV. This time `Cs` is a list of floats chosen in a logarithmic scale between 1e-4 and 1e+4. As before, smaller values specify stronger regularisation."
      ]
    },
    {
      "cell_type": "code",
      "metadata": {
        "colab": {
          "base_uri": "https://localhost:8080/"
        },
        "id": "CUrVCdTWnxiG",
        "outputId": "53a7ed6e-2d07-4799-e43f-187b1ee51ec1"
      },
      "source": [
        "# instantiate\n",
        "log_reg = LogisticRegressionCV(solver='lbfgs', max_iter=1000, Cs=np.logspace(start=-4, stop=4, num=50))\n",
        "\n",
        "# fit\n",
        "log_reg.fit(X_train_s, y_train)\n",
        "\n",
        "#make predictions on the standardised test set\n",
        "y_pred=log_reg.predict(X_test_s)\n",
        "\n",
        "# preformance measurement\n",
        "evaluate(y_test, y_pred)"
      ],
      "execution_count": 54,
      "outputs": [
        {
          "output_type": "stream",
          "name": "stdout",
          "text": [
            "CONFUSION MATRIX:\n",
            "[[92  4]\n",
            " [ 5 99]]\n",
            "ACCURACY SCORE:\n",
            "0.9550\n",
            "CLASSIFICATION REPORT:\n",
            "\tPrecision:  0.9612\n",
            "\tRecall: 0.9519\n",
            "\tF1_Score: 0.9565\n"
          ]
        }
      ]
    },
    {
      "cell_type": "code",
      "metadata": {
        "colab": {
          "base_uri": "https://localhost:8080/"
        },
        "id": "kpBkri7roFP3",
        "outputId": "1bb36ace-3c58-4f4c-f025-e4f705fbc4f6"
      },
      "source": [
        "# this is the generated list of 50 C's\n",
        "log_reg.Cs_"
      ],
      "execution_count": 55,
      "outputs": [
        {
          "output_type": "execute_result",
          "data": {
            "text/plain": [
              "array([1.00000000e-04, 1.45634848e-04, 2.12095089e-04, 3.08884360e-04,\n",
              "       4.49843267e-04, 6.55128557e-04, 9.54095476e-04, 1.38949549e-03,\n",
              "       2.02358965e-03, 2.94705170e-03, 4.29193426e-03, 6.25055193e-03,\n",
              "       9.10298178e-03, 1.32571137e-02, 1.93069773e-02, 2.81176870e-02,\n",
              "       4.09491506e-02, 5.96362332e-02, 8.68511374e-02, 1.26485522e-01,\n",
              "       1.84206997e-01, 2.68269580e-01, 3.90693994e-01, 5.68986603e-01,\n",
              "       8.28642773e-01, 1.20679264e+00, 1.75751062e+00, 2.55954792e+00,\n",
              "       3.72759372e+00, 5.42867544e+00, 7.90604321e+00, 1.15139540e+01,\n",
              "       1.67683294e+01, 2.44205309e+01, 3.55648031e+01, 5.17947468e+01,\n",
              "       7.54312006e+01, 1.09854114e+02, 1.59985872e+02, 2.32995181e+02,\n",
              "       3.39322177e+02, 4.94171336e+02, 7.19685673e+02, 1.04811313e+03,\n",
              "       1.52641797e+03, 2.22299648e+03, 3.23745754e+03, 4.71486636e+03,\n",
              "       6.86648845e+03, 1.00000000e+04])"
            ]
          },
          "metadata": {},
          "execution_count": 55
        }
      ]
    },
    {
      "cell_type": "code",
      "metadata": {
        "colab": {
          "base_uri": "https://localhost:8080/"
        },
        "id": "qL6PVIG5oOnA",
        "outputId": "bcaa3e4a-0d95-4c5b-c3f3-1ffabc42dcca"
      },
      "source": [
        "# this is the best regularisation parameter\n",
        "log_reg.C_"
      ],
      "execution_count": 56,
      "outputs": [
        {
          "output_type": "execute_result",
          "data": {
            "text/plain": [
              "array([0.184207])"
            ]
          },
          "metadata": {},
          "execution_count": 56
        }
      ]
    },
    {
      "cell_type": "markdown",
      "metadata": {
        "id": "Ci7AqcPAtrzZ"
      },
      "source": [
        "#### Accuracy improvements\n",
        "\n",
        "Plot all your results."
      ]
    },
    {
      "cell_type": "code",
      "metadata": {
        "colab": {
          "base_uri": "https://localhost:8080/",
          "height": 0
        },
        "id": "HcqtEpy2tvu0",
        "outputId": "f7932623-9cc7-44c9-d213-b49fe43bba45"
      },
      "source": [
        "results = pd.DataFrame({'base_rate': baseline, 'logreg': a1, \n",
        "                        'logreg std': a2, 'logreg std cv': a3\n",
        "                        }, index=[0])\n",
        "results"
      ],
      "execution_count": 57,
      "outputs": [
        {
          "output_type": "execute_result",
          "data": {
            "text/html": [
              "<div>\n",
              "<style scoped>\n",
              "    .dataframe tbody tr th:only-of-type {\n",
              "        vertical-align: middle;\n",
              "    }\n",
              "\n",
              "    .dataframe tbody tr th {\n",
              "        vertical-align: top;\n",
              "    }\n",
              "\n",
              "    .dataframe thead th {\n",
              "        text-align: right;\n",
              "    }\n",
              "</style>\n",
              "<table border=\"1\" class=\"dataframe\">\n",
              "  <thead>\n",
              "    <tr style=\"text-align: right;\">\n",
              "      <th></th>\n",
              "      <th>base_rate</th>\n",
              "      <th>logreg</th>\n",
              "      <th>logreg std</th>\n",
              "      <th>logreg std cv</th>\n",
              "    </tr>\n",
              "  </thead>\n",
              "  <tbody>\n",
              "    <tr>\n",
              "      <th>0</th>\n",
              "      <td>0.48</td>\n",
              "      <td>0.9</td>\n",
              "      <td>0.95</td>\n",
              "      <td>0.955</td>\n",
              "    </tr>\n",
              "  </tbody>\n",
              "</table>\n",
              "</div>"
            ],
            "text/plain": [
              "   base_rate  logreg  logreg std  logreg std cv\n",
              "0       0.48     0.9        0.95          0.955"
            ]
          },
          "metadata": {},
          "execution_count": 57
        }
      ]
    },
    {
      "cell_type": "code",
      "metadata": {
        "colab": {
          "base_uri": "https://localhost:8080/",
          "height": 0
        },
        "id": "l6BZIQtPu69z",
        "outputId": "54166451-01a3-49ed-fc4d-e36635341472"
      },
      "source": [
        "plt.plot(results.iloc[0], marker='o')"
      ],
      "execution_count": 58,
      "outputs": [
        {
          "output_type": "execute_result",
          "data": {
            "text/plain": [
              "[<matplotlib.lines.Line2D at 0x7f0a89275f90>]"
            ]
          },
          "metadata": {},
          "execution_count": 58
        },
        {
          "output_type": "display_data",
          "data": {
            "image/png": "[encoded data removed]",
            "text/plain": [
              "<Figure size 432x288 with 1 Axes>"
            ]
          },
          "metadata": {
            "needs_background": "light"
          }
        }
      ]
    },
    {
      "cell_type": "markdown",
      "metadata": {
        "id": "p7uxS0TKo3QB"
      },
      "source": [
        "##3. Multi-class Classification\n",
        "\n",
        "What happens when we have more than 2 labels in our target vector?\n",
        "We'll briefly go over it using the IRIS dataset, in which we classify flowers into three kinds of flowers.\n",
        "\n",
        "### Brief Recap on the theory\n",
        "\n",
        "You use Softmax regression. This is a generalization of logistics regression to multiple classes. The model fits one linear regression for each class, and then transforms their output into probabilities using the Softmax function."
      ]
    },
    {
      "cell_type": "code",
      "metadata": {
        "colab": {
          "base_uri": "https://localhost:8080/"
        },
        "id": "whThz3zdquJs",
        "outputId": "7aec53ec-b33a-4c78-9dbe-d0da525b1d51"
      },
      "source": [
        "# load the data\n",
        "from sklearn import datasets\n",
        "\n",
        "iris=datasets.load_iris()\n",
        "\n",
        "#select only the first two features\n",
        "X = iris.data[:, :2]\n",
        "\n",
        "y = iris.target\n",
        "\n",
        "#show first 10 instances of X\n",
        "X[:10]"
      ],
      "execution_count": 59,
      "outputs": [
        {
          "output_type": "execute_result",
          "data": {
            "text/plain": [
              "array([[5.1, 3.5],\n",
              "       [4.9, 3. ],\n",
              "       [4.7, 3.2],\n",
              "       [4.6, 3.1],\n",
              "       [5. , 3.6],\n",
              "       [5.4, 3.9],\n",
              "       [4.6, 3.4],\n",
              "       [5. , 3.4],\n",
              "       [4.4, 2.9],\n",
              "       [4.9, 3.1]])"
            ]
          },
          "metadata": {},
          "execution_count": 59
        }
      ]
    },
    {
      "cell_type": "code",
      "metadata": {
        "colab": {
          "base_uri": "https://localhost:8080/"
        },
        "id": "3UKIKK1Xr8q8",
        "outputId": "57c31256-7402-495b-a057-df44a33db2b3"
      },
      "source": [
        "# check out how many classes we have in y\n",
        "np.unique(y, return_counts=True)"
      ],
      "execution_count": 60,
      "outputs": [
        {
          "output_type": "execute_result",
          "data": {
            "text/plain": [
              "(array([0, 1, 2]), array([50, 50, 50]))"
            ]
          },
          "metadata": {},
          "execution_count": 60
        }
      ]
    },
    {
      "cell_type": "code",
      "metadata": {
        "id": "MgfUhrItsnTe"
      },
      "source": [
        "# Train test split\n",
        "X_train, X_test, y_train, y_test = train_test_split(X, y, test_size=0.2, random_state=100)"
      ],
      "execution_count": 61,
      "outputs": []
    },
    {
      "cell_type": "code",
      "metadata": {
        "colab": {
          "base_uri": "https://localhost:8080/"
        },
        "id": "k-SGi7TLtTek",
        "outputId": "5fac2b27-6aa5-4601-913a-25a0d3310d8d"
      },
      "source": [
        "# Fit model\n",
        "log_reg = LogisticRegressionCV(solver='lbfgs', cv=5, max_iter=1000)\n",
        "log_reg.fit(X_train, y_train)"
      ],
      "execution_count": 62,
      "outputs": [
        {
          "output_type": "execute_result",
          "data": {
            "text/plain": [
              "LogisticRegressionCV(Cs=10, class_weight=None, cv=5, dual=False,\n",
              "                     fit_intercept=True, intercept_scaling=1.0, l1_ratios=None,\n",
              "                     max_iter=1000, multi_class='auto', n_jobs=None,\n",
              "                     penalty='l2', random_state=None, refit=True, scoring=None,\n",
              "                     solver='lbfgs', tol=0.0001, verbose=0)"
            ]
          },
          "metadata": {},
          "execution_count": 62
        }
      ]
    },
    {
      "cell_type": "code",
      "metadata": {
        "colab": {
          "base_uri": "https://localhost:8080/"
        },
        "id": "ZBb1kuaswPhN",
        "outputId": "c335fff3-2abf-43ee-a9dc-329e7e025f73"
      },
      "source": [
        "log_reg.score(X_test, y_test)\n",
        "# accuracy_score(log_reg.predict(X_test), y_test)"
      ],
      "execution_count": 63,
      "outputs": [
        {
          "output_type": "execute_result",
          "data": {
            "text/plain": [
              "0.8333333333333334"
            ]
          },
          "metadata": {},
          "execution_count": 63
        }
      ]
    },
    {
      "cell_type": "code",
      "metadata": {
        "colab": {
          "base_uri": "https://localhost:8080/"
        },
        "id": "WNk0TvZiwzVW",
        "outputId": "f6a55524-9687-4bdb-d60b-250a170c2d16"
      },
      "source": [
        "# Predictions\n",
        "log_reg.predict(X_test)"
      ],
      "execution_count": 64,
      "outputs": [
        {
          "output_type": "execute_result",
          "data": {
            "text/plain": [
              "array([2, 0, 2, 0, 1, 2, 0, 0, 2, 0, 0, 2, 0, 0, 2, 1, 1, 2, 2, 2, 2, 0,\n",
              "       1, 0, 1, 1, 2, 0, 1, 2])"
            ]
          },
          "metadata": {},
          "execution_count": 64
        }
      ]
    },
    {
      "cell_type": "code",
      "metadata": {
        "colab": {
          "base_uri": "https://localhost:8080/"
        },
        "id": "WLceOkM2w5kl",
        "outputId": "fab5a19b-7fe1-4617-91c3-c578ee38e8a5"
      },
      "source": [
        "log_reg.predict_proba(X_test)"
      ],
      "execution_count": 65,
      "outputs": [
        {
          "output_type": "execute_result",
          "data": {
            "text/plain": [
              "array([[2.79276702e-02, 4.82059392e-01, 4.90012937e-01],\n",
              "       [8.75034139e-01, 9.71683118e-02, 2.77975490e-02],\n",
              "       [4.44958231e-04, 2.19829186e-01, 7.79725855e-01],\n",
              "       [8.65964983e-01, 5.11324962e-02, 8.29025205e-02],\n",
              "       [2.92406749e-02, 5.26031369e-01, 4.44727957e-01],\n",
              "       [9.81777120e-04, 1.71818447e-01, 8.27199776e-01],\n",
              "       [9.29624479e-01, 4.01736834e-02, 3.02018373e-02],\n",
              "       [6.75032397e-01, 2.63179707e-01, 6.17878964e-02],\n",
              "       [3.26454126e-02, 4.17111618e-01, 5.50242969e-01],\n",
              "       [7.24874223e-01, 2.27233073e-01, 4.78927035e-02],\n",
              "       [8.45104986e-01, 1.11987825e-01, 4.29071894e-02],\n",
              "       [6.43059763e-02, 3.93194969e-01, 5.42499055e-01],\n",
              "       [8.11202753e-01, 1.39337133e-01, 4.94601144e-02],\n",
              "       [7.23216057e-01, 1.92151291e-01, 8.46326527e-02],\n",
              "       [1.88274802e-02, 3.72100383e-01, 6.09072137e-01],\n",
              "       [5.80673756e-02, 4.99899774e-01, 4.42032851e-01],\n",
              "       [2.02002492e-02, 6.91211288e-01, 2.88588462e-01],\n",
              "       [1.88274802e-02, 3.72100383e-01, 6.09072137e-01],\n",
              "       [6.62191114e-04, 1.94712953e-01, 8.04624856e-01],\n",
              "       [1.42049726e-02, 3.49162195e-01, 6.36632832e-01],\n",
              "       [6.64532044e-03, 2.32607501e-01, 7.60747179e-01],\n",
              "       [6.11405773e-01, 2.51271119e-01, 1.37323108e-01],\n",
              "       [1.88111488e-02, 5.68583408e-01, 4.12605443e-01],\n",
              "       [8.45248298e-01, 1.26800125e-01, 2.79515767e-02],\n",
              "       [1.01978329e-01, 6.69660190e-01, 2.28361480e-01],\n",
              "       [1.46277322e-01, 5.05002755e-01, 3.48719924e-01],\n",
              "       [2.48497441e-02, 3.94885278e-01, 5.80264978e-01],\n",
              "       [6.11405773e-01, 2.51271119e-01, 1.37323108e-01],\n",
              "       [6.03460861e-02, 5.41449878e-01, 3.98204035e-01],\n",
              "       [1.60646630e-02, 2.92295895e-01, 6.91639442e-01]])"
            ]
          },
          "metadata": {},
          "execution_count": 65
        }
      ]
    },
    {
      "cell_type": "code",
      "metadata": {
        "colab": {
          "base_uri": "https://localhost:8080/",
          "height": 990
        },
        "id": "-Wrkyla3w9Nl",
        "outputId": "2d30e7d1-2dd1-49c3-b62a-b7e84142e273"
      },
      "source": [
        "# Create DateFrame with probabilities, predictions, and true classes in test set\n",
        "iris_LR_summary = pd.DataFrame(np.round(log_reg.predict_proba(X_test), 2), columns=[\"p(0)\", \"p(1)\", \"p(2)\"])\n",
        "iris_LR_summary[\"Prediction\"] = log_reg.predict(X_test)\n",
        "iris_LR_summary[\"True Class\"] = y_test\n",
        "iris_LR_summary"
      ],
      "execution_count": 66,
      "outputs": [
        {
          "output_type": "execute_result",
          "data": {
            "text/html": [
              "<div>\n",
              "<style scoped>\n",
              "    .dataframe tbody tr th:only-of-type {\n",
              "        vertical-align: middle;\n",
              "    }\n",
              "\n",
              "    .dataframe tbody tr th {\n",
              "        vertical-align: top;\n",
              "    }\n",
              "\n",
              "    .dataframe thead th {\n",
              "        text-align: right;\n",
              "    }\n",
              "</style>\n",
              "<table border=\"1\" class=\"dataframe\">\n",
              "  <thead>\n",
              "    <tr style=\"text-align: right;\">\n",
              "      <th></th>\n",
              "      <th>p(0)</th>\n",
              "      <th>p(1)</th>\n",
              "      <th>p(2)</th>\n",
              "      <th>Prediction</th>\n",
              "      <th>True Class</th>\n",
              "    </tr>\n",
              "  </thead>\n",
              "  <tbody>\n",
              "    <tr>\n",
              "      <th>0</th>\n",
              "      <td>0.03</td>\n",
              "      <td>0.48</td>\n",
              "      <td>0.49</td>\n",
              "      <td>2</td>\n",
              "      <td>2</td>\n",
              "    </tr>\n",
              "    <tr>\n",
              "      <th>1</th>\n",
              "      <td>0.88</td>\n",
              "      <td>0.10</td>\n",
              "      <td>0.03</td>\n",
              "      <td>0</td>\n",
              "      <td>0</td>\n",
              "    </tr>\n",
              "    <tr>\n",
              "      <th>2</th>\n",
              "      <td>0.00</td>\n",
              "      <td>0.22</td>\n",
              "      <td>0.78</td>\n",
              "      <td>2</td>\n",
              "      <td>2</td>\n",
              "    </tr>\n",
              "    <tr>\n",
              "      <th>3</th>\n",
              "      <td>0.87</td>\n",
              "      <td>0.05</td>\n",
              "      <td>0.08</td>\n",
              "      <td>0</td>\n",
              "      <td>0</td>\n",
              "    </tr>\n",
              "    <tr>\n",
              "      <th>4</th>\n",
              "      <td>0.03</td>\n",
              "      <td>0.53</td>\n",
              "      <td>0.44</td>\n",
              "      <td>1</td>\n",
              "      <td>2</td>\n",
              "    </tr>\n",
              "    <tr>\n",
              "      <th>5</th>\n",
              "      <td>0.00</td>\n",
              "      <td>0.17</td>\n",
              "      <td>0.83</td>\n",
              "      <td>2</td>\n",
              "      <td>2</td>\n",
              "    </tr>\n",
              "    <tr>\n",
              "      <th>6</th>\n",
              "      <td>0.93</td>\n",
              "      <td>0.04</td>\n",
              "      <td>0.03</td>\n",
              "      <td>0</td>\n",
              "      <td>0</td>\n",
              "    </tr>\n",
              "    <tr>\n",
              "      <th>7</th>\n",
              "      <td>0.68</td>\n",
              "      <td>0.26</td>\n",
              "      <td>0.06</td>\n",
              "      <td>0</td>\n",
              "      <td>0</td>\n",
              "    </tr>\n",
              "    <tr>\n",
              "      <th>8</th>\n",
              "      <td>0.03</td>\n",
              "      <td>0.42</td>\n",
              "      <td>0.55</td>\n",
              "      <td>2</td>\n",
              "      <td>2</td>\n",
              "    </tr>\n",
              "    <tr>\n",
              "      <th>9</th>\n",
              "      <td>0.72</td>\n",
              "      <td>0.23</td>\n",
              "      <td>0.05</td>\n",
              "      <td>0</td>\n",
              "      <td>0</td>\n",
              "    </tr>\n",
              "    <tr>\n",
              "      <th>10</th>\n",
              "      <td>0.85</td>\n",
              "      <td>0.11</td>\n",
              "      <td>0.04</td>\n",
              "      <td>0</td>\n",
              "      <td>0</td>\n",
              "    </tr>\n",
              "    <tr>\n",
              "      <th>11</th>\n",
              "      <td>0.06</td>\n",
              "      <td>0.39</td>\n",
              "      <td>0.54</td>\n",
              "      <td>2</td>\n",
              "      <td>2</td>\n",
              "    </tr>\n",
              "    <tr>\n",
              "      <th>12</th>\n",
              "      <td>0.81</td>\n",
              "      <td>0.14</td>\n",
              "      <td>0.05</td>\n",
              "      <td>0</td>\n",
              "      <td>0</td>\n",
              "    </tr>\n",
              "    <tr>\n",
              "      <th>13</th>\n",
              "      <td>0.72</td>\n",
              "      <td>0.19</td>\n",
              "      <td>0.08</td>\n",
              "      <td>0</td>\n",
              "      <td>0</td>\n",
              "    </tr>\n",
              "    <tr>\n",
              "      <th>14</th>\n",
              "      <td>0.02</td>\n",
              "      <td>0.37</td>\n",
              "      <td>0.61</td>\n",
              "      <td>2</td>\n",
              "      <td>2</td>\n",
              "    </tr>\n",
              "    <tr>\n",
              "      <th>15</th>\n",
              "      <td>0.06</td>\n",
              "      <td>0.50</td>\n",
              "      <td>0.44</td>\n",
              "      <td>1</td>\n",
              "      <td>1</td>\n",
              "    </tr>\n",
              "    <tr>\n",
              "      <th>16</th>\n",
              "      <td>0.02</td>\n",
              "      <td>0.69</td>\n",
              "      <td>0.29</td>\n",
              "      <td>1</td>\n",
              "      <td>1</td>\n",
              "    </tr>\n",
              "    <tr>\n",
              "      <th>17</th>\n",
              "      <td>0.02</td>\n",
              "      <td>0.37</td>\n",
              "      <td>0.61</td>\n",
              "      <td>2</td>\n",
              "      <td>1</td>\n",
              "    </tr>\n",
              "    <tr>\n",
              "      <th>18</th>\n",
              "      <td>0.00</td>\n",
              "      <td>0.19</td>\n",
              "      <td>0.80</td>\n",
              "      <td>2</td>\n",
              "      <td>2</td>\n",
              "    </tr>\n",
              "    <tr>\n",
              "      <th>19</th>\n",
              "      <td>0.01</td>\n",
              "      <td>0.35</td>\n",
              "      <td>0.64</td>\n",
              "      <td>2</td>\n",
              "      <td>2</td>\n",
              "    </tr>\n",
              "    <tr>\n",
              "      <th>20</th>\n",
              "      <td>0.01</td>\n",
              "      <td>0.23</td>\n",
              "      <td>0.76</td>\n",
              "      <td>2</td>\n",
              "      <td>2</td>\n",
              "    </tr>\n",
              "    <tr>\n",
              "      <th>21</th>\n",
              "      <td>0.61</td>\n",
              "      <td>0.25</td>\n",
              "      <td>0.14</td>\n",
              "      <td>0</td>\n",
              "      <td>0</td>\n",
              "    </tr>\n",
              "    <tr>\n",
              "      <th>22</th>\n",
              "      <td>0.02</td>\n",
              "      <td>0.57</td>\n",
              "      <td>0.41</td>\n",
              "      <td>1</td>\n",
              "      <td>2</td>\n",
              "    </tr>\n",
              "    <tr>\n",
              "      <th>23</th>\n",
              "      <td>0.85</td>\n",
              "      <td>0.13</td>\n",
              "      <td>0.03</td>\n",
              "      <td>0</td>\n",
              "      <td>0</td>\n",
              "    </tr>\n",
              "    <tr>\n",
              "      <th>24</th>\n",
              "      <td>0.10</td>\n",
              "      <td>0.67</td>\n",
              "      <td>0.23</td>\n",
              "      <td>1</td>\n",
              "      <td>1</td>\n",
              "    </tr>\n",
              "    <tr>\n",
              "      <th>25</th>\n",
              "      <td>0.15</td>\n",
              "      <td>0.51</td>\n",
              "      <td>0.35</td>\n",
              "      <td>1</td>\n",
              "      <td>2</td>\n",
              "    </tr>\n",
              "    <tr>\n",
              "      <th>26</th>\n",
              "      <td>0.02</td>\n",
              "      <td>0.39</td>\n",
              "      <td>0.58</td>\n",
              "      <td>2</td>\n",
              "      <td>1</td>\n",
              "    </tr>\n",
              "    <tr>\n",
              "      <th>27</th>\n",
              "      <td>0.61</td>\n",
              "      <td>0.25</td>\n",
              "      <td>0.14</td>\n",
              "      <td>0</td>\n",
              "      <td>0</td>\n",
              "    </tr>\n",
              "    <tr>\n",
              "      <th>28</th>\n",
              "      <td>0.06</td>\n",
              "      <td>0.54</td>\n",
              "      <td>0.40</td>\n",
              "      <td>1</td>\n",
              "      <td>1</td>\n",
              "    </tr>\n",
              "    <tr>\n",
              "      <th>29</th>\n",
              "      <td>0.02</td>\n",
              "      <td>0.29</td>\n",
              "      <td>0.69</td>\n",
              "      <td>2</td>\n",
              "      <td>2</td>\n",
              "    </tr>\n",
              "  </tbody>\n",
              "</table>\n",
              "</div>"
            ],
            "text/plain": [
              "    p(0)  p(1)  p(2)  Prediction  True Class\n",
              "0   0.03  0.48  0.49           2           2\n",
              "1   0.88  0.10  0.03           0           0\n",
              "2   0.00  0.22  0.78           2           2\n",
              "3   0.87  0.05  0.08           0           0\n",
              "4   0.03  0.53  0.44           1           2\n",
              "5   0.00  0.17  0.83           2           2\n",
              "6   0.93  0.04  0.03           0           0\n",
              "7   0.68  0.26  0.06           0           0\n",
              "8   0.03  0.42  0.55           2           2\n",
              "9   0.72  0.23  0.05           0           0\n",
              "10  0.85  0.11  0.04           0           0\n",
              "11  0.06  0.39  0.54           2           2\n",
              "12  0.81  0.14  0.05           0           0\n",
              "13  0.72  0.19  0.08           0           0\n",
              "14  0.02  0.37  0.61           2           2\n",
              "15  0.06  0.50  0.44           1           1\n",
              "16  0.02  0.69  0.29           1           1\n",
              "17  0.02  0.37  0.61           2           1\n",
              "18  0.00  0.19  0.80           2           2\n",
              "19  0.01  0.35  0.64           2           2\n",
              "20  0.01  0.23  0.76           2           2\n",
              "21  0.61  0.25  0.14           0           0\n",
              "22  0.02  0.57  0.41           1           2\n",
              "23  0.85  0.13  0.03           0           0\n",
              "24  0.10  0.67  0.23           1           1\n",
              "25  0.15  0.51  0.35           1           2\n",
              "26  0.02  0.39  0.58           2           1\n",
              "27  0.61  0.25  0.14           0           0\n",
              "28  0.06  0.54  0.40           1           1\n",
              "29  0.02  0.29  0.69           2           2"
            ]
          },
          "metadata": {},
          "execution_count": 66
        }
      ]
    },
    {
      "cell_type": "code",
      "metadata": {
        "colab": {
          "base_uri": "https://localhost:8080/"
        },
        "id": "wS2LndkSxOK5",
        "outputId": "e47971da-136f-4be2-c3eb-01947ea43e81"
      },
      "source": [
        "# Confusion matrix - 5 errors out of 30 points\n",
        "confusion_matrix(y_test, log_reg.predict(X_test))"
      ],
      "execution_count": 67,
      "outputs": [
        {
          "output_type": "execute_result",
          "data": {
            "text/plain": [
              "array([[11,  0,  0],\n",
              "       [ 0,  4,  2],\n",
              "       [ 0,  3, 10]])"
            ]
          },
          "metadata": {},
          "execution_count": 67
        }
      ]
    },
    {
      "cell_type": "code",
      "metadata": {
        "colab": {
          "base_uri": "https://localhost:8080/",
          "height": 550
        },
        "id": "QOkUiKizxgYn",
        "outputId": "2e2a08a0-c34b-47ec-e9a2-453d9a62f8e3"
      },
      "source": [
        "from sklearn.utils.multiclass import unique_labels\n",
        "def plot_confusion_matrix(y_true, y_pred, classes,\n",
        "                          normalize=False,\n",
        "                          title=None,\n",
        "                          cmap=plt.cm.Blues):\n",
        "    \"\"\"\n",
        "    This function prints and plots the confusion matrix.\n",
        "    Normalization can be applied by setting `normalize=True`.\n",
        "    \"\"\"\n",
        "    if not title:\n",
        "        if normalize:\n",
        "            title = 'Normalized confusion matrix'\n",
        "        else:\n",
        "            title = 'Confusion matrix, without normalization'\n",
        "\n",
        "    # Compute confusion matrix\n",
        "    cm = confusion_matrix(y_true, y_pred)\n",
        "    # Only use the labels that appear in the data\n",
        "    classes = classes[unique_labels(y_true, y_pred)]\n",
        "    if normalize:\n",
        "        cm = cm.astype('float') / cm.sum(axis=1)[:, np.newaxis]\n",
        "        print(\"Normalized confusion matrix\")\n",
        "    else:\n",
        "        print('Confusion matrix, without normalization')\n",
        "\n",
        "#     print(cm)\n",
        "\n",
        "    fig, ax = plt.subplots(figsize=(10,7))\n",
        "    im = ax.imshow(cm, interpolation='nearest', cmap=cmap)\n",
        "    ax.figure.colorbar(im, ax=ax)\n",
        "    # We want to show all ticks...\n",
        "    ax.set(xticks=np.arange(cm.shape[1]),\n",
        "           yticks=np.arange(cm.shape[0]),\n",
        "           # ... and label them with the respective list entries\n",
        "           xticklabels=classes, yticklabels=classes,\n",
        "           title=title,\n",
        "           ylabel='True label',\n",
        "           xlabel='Predicted label')\n",
        "    plt.ylim([-0.5, 2.5])\n",
        "\n",
        "    # Rotate the tick labels and set their alignment.\n",
        "    plt.setp(ax.get_xticklabels(), rotation=45, ha=\"right\",\n",
        "             rotation_mode=\"anchor\")\n",
        "\n",
        "    \n",
        "    # Loop over data dimensions and create text annotations.\n",
        "    fmt = '.2f' if normalize else 'd'\n",
        "    thresh = cm.max() / 2.\n",
        "    for i in range(cm.shape[0]):\n",
        "        for j in range(cm.shape[1]):\n",
        "            ax.text(j, i, format(cm[i, j], fmt),\n",
        "                    ha=\"center\", va=\"center\",\n",
        "                    color=\"white\" if cm[i, j] > thresh else \"black\")\n",
        "    fig.tight_layout();\n",
        "    return ax\n",
        "\n",
        "# Plot non-normalized confusion matrix\n",
        "plot_confusion_matrix(y_test, log_reg.predict(X_test), classes=iris.target_names,\n",
        "                      title='Confusion matrix on the test set, without normalization')"
      ],
      "execution_count": 68,
      "outputs": [
        {
          "output_type": "stream",
          "name": "stdout",
          "text": [
            "Confusion matrix, without normalization\n"
          ]
        },
        {
          "output_type": "execute_result",
          "data": {
            "text/plain": [
              "<matplotlib.axes._subplots.AxesSubplot at 0x7f0a8869a050>"
            ]
          },
          "metadata": {},
          "execution_count": 68
        },
        {
          "output_type": "display_data",
          "data": {
            "image/png": "[encoded data removed]",
            "text/plain": [
              "<Figure size 720x504 with 2 Axes>"
            ]
          },
          "metadata": {
            "needs_background": "light"
          }
        }
      ]
    },
    {
      "cell_type": "code",
      "metadata": {
        "colab": {
          "base_uri": "https://localhost:8080/",
          "height": 610
        },
        "id": "CqwKEctKyF3R",
        "outputId": "7437a47f-62bb-4950-bd94-ea1a0b882f3c"
      },
      "source": [
        "# Plot the decision boundaries for test set. For that, we will assign a \n",
        "# color to each point in the mesh [x_min, x_max]x[y_min, y_max].\n",
        "x_min, x_max = X_test[:, 0].min() - .2, X_test[:, 0].max() + .2\n",
        "y_min, y_max = X_test[:, 1].min() - .2, X_test[:, 1].max() + .2\n",
        "h = .001  # step size in the mesh\n",
        "xx, yy = np.meshgrid(np.arange(x_min, x_max, h), np.arange(y_min, y_max, h))\n",
        "Z = log_reg.predict(np.c_[xx.ravel(), yy.ravel()])\n",
        "\n",
        "# Put the result into a color plot\n",
        "Z = Z.reshape(xx.shape)\n",
        "plt.figure(1, figsize=(15, 10))\n",
        "plt.pcolormesh(xx, yy, Z, cmap=plt.cm.Paired)\n",
        "\n",
        "# Plot also the training points\n",
        "plt.scatter(X_test[:, 0], X_test[:, 1], c=y_test, edgecolors='k', cmap=plt.cm.Paired)\n",
        "plt.xlabel('Sepal length', fontsize=15)\n",
        "plt.ylabel('Sepal width', fontsize=15)\n",
        "\n",
        "plt.xlim(xx.min(), xx.max())\n",
        "plt.ylim(yy.min(), yy.max())\n",
        "plt.xticks(())\n",
        "plt.yticks(())\n",
        "plt.title('Decision boundary for the test set')\n",
        "\n",
        "plt.show()"
      ],
      "execution_count": 69,
      "outputs": [
        {
          "output_type": "display_data",
          "data": {
            "image/png": "[encoded data removed]",
            "text/plain": [
              "<Figure size 1080x720 with 1 Axes>"
            ]
          },
          "metadata": {}
        }
      ]
    },
    {
      "cell_type": "code",
      "metadata": {
        "colab": {
          "base_uri": "https://localhost:8080/",
          "height": 550
        },
        "id": "vomS-yyaykOO",
        "outputId": "5686630d-73a9-4fdf-fe59-5c772cd90bbb"
      },
      "source": [
        "# confusion matrix - training set\n",
        "\n",
        "# Plot non-normalized confusion matrix\n",
        "plot_confusion_matrix(y_train, log_reg.predict(X_train), classes=iris.target_names,\n",
        "                      title='Confusion matrix on the training set, without normalization')"
      ],
      "execution_count": 70,
      "outputs": [
        {
          "output_type": "stream",
          "name": "stdout",
          "text": [
            "Confusion matrix, without normalization\n"
          ]
        },
        {
          "output_type": "execute_result",
          "data": {
            "text/plain": [
              "<matplotlib.axes._subplots.AxesSubplot at 0x7f0a885e5250>"
            ]
          },
          "metadata": {},
          "execution_count": 70
        },
        {
          "output_type": "display_data",
          "data": {
            "image/png": "[encoded data removed]",
            "text/plain": [
              "<Figure size 720x504 with 2 Axes>"
            ]
          },
          "metadata": {
            "needs_background": "light"
          }
        }
      ]
    },
    {
      "cell_type": "code",
      "metadata": {
        "colab": {
          "base_uri": "https://localhost:8080/",
          "height": 610
        },
        "id": "lkQPgk_4yt-s",
        "outputId": "634de26c-a936-4285-e575-8dededbf2746"
      },
      "source": [
        "# Plot the decision boundaries for training set. For that, we will assign a \n",
        "# color to each point in the mesh [x_min, x_max]x[y_min, y_max].\n",
        "x_min, x_max = X_train[:, 0].min() - .2, X_train[:, 0].max() + .2\n",
        "y_min, y_max = X_train[:, 1].min() - .2, X_train[:, 1].max() + .2\n",
        "h = .01  # step size in the mesh\n",
        "xx, yy = np.meshgrid(np.arange(x_min, x_max, h), np.arange(y_min, y_max, h))\n",
        "Z = log_reg.predict(np.c_[xx.ravel(), yy.ravel()])\n",
        "\n",
        "# Put the result into a color plot\n",
        "Z = Z.reshape(xx.shape)\n",
        "plt.figure(1, figsize=(15, 10))\n",
        "plt.pcolormesh(xx, yy, Z, cmap=plt.cm.Paired)\n",
        "\n",
        "# Plot also the training points\n",
        "plt.scatter(X_train[:, 0], X_train[:, 1], c=y_train, edgecolors='k', cmap=plt.cm.Paired)\n",
        "plt.xlabel('Sepal length', fontsize=15)\n",
        "plt.ylabel('Sepal width', fontsize=15)\n",
        "\n",
        "plt.xlim(xx.min(), xx.max())\n",
        "plt.ylim(yy.min(), yy.max())\n",
        "plt.xticks(())\n",
        "plt.yticks(())\n",
        "plt.title('Decision boundary on the training set')\n",
        "\n",
        "plt.show()"
      ],
      "execution_count": 71,
      "outputs": [
        {
          "output_type": "display_data",
          "data": {
            "image/png": "[encoded data removed]",
            "text/plain": [
              "<Figure size 1080x720 with 1 Axes>"
            ]
          },
          "metadata": {}
        }
      ]
    },
    {
      "cell_type": "markdown",
      "metadata": {
        "id": "gCGTIGkOzSvI"
      },
      "source": [
        "\n",
        "## References:\n",
        "[Scikit Learn Library](https://scikit-learn.org/stable/supervised_learning.html#supervised-learning)   \n",
        "[Logistic Regression for Machine Learning by Jason Brownlee PhD](https://machinelearningmastery.com/logistic-regression-for-machine-learning/)  \n",
        "[Advertising - Logistic Regression](https://www.kaggle.com/arpitsomani/advertisement-logistic-regression#Predictions-and-Evaluations)  "
      ]
    }
  ]
}