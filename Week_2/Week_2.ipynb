{
  "cells": [
    {
      "cell_type": "markdown",
      "metadata": {},
      "source": [
        "<a href=\"https://colab.research.google.com/github/michalis0/DataScience_and_MachineLearning/blob/master/Week_2/Week_2.ipynb\" target=\"_parent\"><img src=\"https://colab.research.google.com/assets/colab-badge.svg\" alt=\"Open In Colab\"/></a>"
      ]
    },
    {
      "cell_type": "markdown",
      "metadata": {
        "id": "sPgLYyUIzy-L"
      },
      "source": [
        "# Python Notebooks\n",
        "\n",
        "## Goals\n",
        "The goal of this notebook is to briefly introduce you to the main tools we will use in this practical seminar: Python code and markdown Notebooks.  The focus will be on using markdown to create interactive notebooks, which you can share with others.\n",
        "\n",
        "## Getting started\n",
        "\n",
        "**Notebooks** represent an interactive environment for writing and executing code, while at the same time also documenting the code with rich text. Here we review some elementary ways of creating your notebooks.\n",
        "\n",
        "We will be using **Google Colab**, which is a free notebook environment, that does not require any installations and uses Google servers to execute the code. You can simply run it in your browser, after you create a free Google account (if not yet done).\n",
        "\n",
        "To open a new notebook in Google Colab click [here](https://colab.research.google.com/) and then click on the \"New Notebook\" at the bottom right.\n",
        "\n",
        "You can open this notebook in Colab by clicking on the Open in Colab badge on top of the file.\n",
        "\n",
        "A notebook consists of two kinds of cells:\n",
        "* cellls that contain executable **code** and\n",
        "* cells that contain **markdown (text)**.\n",
        "\n",
        "Here we'll provide a more detailed introduction to the text cells, while the following seminars we'll focus more on the code cells.\n",
        "\n",
        "Markdown syntax is very similar to HTML, but it is more simplified. Here are some additional introductory ressources:\n",
        "- Try markdown on your own in [Google Colab](https://colab.research.google.com/notebooks/markdown_guide.ipynb)\n",
        "- You can also find a more detailed and [lengthy introduction](https://about.gitlab.com/handbook/product/technical-writing/markdown-guide/).\n",
        "\n",
        "### Switching between Code and Text/Markdown\n",
        "\n",
        "- If you want to include markdown in a code cell, you can convert it to a text cell by pressing `control M M` (that is hold down the `control` key and press two times the letter `M`).\n",
        "- You can convert a text cell into a code cell using the shortcut `control M Y`."
      ]
    },
    {
      "cell_type": "code",
      "execution_count": null,
      "metadata": {
        "id": "hKSzCk0D4WrP"
      },
      "outputs": [],
      "source": []
    },
    {
      "cell_type": "markdown",
      "metadata": {
        "id": "kXvAgbBGzy-W"
      },
      "source": [
        "<div class=\"alert alert-block alert-info\">\n",
        "\n",
        "\n",
        "<h2>Shortcuts</h2>\n",
        "\n",
        "It's good to learn the following shortcuts:\n",
        "\n",
        "\n",
        "- Execute a cell: shift-enter on Mac (ctrl-enter for Windows)\n",
        "- Saving the notebook: command s on a Mac, (ctrl-s for Windows)\n",
        "- Change Cell types: ctrl M Y (code), ctrl M M (markdown)\n",
        "\n",
        "<h2>Saving & downloading your notebook</h2>\n",
        "\n",
        "You can save your notebook in your Google Drive using the Colab Menu > File > Save a copy in Drive (Google Drive), or directly in GitHub.\n",
        "\n",
        "You can also download the notebook using File>Download>  .ipynb (notebook format).\n",
        "\n",
        "</div>\n",
        "\n",
        "\n"
      ]
    },
    {
      "cell_type": "markdown",
      "metadata": {
        "id": "4bVDcyJHHFjh"
      },
      "source": [
        "# Basic operations with Pandas\n",
        "\n",
        "<img width=\"200\" src='https://upload.wikimedia.org/wikipedia/commons/e/ed/Pandas_logo.svg'>\n",
        "\n",
        "##Data cleaning\n",
        "### How Does Data Get Dirty?\n",
        "- Missing data.\n",
        "- Inconsistent data.\n",
        "- Duplicate data.\n",
        "\n",
        "This is just to name a few things that can go wrong. There is an endless list of ways that data can end up very messy.\n",
        "Sometimes there are insufficient validation checks when the data is entered in the first place.\n",
        "If you have form fields with users entering data in any format they want with no guidelines or form validation checks in place to enforce conforming to a certain format, then users will input however they see fit.\n",
        "\n",
        "There could be an input field for the state (U.S.) and you have some data that is the two-character abbreviation, NY and then others have New York, then there are potential misspellings and typos, etc.\n",
        "\n",
        "Data can also become corrupted during transmission or in storage."
      ]
    },
    {
      "cell_type": "code",
      "execution_count": 4,
      "metadata": {
        "colab": {
          "base_uri": "https://localhost:8080/",
          "height": 374
        },
        "id": "abwjDTZRHvzn",
        "outputId": "c788ae90-7678-44c4-bef0-b17762a60854"
      },
      "outputs": [],
      "source": [
        "import pandas as pd\n",
        "import numpy as np\n",
        "import matplotlib.pyplot as plt\n",
        "df = pd.read_csv(\"https://raw.githubusercontent.com/michalis0/DataScience_and_MachineLearning/master/Week_2/user_records_lab.csv\")\n"
      ]
    },
    {
      "cell_type": "markdown",
      "metadata": {
        "id": "Fl_HmWwtIBDJ"
      },
      "source": [
        "###Shape of the data\n",
        "\n",
        "Let's first check how many rows and columns (features) are in this dataset"
      ]
    },
    {
      "cell_type": "code",
      "execution_count": 5,
      "metadata": {
        "id": "uICj1b0GIEKG"
      },
      "outputs": [
        {
          "data": {
            "text/plain": [
              "(523, 9)"
            ]
          },
          "execution_count": 5,
          "metadata": {},
          "output_type": "execute_result"
        }
      ],
      "source": [
        "df.shape"
      ]
    },
    {
      "cell_type": "markdown",
      "metadata": {
        "id": "JT6l8O-2ISqh"
      },
      "source": [
        "\n",
        "### Check out the first few rows\n",
        "You can look at the first few rows by calling `head()` on the dataframe."
      ]
    },
    {
      "cell_type": "code",
      "execution_count": 6,
      "metadata": {
        "id": "xce5aB8SIOeu"
      },
      "outputs": [
        {
          "data": {
            "text/html": [
              "<div>\n",
              "<style scoped>\n",
              "    .dataframe tbody tr th:only-of-type {\n",
              "        vertical-align: middle;\n",
              "    }\n",
              "\n",
              "    .dataframe tbody tr th {\n",
              "        vertical-align: top;\n",
              "    }\n",
              "\n",
              "    .dataframe thead th {\n",
              "        text-align: right;\n",
              "    }\n",
              "</style>\n",
              "<table border=\"1\" class=\"dataframe\">\n",
              "  <thead>\n",
              "    <tr style=\"text-align: right;\">\n",
              "      <th></th>\n",
              "      <th>Unnamed: 0</th>\n",
              "      <th>UserID</th>\n",
              "      <th>first_name</th>\n",
              "      <th>last_name</th>\n",
              "      <th>birthday</th>\n",
              "      <th>country</th>\n",
              "      <th>marital_status</th>\n",
              "      <th>number_of_kids</th>\n",
              "      <th>employment</th>\n",
              "    </tr>\n",
              "  </thead>\n",
              "  <tbody>\n",
              "    <tr>\n",
              "      <th>0</th>\n",
              "      <td>0</td>\n",
              "      <td>400484</td>\n",
              "      <td>Silvia</td>\n",
              "      <td>Sanchez</td>\n",
              "      <td>20-11-2000</td>\n",
              "      <td>AR</td>\n",
              "      <td>0.0</td>\n",
              "      <td>2.0</td>\n",
              "      <td>Banker</td>\n",
              "    </tr>\n",
              "    <tr>\n",
              "      <th>1</th>\n",
              "      <td>1</td>\n",
              "      <td>282042</td>\n",
              "      <td>Juan</td>\n",
              "      <td>Diaz</td>\n",
              "      <td>29-03-1955</td>\n",
              "      <td>AR</td>\n",
              "      <td>NaN</td>\n",
              "      <td>2.0</td>\n",
              "      <td>Administrative employee</td>\n",
              "    </tr>\n",
              "    <tr>\n",
              "      <th>2</th>\n",
              "      <td>2</td>\n",
              "      <td>430537</td>\n",
              "      <td>Norma</td>\n",
              "      <td>Diaz</td>\n",
              "      <td>03-04-1977</td>\n",
              "      <td>AR</td>\n",
              "      <td>0.0</td>\n",
              "      <td>NaN</td>\n",
              "      <td>Lawyer</td>\n",
              "    </tr>\n",
              "  </tbody>\n",
              "</table>\n",
              "</div>"
            ],
            "text/plain": [
              "   Unnamed: 0  UserID first_name last_name    birthday country  \\\n",
              "0           0  400484     Silvia   Sanchez  20-11-2000      AR   \n",
              "1           1  282042       Juan      Diaz  29-03-1955      AR   \n",
              "2           2  430537      Norma      Diaz  03-04-1977      AR   \n",
              "\n",
              "   marital_status  number_of_kids               employment  \n",
              "0             0.0             2.0                   Banker  \n",
              "1             NaN             2.0  Administrative employee  \n",
              "2             0.0             NaN                   Lawyer  "
            ]
          },
          "execution_count": 6,
          "metadata": {},
          "output_type": "execute_result"
        }
      ],
      "source": [
        "df.head(3)"
      ]
    },
    {
      "cell_type": "markdown",
      "metadata": {
        "id": "3TgOsG-pI8Yo"
      },
      "source": [
        "### List the column/feature names"
      ]
    },
    {
      "cell_type": "code",
      "execution_count": 7,
      "metadata": {
        "id": "KPRr2ogtI-3B"
      },
      "outputs": [
        {
          "data": {
            "text/plain": [
              "Index(['Unnamed: 0', 'UserID', 'first_name', 'last_name', 'birthday',\n",
              "       'country', 'marital_status', 'number_of_kids', 'employment'],\n",
              "      dtype='object')"
            ]
          },
          "execution_count": 7,
          "metadata": {},
          "output_type": "execute_result"
        }
      ],
      "source": [
        "df.columns"
      ]
    },
    {
      "cell_type": "markdown",
      "metadata": {
        "id": "e1XYn9tvJHbL"
      },
      "source": [
        "### Duplicates\n",
        "You can check if there are duplicates in the dataset."
      ]
    },
    {
      "cell_type": "code",
      "execution_count": 8,
      "metadata": {
        "id": "Ve6cJ5hbJIrQ"
      },
      "outputs": [
        {
          "data": {
            "text/plain": [
              "0      False\n",
              "1      False\n",
              "2      False\n",
              "3      False\n",
              "4      False\n",
              "       ...  \n",
              "518    False\n",
              "519    False\n",
              "520    False\n",
              "521    False\n",
              "522    False\n",
              "Length: 523, dtype: bool"
            ]
          },
          "execution_count": 8,
          "metadata": {},
          "output_type": "execute_result"
        }
      ],
      "source": [
        "df.duplicated()"
      ]
    },
    {
      "cell_type": "markdown",
      "metadata": {
        "id": "tebuO3lxJP-_"
      },
      "source": [
        "This shows which are the duplicated rows if any. None are duplicated here."
      ]
    },
    {
      "cell_type": "code",
      "execution_count": 9,
      "metadata": {
        "id": "5UPbuQn5JQnQ"
      },
      "outputs": [
        {
          "data": {
            "text/html": [
              "<div>\n",
              "<style scoped>\n",
              "    .dataframe tbody tr th:only-of-type {\n",
              "        vertical-align: middle;\n",
              "    }\n",
              "\n",
              "    .dataframe tbody tr th {\n",
              "        vertical-align: top;\n",
              "    }\n",
              "\n",
              "    .dataframe thead th {\n",
              "        text-align: right;\n",
              "    }\n",
              "</style>\n",
              "<table border=\"1\" class=\"dataframe\">\n",
              "  <thead>\n",
              "    <tr style=\"text-align: right;\">\n",
              "      <th></th>\n",
              "      <th>Unnamed: 0</th>\n",
              "      <th>UserID</th>\n",
              "      <th>first_name</th>\n",
              "      <th>last_name</th>\n",
              "      <th>birthday</th>\n",
              "      <th>country</th>\n",
              "      <th>marital_status</th>\n",
              "      <th>number_of_kids</th>\n",
              "      <th>employment</th>\n",
              "    </tr>\n",
              "  </thead>\n",
              "  <tbody>\n",
              "  </tbody>\n",
              "</table>\n",
              "</div>"
            ],
            "text/plain": [
              "Empty DataFrame\n",
              "Columns: [Unnamed: 0, UserID, first_name, last_name, birthday, country, marital_status, number_of_kids, employment]\n",
              "Index: []"
            ]
          },
          "execution_count": 9,
          "metadata": {},
          "output_type": "execute_result"
        }
      ],
      "source": [
        "df.loc[df.duplicated()=='True', :]"
      ]
    },
    {
      "cell_type": "markdown",
      "metadata": {
        "id": "pLJGJqwPT8B9"
      },
      "source": [
        "You can check if the same value appears in a single column more than once in the dataset. Are there multiple users with the same birthday?"
      ]
    },
    {
      "cell_type": "code",
      "execution_count": 10,
      "metadata": {
        "id": "vNPN6bqVUjDq"
      },
      "outputs": [
        {
          "data": {
            "text/plain": [
              "0      False\n",
              "1      False\n",
              "2      False\n",
              "3      False\n",
              "4      False\n",
              "       ...  \n",
              "518    False\n",
              "519    False\n",
              "520    False\n",
              "521    False\n",
              "522    False\n",
              "Name: birthday, Length: 523, dtype: bool"
            ]
          },
          "execution_count": 10,
          "metadata": {},
          "output_type": "execute_result"
        }
      ],
      "source": [
        "df.birthday.duplicated()"
      ]
    },
    {
      "cell_type": "markdown",
      "metadata": {
        "id": "-Akjuv9hBsPg"
      },
      "source": [
        "You can also filter the table so that only entries with given characteristics are maintained, for example users from Switzerland (CH)"
      ]
    },
    {
      "cell_type": "code",
      "execution_count": 11,
      "metadata": {
        "id": "VxQYqj_YB-TQ"
      },
      "outputs": [
        {
          "data": {
            "text/html": [
              "<div>\n",
              "<style scoped>\n",
              "    .dataframe tbody tr th:only-of-type {\n",
              "        vertical-align: middle;\n",
              "    }\n",
              "\n",
              "    .dataframe tbody tr th {\n",
              "        vertical-align: top;\n",
              "    }\n",
              "\n",
              "    .dataframe thead th {\n",
              "        text-align: right;\n",
              "    }\n",
              "</style>\n",
              "<table border=\"1\" class=\"dataframe\">\n",
              "  <thead>\n",
              "    <tr style=\"text-align: right;\">\n",
              "      <th></th>\n",
              "      <th>Unnamed: 0</th>\n",
              "      <th>UserID</th>\n",
              "      <th>first_name</th>\n",
              "      <th>last_name</th>\n",
              "      <th>birthday</th>\n",
              "      <th>country</th>\n",
              "      <th>marital_status</th>\n",
              "      <th>number_of_kids</th>\n",
              "      <th>employment</th>\n",
              "    </tr>\n",
              "  </thead>\n",
              "  <tbody>\n",
              "    <tr>\n",
              "      <th>70</th>\n",
              "      <td>70</td>\n",
              "      <td>222589</td>\n",
              "      <td>Pascal</td>\n",
              "      <td>Rodrigues</td>\n",
              "      <td>12-06-1998</td>\n",
              "      <td>CH</td>\n",
              "      <td>1.0</td>\n",
              "      <td>0.0</td>\n",
              "      <td>Librarian</td>\n",
              "    </tr>\n",
              "    <tr>\n",
              "      <th>71</th>\n",
              "      <td>71</td>\n",
              "      <td>465432</td>\n",
              "      <td>Markus</td>\n",
              "      <td>Meier</td>\n",
              "      <td>15-11-1986</td>\n",
              "      <td>CH</td>\n",
              "      <td>1.0</td>\n",
              "      <td>1.0</td>\n",
              "      <td>Consultant</td>\n",
              "    </tr>\n",
              "    <tr>\n",
              "      <th>72</th>\n",
              "      <td>72</td>\n",
              "      <td>244554</td>\n",
              "      <td>Marcel</td>\n",
              "      <td>Meyer</td>\n",
              "      <td>26-08-1997</td>\n",
              "      <td>CH</td>\n",
              "      <td>1.0</td>\n",
              "      <td>1.0</td>\n",
              "      <td>Banker</td>\n",
              "    </tr>\n",
              "    <tr>\n",
              "      <th>73</th>\n",
              "      <td>73</td>\n",
              "      <td>343094</td>\n",
              "      <td>Marc</td>\n",
              "      <td>Pereira</td>\n",
              "      <td>03-12-1966</td>\n",
              "      <td>CH</td>\n",
              "      <td>1.0</td>\n",
              "      <td>2.0</td>\n",
              "      <td>Lawyer</td>\n",
              "    </tr>\n",
              "  </tbody>\n",
              "</table>\n",
              "</div>"
            ],
            "text/plain": [
              "    Unnamed: 0  UserID first_name  last_name    birthday country  \\\n",
              "70          70  222589     Pascal  Rodrigues  12-06-1998      CH   \n",
              "71          71  465432     Markus      Meier  15-11-1986      CH   \n",
              "72          72  244554     Marcel      Meyer  26-08-1997      CH   \n",
              "73          73  343094       Marc    Pereira  03-12-1966      CH   \n",
              "\n",
              "    marital_status  number_of_kids  employment  \n",
              "70             1.0             0.0   Librarian  \n",
              "71             1.0             1.0  Consultant  \n",
              "72             1.0             1.0      Banker  \n",
              "73             1.0             2.0      Lawyer  "
            ]
          },
          "execution_count": 11,
          "metadata": {},
          "output_type": "execute_result"
        }
      ],
      "source": [
        "df[df['country']=='CH'].head()"
      ]
    },
    {
      "cell_type": "markdown",
      "metadata": {
        "id": "ZtNDR-qOzFfQ"
      },
      "source": [
        "You can also get the list of people who have their birthday the same day as another person in the dataset"
      ]
    },
    {
      "cell_type": "code",
      "execution_count": 12,
      "metadata": {
        "id": "R7xDb_JPyD0x"
      },
      "outputs": [
        {
          "data": {
            "text/html": [
              "<div>\n",
              "<style scoped>\n",
              "    .dataframe tbody tr th:only-of-type {\n",
              "        vertical-align: middle;\n",
              "    }\n",
              "\n",
              "    .dataframe tbody tr th {\n",
              "        vertical-align: top;\n",
              "    }\n",
              "\n",
              "    .dataframe thead th {\n",
              "        text-align: right;\n",
              "    }\n",
              "</style>\n",
              "<table border=\"1\" class=\"dataframe\">\n",
              "  <thead>\n",
              "    <tr style=\"text-align: right;\">\n",
              "      <th></th>\n",
              "      <th>Unnamed: 0</th>\n",
              "      <th>UserID</th>\n",
              "      <th>first_name</th>\n",
              "      <th>last_name</th>\n",
              "      <th>birthday</th>\n",
              "      <th>country</th>\n",
              "      <th>marital_status</th>\n",
              "      <th>number_of_kids</th>\n",
              "      <th>employment</th>\n",
              "    </tr>\n",
              "  </thead>\n",
              "  <tbody>\n",
              "    <tr>\n",
              "      <th>140</th>\n",
              "      <td>140</td>\n",
              "      <td>256419</td>\n",
              "      <td>Rasmus</td>\n",
              "      <td>Rasmussen</td>\n",
              "      <td>27-01-1991</td>\n",
              "      <td>DK</td>\n",
              "      <td>0.0</td>\n",
              "      <td>0.0</td>\n",
              "      <td>Administrative employee</td>\n",
              "    </tr>\n",
              "    <tr>\n",
              "      <th>195</th>\n",
              "      <td>195</td>\n",
              "      <td>487427</td>\n",
              "      <td>Hanna</td>\n",
              "      <td>Hämäläinen</td>\n",
              "      <td>26-08-1997</td>\n",
              "      <td>FI</td>\n",
              "      <td>NaN</td>\n",
              "      <td>0.0</td>\n",
              "      <td>Professor</td>\n",
              "    </tr>\n",
              "    <tr>\n",
              "      <th>221</th>\n",
              "      <td>221</td>\n",
              "      <td>152933</td>\n",
              "      <td>Martina</td>\n",
              "      <td>Vuković</td>\n",
              "      <td>29-05-1999</td>\n",
              "      <td>HR</td>\n",
              "      <td>0.0</td>\n",
              "      <td>NaN</td>\n",
              "      <td>Administrative employee</td>\n",
              "    </tr>\n",
              "    <tr>\n",
              "      <th>245</th>\n",
              "      <td>245</td>\n",
              "      <td>93043</td>\n",
              "      <td>Katalin</td>\n",
              "      <td>Balogh</td>\n",
              "      <td>11-03-1984</td>\n",
              "      <td>HU</td>\n",
              "      <td>0.0</td>\n",
              "      <td>0.0</td>\n",
              "      <td>Web Designer</td>\n",
              "    </tr>\n",
              "    <tr>\n",
              "      <th>295</th>\n",
              "      <td>295</td>\n",
              "      <td>492042</td>\n",
              "      <td>Giovanni</td>\n",
              "      <td>Bianchi</td>\n",
              "      <td>20-12-1970</td>\n",
              "      <td>IT</td>\n",
              "      <td>0.0</td>\n",
              "      <td>0.0</td>\n",
              "      <td>Lawyer</td>\n",
              "    </tr>\n",
              "  </tbody>\n",
              "</table>\n",
              "</div>"
            ],
            "text/plain": [
              "     Unnamed: 0  UserID first_name   last_name    birthday country  \\\n",
              "140         140  256419     Rasmus   Rasmussen  27-01-1991      DK   \n",
              "195         195  487427      Hanna  Hämäläinen  26-08-1997      FI   \n",
              "221         221  152933    Martina     Vuković  29-05-1999      HR   \n",
              "245         245   93043    Katalin      Balogh  11-03-1984      HU   \n",
              "295         295  492042   Giovanni     Bianchi  20-12-1970      IT   \n",
              "\n",
              "     marital_status  number_of_kids               employment  \n",
              "140             0.0             0.0  Administrative employee  \n",
              "195             NaN             0.0                Professor  \n",
              "221             0.0             NaN  Administrative employee  \n",
              "245             0.0             0.0             Web Designer  \n",
              "295             0.0             0.0                   Lawyer  "
            ]
          },
          "execution_count": 12,
          "metadata": {},
          "output_type": "execute_result"
        }
      ],
      "source": [
        "df[df.birthday.duplicated()].head()"
      ]
    },
    {
      "cell_type": "markdown",
      "metadata": {
        "id": "FdIP5xyv2Qfs"
      },
      "source": [
        "You can also show all users who have their birthday on the same day by checking who has their birthday on one of the duplicated dates."
      ]
    },
    {
      "cell_type": "code",
      "execution_count": 13,
      "metadata": {
        "id": "JDXzbAGPzVXy"
      },
      "outputs": [
        {
          "data": {
            "text/html": [
              "<div>\n",
              "<style scoped>\n",
              "    .dataframe tbody tr th:only-of-type {\n",
              "        vertical-align: middle;\n",
              "    }\n",
              "\n",
              "    .dataframe tbody tr th {\n",
              "        vertical-align: top;\n",
              "    }\n",
              "\n",
              "    .dataframe thead th {\n",
              "        text-align: right;\n",
              "    }\n",
              "</style>\n",
              "<table border=\"1\" class=\"dataframe\">\n",
              "  <thead>\n",
              "    <tr style=\"text-align: right;\">\n",
              "      <th></th>\n",
              "      <th>Unnamed: 0</th>\n",
              "      <th>UserID</th>\n",
              "      <th>first_name</th>\n",
              "      <th>last_name</th>\n",
              "      <th>birthday</th>\n",
              "      <th>country</th>\n",
              "      <th>marital_status</th>\n",
              "      <th>number_of_kids</th>\n",
              "      <th>employment</th>\n",
              "    </tr>\n",
              "  </thead>\n",
              "  <tbody>\n",
              "    <tr>\n",
              "      <th>306</th>\n",
              "      <td>306</td>\n",
              "      <td>361536</td>\n",
              "      <td>영수</td>\n",
              "      <td>Park</td>\n",
              "      <td>04-03-1959</td>\n",
              "      <td>KR</td>\n",
              "      <td>NaN</td>\n",
              "      <td>3.0</td>\n",
              "      <td>Lawyer</td>\n",
              "    </tr>\n",
              "    <tr>\n",
              "      <th>170</th>\n",
              "      <td>170</td>\n",
              "      <td>174026</td>\n",
              "      <td>Marta</td>\n",
              "      <td>Gomez</td>\n",
              "      <td>04-03-1959</td>\n",
              "      <td>ES</td>\n",
              "      <td>0.0</td>\n",
              "      <td>1.0</td>\n",
              "      <td>Doctor</td>\n",
              "    </tr>\n",
              "    <tr>\n",
              "      <th>423</th>\n",
              "      <td>423</td>\n",
              "      <td>323922</td>\n",
              "      <td>Cherry</td>\n",
              "      <td>Bautista</td>\n",
              "      <td>04-10-2004</td>\n",
              "      <td>PH</td>\n",
              "      <td>1.0</td>\n",
              "      <td>0.0</td>\n",
              "      <td>Consultant</td>\n",
              "    </tr>\n",
              "    <tr>\n",
              "      <th>173</th>\n",
              "      <td>173</td>\n",
              "      <td>186825</td>\n",
              "      <td>Laura</td>\n",
              "      <td>Garcia</td>\n",
              "      <td>04-10-2004</td>\n",
              "      <td>ES</td>\n",
              "      <td>0.0</td>\n",
              "      <td>NaN</td>\n",
              "      <td>Administrative employee</td>\n",
              "    </tr>\n",
              "    <tr>\n",
              "      <th>61</th>\n",
              "      <td>61</td>\n",
              "      <td>455977</td>\n",
              "      <td>Andrew</td>\n",
              "      <td>Chan</td>\n",
              "      <td>11-03-1984</td>\n",
              "      <td>CA</td>\n",
              "      <td>NaN</td>\n",
              "      <td>2.0</td>\n",
              "      <td>Consultant</td>\n",
              "    </tr>\n",
              "  </tbody>\n",
              "</table>\n",
              "</div>"
            ],
            "text/plain": [
              "     Unnamed: 0  UserID first_name last_name    birthday country  \\\n",
              "306         306  361536         영수      Park  04-03-1959      KR   \n",
              "170         170  174026      Marta     Gomez  04-03-1959      ES   \n",
              "423         423  323922     Cherry  Bautista  04-10-2004      PH   \n",
              "173         173  186825      Laura    Garcia  04-10-2004      ES   \n",
              "61           61  455977     Andrew      Chan  11-03-1984      CA   \n",
              "\n",
              "     marital_status  number_of_kids               employment  \n",
              "306             NaN             3.0                   Lawyer  \n",
              "170             0.0             1.0                   Doctor  \n",
              "423             1.0             0.0               Consultant  \n",
              "173             0.0             NaN  Administrative employee  \n",
              "61              NaN             2.0               Consultant  "
            ]
          },
          "execution_count": 13,
          "metadata": {},
          "output_type": "execute_result"
        }
      ],
      "source": [
        "duplicate_dates = df[df.birthday.duplicated()]['birthday'].to_list()\n",
        "\n",
        "df[df['birthday'].isin(duplicate_dates)].sort_values('birthday').head()"
      ]
    },
    {
      "cell_type": "markdown",
      "metadata": {
        "id": "OH0Rp5xb3OH9"
      },
      "source": [
        "### Missing/Null values\n",
        "You can call `isnull()` and `sum()` to get a count of how many null values are there in each column."
      ]
    },
    {
      "cell_type": "code",
      "execution_count": 14,
      "metadata": {
        "id": "27y9FBJG3MuR"
      },
      "outputs": [
        {
          "data": {
            "text/plain": [
              "Unnamed: 0         0\n",
              "UserID             0\n",
              "first_name         0\n",
              "last_name          0\n",
              "birthday           0\n",
              "country            0\n",
              "marital_status    58\n",
              "number_of_kids    76\n",
              "employment         0\n",
              "dtype: int64"
            ]
          },
          "execution_count": 14,
          "metadata": {},
          "output_type": "execute_result"
        }
      ],
      "source": [
        "df.isnull().sum()"
      ]
    },
    {
      "cell_type": "markdown",
      "metadata": {
        "id": "LGxOw60564XO"
      },
      "source": [
        "### Data Types of the Features\n",
        "It is important that the data values in each column have the correct data type. For example, you can expect a column containing numbers to be in numeric format, but sometimes you will find string values in it. In such a case, when you do numeric calculations on that column you might get unexpected results.\n",
        "\n",
        "The property `dtypes` will show you the data types for each column in the dataframe."
      ]
    },
    {
      "cell_type": "code",
      "execution_count": 15,
      "metadata": {
        "id": "oy_gOccG656c"
      },
      "outputs": [
        {
          "data": {
            "text/plain": [
              "Unnamed: 0          int64\n",
              "UserID              int64\n",
              "first_name         object\n",
              "last_name          object\n",
              "birthday           object\n",
              "country            object\n",
              "marital_status    float64\n",
              "number_of_kids    float64\n",
              "employment         object\n",
              "dtype: object"
            ]
          },
          "execution_count": 15,
          "metadata": {},
          "output_type": "execute_result"
        }
      ],
      "source": [
        "df.dtypes"
      ]
    },
    {
      "cell_type": "markdown",
      "metadata": {
        "id": "6id3Cc5A857W"
      },
      "source": [
        "You can notice that the column `issue_date` is in integer format (`int64`), whereas it should be in datetime format. In Pandas you can convert a column to datetime format using `to_datetime` method."
      ]
    },
    {
      "cell_type": "code",
      "execution_count": 16,
      "metadata": {
        "id": "G5_uJ8Ua86nW"
      },
      "outputs": [
        {
          "data": {
            "text/plain": [
              "0    20-11-2000\n",
              "1    29-03-1955\n",
              "2    03-04-1977\n",
              "3    17-02-1992\n",
              "4    28-01-1990\n",
              "Name: birthday, dtype: object"
            ]
          },
          "execution_count": 16,
          "metadata": {},
          "output_type": "execute_result"
        }
      ],
      "source": [
        "df['birthday'].head()"
      ]
    },
    {
      "cell_type": "code",
      "execution_count": 17,
      "metadata": {
        "id": "_f5ix4CB8-sn"
      },
      "outputs": [
        {
          "name": "stderr",
          "output_type": "stream",
          "text": [
            "/var/folders/qd/z7xdcywd5pz1pljls6s24x_c0000gn/T/ipykernel_2479/1931636952.py:2: UserWarning: Parsing dates in %d-%m-%Y format when dayfirst=False (the default) was specified. Pass `dayfirst=True` or specify a format to silence this warning.\n",
            "  pd.to_datetime(df['birthday']).head()\n"
          ]
        },
        {
          "data": {
            "text/plain": [
              "0   2000-11-20\n",
              "1   1955-03-29\n",
              "2   1977-04-03\n",
              "3   1992-02-17\n",
              "4   1990-01-28\n",
              "Name: birthday, dtype: datetime64[ns]"
            ]
          },
          "execution_count": 17,
          "metadata": {},
          "output_type": "execute_result"
        }
      ],
      "source": [
        "# if you do not provide the format, the function may infer the wrong format\n",
        "pd.to_datetime(df['birthday']).head()"
      ]
    },
    {
      "cell_type": "code",
      "execution_count": 18,
      "metadata": {
        "id": "ZdIwEsiX9kZj"
      },
      "outputs": [
        {
          "data": {
            "text/plain": [
              "0   2000-11-20\n",
              "1   1955-03-29\n",
              "2   1977-04-03\n",
              "3   1992-02-17\n",
              "4   1990-01-28\n",
              "Name: birthday, dtype: datetime64[ns]"
            ]
          },
          "execution_count": 18,
          "metadata": {},
          "output_type": "execute_result"
        }
      ],
      "source": [
        "df['birthday'] = pd.to_datetime(df['birthday'], format=\"%d-%m-%Y\")\n",
        "df['birthday'].head()"
      ]
    },
    {
      "cell_type": "markdown",
      "metadata": {
        "id": "F2AVjpBZ-ErR"
      },
      "source": [
        "### Dropping the columns you are not interested in\n",
        "Let's say we are only interested in users last names, their first name and their origin. So we are going to drop the rest of the columns.\n",
        "\n",
        "Note that many operations in Pandas can be done on a copy of the data or in-place (affecting the original data frame). You can use the parameter `inplace=True`.\n",
        "\n",
        "> Also note that in Pandas, axis 0 represents the rows while axis 1 represents the columns."
      ]
    },
    {
      "cell_type": "code",
      "execution_count": 19,
      "metadata": {
        "id": "k1g_M2pLlCsJ"
      },
      "outputs": [
        {
          "data": {
            "text/html": [
              "<div>\n",
              "<style scoped>\n",
              "    .dataframe tbody tr th:only-of-type {\n",
              "        vertical-align: middle;\n",
              "    }\n",
              "\n",
              "    .dataframe tbody tr th {\n",
              "        vertical-align: top;\n",
              "    }\n",
              "\n",
              "    .dataframe thead th {\n",
              "        text-align: right;\n",
              "    }\n",
              "</style>\n",
              "<table border=\"1\" class=\"dataframe\">\n",
              "  <thead>\n",
              "    <tr style=\"text-align: right;\">\n",
              "      <th></th>\n",
              "      <th>Unnamed: 0</th>\n",
              "      <th>UserID</th>\n",
              "      <th>first_name</th>\n",
              "      <th>last_name</th>\n",
              "      <th>birthday</th>\n",
              "      <th>country</th>\n",
              "      <th>marital_status</th>\n",
              "      <th>number_of_kids</th>\n",
              "      <th>employment</th>\n",
              "    </tr>\n",
              "  </thead>\n",
              "  <tbody>\n",
              "    <tr>\n",
              "      <th>0</th>\n",
              "      <td>0</td>\n",
              "      <td>400484</td>\n",
              "      <td>Silvia</td>\n",
              "      <td>Sanchez</td>\n",
              "      <td>2000-11-20</td>\n",
              "      <td>AR</td>\n",
              "      <td>0.0</td>\n",
              "      <td>2.0</td>\n",
              "      <td>Banker</td>\n",
              "    </tr>\n",
              "    <tr>\n",
              "      <th>3</th>\n",
              "      <td>3</td>\n",
              "      <td>113561</td>\n",
              "      <td>Pablo</td>\n",
              "      <td>Gonzalez</td>\n",
              "      <td>1992-02-17</td>\n",
              "      <td>AR</td>\n",
              "      <td>0.0</td>\n",
              "      <td>0.0</td>\n",
              "      <td>Banker</td>\n",
              "    </tr>\n",
              "    <tr>\n",
              "      <th>4</th>\n",
              "      <td>4</td>\n",
              "      <td>137679</td>\n",
              "      <td>Markus</td>\n",
              "      <td>Pichler</td>\n",
              "      <td>1990-01-28</td>\n",
              "      <td>AT</td>\n",
              "      <td>0.0</td>\n",
              "      <td>0.0</td>\n",
              "      <td>Consultant</td>\n",
              "    </tr>\n",
              "    <tr>\n",
              "      <th>7</th>\n",
              "      <td>7</td>\n",
              "      <td>435136</td>\n",
              "      <td>Michael</td>\n",
              "      <td>Bauer</td>\n",
              "      <td>1968-04-14</td>\n",
              "      <td>AT</td>\n",
              "      <td>1.0</td>\n",
              "      <td>4.0</td>\n",
              "      <td>Professor</td>\n",
              "    </tr>\n",
              "    <tr>\n",
              "      <th>8</th>\n",
              "      <td>8</td>\n",
              "      <td>287641</td>\n",
              "      <td>Barbara</td>\n",
              "      <td>Berger</td>\n",
              "      <td>1998-09-17</td>\n",
              "      <td>AT</td>\n",
              "      <td>0.0</td>\n",
              "      <td>0.0</td>\n",
              "      <td>Doctor</td>\n",
              "    </tr>\n",
              "  </tbody>\n",
              "</table>\n",
              "</div>"
            ],
            "text/plain": [
              "   Unnamed: 0  UserID first_name last_name   birthday country  marital_status  \\\n",
              "0           0  400484     Silvia   Sanchez 2000-11-20      AR             0.0   \n",
              "3           3  113561      Pablo  Gonzalez 1992-02-17      AR             0.0   \n",
              "4           4  137679     Markus   Pichler 1990-01-28      AT             0.0   \n",
              "7           7  435136    Michael     Bauer 1968-04-14      AT             1.0   \n",
              "8           8  287641    Barbara    Berger 1998-09-17      AT             0.0   \n",
              "\n",
              "   number_of_kids  employment  \n",
              "0             2.0      Banker  \n",
              "3             0.0      Banker  \n",
              "4             0.0  Consultant  \n",
              "7             4.0   Professor  \n",
              "8             0.0      Doctor  "
            ]
          },
          "execution_count": 19,
          "metadata": {},
          "output_type": "execute_result"
        }
      ],
      "source": [
        "df.dropna().head()"
      ]
    },
    {
      "cell_type": "code",
      "execution_count": 20,
      "metadata": {
        "id": "bGLiGurn-cRY"
      },
      "outputs": [
        {
          "data": {
            "text/html": [
              "<div>\n",
              "<style scoped>\n",
              "    .dataframe tbody tr th:only-of-type {\n",
              "        vertical-align: middle;\n",
              "    }\n",
              "\n",
              "    .dataframe tbody tr th {\n",
              "        vertical-align: top;\n",
              "    }\n",
              "\n",
              "    .dataframe thead th {\n",
              "        text-align: right;\n",
              "    }\n",
              "</style>\n",
              "<table border=\"1\" class=\"dataframe\">\n",
              "  <thead>\n",
              "    <tr style=\"text-align: right;\">\n",
              "      <th></th>\n",
              "      <th>Unnamed: 0</th>\n",
              "      <th>first_name</th>\n",
              "      <th>last_name</th>\n",
              "      <th>country</th>\n",
              "      <th>marital_status</th>\n",
              "      <th>number_of_kids</th>\n",
              "      <th>employment</th>\n",
              "    </tr>\n",
              "  </thead>\n",
              "  <tbody>\n",
              "    <tr>\n",
              "      <th>0</th>\n",
              "      <td>0</td>\n",
              "      <td>Silvia</td>\n",
              "      <td>Sanchez</td>\n",
              "      <td>AR</td>\n",
              "      <td>0.0</td>\n",
              "      <td>2.0</td>\n",
              "      <td>Banker</td>\n",
              "    </tr>\n",
              "    <tr>\n",
              "      <th>1</th>\n",
              "      <td>1</td>\n",
              "      <td>Juan</td>\n",
              "      <td>Diaz</td>\n",
              "      <td>AR</td>\n",
              "      <td>NaN</td>\n",
              "      <td>2.0</td>\n",
              "      <td>Administrative employee</td>\n",
              "    </tr>\n",
              "    <tr>\n",
              "      <th>2</th>\n",
              "      <td>2</td>\n",
              "      <td>Norma</td>\n",
              "      <td>Diaz</td>\n",
              "      <td>AR</td>\n",
              "      <td>0.0</td>\n",
              "      <td>NaN</td>\n",
              "      <td>Lawyer</td>\n",
              "    </tr>\n",
              "    <tr>\n",
              "      <th>3</th>\n",
              "      <td>3</td>\n",
              "      <td>Pablo</td>\n",
              "      <td>Gonzalez</td>\n",
              "      <td>AR</td>\n",
              "      <td>0.0</td>\n",
              "      <td>0.0</td>\n",
              "      <td>Banker</td>\n",
              "    </tr>\n",
              "    <tr>\n",
              "      <th>4</th>\n",
              "      <td>4</td>\n",
              "      <td>Markus</td>\n",
              "      <td>Pichler</td>\n",
              "      <td>AT</td>\n",
              "      <td>0.0</td>\n",
              "      <td>0.0</td>\n",
              "      <td>Consultant</td>\n",
              "    </tr>\n",
              "  </tbody>\n",
              "</table>\n",
              "</div>"
            ],
            "text/plain": [
              "   Unnamed: 0 first_name last_name country  marital_status  number_of_kids  \\\n",
              "0           0     Silvia   Sanchez      AR             0.0             2.0   \n",
              "1           1       Juan      Diaz      AR             NaN             2.0   \n",
              "2           2      Norma      Diaz      AR             0.0             NaN   \n",
              "3           3      Pablo  Gonzalez      AR             0.0             0.0   \n",
              "4           4     Markus   Pichler      AT             0.0             0.0   \n",
              "\n",
              "                employment  \n",
              "0                   Banker  \n",
              "1  Administrative employee  \n",
              "2                   Lawyer  \n",
              "3                   Banker  \n",
              "4               Consultant  "
            ]
          },
          "execution_count": 20,
          "metadata": {},
          "output_type": "execute_result"
        }
      ],
      "source": [
        "columns_to_delete = ['UserID', 'birthday']\n",
        "df.drop(columns_to_delete, inplace=True, axis=1)\n",
        "df.head()"
      ]
    },
    {
      "cell_type": "markdown",
      "metadata": {
        "id": "ft28xhTS_2M_"
      },
      "source": [
        "You can also select the columns to keep instead of selecting the columns to delete"
      ]
    },
    {
      "cell_type": "code",
      "execution_count": 21,
      "metadata": {
        "id": "nYgk-ozd_7IN"
      },
      "outputs": [
        {
          "data": {
            "text/html": [
              "<div>\n",
              "<style scoped>\n",
              "    .dataframe tbody tr th:only-of-type {\n",
              "        vertical-align: middle;\n",
              "    }\n",
              "\n",
              "    .dataframe tbody tr th {\n",
              "        vertical-align: top;\n",
              "    }\n",
              "\n",
              "    .dataframe thead th {\n",
              "        text-align: right;\n",
              "    }\n",
              "</style>\n",
              "<table border=\"1\" class=\"dataframe\">\n",
              "  <thead>\n",
              "    <tr style=\"text-align: right;\">\n",
              "      <th></th>\n",
              "      <th>first_name</th>\n",
              "      <th>last_name</th>\n",
              "      <th>country</th>\n",
              "    </tr>\n",
              "  </thead>\n",
              "  <tbody>\n",
              "    <tr>\n",
              "      <th>0</th>\n",
              "      <td>Silvia</td>\n",
              "      <td>Sanchez</td>\n",
              "      <td>AR</td>\n",
              "    </tr>\n",
              "    <tr>\n",
              "      <th>1</th>\n",
              "      <td>Juan</td>\n",
              "      <td>Diaz</td>\n",
              "      <td>AR</td>\n",
              "    </tr>\n",
              "    <tr>\n",
              "      <th>2</th>\n",
              "      <td>Norma</td>\n",
              "      <td>Diaz</td>\n",
              "      <td>AR</td>\n",
              "    </tr>\n",
              "    <tr>\n",
              "      <th>3</th>\n",
              "      <td>Pablo</td>\n",
              "      <td>Gonzalez</td>\n",
              "      <td>AR</td>\n",
              "    </tr>\n",
              "    <tr>\n",
              "      <th>4</th>\n",
              "      <td>Markus</td>\n",
              "      <td>Pichler</td>\n",
              "      <td>AT</td>\n",
              "    </tr>\n",
              "  </tbody>\n",
              "</table>\n",
              "</div>"
            ],
            "text/plain": [
              "  first_name last_name country\n",
              "0     Silvia   Sanchez      AR\n",
              "1       Juan      Diaz      AR\n",
              "2      Norma      Diaz      AR\n",
              "3      Pablo  Gonzalez      AR\n",
              "4     Markus   Pichler      AT"
            ]
          },
          "execution_count": 21,
          "metadata": {},
          "output_type": "execute_result"
        }
      ],
      "source": [
        "columns_to_keep = ['first_name', 'last_name', 'country']\n",
        "df = df[columns_to_keep]\n",
        "df.head()"
      ]
    },
    {
      "cell_type": "markdown",
      "metadata": {
        "id": "3omP7MUKJGIk"
      },
      "source": [
        "With the help of the value_counts() function you can see how many people in the dataset are from each country.\n",
        "You can also use it to find how many maried people we have per country."
      ]
    },
    {
      "cell_type": "code",
      "execution_count": 22,
      "metadata": {
        "id": "RjlAyKbuJibj"
      },
      "outputs": [
        {
          "data": {
            "text/plain": [
              "country\n",
              "MY    20\n",
              "CL    19\n",
              "IT    19\n",
              "ES    18\n",
              "KR    17\n",
              "Name: count, dtype: int64"
            ]
          },
          "execution_count": 22,
          "metadata": {},
          "output_type": "execute_result"
        }
      ],
      "source": [
        "df = pd.read_csv(\"https://raw.githubusercontent.com/michalis0/DataScience_and_MachineLearning/master/Week_2/user_records_lab.csv\")\n",
        "df[\"country\"].value_counts().sort_values(ascending = False).head()"
      ]
    },
    {
      "cell_type": "code",
      "execution_count": 23,
      "metadata": {
        "id": "FfRvP4hvaC8Z"
      },
      "outputs": [
        {
          "data": {
            "text/plain": [
              "country\n",
              "PL    11\n",
              "IT    10\n",
              "MY    10\n",
              "DZ     9\n",
              "US     9\n",
              "Name: count, dtype: int64"
            ]
          },
          "execution_count": 23,
          "metadata": {},
          "output_type": "execute_result"
        }
      ],
      "source": [
        "df[df['marital_status'] == 1]['country'].value_counts().head()"
      ]
    },
    {
      "cell_type": "markdown",
      "metadata": {
        "id": "dZfWwEk2dQyk"
      },
      "source": [
        "You can also use the group by method to aggregate data depending on one category.\n",
        "\n",
        "We can use it to find the the average number of kids per country"
      ]
    },
    {
      "cell_type": "code",
      "execution_count": 24,
      "metadata": {
        "id": "KqiRH021JqbF"
      },
      "outputs": [
        {
          "data": {
            "text/html": [
              "<div>\n",
              "<style scoped>\n",
              "    .dataframe tbody tr th:only-of-type {\n",
              "        vertical-align: middle;\n",
              "    }\n",
              "\n",
              "    .dataframe tbody tr th {\n",
              "        vertical-align: top;\n",
              "    }\n",
              "\n",
              "    .dataframe thead th {\n",
              "        text-align: right;\n",
              "    }\n",
              "</style>\n",
              "<table border=\"1\" class=\"dataframe\">\n",
              "  <thead>\n",
              "    <tr style=\"text-align: right;\">\n",
              "      <th></th>\n",
              "      <th>number_of_kids</th>\n",
              "    </tr>\n",
              "    <tr>\n",
              "      <th>country</th>\n",
              "      <th></th>\n",
              "    </tr>\n",
              "  </thead>\n",
              "  <tbody>\n",
              "    <tr>\n",
              "      <th>BE</th>\n",
              "      <td>4.000000</td>\n",
              "    </tr>\n",
              "    <tr>\n",
              "      <th>RU</th>\n",
              "      <td>2.500000</td>\n",
              "    </tr>\n",
              "    <tr>\n",
              "      <th>HR</th>\n",
              "      <td>2.444444</td>\n",
              "    </tr>\n",
              "    <tr>\n",
              "      <th>NL</th>\n",
              "      <td>2.000000</td>\n",
              "    </tr>\n",
              "    <tr>\n",
              "      <th>IN</th>\n",
              "      <td>1.833333</td>\n",
              "    </tr>\n",
              "  </tbody>\n",
              "</table>\n",
              "</div>"
            ],
            "text/plain": [
              "         number_of_kids\n",
              "country                \n",
              "BE             4.000000\n",
              "RU             2.500000\n",
              "HR             2.444444\n",
              "NL             2.000000\n",
              "IN             1.833333"
            ]
          },
          "execution_count": 24,
          "metadata": {},
          "output_type": "execute_result"
        }
      ],
      "source": [
        "df= df[['country', 'number_of_kids']]\n",
        "df = df.dropna()\n",
        "\n",
        "df = df.groupby('country').mean().sort_values('number_of_kids', ascending=False)\n",
        "df.head()"
      ]
    },
    {
      "cell_type": "markdown",
      "metadata": {
        "id": "ZZxIthH6NYQR"
      },
      "source": [
        "##Your turn !\n"
      ]
    },
    {
      "cell_type": "markdown",
      "metadata": {
        "id": "c_U_te7vNcnb"
      },
      "source": [
        "Now a small exercice so that you can practice what we have learned so far.\n",
        "Based on this [new dataset](https://raw.githubusercontent.com/michalis0/DataScience_and_MachineLearning/master/Week_2/movie_data.csv), answer these questions:\n",
        "\n",
        "\n",
        "*   What is the shape of the dataset?\n",
        "*   What are the names of the columns ?\n",
        "*   Are there any duplicates ? If yes, which ones ?\n",
        "*   Are there any missing values ? If yes, which ones ?\n",
        "*   How many movies have a rating of 5 ? Create a list with the name of the movies\n",
        "\n"
      ]
    },
    {
      "cell_type": "code",
      "execution_count": null,
      "metadata": {
        "id": "8lS4kDcqNbLg"
      },
      "outputs": [],
      "source": []
    },
    {
      "cell_type": "markdown",
      "metadata": {
        "id": "KkWJBx21Cq41"
      },
      "source": [
        "#Operations with multiple datasets using pandas\n",
        "\n",
        "Sometimes data sets may come from different sources. In those cases you may need to merge datasets together.\n",
        "\n",
        "Let's assume two datasets, user data and flight records.\n",
        "\n",
        "The two data sets can be linked through the \"user_id\" column."
      ]
    },
    {
      "cell_type": "code",
      "execution_count": 25,
      "metadata": {
        "id": "EL7JbTKQCqUR"
      },
      "outputs": [
        {
          "data": {
            "text/html": [
              "<div>\n",
              "<style scoped>\n",
              "    .dataframe tbody tr th:only-of-type {\n",
              "        vertical-align: middle;\n",
              "    }\n",
              "\n",
              "    .dataframe tbody tr th {\n",
              "        vertical-align: top;\n",
              "    }\n",
              "\n",
              "    .dataframe thead th {\n",
              "        text-align: right;\n",
              "    }\n",
              "</style>\n",
              "<table border=\"1\" class=\"dataframe\">\n",
              "  <thead>\n",
              "    <tr style=\"text-align: right;\">\n",
              "      <th></th>\n",
              "      <th>UserID</th>\n",
              "      <th>first_name</th>\n",
              "      <th>last_name</th>\n",
              "    </tr>\n",
              "  </thead>\n",
              "  <tbody>\n",
              "    <tr>\n",
              "      <th>0</th>\n",
              "      <td>400484</td>\n",
              "      <td>Silvia</td>\n",
              "      <td>Sanchez</td>\n",
              "    </tr>\n",
              "    <tr>\n",
              "      <th>1</th>\n",
              "      <td>282042</td>\n",
              "      <td>Juan</td>\n",
              "      <td>Diaz</td>\n",
              "    </tr>\n",
              "  </tbody>\n",
              "</table>\n",
              "</div>"
            ],
            "text/plain": [
              "   UserID first_name last_name\n",
              "0  400484     Silvia   Sanchez\n",
              "1  282042       Juan      Diaz"
            ]
          },
          "execution_count": 25,
          "metadata": {},
          "output_type": "execute_result"
        }
      ],
      "source": [
        "#check the dataset with user data\n",
        "user_data = pd.read_csv(\"https://raw.githubusercontent.com/michalis0/DataScience_and_MachineLearning/master/Week_2/user_records_lab.csv\")\n",
        "\n",
        "user_data = user_data[['UserID', 'first_name', 'last_name']]\n",
        "user_data.head(2)"
      ]
    },
    {
      "cell_type": "code",
      "execution_count": 26,
      "metadata": {
        "id": "C8XXKKWVGa5_"
      },
      "outputs": [
        {
          "data": {
            "text/html": [
              "<div>\n",
              "<style scoped>\n",
              "    .dataframe tbody tr th:only-of-type {\n",
              "        vertical-align: middle;\n",
              "    }\n",
              "\n",
              "    .dataframe tbody tr th {\n",
              "        vertical-align: top;\n",
              "    }\n",
              "\n",
              "    .dataframe thead th {\n",
              "        text-align: right;\n",
              "    }\n",
              "</style>\n",
              "<table border=\"1\" class=\"dataframe\">\n",
              "  <thead>\n",
              "    <tr style=\"text-align: right;\">\n",
              "      <th></th>\n",
              "      <th>Unnamed: 0</th>\n",
              "      <th>flightName</th>\n",
              "      <th>departure</th>\n",
              "      <th>destination</th>\n",
              "      <th>date</th>\n",
              "      <th>userID</th>\n",
              "    </tr>\n",
              "  </thead>\n",
              "  <tbody>\n",
              "    <tr>\n",
              "      <th>0</th>\n",
              "      <td>0</td>\n",
              "      <td>NM22243</td>\n",
              "      <td>GT</td>\n",
              "      <td>SE</td>\n",
              "      <td>29-08-2010</td>\n",
              "      <td>400484</td>\n",
              "    </tr>\n",
              "    <tr>\n",
              "      <th>1</th>\n",
              "      <td>1</td>\n",
              "      <td>OC510364</td>\n",
              "      <td>SE</td>\n",
              "      <td>MT</td>\n",
              "      <td>15-11-2010</td>\n",
              "      <td>400484</td>\n",
              "    </tr>\n",
              "  </tbody>\n",
              "</table>\n",
              "</div>"
            ],
            "text/plain": [
              "   Unnamed: 0 flightName departure destination        date  userID\n",
              "0           0    NM22243        GT          SE  29-08-2010  400484\n",
              "1           1   OC510364        SE          MT  15-11-2010  400484"
            ]
          },
          "execution_count": 26,
          "metadata": {},
          "output_type": "execute_result"
        }
      ],
      "source": [
        "#check the dataset with the flight records\n",
        "flight_records = pd.read_csv(\"https://raw.githubusercontent.com/michalis0/DataScience_and_MachineLearning/master/Week_2/flight_records_lab.csv\")\n",
        "flight_records.head(2)"
      ]
    },
    {
      "cell_type": "markdown",
      "metadata": {
        "id": "Mp1SB0TPKoKM"
      },
      "source": [
        "[Merging](https://pandas.pydata.org/docs/user_guide/merging.html) the two datasets:"
      ]
    },
    {
      "cell_type": "code",
      "execution_count": 27,
      "metadata": {
        "id": "SJbpo03uHBcW"
      },
      "outputs": [
        {
          "data": {
            "text/html": [
              "<div>\n",
              "<style scoped>\n",
              "    .dataframe tbody tr th:only-of-type {\n",
              "        vertical-align: middle;\n",
              "    }\n",
              "\n",
              "    .dataframe tbody tr th {\n",
              "        vertical-align: top;\n",
              "    }\n",
              "\n",
              "    .dataframe thead th {\n",
              "        text-align: right;\n",
              "    }\n",
              "</style>\n",
              "<table border=\"1\" class=\"dataframe\">\n",
              "  <thead>\n",
              "    <tr style=\"text-align: right;\">\n",
              "      <th></th>\n",
              "      <th>Unnamed: 0</th>\n",
              "      <th>flightName</th>\n",
              "      <th>departure</th>\n",
              "      <th>destination</th>\n",
              "      <th>date</th>\n",
              "      <th>userID</th>\n",
              "      <th>UserID</th>\n",
              "      <th>first_name</th>\n",
              "      <th>last_name</th>\n",
              "    </tr>\n",
              "  </thead>\n",
              "  <tbody>\n",
              "    <tr>\n",
              "      <th>10629</th>\n",
              "      <td>10629</td>\n",
              "      <td>PC882106</td>\n",
              "      <td>NL</td>\n",
              "      <td>MD</td>\n",
              "      <td>01-01-2011</td>\n",
              "      <td>269234</td>\n",
              "      <td>269234</td>\n",
              "      <td>Farah</td>\n",
              "      <td>Abdullah</td>\n",
              "    </tr>\n",
              "    <tr>\n",
              "      <th>11333</th>\n",
              "      <td>11333</td>\n",
              "      <td>QZ38122</td>\n",
              "      <td>LU</td>\n",
              "      <td>BE</td>\n",
              "      <td>01-01-2011</td>\n",
              "      <td>443644</td>\n",
              "      <td>443644</td>\n",
              "      <td>Jun</td>\n",
              "      <td>Tan</td>\n",
              "    </tr>\n",
              "  </tbody>\n",
              "</table>\n",
              "</div>"
            ],
            "text/plain": [
              "       Unnamed: 0 flightName departure destination        date  userID  \\\n",
              "10629       10629   PC882106        NL          MD  01-01-2011  269234   \n",
              "11333       11333    QZ38122        LU          BE  01-01-2011  443644   \n",
              "\n",
              "       UserID first_name last_name  \n",
              "10629  269234      Farah  Abdullah  \n",
              "11333  443644        Jun       Tan  "
            ]
          },
          "execution_count": 27,
          "metadata": {},
          "output_type": "execute_result"
        }
      ],
      "source": [
        "combined_dataset = pd.merge(flight_records, user_data, left_on=\"userID\", right_on='UserID', how=\"left\", sort=False)\n",
        "combined_dataset = combined_dataset.sort_values('date')\n",
        "\n",
        "combined_dataset.head(2)"
      ]
    },
    {
      "cell_type": "markdown",
      "metadata": {
        "id": "EmNRTgx2LnyW"
      },
      "source": [
        "Now we can find who traveled on a given date, for example on the 1st of december 2022"
      ]
    },
    {
      "cell_type": "code",
      "execution_count": 28,
      "metadata": {
        "id": "38tF-z8HLndV"
      },
      "outputs": [
        {
          "data": {
            "text/html": [
              "<div>\n",
              "<style scoped>\n",
              "    .dataframe tbody tr th:only-of-type {\n",
              "        vertical-align: middle;\n",
              "    }\n",
              "\n",
              "    .dataframe tbody tr th {\n",
              "        vertical-align: top;\n",
              "    }\n",
              "\n",
              "    .dataframe thead th {\n",
              "        text-align: right;\n",
              "    }\n",
              "</style>\n",
              "<table border=\"1\" class=\"dataframe\">\n",
              "  <thead>\n",
              "    <tr style=\"text-align: right;\">\n",
              "      <th></th>\n",
              "      <th>Unnamed: 0</th>\n",
              "      <th>flightName</th>\n",
              "      <th>departure</th>\n",
              "      <th>destination</th>\n",
              "      <th>date</th>\n",
              "      <th>userID</th>\n",
              "      <th>UserID</th>\n",
              "      <th>first_name</th>\n",
              "      <th>last_name</th>\n",
              "    </tr>\n",
              "  </thead>\n",
              "  <tbody>\n",
              "    <tr>\n",
              "      <th>6842</th>\n",
              "      <td>6842</td>\n",
              "      <td>BL810352</td>\n",
              "      <td>CA</td>\n",
              "      <td>GB</td>\n",
              "      <td>01-12-2022</td>\n",
              "      <td>462591</td>\n",
              "      <td>462591</td>\n",
              "      <td>Michelle</td>\n",
              "      <td>Byrne</td>\n",
              "    </tr>\n",
              "  </tbody>\n",
              "</table>\n",
              "</div>"
            ],
            "text/plain": [
              "      Unnamed: 0 flightName departure destination        date  userID  UserID  \\\n",
              "6842        6842   BL810352        CA          GB  01-12-2022  462591  462591   \n",
              "\n",
              "     first_name last_name  \n",
              "6842   Michelle     Byrne  "
            ]
          },
          "execution_count": 28,
          "metadata": {},
          "output_type": "execute_result"
        }
      ],
      "source": [
        "combined_dataset[combined_dataset['date']=='01-12-2022']"
      ]
    },
    {
      "cell_type": "markdown",
      "metadata": {
        "id": "XYOqxVGCM972"
      },
      "source": [
        "We can also find the travels of all people who's first name is \"Nicolas\""
      ]
    },
    {
      "cell_type": "code",
      "execution_count": 29,
      "metadata": {
        "id": "7QDP9fQUM-Wo"
      },
      "outputs": [
        {
          "data": {
            "text/html": [
              "<div>\n",
              "<style scoped>\n",
              "    .dataframe tbody tr th:only-of-type {\n",
              "        vertical-align: middle;\n",
              "    }\n",
              "\n",
              "    .dataframe tbody tr th {\n",
              "        vertical-align: top;\n",
              "    }\n",
              "\n",
              "    .dataframe thead th {\n",
              "        text-align: right;\n",
              "    }\n",
              "</style>\n",
              "<table border=\"1\" class=\"dataframe\">\n",
              "  <thead>\n",
              "    <tr style=\"text-align: right;\">\n",
              "      <th></th>\n",
              "      <th>Unnamed: 0</th>\n",
              "      <th>flightName</th>\n",
              "      <th>departure</th>\n",
              "      <th>destination</th>\n",
              "      <th>date</th>\n",
              "      <th>userID</th>\n",
              "      <th>UserID</th>\n",
              "      <th>first_name</th>\n",
              "      <th>last_name</th>\n",
              "    </tr>\n",
              "  </thead>\n",
              "  <tbody>\n",
              "  </tbody>\n",
              "</table>\n",
              "</div>"
            ],
            "text/plain": [
              "Empty DataFrame\n",
              "Columns: [Unnamed: 0, flightName, departure, destination, date, userID, UserID, first_name, last_name]\n",
              "Index: []"
            ]
          },
          "execution_count": 29,
          "metadata": {},
          "output_type": "execute_result"
        }
      ],
      "source": [
        "combined_dataset[combined_dataset['first_name']=='Nicolas'].head(3)"
      ]
    },
    {
      "cell_type": "markdown",
      "metadata": {
        "id": "s4fEuIS4VCHP"
      },
      "source": [
        "## Your turn !"
      ]
    },
    {
      "cell_type": "markdown",
      "metadata": {
        "id": "3ZZjkkedaePG"
      },
      "source": [
        "With the [netflix dataset](https://raw.githubusercontent.com/michalis0/DataScience_and_MachineLearning/master/Week_2/netflix_data.csv), merge the two dataset on the movie's title and give the movie that has the best Netflic Score and a IMDB score over 4.5."
      ]
    },
    {
      "cell_type": "code",
      "execution_count": null,
      "metadata": {
        "id": "XB4Xva2xaa_D"
      },
      "outputs": [],
      "source": []
    },
    {
      "cell_type": "markdown",
      "metadata": {
        "id": "6nh27RK8cMJZ"
      },
      "source": [
        "#[Data visualisation ](https://pandas.pydata.org/docs/user_guide/visualization.html)\n",
        "\n",
        "Data can be hard to comprehend on it's own,\n",
        "Sometimes visualization tools can be helpfull to get a better sense of it."
      ]
    },
    {
      "cell_type": "markdown",
      "metadata": {
        "id": "5mX8w6H7c6ro"
      },
      "source": [
        "Let's first make a pie chart to visualise the sum of the children born in the top 5 most fertile countries"
      ]
    },
    {
      "cell_type": "code",
      "execution_count": 30,
      "metadata": {
        "id": "5Muyk-xMc7h6"
      },
      "outputs": [
        {
          "data": {
            "image/png": "[encoded data removed]",
            "text/plain": [
              "<Figure size 600x600 with 1 Axes>"
            ]
          },
          "metadata": {},
          "output_type": "display_data"
        }
      ],
      "source": [
        "df = pd.read_csv(\"https://raw.githubusercontent.com/michalis0/DataScience_and_MachineLearning/master/Week_2/user_records_lab.csv\")\n",
        "df= df[['country', 'number_of_kids']]\n",
        "df = df.dropna()\n",
        "df = df.groupby('country').sum().sort_values('number_of_kids', ascending=False)\n",
        "df = df[0:6]\n",
        "series = pd.Series(df['number_of_kids'].to_list(), index=df.index.to_list())\n",
        "\n",
        "\n",
        "series.plot.pie(autopct=\"%.2f\",figsize=(6, 6));"
      ]
    },
    {
      "cell_type": "markdown",
      "metadata": {
        "id": "WBUy4QHHiWuO"
      },
      "source": [
        "##Boxplots are also usefull to compare data\n",
        "\n",
        "For the following exercise we will compare mobile data consumption per country"
      ]
    },
    {
      "cell_type": "markdown",
      "metadata": {
        "id": "uiKyLYwHcCJ-"
      },
      "source": [
        "Lets first combined the phone logs dataset with the antenna info dataset in order to link each antena to a country"
      ]
    },
    {
      "cell_type": "code",
      "execution_count": 31,
      "metadata": {
        "id": "QDXQ5-86cR61"
      },
      "outputs": [
        {
          "data": {
            "text/html": [
              "<div>\n",
              "<style scoped>\n",
              "    .dataframe tbody tr th:only-of-type {\n",
              "        vertical-align: middle;\n",
              "    }\n",
              "\n",
              "    .dataframe tbody tr th {\n",
              "        vertical-align: top;\n",
              "    }\n",
              "\n",
              "    .dataframe thead th {\n",
              "        text-align: right;\n",
              "    }\n",
              "</style>\n",
              "<table border=\"1\" class=\"dataframe\">\n",
              "  <thead>\n",
              "    <tr style=\"text-align: right;\">\n",
              "      <th></th>\n",
              "      <th>user_id</th>\n",
              "      <th>dandwith_used</th>\n",
              "      <th>antenna_id</th>\n",
              "      <th>date_and_time</th>\n",
              "      <th>duration</th>\n",
              "    </tr>\n",
              "  </thead>\n",
              "  <tbody>\n",
              "    <tr>\n",
              "      <th>0</th>\n",
              "      <td>343094</td>\n",
              "      <td>194</td>\n",
              "      <td>2820078</td>\n",
              "      <td>2015-01-01 00:00:00</td>\n",
              "      <td>0:52:01</td>\n",
              "    </tr>\n",
              "    <tr>\n",
              "      <th>1</th>\n",
              "      <td>193582</td>\n",
              "      <td>236</td>\n",
              "      <td>6925246</td>\n",
              "      <td>2015-01-01 00:56:03</td>\n",
              "      <td>0:05:45</td>\n",
              "    </tr>\n",
              "    <tr>\n",
              "      <th>2</th>\n",
              "      <td>66824</td>\n",
              "      <td>114</td>\n",
              "      <td>2810048</td>\n",
              "      <td>2015-01-01 02:29:10</td>\n",
              "      <td>0:50:05</td>\n",
              "    </tr>\n",
              "    <tr>\n",
              "      <th>3</th>\n",
              "      <td>269113</td>\n",
              "      <td>277</td>\n",
              "      <td>5839993</td>\n",
              "      <td>2015-01-01 02:39:46</td>\n",
              "      <td>0:37:00</td>\n",
              "    </tr>\n",
              "    <tr>\n",
              "      <th>4</th>\n",
              "      <td>112922</td>\n",
              "      <td>427</td>\n",
              "      <td>6193941</td>\n",
              "      <td>2015-01-01 02:53:56</td>\n",
              "      <td>0:00:13</td>\n",
              "    </tr>\n",
              "  </tbody>\n",
              "</table>\n",
              "</div>"
            ],
            "text/plain": [
              "   user_id  dandwith_used  antenna_id        date_and_time duration\n",
              "0   343094            194     2820078  2015-01-01 00:00:00  0:52:01\n",
              "1   193582            236     6925246  2015-01-01 00:56:03  0:05:45\n",
              "2    66824            114     2810048  2015-01-01 02:29:10  0:50:05\n",
              "3   269113            277     5839993  2015-01-01 02:39:46  0:37:00\n",
              "4   112922            427     6193941  2015-01-01 02:53:56  0:00:13"
            ]
          },
          "execution_count": 31,
          "metadata": {},
          "output_type": "execute_result"
        }
      ],
      "source": [
        "phone_logs = pd.read_csv(\"https://raw.githubusercontent.com/michalis0/DataScience_and_MachineLearning/master/Week_2/all_phone_logs_lab.csv\")\n",
        "phone_logs.head()"
      ]
    },
    {
      "cell_type": "code",
      "execution_count": 32,
      "metadata": {
        "id": "iaAAS_Ubccle"
      },
      "outputs": [
        {
          "data": {
            "text/html": [
              "<div>\n",
              "<style scoped>\n",
              "    .dataframe tbody tr th:only-of-type {\n",
              "        vertical-align: middle;\n",
              "    }\n",
              "\n",
              "    .dataframe tbody tr th {\n",
              "        vertical-align: top;\n",
              "    }\n",
              "\n",
              "    .dataframe thead th {\n",
              "        text-align: right;\n",
              "    }\n",
              "</style>\n",
              "<table border=\"1\" class=\"dataframe\">\n",
              "  <thead>\n",
              "    <tr style=\"text-align: right;\">\n",
              "      <th></th>\n",
              "      <th>Unnamed: 0</th>\n",
              "      <th>antena_id</th>\n",
              "      <th>antena_provider</th>\n",
              "      <th>antena_zip_code</th>\n",
              "      <th>antena_range</th>\n",
              "      <th>antena_capacity</th>\n",
              "      <th>country</th>\n",
              "    </tr>\n",
              "  </thead>\n",
              "  <tbody>\n",
              "    <tr>\n",
              "      <th>0</th>\n",
              "      <td>0</td>\n",
              "      <td>3868558</td>\n",
              "      <td>Vodafone</td>\n",
              "      <td>3190</td>\n",
              "      <td>198</td>\n",
              "      <td>55389</td>\n",
              "      <td>AR</td>\n",
              "    </tr>\n",
              "    <tr>\n",
              "      <th>1</th>\n",
              "      <td>1</td>\n",
              "      <td>1010207</td>\n",
              "      <td>LYBRA</td>\n",
              "      <td>3206</td>\n",
              "      <td>68</td>\n",
              "      <td>15923</td>\n",
              "      <td>AR</td>\n",
              "    </tr>\n",
              "    <tr>\n",
              "      <th>2</th>\n",
              "      <td>2</td>\n",
              "      <td>6792277</td>\n",
              "      <td>Sunrise</td>\n",
              "      <td>4407</td>\n",
              "      <td>117</td>\n",
              "      <td>143768</td>\n",
              "      <td>AR</td>\n",
              "    </tr>\n",
              "    <tr>\n",
              "      <th>3</th>\n",
              "      <td>3</td>\n",
              "      <td>2794010</td>\n",
              "      <td>LYBRA</td>\n",
              "      <td>8311</td>\n",
              "      <td>144</td>\n",
              "      <td>32988</td>\n",
              "      <td>AR</td>\n",
              "    </tr>\n",
              "    <tr>\n",
              "      <th>4</th>\n",
              "      <td>4</td>\n",
              "      <td>4724531</td>\n",
              "      <td>Vodafone</td>\n",
              "      <td>2346</td>\n",
              "      <td>158</td>\n",
              "      <td>105400</td>\n",
              "      <td>AR</td>\n",
              "    </tr>\n",
              "  </tbody>\n",
              "</table>\n",
              "</div>"
            ],
            "text/plain": [
              "   Unnamed: 0  antena_id antena_provider antena_zip_code  antena_range  \\\n",
              "0           0    3868558        Vodafone            3190           198   \n",
              "1           1    1010207           LYBRA            3206            68   \n",
              "2           2    6792277         Sunrise            4407           117   \n",
              "3           3    2794010           LYBRA            8311           144   \n",
              "4           4    4724531        Vodafone            2346           158   \n",
              "\n",
              "   antena_capacity country  \n",
              "0            55389      AR  \n",
              "1            15923      AR  \n",
              "2           143768      AR  \n",
              "3            32988      AR  \n",
              "4           105400      AR  "
            ]
          },
          "execution_count": 32,
          "metadata": {},
          "output_type": "execute_result"
        }
      ],
      "source": [
        "antenna_info = pd.read_csv(\"https://raw.githubusercontent.com/michalis0/DataScience_and_MachineLearning/master/Week_2/antena_info_lab.csv\")\n",
        "antenna_info.head()"
      ]
    },
    {
      "cell_type": "code",
      "execution_count": 33,
      "metadata": {
        "id": "2xU4gw37cOX6"
      },
      "outputs": [
        {
          "ename": "KeyError",
          "evalue": "'antena_id'",
          "output_type": "error",
          "traceback": [
            "\u001b[0;31m---------------------------------------------------------------------------\u001b[0m",
            "\u001b[0;31mKeyError\u001b[0m                                  Traceback (most recent call last)",
            "\u001b[0;32m/var/folders/qd/z7xdcywd5pz1pljls6s24x_c0000gn/T/ipykernel_2479/2365596975.py\u001b[0m in \u001b[0;36m?\u001b[0;34m()\u001b[0m\n\u001b[0;32m----> 1\u001b[0;31m \u001b[0mcombined_dataset\u001b[0m \u001b[0;34m=\u001b[0m \u001b[0mpd\u001b[0m\u001b[0;34m.\u001b[0m\u001b[0mmerge\u001b[0m\u001b[0;34m(\u001b[0m\u001b[0mphone_logs\u001b[0m\u001b[0;34m,\u001b[0m \u001b[0mantenna_info\u001b[0m\u001b[0;34m,\u001b[0m \u001b[0mleft_on\u001b[0m\u001b[0;34m=\u001b[0m\u001b[0;34m\"antena_id\"\u001b[0m\u001b[0;34m,\u001b[0m \u001b[0mright_on\u001b[0m\u001b[0;34m=\u001b[0m\u001b[0;34m'antena_id'\u001b[0m\u001b[0;34m,\u001b[0m \u001b[0mhow\u001b[0m\u001b[0;34m=\u001b[0m\u001b[0;34m\"left\"\u001b[0m\u001b[0;34m,\u001b[0m \u001b[0msort\u001b[0m\u001b[0;34m=\u001b[0m\u001b[0;32mFalse\u001b[0m\u001b[0;34m)\u001b[0m\u001b[0;34m\u001b[0m\u001b[0;34m\u001b[0m\u001b[0m\n\u001b[0m\u001b[1;32m      2\u001b[0m \u001b[0mcombined_dataset\u001b[0m \u001b[0;34m=\u001b[0m \u001b[0mcombined_dataset\u001b[0m\u001b[0;34m.\u001b[0m\u001b[0msort_values\u001b[0m\u001b[0;34m(\u001b[0m\u001b[0;34m'country'\u001b[0m\u001b[0;34m)\u001b[0m\u001b[0;34m\u001b[0m\u001b[0;34m\u001b[0m\u001b[0m\n\u001b[1;32m      3\u001b[0m \u001b[0;34m\u001b[0m\u001b[0m\n\u001b[1;32m      4\u001b[0m \u001b[0mcombined_dataset\u001b[0m\u001b[0;34m.\u001b[0m\u001b[0mhead\u001b[0m\u001b[0;34m(\u001b[0m\u001b[0;36m2\u001b[0m\u001b[0;34m)\u001b[0m\u001b[0;34m\u001b[0m\u001b[0;34m\u001b[0m\u001b[0m\n",
            "\u001b[0;32m~/Library/Python/3.9/lib/python/site-packages/pandas/core/reshape/merge.py\u001b[0m in \u001b[0;36m?\u001b[0;34m(left, right, how, on, left_on, right_on, left_index, right_index, sort, suffixes, copy, indicator, validate)\u001b[0m\n\u001b[1;32m    144\u001b[0m     \u001b[0mcopy\u001b[0m\u001b[0;34m:\u001b[0m \u001b[0mbool\u001b[0m \u001b[0;34m|\u001b[0m \u001b[0;32mNone\u001b[0m \u001b[0;34m=\u001b[0m \u001b[0;32mNone\u001b[0m\u001b[0;34m,\u001b[0m\u001b[0;34m\u001b[0m\u001b[0;34m\u001b[0m\u001b[0m\n\u001b[1;32m    145\u001b[0m     \u001b[0mindicator\u001b[0m\u001b[0;34m:\u001b[0m \u001b[0mstr\u001b[0m \u001b[0;34m|\u001b[0m \u001b[0mbool\u001b[0m \u001b[0;34m=\u001b[0m \u001b[0;32mFalse\u001b[0m\u001b[0;34m,\u001b[0m\u001b[0;34m\u001b[0m\u001b[0;34m\u001b[0m\u001b[0m\n\u001b[1;32m    146\u001b[0m     \u001b[0mvalidate\u001b[0m\u001b[0;34m:\u001b[0m \u001b[0mstr\u001b[0m \u001b[0;34m|\u001b[0m \u001b[0;32mNone\u001b[0m \u001b[0;34m=\u001b[0m \u001b[0;32mNone\u001b[0m\u001b[0;34m,\u001b[0m\u001b[0;34m\u001b[0m\u001b[0;34m\u001b[0m\u001b[0m\n\u001b[1;32m    147\u001b[0m ) -> DataFrame:\n\u001b[0;32m--> 148\u001b[0;31m     op = _MergeOperation(\n\u001b[0m\u001b[1;32m    149\u001b[0m         \u001b[0mleft\u001b[0m\u001b[0;34m,\u001b[0m\u001b[0;34m\u001b[0m\u001b[0;34m\u001b[0m\u001b[0m\n\u001b[1;32m    150\u001b[0m         \u001b[0mright\u001b[0m\u001b[0;34m,\u001b[0m\u001b[0;34m\u001b[0m\u001b[0;34m\u001b[0m\u001b[0m\n\u001b[1;32m    151\u001b[0m         \u001b[0mhow\u001b[0m\u001b[0;34m=\u001b[0m\u001b[0mhow\u001b[0m\u001b[0;34m,\u001b[0m\u001b[0;34m\u001b[0m\u001b[0;34m\u001b[0m\u001b[0m\n",
            "\u001b[0;32m~/Library/Python/3.9/lib/python/site-packages/pandas/core/reshape/merge.py\u001b[0m in \u001b[0;36m?\u001b[0;34m(self, left, right, how, on, left_on, right_on, axis, left_index, right_index, sort, suffixes, indicator, validate)\u001b[0m\n\u001b[1;32m    733\u001b[0m         (\n\u001b[1;32m    734\u001b[0m             \u001b[0mself\u001b[0m\u001b[0;34m.\u001b[0m\u001b[0mleft_join_keys\u001b[0m\u001b[0;34m,\u001b[0m\u001b[0;34m\u001b[0m\u001b[0;34m\u001b[0m\u001b[0m\n\u001b[1;32m    735\u001b[0m             \u001b[0mself\u001b[0m\u001b[0;34m.\u001b[0m\u001b[0mright_join_keys\u001b[0m\u001b[0;34m,\u001b[0m\u001b[0;34m\u001b[0m\u001b[0;34m\u001b[0m\u001b[0m\n\u001b[1;32m    736\u001b[0m             \u001b[0mself\u001b[0m\u001b[0;34m.\u001b[0m\u001b[0mjoin_names\u001b[0m\u001b[0;34m,\u001b[0m\u001b[0;34m\u001b[0m\u001b[0;34m\u001b[0m\u001b[0m\n\u001b[0;32m--> 737\u001b[0;31m         ) = self._get_merge_keys()\n\u001b[0m\u001b[1;32m    738\u001b[0m \u001b[0;34m\u001b[0m\u001b[0m\n\u001b[1;32m    739\u001b[0m         \u001b[0;31m# validate the merge keys dtypes. We may need to coerce\u001b[0m\u001b[0;34m\u001b[0m\u001b[0;34m\u001b[0m\u001b[0;34m\u001b[0m\u001b[0m\n\u001b[1;32m    740\u001b[0m         \u001b[0;31m# to avoid incompatible dtypes\u001b[0m\u001b[0;34m\u001b[0m\u001b[0;34m\u001b[0m\u001b[0;34m\u001b[0m\u001b[0m\n",
            "\u001b[0;32m~/Library/Python/3.9/lib/python/site-packages/pandas/core/reshape/merge.py\u001b[0m in \u001b[0;36m?\u001b[0;34m(self)\u001b[0m\n\u001b[1;32m   1217\u001b[0m                     \u001b[0;32mif\u001b[0m \u001b[0mlk\u001b[0m \u001b[0;32mis\u001b[0m \u001b[0;32mnot\u001b[0m \u001b[0;32mNone\u001b[0m\u001b[0;34m:\u001b[0m\u001b[0;34m\u001b[0m\u001b[0;34m\u001b[0m\u001b[0m\n\u001b[1;32m   1218\u001b[0m                         \u001b[0;31m# Then we're either Hashable or a wrong-length arraylike,\u001b[0m\u001b[0;34m\u001b[0m\u001b[0;34m\u001b[0m\u001b[0;34m\u001b[0m\u001b[0m\n\u001b[1;32m   1219\u001b[0m                         \u001b[0;31m#  the latter of which will raise\u001b[0m\u001b[0;34m\u001b[0m\u001b[0;34m\u001b[0m\u001b[0;34m\u001b[0m\u001b[0m\n\u001b[1;32m   1220\u001b[0m                         \u001b[0mlk\u001b[0m \u001b[0;34m=\u001b[0m \u001b[0mcast\u001b[0m\u001b[0;34m(\u001b[0m\u001b[0mHashable\u001b[0m\u001b[0;34m,\u001b[0m \u001b[0mlk\u001b[0m\u001b[0;34m)\u001b[0m\u001b[0;34m\u001b[0m\u001b[0;34m\u001b[0m\u001b[0m\n\u001b[0;32m-> 1221\u001b[0;31m                         \u001b[0mleft_keys\u001b[0m\u001b[0;34m.\u001b[0m\u001b[0mappend\u001b[0m\u001b[0;34m(\u001b[0m\u001b[0mleft\u001b[0m\u001b[0;34m.\u001b[0m\u001b[0m_get_label_or_level_values\u001b[0m\u001b[0;34m(\u001b[0m\u001b[0mlk\u001b[0m\u001b[0;34m)\u001b[0m\u001b[0;34m)\u001b[0m\u001b[0;34m\u001b[0m\u001b[0;34m\u001b[0m\u001b[0m\n\u001b[0m\u001b[1;32m   1222\u001b[0m                         \u001b[0mjoin_names\u001b[0m\u001b[0;34m.\u001b[0m\u001b[0mappend\u001b[0m\u001b[0;34m(\u001b[0m\u001b[0mlk\u001b[0m\u001b[0;34m)\u001b[0m\u001b[0;34m\u001b[0m\u001b[0;34m\u001b[0m\u001b[0m\n\u001b[1;32m   1223\u001b[0m                     \u001b[0;32melse\u001b[0m\u001b[0;34m:\u001b[0m\u001b[0;34m\u001b[0m\u001b[0;34m\u001b[0m\u001b[0m\n\u001b[1;32m   1224\u001b[0m                         \u001b[0;31m# work-around for merge_asof(left_index=True)\u001b[0m\u001b[0;34m\u001b[0m\u001b[0;34m\u001b[0m\u001b[0;34m\u001b[0m\u001b[0m\n",
            "\u001b[0;32m~/Library/Python/3.9/lib/python/site-packages/pandas/core/generic.py\u001b[0m in \u001b[0;36m?\u001b[0;34m(self, key, axis)\u001b[0m\n\u001b[1;32m   1774\u001b[0m             \u001b[0mvalues\u001b[0m \u001b[0;34m=\u001b[0m \u001b[0mself\u001b[0m\u001b[0;34m.\u001b[0m\u001b[0mxs\u001b[0m\u001b[0;34m(\u001b[0m\u001b[0mkey\u001b[0m\u001b[0;34m,\u001b[0m \u001b[0maxis\u001b[0m\u001b[0;34m=\u001b[0m\u001b[0mother_axes\u001b[0m\u001b[0;34m[\u001b[0m\u001b[0;36m0\u001b[0m\u001b[0;34m]\u001b[0m\u001b[0;34m)\u001b[0m\u001b[0;34m.\u001b[0m\u001b[0m_values\u001b[0m\u001b[0;34m\u001b[0m\u001b[0;34m\u001b[0m\u001b[0m\n\u001b[1;32m   1775\u001b[0m         \u001b[0;32melif\u001b[0m \u001b[0mself\u001b[0m\u001b[0;34m.\u001b[0m\u001b[0m_is_level_reference\u001b[0m\u001b[0;34m(\u001b[0m\u001b[0mkey\u001b[0m\u001b[0;34m,\u001b[0m \u001b[0maxis\u001b[0m\u001b[0;34m=\u001b[0m\u001b[0maxis\u001b[0m\u001b[0;34m)\u001b[0m\u001b[0;34m:\u001b[0m\u001b[0;34m\u001b[0m\u001b[0;34m\u001b[0m\u001b[0m\n\u001b[1;32m   1776\u001b[0m             \u001b[0mvalues\u001b[0m \u001b[0;34m=\u001b[0m \u001b[0mself\u001b[0m\u001b[0;34m.\u001b[0m\u001b[0maxes\u001b[0m\u001b[0;34m[\u001b[0m\u001b[0maxis\u001b[0m\u001b[0;34m]\u001b[0m\u001b[0;34m.\u001b[0m\u001b[0mget_level_values\u001b[0m\u001b[0;34m(\u001b[0m\u001b[0mkey\u001b[0m\u001b[0;34m)\u001b[0m\u001b[0;34m.\u001b[0m\u001b[0m_values\u001b[0m\u001b[0;34m\u001b[0m\u001b[0;34m\u001b[0m\u001b[0m\n\u001b[1;32m   1777\u001b[0m         \u001b[0;32melse\u001b[0m\u001b[0;34m:\u001b[0m\u001b[0;34m\u001b[0m\u001b[0;34m\u001b[0m\u001b[0m\n\u001b[0;32m-> 1778\u001b[0;31m             \u001b[0;32mraise\u001b[0m \u001b[0mKeyError\u001b[0m\u001b[0;34m(\u001b[0m\u001b[0mkey\u001b[0m\u001b[0;34m)\u001b[0m\u001b[0;34m\u001b[0m\u001b[0;34m\u001b[0m\u001b[0m\n\u001b[0m\u001b[1;32m   1779\u001b[0m \u001b[0;34m\u001b[0m\u001b[0m\n\u001b[1;32m   1780\u001b[0m         \u001b[0;31m# Check for duplicates\u001b[0m\u001b[0;34m\u001b[0m\u001b[0;34m\u001b[0m\u001b[0;34m\u001b[0m\u001b[0m\n\u001b[1;32m   1781\u001b[0m         \u001b[0;32mif\u001b[0m \u001b[0mvalues\u001b[0m\u001b[0;34m.\u001b[0m\u001b[0mndim\u001b[0m \u001b[0;34m>\u001b[0m \u001b[0;36m1\u001b[0m\u001b[0;34m:\u001b[0m\u001b[0;34m\u001b[0m\u001b[0;34m\u001b[0m\u001b[0m\n",
            "\u001b[0;31mKeyError\u001b[0m: 'antena_id'"
          ]
        }
      ],
      "source": [
        "combined_dataset = pd.merge(phone_logs, antenna_info, left_on=\"antenna_id\", right_on='antenna_id', how=\"left\", sort=False)\n",
        "combined_dataset = combined_dataset.sort_values('country')\n",
        "\n",
        "combined_dataset.head(2)"
      ]
    },
    {
      "cell_type": "code",
      "execution_count": null,
      "metadata": {
        "id": "fBRaUIuWdrR_"
      },
      "outputs": [],
      "source": [
        "consumption_per_country = combined_dataset[['dandwith_used', 'country']]\n",
        "consumption_per_country = consumption_per_country.groupby('country').sum()\n",
        "consumption_per_country.head(5)"
      ]
    },
    {
      "cell_type": "code",
      "execution_count": null,
      "metadata": {
        "id": "JbugOuODe2rd"
      },
      "outputs": [],
      "source": [
        "consumption_per_country.plot.box()"
      ]
    },
    {
      "cell_type": "markdown",
      "metadata": {
        "id": "IcGc10KCfFL7"
      },
      "source": [
        "Let's now find the consumption per country per year, and then display it in boxplots"
      ]
    },
    {
      "cell_type": "code",
      "execution_count": null,
      "metadata": {
        "id": "fQDGqcsffcIe"
      },
      "outputs": [],
      "source": [
        "combined_dataset['date_and_time'] = pd.to_datetime(combined_dataset['date_and_time']).to_list()\n",
        "combined_dataset['year'] = list(map(lambda x: x.year,combined_dataset['date_and_time'].to_list()))\n",
        "\n",
        "\n",
        "consumption_per_country_per_year = combined_dataset[['dandwith_used', 'country', 'year']]\n",
        "consumption_per_country_per_year = consumption_per_country_per_year.groupby(['country', 'year']).sum()\n",
        "consumption_per_country_per_year.boxplot(by = 'year')"
      ]
    }
  ],
  "metadata": {
    "colab": {
      "provenance": [],
      "toc_visible": true
    },
    "kernelspec": {
      "display_name": "Python 3",
      "name": "python3"
    },
    "language_info": {
      "codemirror_mode": {
        "name": "ipython",
        "version": 3
      },
      "file_extension": ".py",
      "mimetype": "text/x-python",
      "name": "python",
      "nbconvert_exporter": "python",
      "pygments_lexer": "ipython3",
      "version": "3.9.6"
    }
  },
  "nbformat": 4,
  "nbformat_minor": 0
}
