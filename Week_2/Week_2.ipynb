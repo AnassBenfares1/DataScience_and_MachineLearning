{
  "cells": [
    {
      "cell_type": "markdown",
      "metadata": {},
      "source": [
        "<a href=\"https://colab.research.google.com/github/michalis0/DataScience_and_MachineLearning/blob/master/Week_2/Week_2.ipynb\" target=\"_parent\"><img src=\"https://colab.research.google.com/assets/colab-badge.svg\" alt=\"Open In Colab\"/></a>"
      ]
    },
    {
      "cell_type": "markdown",
      "metadata": {
        "id": "sPgLYyUIzy-L"
      },
      "source": [
        "# Python Notebooks\n",
        "\n",
        "## Goals\n",
        "The goal of this notebook is to briefly introduce you to the main tools we will use in this practical seminar: Python code and markdown Notebooks.  The focus will be on using markdown to create interactive notebooks, which you can share with others.\n",
        "\n",
        "## Getting started\n",
        "\n",
        "**Notebooks** represent an interactive environment for writing and executing code, while at the same time also documenting the code with rich text. Here we review some elementary ways of creating your notebooks.\n",
        "\n",
        "We will be using **Google Colab**, which is a free notebook environment, that does not require any installations and uses Google servers to execute the code. You can simply run it in your browser, after you create a free Google account (if not yet done).\n",
        "\n",
        "To open a new notebook in Google Colab click [here](https://colab.research.google.com/) and then click on the \"New Notebook\" at the bottom right.\n",
        "\n",
        "You can open this notebook in Colab by clicking on the Open in Colab badge on top of the file.\n",
        "\n",
        "A notebook consists of two kinds of cells:\n",
        "* cellls that contain executable **code** and\n",
        "* cells that contain **markdown (text)**.\n",
        "\n",
        "Here we'll provide a more detailed introduction to the text cells, while the following seminars we'll focus more on the code cells.\n",
        "\n",
        "Markdown syntax is very similar to HTML, but it is more simplified. Here are some additional introductory ressources:\n",
        "- Try markdown on your own in [Google Colab](https://colab.research.google.com/notebooks/markdown_guide.ipynb)\n",
        "- You can also find a more detailed and [lengthy introduction](https://about.gitlab.com/handbook/product/technical-writing/markdown-guide/).\n",
        "\n",
        "### Switching between Code and Text/Markdown\n",
        "\n",
        "- If you want to include markdown in a code cell, you can convert it to a text cell by pressing `control M M` (that is hold down the `control` key and press two times the letter `M`).\n",
        "- You can convert a text cell into a code cell using the shortcut `control M Y`."
      ]
    },
    {
      "cell_type": "code",
      "execution_count": null,
      "metadata": {
        "id": "hKSzCk0D4WrP"
      },
      "outputs": [],
      "source": []
    },
    {
      "cell_type": "markdown",
      "metadata": {
        "id": "kXvAgbBGzy-W"
      },
      "source": [
        "<div class=\"alert alert-block alert-info\">\n",
        "\n",
        "\n",
        "<h2>Shortcuts</h2>\n",
        "\n",
        "It's good to learn the following shortcuts:\n",
        "\n",
        "\n",
        "- Execute a cell: shift-enter on Mac (ctrl-enter for Windows)\n",
        "- Saving the notebook: command s on a Mac, (ctrl-s for Windows)\n",
        "- Change Cell types: ctrl M Y (code), ctrl M M (markdown)\n",
        "\n",
        "<h2>Saving & downloading your notebook</h2>\n",
        "\n",
        "You can save your notebook in your Google Drive using the Colab Menu > File > Save a copy in Drive (Google Drive), or directly in GitHub.\n",
        "\n",
        "You can also download the notebook using File>Download>  .ipynb (notebook format).\n",
        "\n",
        "</div>\n",
        "\n",
        "\n"
      ]
    },
    {
      "cell_type": "markdown",
      "metadata": {
        "id": "4bVDcyJHHFjh"
      },
      "source": [
        "# Basic operations with Pandas\n",
        "\n",
        "<img width=\"200\" src='https://upload.wikimedia.org/wikipedia/commons/e/ed/Pandas_logo.svg'>\n",
        "\n",
        "##Data cleaning\n",
        "### How Does Data Get Dirty?\n",
        "- Missing data.\n",
        "- Inconsistent data.\n",
        "- Duplicate data.\n",
        "\n",
        "This is just to name a few things that can go wrong. There is an endless list of ways that data can end up very messy.\n",
        "Sometimes there are insufficient validation checks when the data is entered in the first place.\n",
        "If you have form fields with users entering data in any format they want with no guidelines or form validation checks in place to enforce conforming to a certain format, then users will input however they see fit.\n",
        "\n",
        "There could be an input field for the state (U.S.) and you have some data that is the two-character abbreviation, NY and then others have New York, then there are potential misspellings and typos, etc.\n",
        "\n",
        "Data can also become corrupted during transmission or in storage."
      ]
    },
    {
      "cell_type": "code",
      "execution_count": 3,
      "metadata": {
        "colab": {
          "base_uri": "https://localhost:8080/",
          "height": 374
        },
        "id": "abwjDTZRHvzn",
        "outputId": "c788ae90-7678-44c4-bef0-b17762a60854"
      },
      "outputs": [],
      "source": [
        "import pandas as pd\n",
        "import numpy as np\n",
        "import matplotlib.pyplot as plt\n",
        "df = pd.read_csv(\"https://raw.githubusercontent.com/michalis0/DataScience_and_MachineLearning/master/Week_2/user_records_lab.csv\")\n"
      ]
    },
    {
      "cell_type": "markdown",
      "metadata": {
        "id": "Fl_HmWwtIBDJ"
      },
      "source": [
        "###Shape of the data\n",
        "\n",
        "Let's first check how many rows and columns (features) are in this dataset"
      ]
    },
    {
      "cell_type": "code",
      "execution_count": null,
      "metadata": {
        "id": "uICj1b0GIEKG"
      },
      "outputs": [],
      "source": [
        "df.shape"
      ]
    },
    {
      "cell_type": "markdown",
      "metadata": {
        "id": "JT6l8O-2ISqh"
      },
      "source": [
        "\n",
        "### Check out the first few rows\n",
        "You can look at the first few rows by calling `head()` on the dataframe."
      ]
    },
    {
      "cell_type": "code",
      "execution_count": null,
      "metadata": {
        "id": "xce5aB8SIOeu"
      },
      "outputs": [],
      "source": [
        "df.head(3)"
      ]
    },
    {
      "cell_type": "markdown",
      "metadata": {
        "id": "3TgOsG-pI8Yo"
      },
      "source": [
        "### List the column/feature names"
      ]
    },
    {
      "cell_type": "code",
      "execution_count": null,
      "metadata": {
        "id": "KPRr2ogtI-3B"
      },
      "outputs": [],
      "source": [
        "df.columns"
      ]
    },
    {
      "cell_type": "markdown",
      "metadata": {
        "id": "e1XYn9tvJHbL"
      },
      "source": [
        "### Duplicates\n",
        "You can check if there are duplicates in the dataset."
      ]
    },
    {
      "cell_type": "code",
      "execution_count": null,
      "metadata": {
        "id": "Ve6cJ5hbJIrQ"
      },
      "outputs": [],
      "source": [
        "df.duplicated()"
      ]
    },
    {
      "cell_type": "markdown",
      "metadata": {
        "id": "tebuO3lxJP-_"
      },
      "source": [
        "This shows which are the duplicated rows if any. None are duplicated here."
      ]
    },
    {
      "cell_type": "code",
      "execution_count": null,
      "metadata": {
        "id": "5UPbuQn5JQnQ"
      },
      "outputs": [],
      "source": [
        "df.loc[df.duplicated()=='True', :]"
      ]
    },
    {
      "cell_type": "markdown",
      "metadata": {
        "id": "pLJGJqwPT8B9"
      },
      "source": [
        "You can check if the same value appears in a single column more than once in the dataset. Are there multiple users with the same birthday?"
      ]
    },
    {
      "cell_type": "code",
      "execution_count": null,
      "metadata": {
        "id": "vNPN6bqVUjDq"
      },
      "outputs": [],
      "source": [
        "df.birthday.duplicated()"
      ]
    },
    {
      "cell_type": "markdown",
      "metadata": {
        "id": "-Akjuv9hBsPg"
      },
      "source": [
        "You can also filter the table so that only entries with given characteristics are maintained, for example users from Switzerland (CH)"
      ]
    },
    {
      "cell_type": "code",
      "execution_count": null,
      "metadata": {
        "id": "VxQYqj_YB-TQ"
      },
      "outputs": [],
      "source": [
        "df[df['country']=='CH'].head()"
      ]
    },
    {
      "cell_type": "markdown",
      "metadata": {
        "id": "ZtNDR-qOzFfQ"
      },
      "source": [
        "You can also get the list of people who have their birthday the same day as another person in the dataset"
      ]
    },
    {
      "cell_type": "code",
      "execution_count": null,
      "metadata": {
        "id": "R7xDb_JPyD0x"
      },
      "outputs": [],
      "source": [
        "df[df.birthday.duplicated()].head()"
      ]
    },
    {
      "cell_type": "markdown",
      "metadata": {
        "id": "FdIP5xyv2Qfs"
      },
      "source": [
        "You can also show all users who have their birthday on the same day by checking who has their birthday on one of the duplicated dates."
      ]
    },
    {
      "cell_type": "code",
      "execution_count": null,
      "metadata": {
        "id": "JDXzbAGPzVXy"
      },
      "outputs": [],
      "source": [
        "duplicate_dates = df[df.birthday.duplicated()]['birthday'].to_list()\n",
        "\n",
        "df[df['birthday'].isin(duplicate_dates)].sort_values('birthday').head()"
      ]
    },
    {
      "cell_type": "markdown",
      "metadata": {
        "id": "OH0Rp5xb3OH9"
      },
      "source": [
        "### Missing/Null values\n",
        "You can call `isnull()` and `sum()` to get a count of how many null values are there in each column."
      ]
    },
    {
      "cell_type": "code",
      "execution_count": null,
      "metadata": {
        "id": "27y9FBJG3MuR"
      },
      "outputs": [],
      "source": [
        "df.isnull().sum()"
      ]
    },
    {
      "cell_type": "markdown",
      "metadata": {
        "id": "LGxOw60564XO"
      },
      "source": [
        "### Data Types of the Features\n",
        "It is important that the data values in each column have the correct data type. For example, you can expect a column containing numbers to be in numeric format, but sometimes you will find string values in it. In such a case, when you do numeric calculations on that column you might get unexpected results.\n",
        "\n",
        "The property `dtypes` will show you the data types for each column in the dataframe."
      ]
    },
    {
      "cell_type": "code",
      "execution_count": null,
      "metadata": {
        "id": "oy_gOccG656c"
      },
      "outputs": [],
      "source": [
        "df.dtypes"
      ]
    },
    {
      "cell_type": "markdown",
      "metadata": {
        "id": "6id3Cc5A857W"
      },
      "source": [
        "You can notice that the column `issue_date` is in integer format (`int64`), whereas it should be in datetime format. In Pandas you can convert a column to datetime format using `to_datetime` method."
      ]
    },
    {
      "cell_type": "code",
      "execution_count": null,
      "metadata": {
        "id": "G5_uJ8Ua86nW"
      },
      "outputs": [],
      "source": [
        "df['birthday'].head()"
      ]
    },
    {
      "cell_type": "code",
      "execution_count": null,
      "metadata": {
        "id": "_f5ix4CB8-sn"
      },
      "outputs": [],
      "source": [
        "# if you do not provide the format, the function may infer the wrong format\n",
        "pd.to_datetime(df['birthday']).head()"
      ]
    },
    {
      "cell_type": "code",
      "execution_count": null,
      "metadata": {
        "id": "ZdIwEsiX9kZj"
      },
      "outputs": [],
      "source": [
        "df['birthday'] = pd.to_datetime(df['birthday'], format=\"%d-%m-%Y\")\n",
        "df['birthday'].head()"
      ]
    },
    {
      "cell_type": "markdown",
      "metadata": {
        "id": "F2AVjpBZ-ErR"
      },
      "source": [
        "### Dropping the columns you are not interested in\n",
        "Let's say we are only interested in users last names, their first name and their origin. So we are going to drop the rest of the columns.\n",
        "\n",
        "Note that many operations in Pandas can be done on a copy of the data or in-place (affecting the original data frame). You can use the parameter `inplace=True`.\n",
        "\n",
        "> Also note that in Pandas, axis 0 represents the rows while axis 1 represents the columns."
      ]
    },
    {
      "cell_type": "code",
      "execution_count": null,
      "metadata": {
        "id": "k1g_M2pLlCsJ"
      },
      "outputs": [],
      "source": [
        "df.dropna().head()"
      ]
    },
    {
      "cell_type": "code",
      "execution_count": null,
      "metadata": {
        "id": "bGLiGurn-cRY"
      },
      "outputs": [],
      "source": [
        "columns_to_delete = ['UserID', 'birthday']\n",
        "df.drop(columns_to_delete, inplace=True, axis=1)\n",
        "df.head()"
      ]
    },
    {
      "cell_type": "markdown",
      "metadata": {
        "id": "ft28xhTS_2M_"
      },
      "source": [
        "You can also select the columns to keep instead of selecting the columns to delete"
      ]
    },
    {
      "cell_type": "code",
      "execution_count": null,
      "metadata": {
        "id": "nYgk-ozd_7IN"
      },
      "outputs": [],
      "source": [
        "columns_to_keep = ['first_name', 'last_name', 'country']\n",
        "df = df[columns_to_keep]\n",
        "df.head()"
      ]
    },
    {
      "cell_type": "markdown",
      "metadata": {
        "id": "3omP7MUKJGIk"
      },
      "source": [
        "With the help of the value_counts() function you can see how many people in the dataset are from each country.\n",
        "You can also use it to find how many maried people we have per country."
      ]
    },
    {
      "cell_type": "code",
      "execution_count": null,
      "metadata": {
        "id": "RjlAyKbuJibj"
      },
      "outputs": [],
      "source": [
        "df = pd.read_csv(\"https://raw.githubusercontent.com/michalis0/DataScience_and_MachineLearning/master/Week_2/user_records_lab.csv\")\n",
        "df[\"country\"].value_counts().sort_values(ascending = False).head()"
      ]
    },
    {
      "cell_type": "code",
      "execution_count": null,
      "metadata": {
        "id": "FfRvP4hvaC8Z"
      },
      "outputs": [],
      "source": [
        "df[df['marital_status'] == 1]['country'].value_counts().head()"
      ]
    },
    {
      "cell_type": "markdown",
      "metadata": {
        "id": "dZfWwEk2dQyk"
      },
      "source": [
        "You can also use the group by method to aggregate data depending on one category.\n",
        "\n",
        "We can use it to find the the average number of kids per country"
      ]
    },
    {
      "cell_type": "code",
      "execution_count": null,
      "metadata": {
        "id": "KqiRH021JqbF"
      },
      "outputs": [],
      "source": [
        "df= df[['country', 'number_of_kids']]\n",
        "df = df.dropna()\n",
        "\n",
        "df = df.groupby('country').mean().sort_values('number_of_kids', ascending=False)\n",
        "df.head()"
      ]
    },
    {
      "cell_type": "markdown",
      "metadata": {
        "id": "ZZxIthH6NYQR"
      },
      "source": [
        "##Your turn !\n"
      ]
    },
    {
      "cell_type": "markdown",
      "metadata": {
        "id": "c_U_te7vNcnb"
      },
      "source": [
        "Now a small exercice so that you can practice what we have learned so far.\n",
        "Based on this [new dataset](https://raw.githubusercontent.com/michalis0/DataScience_and_MachineLearning/master/Week_2/movie_data.csv), answer these questions:\n",
        "\n",
        "\n",
        "*   What is the shape of the dataset?\n",
        "*   What are the names of the columns ?\n",
        "*   Are there any duplicates ? If yes, which ones ?\n",
        "*   Are there any missing values ? If yes, which ones ?\n",
        "*   How many movies have a rating of 5 ? Create a list with the name of the movies\n",
        "\n"
      ]
    },
    {
      "cell_type": "code",
      "execution_count": null,
      "metadata": {
        "id": "8lS4kDcqNbLg"
      },
      "outputs": [],
      "source": []
    },
    {
      "cell_type": "markdown",
      "metadata": {
        "id": "KkWJBx21Cq41"
      },
      "source": [
        "#Operations with multiple datasets using pandas\n",
        "\n",
        "Sometimes data sets may come from different sources. In those cases you may need to merge datasets together.\n",
        "\n",
        "Let's assume two datasets, user data and flight records.\n",
        "\n",
        "The two data sets can be linked through the \"user_id\" column."
      ]
    },
    {
      "cell_type": "code",
      "execution_count": null,
      "metadata": {
        "id": "EL7JbTKQCqUR"
      },
      "outputs": [],
      "source": [
        "#check the dataset with user data\n",
        "user_data = pd.read_csv(\"https://raw.githubusercontent.com/michalis0/DataScience_and_MachineLearning/master/Week_2/user_records_lab.csv\")\n",
        "\n",
        "user_data = user_data[['UserID', 'first_name', 'last_name']]\n",
        "user_data.head(2)"
      ]
    },
    {
      "cell_type": "code",
      "execution_count": null,
      "metadata": {
        "id": "C8XXKKWVGa5_"
      },
      "outputs": [],
      "source": [
        "#check the dataset with the flight records\n",
        "flight_records = pd.read_csv(\"https://raw.githubusercontent.com/michalis0/DataScience_and_MachineLearning/master/Week_2/flight_records_lab.csv\")\n",
        "flight_records.head(2)"
      ]
    },
    {
      "cell_type": "markdown",
      "metadata": {
        "id": "Mp1SB0TPKoKM"
      },
      "source": [
        "[Merging](https://pandas.pydata.org/docs/user_guide/merging.html) the two datasets:"
      ]
    },
    {
      "cell_type": "code",
      "execution_count": null,
      "metadata": {
        "id": "SJbpo03uHBcW"
      },
      "outputs": [],
      "source": [
        "combined_dataset = pd.merge(flight_records, user_data, left_on=\"userID\", right_on='UserID', how=\"left\", sort=False)\n",
        "combined_dataset = combined_dataset.sort_values('date')\n",
        "\n",
        "combined_dataset.head(2)"
      ]
    },
    {
      "cell_type": "markdown",
      "metadata": {
        "id": "EmNRTgx2LnyW"
      },
      "source": [
        "Now we can find who traveled on a given date, for example on the 1st of december 2022"
      ]
    },
    {
      "cell_type": "code",
      "execution_count": null,
      "metadata": {
        "id": "38tF-z8HLndV"
      },
      "outputs": [],
      "source": [
        "combined_dataset[combined_dataset['date']=='01-12-2022']"
      ]
    },
    {
      "cell_type": "markdown",
      "metadata": {
        "id": "XYOqxVGCM972"
      },
      "source": [
        "We can also find the travels of all people who's first name is \"Nicolas\""
      ]
    },
    {
      "cell_type": "code",
      "execution_count": null,
      "metadata": {
        "id": "7QDP9fQUM-Wo"
      },
      "outputs": [],
      "source": [
        "combined_dataset[combined_dataset['first_name']=='Nicolas'].head(3)"
      ]
    },
    {
      "cell_type": "markdown",
      "metadata": {
        "id": "s4fEuIS4VCHP"
      },
      "source": [
        "## Your turn !"
      ]
    },
    {
      "cell_type": "markdown",
      "metadata": {
        "id": "3ZZjkkedaePG"
      },
      "source": [
        "With the [netflix dataset](https://raw.githubusercontent.com/michalis0/DataScience_and_MachineLearning/master/Week_2/netflix_data.csv), merge the two dataset on the movie's title and give the movie that has the best Netflic Score and a IMDB score over 4.5."
      ]
    },
    {
      "cell_type": "code",
      "execution_count": null,
      "metadata": {
        "id": "XB4Xva2xaa_D"
      },
      "outputs": [],
      "source": []
    },
    {
      "cell_type": "markdown",
      "metadata": {
        "id": "6nh27RK8cMJZ"
      },
      "source": [
        "#[Data visualisation ](https://pandas.pydata.org/docs/user_guide/visualization.html)\n",
        "\n",
        "Data can be hard to comprehend on it's own,\n",
        "Sometimes visualization tools can be helpfull to get a better sense of it."
      ]
    },
    {
      "cell_type": "markdown",
      "metadata": {
        "id": "5mX8w6H7c6ro"
      },
      "source": [
        "Let's first make a pie chart to visualise the sum of the children born in the top 5 most fertile countries"
      ]
    },
    {
      "cell_type": "code",
      "execution_count": null,
      "metadata": {
        "id": "5Muyk-xMc7h6"
      },
      "outputs": [],
      "source": [
        "df = pd.read_csv(\"https://raw.githubusercontent.com/michalis0/DataScience_and_MachineLearning/master/Week_2/user_records_lab.csv\")\n",
        "df= df[['country', 'number_of_kids']]\n",
        "df = df.dropna()\n",
        "df = df.groupby('country').sum().sort_values('number_of_kids', ascending=False)\n",
        "df = df[0:6]\n",
        "series = pd.Series(df['number_of_kids'].to_list(), index=df.index.to_list())\n",
        "\n",
        "\n",
        "series.plot.pie(autopct=\"%.2f\",figsize=(6, 6));"
      ]
    },
    {
      "cell_type": "markdown",
      "metadata": {
        "id": "WBUy4QHHiWuO"
      },
      "source": [
        "##Boxplots are also usefull to compare data\n",
        "\n",
        "For the following exercise we will compare mobile data consumption per country"
      ]
    },
    {
      "cell_type": "markdown",
      "metadata": {
        "id": "uiKyLYwHcCJ-"
      },
      "source": [
        "Lets first combined the phone logs dataset with the antenna info dataset in order to link each antena to a country"
      ]
    },
    {
      "cell_type": "code",
      "execution_count": null,
      "metadata": {
        "id": "QDXQ5-86cR61"
      },
      "outputs": [],
      "source": [
        "phone_logs = pd.read_csv(\"https://raw.githubusercontent.com/michalis0/DataScience_and_MachineLearning/master/Week_2/all_phone_logs_lab.csv\")\n",
        "phone_logs.head()"
      ]
    },
    {
      "cell_type": "code",
      "execution_count": null,
      "metadata": {
        "id": "iaAAS_Ubccle"
      },
      "outputs": [],
      "source": [
        "antenna_info = pd.read_csv(\"https://raw.githubusercontent.com/michalis0/DataScience_and_MachineLearning/master/Week_2/antena_info_lab.csv\")\n",
        "antenna_info.head()"
      ]
    },
    {
      "cell_type": "code",
      "execution_count": null,
      "metadata": {
        "id": "2xU4gw37cOX6"
      },
      "outputs": [],
      "source": [
        "combined_dataset = pd.merge(phone_logs, antenna_info, left_on=\"antena_id\", right_on='antena_id', how=\"left\", sort=False)\n",
        "combined_dataset = combined_dataset.sort_values('country')\n",
        "\n",
        "combined_dataset.head(2)"
      ]
    },
    {
      "cell_type": "code",
      "execution_count": null,
      "metadata": {
        "id": "fBRaUIuWdrR_"
      },
      "outputs": [],
      "source": [
        "consumption_per_country = combined_dataset[['dandwith_used', 'country']]\n",
        "consumption_per_country = consumption_per_country.groupby('country').sum()\n",
        "consumption_per_country.head(5)"
      ]
    },
    {
      "cell_type": "code",
      "execution_count": null,
      "metadata": {
        "id": "JbugOuODe2rd"
      },
      "outputs": [],
      "source": [
        "consumption_per_country.plot.box()"
      ]
    },
    {
      "cell_type": "markdown",
      "metadata": {
        "id": "IcGc10KCfFL7"
      },
      "source": [
        "Let's now find the consumption per country per year, and then display it in boxplots"
      ]
    },
    {
      "cell_type": "code",
      "execution_count": null,
      "metadata": {
        "id": "fQDGqcsffcIe"
      },
      "outputs": [],
      "source": [
        "combined_dataset['date_and_time'] = pd.to_datetime(combined_dataset['date_and_time']).to_list()\n",
        "combined_dataset['year'] = list(map(lambda x: x.year,combined_dataset['date_and_time'].to_list()))\n",
        "\n",
        "\n",
        "consumption_per_country_per_year = combined_dataset[['dandwith_used', 'country', 'year']]\n",
        "consumption_per_country_per_year = consumption_per_country_per_year.groupby(['country', 'year']).sum()\n",
        "consumption_per_country_per_year.boxplot(by = 'year')"
      ]
    }
  ],
  "metadata": {
    "colab": {
      "provenance": [],
      "toc_visible": true
    },
    "kernelspec": {
      "display_name": "Python 3",
      "name": "python3"
    },
    "language_info": {
      "codemirror_mode": {
        "name": "ipython",
        "version": 3
      },
      "file_extension": ".py",
      "mimetype": "text/x-python",
      "name": "python",
      "nbconvert_exporter": "python",
      "pygments_lexer": "ipython3",
      "version": "3.9.6"
    }
  },
  "nbformat": 4,
  "nbformat_minor": 0
}
