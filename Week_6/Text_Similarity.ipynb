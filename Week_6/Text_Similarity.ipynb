{
  "nbformat": 4,
  "nbformat_minor": 0,
  "metadata": {
    "colab": {
      "provenance": [],
      "include_colab_link": true
    },
    "kernelspec": {
      "name": "python3",
      "display_name": "Python 3"
    }
  },
  "cells": [
    {
      "cell_type": "markdown",
      "metadata": {
        "id": "view-in-github",
        "colab_type": "text"
      },
      "source": [
        "<a href=\"https://colab.research.google.com/github/michalis0/DataScience_and_MachineLearning/blob/master/Week_6/Text_Similarity.ipynb\" target=\"_parent\"><img src=\"https://colab.research.google.com/assets/colab-badge.svg\" alt=\"Open In Colab\"/></a>"
      ]
    },
    {
      "cell_type": "code",
      "metadata": {
        "id": "GQi481ap9CEM"
      },
      "source": [
        "#nltk.download('punkt')\n",
        "# we update and install spaCy\n",
        "# !pip install -U spacy"
      ],
      "execution_count": 3,
      "outputs": []
    },
    {
      "cell_type": "code",
      "metadata": {
        "id": "fe7twV8Q7dGg",
        "outputId": "54bda1ae-117d-4907-ff3e-daffb0047c16",
        "colab": {
          "base_uri": "https://localhost:8080/"
        }
      },
      "source": [
        "pip install wikipedia"
      ],
      "execution_count": 4,
      "outputs": [
        {
          "output_type": "stream",
          "name": "stdout",
          "text": [
            "Collecting wikipedia\n",
            "  Downloading wikipedia-1.4.0.tar.gz (27 kB)\n",
            "  Preparing metadata (setup.py) ... \u001b[?25l\u001b[?25hdone\n",
            "Requirement already satisfied: beautifulsoup4 in /usr/local/lib/python3.10/dist-packages (from wikipedia) (4.12.3)\n",
            "Requirement already satisfied: requests<3.0.0,>=2.0.0 in /usr/local/lib/python3.10/dist-packages (from wikipedia) (2.31.0)\n",
            "Requirement already satisfied: charset-normalizer<4,>=2 in /usr/local/lib/python3.10/dist-packages (from requests<3.0.0,>=2.0.0->wikipedia) (3.3.2)\n",
            "Requirement already satisfied: idna<4,>=2.5 in /usr/local/lib/python3.10/dist-packages (from requests<3.0.0,>=2.0.0->wikipedia) (3.6)\n",
            "Requirement already satisfied: urllib3<3,>=1.21.1 in /usr/local/lib/python3.10/dist-packages (from requests<3.0.0,>=2.0.0->wikipedia) (2.0.7)\n",
            "Requirement already satisfied: certifi>=2017.4.17 in /usr/local/lib/python3.10/dist-packages (from requests<3.0.0,>=2.0.0->wikipedia) (2024.2.2)\n",
            "Requirement already satisfied: soupsieve>1.2 in /usr/local/lib/python3.10/dist-packages (from beautifulsoup4->wikipedia) (2.5)\n",
            "Building wheels for collected packages: wikipedia\n",
            "  Building wheel for wikipedia (setup.py) ... \u001b[?25l\u001b[?25hdone\n",
            "  Created wheel for wikipedia: filename=wikipedia-1.4.0-py3-none-any.whl size=11680 sha256=638653089324ecfd05f477695ba63502f59950a96cef7cd6232dc588b65c3244\n",
            "  Stored in directory: /root/.cache/pip/wheels/5e/b6/c5/93f3dec388ae76edc830cb42901bb0232504dfc0df02fc50de\n",
            "Successfully built wikipedia\n",
            "Installing collected packages: wikipedia\n",
            "Successfully installed wikipedia-1.4.0\n"
          ]
        }
      ]
    },
    {
      "cell_type": "markdown",
      "metadata": {
        "id": "uY-QWMKHuWPx"
      },
      "source": [
        "It's much easier to use an existing library that does all this preprocessing for us (but it's limited to wikipedia articles)."
      ]
    },
    {
      "cell_type": "code",
      "metadata": {
        "id": "_S39iF0Wsu2u"
      },
      "source": [
        "import wikipedia\n",
        "\n",
        "topics = [\"Albert Einstein\",\n",
        "          \"Augusta Ada\",\n",
        "          \"Abraham Lincoln\",\n",
        "          \"Stephen Hawking\",\n",
        "          \"Steven Paul Jobs\",\n",
        "          \"William Gates\",\n",
        "          \"William Clinton\"\n",
        "\n",
        "]\n",
        "\n",
        "data = [wikipedia.summary(topics[p], sentences=20) for p in range(len(topics))]\n",
        "\n",
        "# we will try this later\n",
        "# data = [wikipedia.page(topics[p]).content for p in range(len(topics))]"
      ],
      "execution_count": 5,
      "outputs": []
    },
    {
      "cell_type": "code",
      "metadata": {
        "id": "szdCm_N2s1xP",
        "outputId": "fdedb47b-b200-42e3-c622-24b3e9b02b19",
        "colab": {
          "base_uri": "https://localhost:8080/",
          "height": 241
        }
      },
      "source": [
        "# show the first sentences about Ada Lovelace\n",
        "data[1]"
      ],
      "execution_count": 6,
      "outputs": [
        {
          "output_type": "execute_result",
          "data": {
            "text/plain": [
              "\"Augusta Ada King, Countess of Lovelace (née Byron; 10 December 1815 – 27 November 1852) was an English mathematician and writer, chiefly known for her work on Charles Babbage's proposed mechanical general-purpose computer, the Analytical Engine. She was the first to recognise that the machine had applications beyond pure calculation.\\nAda Byron was the only legitimate child of poet Lord Byron and reformer Anne Isabella Milbanke. All Lovelace's half-siblings, Lord Byron's other children, were born out of wedlock to other women. Byron separated from his wife a month after Ada was born and left England forever.  He died in Greece when Ada was eight. Her mother was anxious about her upbringing and promoted Ada's interest in mathematics and logic in an effort to prevent her from developing her father's perceived insanity. Despite this, Ada remained interested in him, naming her two sons Byron and Gordon. Upon her death, she was buried next to him at her request. Although often ill in her childhood, Ada pursued her studies assiduously.\""
            ],
            "application/vnd.google.colaboratory.intrinsic+json": {
              "type": "string"
            }
          },
          "metadata": {},
          "execution_count": 6
        }
      ]
    },
    {
      "cell_type": "markdown",
      "metadata": {
        "id": "MKC0hmfgZesx"
      },
      "source": [
        "## Converting the text into vectors"
      ]
    },
    {
      "cell_type": "code",
      "metadata": {
        "id": "abDmZVMZLuXP"
      },
      "source": [
        "from sklearn.feature_extraction.text import CountVectorizer\n",
        "from sklearn.feature_extraction import text\n",
        "import pandas as pd\n",
        "\n",
        "stopwords = text.ENGLISH_STOP_WORDS\n",
        "\n",
        "# using default tokenizer\n",
        "count = CountVectorizer(ngram_range=(1,2), stop_words = None)\n",
        "bow = count.fit_transform(data)"
      ],
      "execution_count": 7,
      "outputs": []
    },
    {
      "cell_type": "markdown",
      "metadata": {
        "id": "UAwCpPh9ZYOB"
      },
      "source": [
        "## Computing the Cosine Similarity"
      ]
    },
    {
      "cell_type": "code",
      "metadata": {
        "id": "aq3E7gSBWnNE",
        "outputId": "857be0ba-f134-491e-a82f-5ceb86813031",
        "colab": {
          "base_uri": "https://localhost:8080/"
        }
      },
      "source": [
        "from sklearn.metrics.pairwise import cosine_similarity\n",
        "\n",
        "# compute first item against all the rest\n",
        "cosine_similarity(bow[0:1], bow)"
      ],
      "execution_count": 8,
      "outputs": [
        {
          "output_type": "execute_result",
          "data": {
            "text/plain": [
              "array([[1.        , 0.29914381, 0.60359414, 0.46916132, 0.60612119,\n",
              "        0.52311841, 0.47841397]])"
            ]
          },
          "metadata": {},
          "execution_count": 8
        }
      ]
    },
    {
      "cell_type": "markdown",
      "metadata": {
        "id": "nA4_Z07bY9xd"
      },
      "source": [
        "Find the maximum cosine similarity, except the diagonal, to see with whom \"Albert Einstein\" is more similar to.\n",
        "\n",
        "Now let's see all the pairwise similarities.\n"
      ]
    },
    {
      "cell_type": "markdown",
      "metadata": {
        "id": "u5OzgKfcZtSb"
      },
      "source": []
    },
    {
      "cell_type": "code",
      "metadata": {
        "id": "UmUb5yL3YwIp",
        "outputId": "3fae7e89-4f98-4cfb-8b78-88279347572c",
        "colab": {
          "base_uri": "https://localhost:8080/",
          "height": 438
        }
      },
      "source": [
        "pairwise_similarities = cosine_similarity(bow, bow)\n",
        "\n",
        "pairwise_df = pd.DataFrame(\n",
        "    pairwise_similarities,\n",
        "    columns = topics,\n",
        "    index = topics\n",
        ")\n",
        "pairwise_df"
      ],
      "execution_count": 9,
      "outputs": [
        {
          "output_type": "execute_result",
          "data": {
            "text/plain": [
              "                  Albert Einstein  Augusta Ada  Abraham Lincoln  \\\n",
              "Albert Einstein          1.000000     0.299144         0.603594   \n",
              "Augusta Ada              0.299144     1.000000         0.314853   \n",
              "Abraham Lincoln          0.603594     0.314853         1.000000   \n",
              "Stephen Hawking          0.469161     0.238203         0.472707   \n",
              "Steven Paul Jobs         0.606121     0.327052         0.569862   \n",
              "William Gates            0.523118     0.282611         0.492151   \n",
              "William Clinton          0.478414     0.267665         0.557096   \n",
              "\n",
              "                  Stephen Hawking  Steven Paul Jobs  William Gates  \\\n",
              "Albert Einstein          0.469161          0.606121       0.523118   \n",
              "Augusta Ada              0.238203          0.327052       0.282611   \n",
              "Abraham Lincoln          0.472707          0.569862       0.492151   \n",
              "Stephen Hawking          1.000000          0.427401       0.385351   \n",
              "Steven Paul Jobs         0.427401          1.000000       0.547258   \n",
              "William Gates            0.385351          0.547258       1.000000   \n",
              "William Clinton          0.373807          0.465636       0.433794   \n",
              "\n",
              "                  William Clinton  \n",
              "Albert Einstein          0.478414  \n",
              "Augusta Ada              0.267665  \n",
              "Abraham Lincoln          0.557096  \n",
              "Stephen Hawking          0.373807  \n",
              "Steven Paul Jobs         0.465636  \n",
              "William Gates            0.433794  \n",
              "William Clinton          1.000000  "
            ],
            "text/html": [
              "\n",
              "  <div id=\"df-2fa4d3cb-1fc3-410c-a7f4-4928cc5af67a\" class=\"colab-df-container\">\n",
              "    <div>\n",
              "<style scoped>\n",
              "    .dataframe tbody tr th:only-of-type {\n",
              "        vertical-align: middle;\n",
              "    }\n",
              "\n",
              "    .dataframe tbody tr th {\n",
              "        vertical-align: top;\n",
              "    }\n",
              "\n",
              "    .dataframe thead th {\n",
              "        text-align: right;\n",
              "    }\n",
              "</style>\n",
              "<table border=\"1\" class=\"dataframe\">\n",
              "  <thead>\n",
              "    <tr style=\"text-align: right;\">\n",
              "      <th></th>\n",
              "      <th>Albert Einstein</th>\n",
              "      <th>Augusta Ada</th>\n",
              "      <th>Abraham Lincoln</th>\n",
              "      <th>Stephen Hawking</th>\n",
              "      <th>Steven Paul Jobs</th>\n",
              "      <th>William Gates</th>\n",
              "      <th>William Clinton</th>\n",
              "    </tr>\n",
              "  </thead>\n",
              "  <tbody>\n",
              "    <tr>\n",
              "      <th>Albert Einstein</th>\n",
              "      <td>1.000000</td>\n",
              "      <td>0.299144</td>\n",
              "      <td>0.603594</td>\n",
              "      <td>0.469161</td>\n",
              "      <td>0.606121</td>\n",
              "      <td>0.523118</td>\n",
              "      <td>0.478414</td>\n",
              "    </tr>\n",
              "    <tr>\n",
              "      <th>Augusta Ada</th>\n",
              "      <td>0.299144</td>\n",
              "      <td>1.000000</td>\n",
              "      <td>0.314853</td>\n",
              "      <td>0.238203</td>\n",
              "      <td>0.327052</td>\n",
              "      <td>0.282611</td>\n",
              "      <td>0.267665</td>\n",
              "    </tr>\n",
              "    <tr>\n",
              "      <th>Abraham Lincoln</th>\n",
              "      <td>0.603594</td>\n",
              "      <td>0.314853</td>\n",
              "      <td>1.000000</td>\n",
              "      <td>0.472707</td>\n",
              "      <td>0.569862</td>\n",
              "      <td>0.492151</td>\n",
              "      <td>0.557096</td>\n",
              "    </tr>\n",
              "    <tr>\n",
              "      <th>Stephen Hawking</th>\n",
              "      <td>0.469161</td>\n",
              "      <td>0.238203</td>\n",
              "      <td>0.472707</td>\n",
              "      <td>1.000000</td>\n",
              "      <td>0.427401</td>\n",
              "      <td>0.385351</td>\n",
              "      <td>0.373807</td>\n",
              "    </tr>\n",
              "    <tr>\n",
              "      <th>Steven Paul Jobs</th>\n",
              "      <td>0.606121</td>\n",
              "      <td>0.327052</td>\n",
              "      <td>0.569862</td>\n",
              "      <td>0.427401</td>\n",
              "      <td>1.000000</td>\n",
              "      <td>0.547258</td>\n",
              "      <td>0.465636</td>\n",
              "    </tr>\n",
              "    <tr>\n",
              "      <th>William Gates</th>\n",
              "      <td>0.523118</td>\n",
              "      <td>0.282611</td>\n",
              "      <td>0.492151</td>\n",
              "      <td>0.385351</td>\n",
              "      <td>0.547258</td>\n",
              "      <td>1.000000</td>\n",
              "      <td>0.433794</td>\n",
              "    </tr>\n",
              "    <tr>\n",
              "      <th>William Clinton</th>\n",
              "      <td>0.478414</td>\n",
              "      <td>0.267665</td>\n",
              "      <td>0.557096</td>\n",
              "      <td>0.373807</td>\n",
              "      <td>0.465636</td>\n",
              "      <td>0.433794</td>\n",
              "      <td>1.000000</td>\n",
              "    </tr>\n",
              "  </tbody>\n",
              "</table>\n",
              "</div>\n",
              "    <div class=\"colab-df-buttons\">\n",
              "\n",
              "  <div class=\"colab-df-container\">\n",
              "    <button class=\"colab-df-convert\" onclick=\"convertToInteractive('df-2fa4d3cb-1fc3-410c-a7f4-4928cc5af67a')\"\n",
              "            title=\"Convert this dataframe to an interactive table.\"\n",
              "            style=\"display:none;\">\n",
              "\n",
              "  <svg xmlns=\"http://www.w3.org/2000/svg\" height=\"24px\" viewBox=\"0 -960 960 960\">\n",
              "    <path d=\"M120-120v-720h720v720H120Zm60-500h600v-160H180v160Zm220 220h160v-160H400v160Zm0 220h160v-160H400v160ZM180-400h160v-160H180v160Zm440 0h160v-160H620v160ZM180-180h160v-160H180v160Zm440 0h160v-160H620v160Z\"/>\n",
              "  </svg>\n",
              "    </button>\n",
              "\n",
              "  <style>\n",
              "    .colab-df-container {\n",
              "      display:flex;\n",
              "      gap: 12px;\n",
              "    }\n",
              "\n",
              "    .colab-df-convert {\n",
              "      background-color: #E8F0FE;\n",
              "      border: none;\n",
              "      border-radius: 50%;\n",
              "      cursor: pointer;\n",
              "      display: none;\n",
              "      fill: #1967D2;\n",
              "      height: 32px;\n",
              "      padding: 0 0 0 0;\n",
              "      width: 32px;\n",
              "    }\n",
              "\n",
              "    .colab-df-convert:hover {\n",
              "      background-color: #E2EBFA;\n",
              "      box-shadow: 0px 1px 2px rgba(60, 64, 67, 0.3), 0px 1px 3px 1px rgba(60, 64, 67, 0.15);\n",
              "      fill: #174EA6;\n",
              "    }\n",
              "\n",
              "    .colab-df-buttons div {\n",
              "      margin-bottom: 4px;\n",
              "    }\n",
              "\n",
              "    [theme=dark] .colab-df-convert {\n",
              "      background-color: #3B4455;\n",
              "      fill: #D2E3FC;\n",
              "    }\n",
              "\n",
              "    [theme=dark] .colab-df-convert:hover {\n",
              "      background-color: #434B5C;\n",
              "      box-shadow: 0px 1px 3px 1px rgba(0, 0, 0, 0.15);\n",
              "      filter: drop-shadow(0px 1px 2px rgba(0, 0, 0, 0.3));\n",
              "      fill: #FFFFFF;\n",
              "    }\n",
              "  </style>\n",
              "\n",
              "    <script>\n",
              "      const buttonEl =\n",
              "        document.querySelector('#df-2fa4d3cb-1fc3-410c-a7f4-4928cc5af67a button.colab-df-convert');\n",
              "      buttonEl.style.display =\n",
              "        google.colab.kernel.accessAllowed ? 'block' : 'none';\n",
              "\n",
              "      async function convertToInteractive(key) {\n",
              "        const element = document.querySelector('#df-2fa4d3cb-1fc3-410c-a7f4-4928cc5af67a');\n",
              "        const dataTable =\n",
              "          await google.colab.kernel.invokeFunction('convertToInteractive',\n",
              "                                                    [key], {});\n",
              "        if (!dataTable) return;\n",
              "\n",
              "        const docLinkHtml = 'Like what you see? Visit the ' +\n",
              "          '<a target=\"_blank\" href=https://colab.research.google.com/notebooks/data_table.ipynb>data table notebook</a>'\n",
              "          + ' to learn more about interactive tables.';\n",
              "        element.innerHTML = '';\n",
              "        dataTable['output_type'] = 'display_data';\n",
              "        await google.colab.output.renderOutput(dataTable, element);\n",
              "        const docLink = document.createElement('div');\n",
              "        docLink.innerHTML = docLinkHtml;\n",
              "        element.appendChild(docLink);\n",
              "      }\n",
              "    </script>\n",
              "  </div>\n",
              "\n",
              "\n",
              "<div id=\"df-964fafb2-86a9-493c-8ba4-4e0684c4c635\">\n",
              "  <button class=\"colab-df-quickchart\" onclick=\"quickchart('df-964fafb2-86a9-493c-8ba4-4e0684c4c635')\"\n",
              "            title=\"Suggest charts\"\n",
              "            style=\"display:none;\">\n",
              "\n",
              "<svg xmlns=\"http://www.w3.org/2000/svg\" height=\"24px\"viewBox=\"0 0 24 24\"\n",
              "     width=\"24px\">\n",
              "    <g>\n",
              "        <path d=\"M19 3H5c-1.1 0-2 .9-2 2v14c0 1.1.9 2 2 2h14c1.1 0 2-.9 2-2V5c0-1.1-.9-2-2-2zM9 17H7v-7h2v7zm4 0h-2V7h2v10zm4 0h-2v-4h2v4z\"/>\n",
              "    </g>\n",
              "</svg>\n",
              "  </button>\n",
              "\n",
              "<style>\n",
              "  .colab-df-quickchart {\n",
              "      --bg-color: #E8F0FE;\n",
              "      --fill-color: #1967D2;\n",
              "      --hover-bg-color: #E2EBFA;\n",
              "      --hover-fill-color: #174EA6;\n",
              "      --disabled-fill-color: #AAA;\n",
              "      --disabled-bg-color: #DDD;\n",
              "  }\n",
              "\n",
              "  [theme=dark] .colab-df-quickchart {\n",
              "      --bg-color: #3B4455;\n",
              "      --fill-color: #D2E3FC;\n",
              "      --hover-bg-color: #434B5C;\n",
              "      --hover-fill-color: #FFFFFF;\n",
              "      --disabled-bg-color: #3B4455;\n",
              "      --disabled-fill-color: #666;\n",
              "  }\n",
              "\n",
              "  .colab-df-quickchart {\n",
              "    background-color: var(--bg-color);\n",
              "    border: none;\n",
              "    border-radius: 50%;\n",
              "    cursor: pointer;\n",
              "    display: none;\n",
              "    fill: var(--fill-color);\n",
              "    height: 32px;\n",
              "    padding: 0;\n",
              "    width: 32px;\n",
              "  }\n",
              "\n",
              "  .colab-df-quickchart:hover {\n",
              "    background-color: var(--hover-bg-color);\n",
              "    box-shadow: 0 1px 2px rgba(60, 64, 67, 0.3), 0 1px 3px 1px rgba(60, 64, 67, 0.15);\n",
              "    fill: var(--button-hover-fill-color);\n",
              "  }\n",
              "\n",
              "  .colab-df-quickchart-complete:disabled,\n",
              "  .colab-df-quickchart-complete:disabled:hover {\n",
              "    background-color: var(--disabled-bg-color);\n",
              "    fill: var(--disabled-fill-color);\n",
              "    box-shadow: none;\n",
              "  }\n",
              "\n",
              "  .colab-df-spinner {\n",
              "    border: 2px solid var(--fill-color);\n",
              "    border-color: transparent;\n",
              "    border-bottom-color: var(--fill-color);\n",
              "    animation:\n",
              "      spin 1s steps(1) infinite;\n",
              "  }\n",
              "\n",
              "  @keyframes spin {\n",
              "    0% {\n",
              "      border-color: transparent;\n",
              "      border-bottom-color: var(--fill-color);\n",
              "      border-left-color: var(--fill-color);\n",
              "    }\n",
              "    20% {\n",
              "      border-color: transparent;\n",
              "      border-left-color: var(--fill-color);\n",
              "      border-top-color: var(--fill-color);\n",
              "    }\n",
              "    30% {\n",
              "      border-color: transparent;\n",
              "      border-left-color: var(--fill-color);\n",
              "      border-top-color: var(--fill-color);\n",
              "      border-right-color: var(--fill-color);\n",
              "    }\n",
              "    40% {\n",
              "      border-color: transparent;\n",
              "      border-right-color: var(--fill-color);\n",
              "      border-top-color: var(--fill-color);\n",
              "    }\n",
              "    60% {\n",
              "      border-color: transparent;\n",
              "      border-right-color: var(--fill-color);\n",
              "    }\n",
              "    80% {\n",
              "      border-color: transparent;\n",
              "      border-right-color: var(--fill-color);\n",
              "      border-bottom-color: var(--fill-color);\n",
              "    }\n",
              "    90% {\n",
              "      border-color: transparent;\n",
              "      border-bottom-color: var(--fill-color);\n",
              "    }\n",
              "  }\n",
              "</style>\n",
              "\n",
              "  <script>\n",
              "    async function quickchart(key) {\n",
              "      const quickchartButtonEl =\n",
              "        document.querySelector('#' + key + ' button');\n",
              "      quickchartButtonEl.disabled = true;  // To prevent multiple clicks.\n",
              "      quickchartButtonEl.classList.add('colab-df-spinner');\n",
              "      try {\n",
              "        const charts = await google.colab.kernel.invokeFunction(\n",
              "            'suggestCharts', [key], {});\n",
              "      } catch (error) {\n",
              "        console.error('Error during call to suggestCharts:', error);\n",
              "      }\n",
              "      quickchartButtonEl.classList.remove('colab-df-spinner');\n",
              "      quickchartButtonEl.classList.add('colab-df-quickchart-complete');\n",
              "    }\n",
              "    (() => {\n",
              "      let quickchartButtonEl =\n",
              "        document.querySelector('#df-964fafb2-86a9-493c-8ba4-4e0684c4c635 button');\n",
              "      quickchartButtonEl.style.display =\n",
              "        google.colab.kernel.accessAllowed ? 'block' : 'none';\n",
              "    })();\n",
              "  </script>\n",
              "</div>\n",
              "    </div>\n",
              "  </div>\n"
            ],
            "application/vnd.google.colaboratory.intrinsic+json": {
              "type": "dataframe",
              "variable_name": "pairwise_df",
              "summary": "{\n  \"name\": \"pairwise_df\",\n  \"rows\": 7,\n  \"fields\": [\n    {\n      \"column\": \"Albert Einstein\",\n      \"properties\": {\n        \"dtype\": \"number\",\n        \"std\": 0.21657759012807953,\n        \"min\": 0.29914380907745025,\n        \"max\": 1.0000000000000044,\n        \"num_unique_values\": 7,\n        \"samples\": [\n          1.0000000000000044,\n          0.29914380907745025,\n          0.5231184085389676\n        ],\n        \"semantic_type\": \"\",\n        \"description\": \"\"\n      }\n    },\n    {\n      \"column\": \"Augusta Ada\",\n      \"properties\": {\n        \"dtype\": \"number\",\n        \"std\": 0.27064885523334126,\n        \"min\": 0.23820286477173208,\n        \"max\": 0.9999999999999938,\n        \"num_unique_values\": 7,\n        \"samples\": [\n          0.29914380907745025,\n          0.9999999999999938,\n          0.28261123117440257\n        ],\n        \"semantic_type\": \"\",\n        \"description\": \"\"\n      }\n    },\n    {\n      \"column\": \"Abraham Lincoln\",\n      \"properties\": {\n        \"dtype\": \"number\",\n        \"std\": 0.21085649054692815,\n        \"min\": 0.314853319320861,\n        \"max\": 1.0000000000000033,\n        \"num_unique_values\": 7,\n        \"samples\": [\n          0.6035941449245847,\n          0.314853319320861,\n          0.492150528067351\n        ],\n        \"semantic_type\": \"\",\n        \"description\": \"\"\n      }\n    },\n    {\n      \"column\": \"Stephen Hawking\",\n      \"properties\": {\n        \"dtype\": \"number\",\n        \"std\": 0.24222314049756186,\n        \"min\": 0.23820286477173208,\n        \"max\": 0.9999999999999984,\n        \"num_unique_values\": 7,\n        \"samples\": [\n          0.46916132042281017,\n          0.23820286477173208,\n          0.38535109349090924\n        ],\n        \"semantic_type\": \"\",\n        \"description\": \"\"\n      }\n    },\n    {\n      \"column\": \"Steven Paul Jobs\",\n      \"properties\": {\n        \"dtype\": \"number\",\n        \"std\": 0.21473278454481654,\n        \"min\": 0.3270516072640008,\n        \"max\": 1.0000000000000004,\n        \"num_unique_values\": 7,\n        \"samples\": [\n          0.6061211872044093,\n          0.3270516072640008,\n          0.5472576755363313\n        ],\n        \"semantic_type\": \"\",\n        \"description\": \"\"\n      }\n    },\n    {\n      \"column\": \"William Gates\",\n      \"properties\": {\n        \"dtype\": \"number\",\n        \"std\": 0.2286771183089597,\n        \"min\": 0.28261123117440257,\n        \"max\": 0.999999999999994,\n        \"num_unique_values\": 7,\n        \"samples\": [\n          0.5231184085389676,\n          0.28261123117440257,\n          0.999999999999994\n        ],\n        \"semantic_type\": \"\",\n        \"description\": \"\"\n      }\n    },\n    {\n      \"column\": \"William Clinton\",\n      \"properties\": {\n        \"dtype\": \"number\",\n        \"std\": 0.23393730639958474,\n        \"min\": 0.267665378141581,\n        \"max\": 1.0000000000000027,\n        \"num_unique_values\": 7,\n        \"samples\": [\n          0.47841396752931864,\n          0.267665378141581,\n          0.4337936907832216\n        ],\n        \"semantic_type\": \"\",\n        \"description\": \"\"\n      }\n    }\n  ]\n}"
            }
          },
          "metadata": {},
          "execution_count": 9
        }
      ]
    },
    {
      "cell_type": "code",
      "metadata": {
        "id": "EcX5XMaEalYJ",
        "outputId": "4adc88a1-8c0d-4916-c906-fc7c033ca5e9",
        "colab": {
          "base_uri": "https://localhost:8080/",
          "height": 289
        }
      },
      "source": [
        "import seaborn as sns\n",
        "import matplotlib.pyplot as plt\n",
        "\n",
        "# show it\n",
        "plt.figure(figsize=(15,5))\n",
        "sns.heatmap(\n",
        "    pairwise_df,\n",
        "    cmap='OrRd',\n",
        "    linewidth=1,\n",
        "    annot=True\n",
        ")"
      ],
      "execution_count": 10,
      "outputs": [
        {
          "output_type": "execute_result",
          "data": {
            "text/plain": [
              "<Axes: >"
            ]
          },
          "metadata": {},
          "execution_count": 10
        },
        {
          "output_type": "display_data",
          "data": {
            "text/plain": [
              "<Figure size 1500x500 with 2 Axes>"
            ],
            "image/png": "[encoded data removed]"
          },
          "metadata": {}
        }
      ]
    },
    {
      "cell_type": "markdown",
      "metadata": {
        "id": "-pBWchtQgjio"
      },
      "source": [
        "# Exercise 1\n",
        "\n",
        "In the first block, uncomment this code:\n",
        "\n",
        "> `# data = [wikipedia.page(topics[p]).content for p in range(len(topics))]`\n",
        "\n",
        "to get the full text from each wikipedia entry, not just a summary.\n",
        "\n",
        "**Questions**:\n",
        "1. What do you notice in the pairwise similarities?\n",
        "2. Why is this happening?"
      ]
    },
    {
      "cell_type": "markdown",
      "metadata": {
        "id": "ozD1H2ofhKg5"
      },
      "source": [
        "# Exercise 2\n",
        "\n",
        "We will remedy what you noticed before.\n",
        "\n",
        "1. How can we do it?\n",
        "2. How does the new pairwise matrix look like now?"
      ]
    },
    {
      "cell_type": "code",
      "metadata": {
        "id": "wkY1b59sa2gV"
      },
      "source": [],
      "execution_count": 10,
      "outputs": []
    }
  ]
}