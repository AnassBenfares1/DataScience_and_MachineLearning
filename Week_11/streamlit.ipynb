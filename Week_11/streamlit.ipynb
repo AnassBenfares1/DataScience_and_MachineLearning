{
  "cells": [
    {
      "cell_type": "markdown",
      "metadata": {
        "id": "view-in-github"
      },
      "source": [
        "<a href=\"https://colab.research.google.com/github/michalis0/DataScience_and_MachineLearning/blob/master/Week_11/streamlit.ipynb\" target=\"_parent\"><img src=\"https://colab.research.google.com/assets/colab-badge.svg\" alt=\"Open In Colab\"/></a>"
      ]
    },
    {
      "cell_type": "code",
      "execution_count": 2,
      "metadata": {},
      "outputs": [],
      "source": [
        "try:\n",
        "    import os\n",
        "except:\n",
        "    raise Exception(\"Please note that some cells will not work, you will need to create a .py file manually\")"
      ]
    },
    {
      "cell_type": "markdown",
      "metadata": {
        "id": "Dw22Uv7KoBZb"
      },
      "source": [
        "# Data Mining and Machine Learning - Week 13\n",
        "# [Streamlit](https://streamlit.io)\n",
        "\n",
        "Streamlit is a simple way to create a web interface for your application\n",
        "\n",
        "The main advantages:\n",
        "- Can be opened on any device\n",
        "- Easy to develop / start with\n",
        "- Can be combined with advanced python methods\n",
        "- Good documentation online\n",
        "- Pure python\n",
        "\n",
        "\n",
        "### ⚠️ ⚠️ Cannot be run from a jupiter notebook\n",
        "Although there is a [trick](https://discuss.streamlit.io/t/how-to-launch-streamlit-app-from-google-colab-notebook/42399/1) for google colab, however it is complicated to develop.\n",
        "\n",
        "This tutorial is meant to be followed on a dedicated python editor, such as [VSCode](https://code.visualstudio.com)\n"
      ]
    },
    {
      "cell_type": "markdown",
      "metadata": {},
      "source": [
        "# How to get Started:\n",
        "\n",
        "### Creating a .py file to run the application"
      ]
    },
    {
      "cell_type": "code",
      "execution_count": 3,
      "metadata": {
        "id": "LQP1xZ8p1i_7"
      },
      "outputs": [],
      "source": [
        "program = \"\"\"\n",
        "import streamlit as st\n",
        "\n",
        "st.title('Our first app')\n",
        "st.write(\"Hello world!\")\n",
        "\"\"\"\n",
        "if not os.path.isfile(\"basicApp.py\"):\n",
        "    f = open(\"basicApp.py\", \"a\")\n",
        "    f.write(program)\n",
        "    f.close()"
      ]
    },
    {
      "cell_type": "markdown",
      "metadata": {},
      "source": [
        "### Run the application from the terminal\n",
        "\n",
        "1. Install streamlit through this command: \"`your python environment` pip install streamlit\"\n",
        "2. Run the folowwing command: \"`your python environment` run 'path to your app.py'\""
      ]
    },
    {
      "cell_type": "markdown",
      "metadata": {},
      "source": [
        "### here is what the basic app made before looks like\n",
        "![basicApp.png](data/images/basicApp.png)"
      ]
    },
    {
      "cell_type": "markdown",
      "metadata": {},
      "source": [
        "### Adding [buttons](https://docs.streamlit.io/library/api-reference/widgets/st.button)\n",
        "\n",
        "In order to add buttons you can simply use the st.button method as shown bellow:\n"
      ]
    },
    {
      "cell_type": "code",
      "execution_count": 4,
      "metadata": {},
      "outputs": [],
      "source": [
        "program = \"\"\"\n",
        "import streamlit as st\n",
        "\n",
        "st.button(\"Reset\", type=\"primary\")\n",
        "if st.button('Say hello'):\n",
        "    st.write('Hello there')\n",
        "else:\n",
        "    st.write('Goodbye')\n",
        "\"\"\"\n",
        "\n",
        "\n",
        "if not os.path.isfile(\"buttonApp.py\"):\n",
        "    f = open(\"buttonApp.py\", \"a\")\n",
        "    f.write(program)\n",
        "    f.close()\n"
      ]
    },
    {
      "cell_type": "markdown",
      "metadata": {},
      "source": [
        "## Here are some other usefull methods\n",
        "- [st.table(df)](https://docs.streamlit.io/library/api-reference/data/st.table) -> Allows you to add a dataframe on your streamlit app\n",
        "- [st.slider(label, min, max, step)](https://docs.streamlit.io/library/api-reference/widgets/st.slider) -> Allows you to add a slider\n",
        "- [st.checkbox(label)](https://docs.streamlit.io/library/api-reference/widgets/st.checkbox) -> Allows you to add a checkbox\n",
        "- [st.selectbox(label, options)](https://docs.streamlit.io/library/api-reference/widgets/st.selectbox) -> Allows you to select amongst multiple options\n",
        "- [More can be found here](https://docs.streamlit.io/library/api-reference)"
      ]
    },
    {
      "cell_type": "markdown",
      "metadata": {},
      "source": [
        "## Your turn:\n",
        "Create a simple web app displaying youtube videos.\n",
        "\n",
        "Make it so that you can click on a video and start streaming it (you can use the streamlit video media element)"
      ]
    },
    {
      "cell_type": "code",
      "execution_count": null,
      "metadata": {},
      "outputs": [],
      "source": []
    },
    {
      "cell_type": "markdown",
      "metadata": {},
      "source": [
        "## Your turn:\n",
        "Create a simple web app with a dataframe and a slider.\n",
        "\n",
        "Make it so that when you move the slider, only entries with a feature above the sliders threshhold are visible"
      ]
    },
    {
      "cell_type": "code",
      "execution_count": 5,
      "metadata": {},
      "outputs": [],
      "source": []
    }
  ],
  "metadata": {
    "colab": {
      "provenance": []
    },
    "kernelspec": {
      "display_name": "Python 3",
      "language": "python",
      "name": "python3"
    },
    "language_info": {
      "codemirror_mode": {
        "name": "ipython",
        "version": 3
      },
      "file_extension": ".py",
      "mimetype": "text/x-python",
      "name": "python",
      "nbconvert_exporter": "python",
      "pygments_lexer": "ipython3",
      "version": "3.9.6"
    }
  },
  "nbformat": 4,
  "nbformat_minor": 0
}
